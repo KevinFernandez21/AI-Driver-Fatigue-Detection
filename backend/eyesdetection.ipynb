{
 "cells": [
  {
   "cell_type": "code",
   "execution_count": null,
   "metadata": {},
   "outputs": [
    {
     "data": {
      "application/vnd.jupyter.widget-view+json": {
       "model_id": "99451b30ef4a4475b51bb5ce43d2b2f0",
       "version_major": 2,
       "version_minor": 0
      },
      "text/plain": [
       "README.md:   0%|          | 0.00/10.2k [00:00<?, ?B/s]"
      ]
     },
     "metadata": {},
     "output_type": "display_data"
    },
    {
     "data": {
      "application/vnd.jupyter.widget-view+json": {
       "model_id": "c3b24736285841fe8ca1826502169dd8",
       "version_major": 2,
       "version_minor": 0
      },
      "text/plain": [
       "Resolving data files:   0%|          | 0/1266 [00:00<?, ?it/s]"
      ]
     },
     "metadata": {},
     "output_type": "display_data"
    },
    {
     "data": {
      "application/vnd.jupyter.widget-view+json": {
       "model_id": "1c289cbb81ac44fa9a092f4bbd21d3f8",
       "version_major": 2,
       "version_minor": 0
      },
      "text/plain": [
       "Resolving data files:   0%|          | 0/1266 [00:00<?, ?it/s]"
      ]
     },
     "metadata": {},
     "output_type": "display_data"
    },
    {
     "data": {
      "application/vnd.jupyter.widget-view+json": {
       "model_id": "bd8b9746db3d432cb3508f7813a21cef",
       "version_major": 2,
       "version_minor": 0
      },
      "text/plain": [
       "Downloading data:   0%|          | 0/1266 [00:00<?, ?files/s]"
      ]
     },
     "metadata": {},
     "output_type": "display_data"
    },
    {
     "data": {
      "application/vnd.jupyter.widget-view+json": {
       "model_id": "8ae23c87536c465e8dcb92fd020c5b82",
       "version_major": 2,
       "version_minor": 0
      },
      "text/plain": [
       "dataset_016.parquet:   0%|          | 0.00/3.07M [00:00<?, ?B/s]"
      ]
     },
     "metadata": {},
     "output_type": "display_data"
    },
    {
     "data": {
      "application/vnd.jupyter.widget-view+json": {
       "model_id": "f6d8e3ffa88b4155927a318038b8d4ae",
       "version_major": 2,
       "version_minor": 0
      },
      "text/plain": [
       "dataset_007.parquet:   0%|          | 0.00/3.35M [00:00<?, ?B/s]"
      ]
     },
     "metadata": {},
     "output_type": "display_data"
    },
    {
     "data": {
      "application/vnd.jupyter.widget-view+json": {
       "model_id": "3ba43d946cc947a6a212befbd9643780",
       "version_major": 2,
       "version_minor": 0
      },
      "text/plain": [
       "dataset_014.parquet:   0%|          | 0.00/2.96M [00:00<?, ?B/s]"
      ]
     },
     "metadata": {},
     "output_type": "display_data"
    },
    {
     "data": {
      "application/vnd.jupyter.widget-view+json": {
       "model_id": "a10e0aba059c45c8b156076166c8d1ec",
       "version_major": 2,
       "version_minor": 0
      },
      "text/plain": [
       "dataset_005.parquet:   0%|          | 0.00/3.22M [00:00<?, ?B/s]"
      ]
     },
     "metadata": {},
     "output_type": "display_data"
    },
    {
     "data": {
      "application/vnd.jupyter.widget-view+json": {
       "model_id": "19e67defe44442829bbe012ae1735d4a",
       "version_major": 2,
       "version_minor": 0
      },
      "text/plain": [
       "dataset_012.parquet:   0%|          | 0.00/3.08M [00:00<?, ?B/s]"
      ]
     },
     "metadata": {},
     "output_type": "display_data"
    },
    {
     "data": {
      "application/vnd.jupyter.widget-view+json": {
       "model_id": "34cbf53112374441abf04d4ac2a98e45",
       "version_major": 2,
       "version_minor": 0
      },
      "text/plain": [
       "dataset_006.parquet:   0%|          | 0.00/3.30M [00:00<?, ?B/s]"
      ]
     },
     "metadata": {},
     "output_type": "display_data"
    },
    {
     "data": {
      "application/vnd.jupyter.widget-view+json": {
       "model_id": "a2c0b15c7cfe41418c97bfca9f50bca3",
       "version_major": 2,
       "version_minor": 0
      },
      "text/plain": [
       "dataset_008.parquet:   0%|          | 0.00/3.36M [00:00<?, ?B/s]"
      ]
     },
     "metadata": {},
     "output_type": "display_data"
    },
    {
     "data": {
      "application/vnd.jupyter.widget-view+json": {
       "model_id": "f816db5aa2744f2ba29af6ddba7330c7",
       "version_major": 2,
       "version_minor": 0
      },
      "text/plain": [
       "dataset_011.parquet:   0%|          | 0.00/3.09M [00:00<?, ?B/s]"
      ]
     },
     "metadata": {},
     "output_type": "display_data"
    },
    {
     "data": {
      "application/vnd.jupyter.widget-view+json": {
       "model_id": "c509c67a894a4c4e90f2c20b50bb21e6",
       "version_major": 2,
       "version_minor": 0
      },
      "text/plain": [
       "dataset_003.parquet:   0%|          | 0.00/3.30M [00:00<?, ?B/s]"
      ]
     },
     "metadata": {},
     "output_type": "display_data"
    },
    {
     "data": {
      "application/vnd.jupyter.widget-view+json": {
       "model_id": "c0293b99294b42429d135a25d55dc723",
       "version_major": 2,
       "version_minor": 0
      },
      "text/plain": [
       "dataset_001.parquet:   0%|          | 0.00/3.34M [00:00<?, ?B/s]"
      ]
     },
     "metadata": {},
     "output_type": "display_data"
    },
    {
     "data": {
      "application/vnd.jupyter.widget-view+json": {
       "model_id": "e0bdf95397e84fe2b99cb28a96b2be3d",
       "version_major": 2,
       "version_minor": 0
      },
      "text/plain": [
       "dataset_002.parquet:   0%|          | 0.00/3.36M [00:00<?, ?B/s]"
      ]
     },
     "metadata": {},
     "output_type": "display_data"
    },
    {
     "data": {
      "application/vnd.jupyter.widget-view+json": {
       "model_id": "8f24aeb285a14596b26b59678268b998",
       "version_major": 2,
       "version_minor": 0
      },
      "text/plain": [
       "dataset_015.parquet:   0%|          | 0.00/3.07M [00:00<?, ?B/s]"
      ]
     },
     "metadata": {},
     "output_type": "display_data"
    },
    {
     "data": {
      "application/vnd.jupyter.widget-view+json": {
       "model_id": "377378c28b464c1e8c3b813775f97369",
       "version_major": 2,
       "version_minor": 0
      },
      "text/plain": [
       "dataset_004.parquet:   0%|          | 0.00/3.19M [00:00<?, ?B/s]"
      ]
     },
     "metadata": {},
     "output_type": "display_data"
    },
    {
     "data": {
      "application/vnd.jupyter.widget-view+json": {
       "model_id": "700dba47036d42afb99a12c81326d531",
       "version_major": 2,
       "version_minor": 0
      },
      "text/plain": [
       "dataset_013.parquet:   0%|          | 0.00/3.04M [00:00<?, ?B/s]"
      ]
     },
     "metadata": {},
     "output_type": "display_data"
    },
    {
     "data": {
      "application/vnd.jupyter.widget-view+json": {
       "model_id": "3260de7f57a844aab0b81f9f6535b72a",
       "version_major": 2,
       "version_minor": 0
      },
      "text/plain": [
       "dataset_009.parquet:   0%|          | 0.00/3.13M [00:00<?, ?B/s]"
      ]
     },
     "metadata": {},
     "output_type": "display_data"
    },
    {
     "data": {
      "application/vnd.jupyter.widget-view+json": {
       "model_id": "fa2a4138e7b14ad6b05b98415b2a1475",
       "version_major": 2,
       "version_minor": 0
      },
      "text/plain": [
       "dataset_010.parquet:   0%|          | 0.00/3.09M [00:00<?, ?B/s]"
      ]
     },
     "metadata": {},
     "output_type": "display_data"
    },
    {
     "data": {
      "application/vnd.jupyter.widget-view+json": {
       "model_id": "f9bd49b665e7417ba6b2c71a70ca1de2",
       "version_major": 2,
       "version_minor": 0
      },
      "text/plain": [
       "dataset_017.parquet:   0%|          | 0.00/3.08M [00:00<?, ?B/s]"
      ]
     },
     "metadata": {},
     "output_type": "display_data"
    },
    {
     "data": {
      "application/vnd.jupyter.widget-view+json": {
       "model_id": "061ff8b710f7429ba23b718f266cc892",
       "version_major": 2,
       "version_minor": 0
      },
      "text/plain": [
       "dataset_018.parquet:   0%|          | 0.00/3.02M [00:00<?, ?B/s]"
      ]
     },
     "metadata": {},
     "output_type": "display_data"
    },
    {
     "data": {
      "application/vnd.jupyter.widget-view+json": {
       "model_id": "03beb34b538a4684bfcb5938bddb73c1",
       "version_major": 2,
       "version_minor": 0
      },
      "text/plain": [
       "dataset_019.parquet:   0%|          | 0.00/3.03M [00:00<?, ?B/s]"
      ]
     },
     "metadata": {},
     "output_type": "display_data"
    },
    {
     "data": {
      "application/vnd.jupyter.widget-view+json": {
       "model_id": "8732d9669e2f461dbef9b267dfbd1103",
       "version_major": 2,
       "version_minor": 0
      },
      "text/plain": [
       "dataset_020.parquet:   0%|          | 0.00/3.05M [00:00<?, ?B/s]"
      ]
     },
     "metadata": {},
     "output_type": "display_data"
    },
    {
     "data": {
      "application/vnd.jupyter.widget-view+json": {
       "model_id": "0a6828ac7b0447bb9d340aed1e1d0734",
       "version_major": 2,
       "version_minor": 0
      },
      "text/plain": [
       "dataset_021.parquet:   0%|          | 0.00/3.03M [00:00<?, ?B/s]"
      ]
     },
     "metadata": {},
     "output_type": "display_data"
    },
    {
     "data": {
      "application/vnd.jupyter.widget-view+json": {
       "model_id": "0d16ff41303f43fea44f6ff3729bf4a1",
       "version_major": 2,
       "version_minor": 0
      },
      "text/plain": [
       "dataset_022.parquet:   0%|          | 0.00/3.11M [00:00<?, ?B/s]"
      ]
     },
     "metadata": {},
     "output_type": "display_data"
    },
    {
     "data": {
      "application/vnd.jupyter.widget-view+json": {
       "model_id": "bc17174113b74628b3d38743acada34a",
       "version_major": 2,
       "version_minor": 0
      },
      "text/plain": [
       "dataset_023.parquet:   0%|          | 0.00/3.12M [00:00<?, ?B/s]"
      ]
     },
     "metadata": {},
     "output_type": "display_data"
    },
    {
     "data": {
      "application/vnd.jupyter.widget-view+json": {
       "model_id": "ff3385a982d0406cad570f301f6bf603",
       "version_major": 2,
       "version_minor": 0
      },
      "text/plain": [
       "dataset_024.parquet:   0%|          | 0.00/2.91M [00:00<?, ?B/s]"
      ]
     },
     "metadata": {},
     "output_type": "display_data"
    },
    {
     "data": {
      "application/vnd.jupyter.widget-view+json": {
       "model_id": "d627478c42384aa590e56eaf3fa97db4",
       "version_major": 2,
       "version_minor": 0
      },
      "text/plain": [
       "dataset_025.parquet:   0%|          | 0.00/3.35M [00:00<?, ?B/s]"
      ]
     },
     "metadata": {},
     "output_type": "display_data"
    },
    {
     "data": {
      "application/vnd.jupyter.widget-view+json": {
       "model_id": "5ec7b21165b4470c8719017ce8c3bfb7",
       "version_major": 2,
       "version_minor": 0
      },
      "text/plain": [
       "dataset_027.parquet:   0%|          | 0.00/3.31M [00:00<?, ?B/s]"
      ]
     },
     "metadata": {},
     "output_type": "display_data"
    },
    {
     "data": {
      "application/vnd.jupyter.widget-view+json": {
       "model_id": "7f2b2955f57d4d82a3e3924d35071c04",
       "version_major": 2,
       "version_minor": 0
      },
      "text/plain": [
       "dataset_026.parquet:   0%|          | 0.00/3.43M [00:00<?, ?B/s]"
      ]
     },
     "metadata": {},
     "output_type": "display_data"
    },
    {
     "data": {
      "application/vnd.jupyter.widget-view+json": {
       "model_id": "ce91ffd3b6364fd087c6fddee45f4197",
       "version_major": 2,
       "version_minor": 0
      },
      "text/plain": [
       "dataset_028.parquet:   0%|          | 0.00/3.30M [00:00<?, ?B/s]"
      ]
     },
     "metadata": {},
     "output_type": "display_data"
    },
    {
     "data": {
      "application/vnd.jupyter.widget-view+json": {
       "model_id": "e7ee21a748b344249c16ca6ed00fdf46",
       "version_major": 2,
       "version_minor": 0
      },
      "text/plain": [
       "dataset_029.parquet:   0%|          | 0.00/3.36M [00:00<?, ?B/s]"
      ]
     },
     "metadata": {},
     "output_type": "display_data"
    },
    {
     "data": {
      "application/vnd.jupyter.widget-view+json": {
       "model_id": "b8b7922b86c34031a51ce4a81b690d98",
       "version_major": 2,
       "version_minor": 0
      },
      "text/plain": [
       "dataset_030.parquet:   0%|          | 0.00/3.35M [00:00<?, ?B/s]"
      ]
     },
     "metadata": {},
     "output_type": "display_data"
    },
    {
     "data": {
      "application/vnd.jupyter.widget-view+json": {
       "model_id": "3adf3fddb1244383add588de8a7282b3",
       "version_major": 2,
       "version_minor": 0
      },
      "text/plain": [
       "dataset_032.parquet:   0%|          | 0.00/3.43M [00:00<?, ?B/s]"
      ]
     },
     "metadata": {},
     "output_type": "display_data"
    },
    {
     "data": {
      "application/vnd.jupyter.widget-view+json": {
       "model_id": "00033b2451404581824c50d3fc6c1ac0",
       "version_major": 2,
       "version_minor": 0
      },
      "text/plain": [
       "dataset_033.parquet:   0%|          | 0.00/3.45M [00:00<?, ?B/s]"
      ]
     },
     "metadata": {},
     "output_type": "display_data"
    },
    {
     "data": {
      "application/vnd.jupyter.widget-view+json": {
       "model_id": "118e499d78784b249b35c70a88d5b75a",
       "version_major": 2,
       "version_minor": 0
      },
      "text/plain": [
       "dataset_031.parquet:   0%|          | 0.00/3.23M [00:00<?, ?B/s]"
      ]
     },
     "metadata": {},
     "output_type": "display_data"
    },
    {
     "data": {
      "application/vnd.jupyter.widget-view+json": {
       "model_id": "119793361adf4ccfbd91e46692e9da77",
       "version_major": 2,
       "version_minor": 0
      },
      "text/plain": [
       "dataset_034.parquet:   0%|          | 0.00/3.29M [00:00<?, ?B/s]"
      ]
     },
     "metadata": {},
     "output_type": "display_data"
    },
    {
     "data": {
      "application/vnd.jupyter.widget-view+json": {
       "model_id": "f5f1b572ac714938ad761cb5799954e9",
       "version_major": 2,
       "version_minor": 0
      },
      "text/plain": [
       "dataset_035.parquet:   0%|          | 0.00/3.30M [00:00<?, ?B/s]"
      ]
     },
     "metadata": {},
     "output_type": "display_data"
    },
    {
     "data": {
      "application/vnd.jupyter.widget-view+json": {
       "model_id": "a87cacfa96344f80ba73c12716c9d4b3",
       "version_major": 2,
       "version_minor": 0
      },
      "text/plain": [
       "dataset_036.parquet:   0%|          | 0.00/3.37M [00:00<?, ?B/s]"
      ]
     },
     "metadata": {},
     "output_type": "display_data"
    },
    {
     "data": {
      "application/vnd.jupyter.widget-view+json": {
       "model_id": "1c01ac323fd64ee5be1fd6a6aba6f3c9",
       "version_major": 2,
       "version_minor": 0
      },
      "text/plain": [
       "dataset_037.parquet:   0%|          | 0.00/3.18M [00:00<?, ?B/s]"
      ]
     },
     "metadata": {},
     "output_type": "display_data"
    },
    {
     "data": {
      "application/vnd.jupyter.widget-view+json": {
       "model_id": "454dca9af920480085151a94f4b7b980",
       "version_major": 2,
       "version_minor": 0
      },
      "text/plain": [
       "dataset_038.parquet:   0%|          | 0.00/3.34M [00:00<?, ?B/s]"
      ]
     },
     "metadata": {},
     "output_type": "display_data"
    },
    {
     "data": {
      "application/vnd.jupyter.widget-view+json": {
       "model_id": "a1739466d06f496cb72933d60a8ab3bc",
       "version_major": 2,
       "version_minor": 0
      },
      "text/plain": [
       "dataset_039.parquet:   0%|          | 0.00/3.41M [00:00<?, ?B/s]"
      ]
     },
     "metadata": {},
     "output_type": "display_data"
    },
    {
     "data": {
      "application/vnd.jupyter.widget-view+json": {
       "model_id": "071daa2967814a489efd53738d64a287",
       "version_major": 2,
       "version_minor": 0
      },
      "text/plain": [
       "dataset_040.parquet:   0%|          | 0.00/3.32M [00:00<?, ?B/s]"
      ]
     },
     "metadata": {},
     "output_type": "display_data"
    },
    {
     "data": {
      "application/vnd.jupyter.widget-view+json": {
       "model_id": "2cb4348329574e2bb9eef1c9aacad40c",
       "version_major": 2,
       "version_minor": 0
      },
      "text/plain": [
       "dataset_041.parquet:   0%|          | 0.00/3.31M [00:00<?, ?B/s]"
      ]
     },
     "metadata": {},
     "output_type": "display_data"
    },
    {
     "data": {
      "application/vnd.jupyter.widget-view+json": {
       "model_id": "88188f6eba52497199ffff4f8af9ed00",
       "version_major": 2,
       "version_minor": 0
      },
      "text/plain": [
       "dataset_042.parquet:   0%|          | 0.00/3.41M [00:00<?, ?B/s]"
      ]
     },
     "metadata": {},
     "output_type": "display_data"
    },
    {
     "data": {
      "application/vnd.jupyter.widget-view+json": {
       "model_id": "aef0df362b1a45dc9e7ebcc985655c7a",
       "version_major": 2,
       "version_minor": 0
      },
      "text/plain": [
       "dataset_043.parquet:   0%|          | 0.00/3.34M [00:00<?, ?B/s]"
      ]
     },
     "metadata": {},
     "output_type": "display_data"
    },
    {
     "data": {
      "application/vnd.jupyter.widget-view+json": {
       "model_id": "b8bec7a723d14fe6a8f27f43eddb695c",
       "version_major": 2,
       "version_minor": 0
      },
      "text/plain": [
       "dataset_045.parquet:   0%|          | 0.00/3.44M [00:00<?, ?B/s]"
      ]
     },
     "metadata": {},
     "output_type": "display_data"
    },
    {
     "data": {
      "application/vnd.jupyter.widget-view+json": {
       "model_id": "92af89a367f249bab454cbbec801495e",
       "version_major": 2,
       "version_minor": 0
      },
      "text/plain": [
       "dataset_046.parquet:   0%|          | 0.00/3.30M [00:00<?, ?B/s]"
      ]
     },
     "metadata": {},
     "output_type": "display_data"
    },
    {
     "data": {
      "application/vnd.jupyter.widget-view+json": {
       "model_id": "3281a058d1964ffd9143745152367b09",
       "version_major": 2,
       "version_minor": 0
      },
      "text/plain": [
       "dataset_047.parquet:   0%|          | 0.00/3.32M [00:00<?, ?B/s]"
      ]
     },
     "metadata": {},
     "output_type": "display_data"
    },
    {
     "data": {
      "application/vnd.jupyter.widget-view+json": {
       "model_id": "a4378292f38247448076fafcb86789bb",
       "version_major": 2,
       "version_minor": 0
      },
      "text/plain": [
       "dataset_048.parquet:   0%|          | 0.00/3.41M [00:00<?, ?B/s]"
      ]
     },
     "metadata": {},
     "output_type": "display_data"
    },
    {
     "data": {
      "application/vnd.jupyter.widget-view+json": {
       "model_id": "789ba82cdf7b4c978914c1e757207faa",
       "version_major": 2,
       "version_minor": 0
      },
      "text/plain": [
       "dataset_044.parquet:   0%|          | 0.00/3.29M [00:00<?, ?B/s]"
      ]
     },
     "metadata": {},
     "output_type": "display_data"
    },
    {
     "data": {
      "application/vnd.jupyter.widget-view+json": {
       "model_id": "ef859c20a3be40df8c4441695d98ed7e",
       "version_major": 2,
       "version_minor": 0
      },
      "text/plain": [
       "dataset_049.parquet:   0%|          | 0.00/3.25M [00:00<?, ?B/s]"
      ]
     },
     "metadata": {},
     "output_type": "display_data"
    },
    {
     "data": {
      "application/vnd.jupyter.widget-view+json": {
       "model_id": "351dcab150ec4a52a1d678d409b73762",
       "version_major": 2,
       "version_minor": 0
      },
      "text/plain": [
       "dataset_050.parquet:   0%|          | 0.00/3.29M [00:00<?, ?B/s]"
      ]
     },
     "metadata": {},
     "output_type": "display_data"
    },
    {
     "data": {
      "application/vnd.jupyter.widget-view+json": {
       "model_id": "9f445aa1ad52456986192fa7aac45c96",
       "version_major": 2,
       "version_minor": 0
      },
      "text/plain": [
       "dataset_052.parquet:   0%|          | 0.00/3.22M [00:00<?, ?B/s]"
      ]
     },
     "metadata": {},
     "output_type": "display_data"
    },
    {
     "data": {
      "application/vnd.jupyter.widget-view+json": {
       "model_id": "5d3d361f459047668f545798464e1d16",
       "version_major": 2,
       "version_minor": 0
      },
      "text/plain": [
       "dataset_051.parquet:   0%|          | 0.00/3.36M [00:00<?, ?B/s]"
      ]
     },
     "metadata": {},
     "output_type": "display_data"
    },
    {
     "data": {
      "application/vnd.jupyter.widget-view+json": {
       "model_id": "07e3ee0e8bd94097be5a64161b6bf8d7",
       "version_major": 2,
       "version_minor": 0
      },
      "text/plain": [
       "dataset_053.parquet:   0%|          | 0.00/3.37M [00:00<?, ?B/s]"
      ]
     },
     "metadata": {},
     "output_type": "display_data"
    },
    {
     "data": {
      "application/vnd.jupyter.widget-view+json": {
       "model_id": "ebbaabdf17d34ba2b76e8223b1e9acfe",
       "version_major": 2,
       "version_minor": 0
      },
      "text/plain": [
       "dataset_054.parquet:   0%|          | 0.00/3.30M [00:00<?, ?B/s]"
      ]
     },
     "metadata": {},
     "output_type": "display_data"
    },
    {
     "data": {
      "application/vnd.jupyter.widget-view+json": {
       "model_id": "e4d7df14a8fa46d7aeb786d5aeb817ca",
       "version_major": 2,
       "version_minor": 0
      },
      "text/plain": [
       "dataset_055.parquet:   0%|          | 0.00/3.12M [00:00<?, ?B/s]"
      ]
     },
     "metadata": {},
     "output_type": "display_data"
    },
    {
     "data": {
      "application/vnd.jupyter.widget-view+json": {
       "model_id": "f783778ba444419c89dfe9c223c4cf56",
       "version_major": 2,
       "version_minor": 0
      },
      "text/plain": [
       "dataset_056.parquet:   0%|          | 0.00/2.99M [00:00<?, ?B/s]"
      ]
     },
     "metadata": {},
     "output_type": "display_data"
    },
    {
     "data": {
      "application/vnd.jupyter.widget-view+json": {
       "model_id": "a17078815ee041cb9c7a2ce123414ce8",
       "version_major": 2,
       "version_minor": 0
      },
      "text/plain": [
       "dataset_057.parquet:   0%|          | 0.00/2.98M [00:00<?, ?B/s]"
      ]
     },
     "metadata": {},
     "output_type": "display_data"
    },
    {
     "data": {
      "application/vnd.jupyter.widget-view+json": {
       "model_id": "bb45f582aad34393896920aa7ec21256",
       "version_major": 2,
       "version_minor": 0
      },
      "text/plain": [
       "dataset_058.parquet:   0%|          | 0.00/2.98M [00:00<?, ?B/s]"
      ]
     },
     "metadata": {},
     "output_type": "display_data"
    },
    {
     "data": {
      "application/vnd.jupyter.widget-view+json": {
       "model_id": "22a4c6175ab74c20b4d22b902cd0752d",
       "version_major": 2,
       "version_minor": 0
      },
      "text/plain": [
       "dataset_059.parquet:   0%|          | 0.00/2.90M [00:00<?, ?B/s]"
      ]
     },
     "metadata": {},
     "output_type": "display_data"
    },
    {
     "data": {
      "application/vnd.jupyter.widget-view+json": {
       "model_id": "a09122874d334b61a78ee7bd8090e1f4",
       "version_major": 2,
       "version_minor": 0
      },
      "text/plain": [
       "dataset_060.parquet:   0%|          | 0.00/2.93M [00:00<?, ?B/s]"
      ]
     },
     "metadata": {},
     "output_type": "display_data"
    },
    {
     "data": {
      "application/vnd.jupyter.widget-view+json": {
       "model_id": "48bc80ab7c9f44d0aff725e28990351f",
       "version_major": 2,
       "version_minor": 0
      },
      "text/plain": [
       "dataset_061.parquet:   0%|          | 0.00/2.92M [00:00<?, ?B/s]"
      ]
     },
     "metadata": {},
     "output_type": "display_data"
    },
    {
     "data": {
      "application/vnd.jupyter.widget-view+json": {
       "model_id": "559555c61d60404799634a8615ed624a",
       "version_major": 2,
       "version_minor": 0
      },
      "text/plain": [
       "dataset_062.parquet:   0%|          | 0.00/2.96M [00:00<?, ?B/s]"
      ]
     },
     "metadata": {},
     "output_type": "display_data"
    },
    {
     "data": {
      "application/vnd.jupyter.widget-view+json": {
       "model_id": "8dc0b032a44840128f385a418d19aa9e",
       "version_major": 2,
       "version_minor": 0
      },
      "text/plain": [
       "dataset_063.parquet:   0%|          | 0.00/2.91M [00:00<?, ?B/s]"
      ]
     },
     "metadata": {},
     "output_type": "display_data"
    },
    {
     "data": {
      "application/vnd.jupyter.widget-view+json": {
       "model_id": "df129c38eebd4b2fa6988271e7efa01b",
       "version_major": 2,
       "version_minor": 0
      },
      "text/plain": [
       "dataset_066.parquet:   0%|          | 0.00/2.84M [00:00<?, ?B/s]"
      ]
     },
     "metadata": {},
     "output_type": "display_data"
    },
    {
     "data": {
      "application/vnd.jupyter.widget-view+json": {
       "model_id": "e0ad5bdec31a4b6a88b3ca4240cf0b20",
       "version_major": 2,
       "version_minor": 0
      },
      "text/plain": [
       "dataset_064.parquet:   0%|          | 0.00/2.99M [00:00<?, ?B/s]"
      ]
     },
     "metadata": {},
     "output_type": "display_data"
    },
    {
     "data": {
      "application/vnd.jupyter.widget-view+json": {
       "model_id": "bcd9bf470541408b9840bb28fb138ea2",
       "version_major": 2,
       "version_minor": 0
      },
      "text/plain": [
       "dataset_065.parquet:   0%|          | 0.00/2.93M [00:00<?, ?B/s]"
      ]
     },
     "metadata": {},
     "output_type": "display_data"
    },
    {
     "data": {
      "application/vnd.jupyter.widget-view+json": {
       "model_id": "451125e6ae514ad9a1153a587bd0f24b",
       "version_major": 2,
       "version_minor": 0
      },
      "text/plain": [
       "dataset_067.parquet:   0%|          | 0.00/3.01M [00:00<?, ?B/s]"
      ]
     },
     "metadata": {},
     "output_type": "display_data"
    },
    {
     "data": {
      "application/vnd.jupyter.widget-view+json": {
       "model_id": "9c689c367d5544279f92554af7e3530e",
       "version_major": 2,
       "version_minor": 0
      },
      "text/plain": [
       "dataset_068.parquet:   0%|          | 0.00/2.81M [00:00<?, ?B/s]"
      ]
     },
     "metadata": {},
     "output_type": "display_data"
    },
    {
     "data": {
      "application/vnd.jupyter.widget-view+json": {
       "model_id": "4c2e5a04f3674391835d21963a54b3e1",
       "version_major": 2,
       "version_minor": 0
      },
      "text/plain": [
       "dataset_069.parquet:   0%|          | 0.00/3.00M [00:00<?, ?B/s]"
      ]
     },
     "metadata": {},
     "output_type": "display_data"
    },
    {
     "data": {
      "application/vnd.jupyter.widget-view+json": {
       "model_id": "923ff543c6174185ae8d5c108c1fa45c",
       "version_major": 2,
       "version_minor": 0
      },
      "text/plain": [
       "dataset_070.parquet:   0%|          | 0.00/3.01M [00:00<?, ?B/s]"
      ]
     },
     "metadata": {},
     "output_type": "display_data"
    },
    {
     "data": {
      "application/vnd.jupyter.widget-view+json": {
       "model_id": "074fa160043b4c08bfc4697c592981d2",
       "version_major": 2,
       "version_minor": 0
      },
      "text/plain": [
       "dataset_071.parquet:   0%|          | 0.00/2.91M [00:00<?, ?B/s]"
      ]
     },
     "metadata": {},
     "output_type": "display_data"
    },
    {
     "data": {
      "application/vnd.jupyter.widget-view+json": {
       "model_id": "4335b1624db84f729be9aa68d91c735a",
       "version_major": 2,
       "version_minor": 0
      },
      "text/plain": [
       "dataset_072.parquet:   0%|          | 0.00/3.07M [00:00<?, ?B/s]"
      ]
     },
     "metadata": {},
     "output_type": "display_data"
    },
    {
     "data": {
      "application/vnd.jupyter.widget-view+json": {
       "model_id": "14069039554946819480472259b5d2e6",
       "version_major": 2,
       "version_minor": 0
      },
      "text/plain": [
       "dataset_073.parquet:   0%|          | 0.00/3.27M [00:00<?, ?B/s]"
      ]
     },
     "metadata": {},
     "output_type": "display_data"
    },
    {
     "data": {
      "application/vnd.jupyter.widget-view+json": {
       "model_id": "31f6ddfb84804987953d7567fbfbf490",
       "version_major": 2,
       "version_minor": 0
      },
      "text/plain": [
       "dataset_075.parquet:   0%|          | 0.00/3.13M [00:00<?, ?B/s]"
      ]
     },
     "metadata": {},
     "output_type": "display_data"
    },
    {
     "data": {
      "application/vnd.jupyter.widget-view+json": {
       "model_id": "99689417f65f485882467ede3db69441",
       "version_major": 2,
       "version_minor": 0
      },
      "text/plain": [
       "dataset_074.parquet:   0%|          | 0.00/3.19M [00:00<?, ?B/s]"
      ]
     },
     "metadata": {},
     "output_type": "display_data"
    },
    {
     "data": {
      "application/vnd.jupyter.widget-view+json": {
       "model_id": "b7f56a7429024f9aa993af2bb8cbc567",
       "version_major": 2,
       "version_minor": 0
      },
      "text/plain": [
       "dataset_076.parquet:   0%|          | 0.00/3.15M [00:00<?, ?B/s]"
      ]
     },
     "metadata": {},
     "output_type": "display_data"
    },
    {
     "data": {
      "application/vnd.jupyter.widget-view+json": {
       "model_id": "a369202ed2f14deea1808985ab910a46",
       "version_major": 2,
       "version_minor": 0
      },
      "text/plain": [
       "dataset_077.parquet:   0%|          | 0.00/3.23M [00:00<?, ?B/s]"
      ]
     },
     "metadata": {},
     "output_type": "display_data"
    },
    {
     "data": {
      "application/vnd.jupyter.widget-view+json": {
       "model_id": "45613ed5096046bb892e9e5558bfe2d5",
       "version_major": 2,
       "version_minor": 0
      },
      "text/plain": [
       "dataset_078.parquet:   0%|          | 0.00/3.19M [00:00<?, ?B/s]"
      ]
     },
     "metadata": {},
     "output_type": "display_data"
    },
    {
     "data": {
      "application/vnd.jupyter.widget-view+json": {
       "model_id": "ca907526d11045c38deca29c5266c21b",
       "version_major": 2,
       "version_minor": 0
      },
      "text/plain": [
       "dataset_079.parquet:   0%|          | 0.00/3.05M [00:00<?, ?B/s]"
      ]
     },
     "metadata": {},
     "output_type": "display_data"
    },
    {
     "data": {
      "application/vnd.jupyter.widget-view+json": {
       "model_id": "0c19e7262498457894447f21de6d8b1e",
       "version_major": 2,
       "version_minor": 0
      },
      "text/plain": [
       "dataset_080.parquet:   0%|          | 0.00/3.26M [00:00<?, ?B/s]"
      ]
     },
     "metadata": {},
     "output_type": "display_data"
    },
    {
     "data": {
      "application/vnd.jupyter.widget-view+json": {
       "model_id": "d46fdcafb3ad48d881eb7ef471e8908f",
       "version_major": 2,
       "version_minor": 0
      },
      "text/plain": [
       "dataset_081.parquet:   0%|          | 0.00/3.26M [00:00<?, ?B/s]"
      ]
     },
     "metadata": {},
     "output_type": "display_data"
    },
    {
     "data": {
      "application/vnd.jupyter.widget-view+json": {
       "model_id": "1eb40c422e9849c9845ae915b78af808",
       "version_major": 2,
       "version_minor": 0
      },
      "text/plain": [
       "dataset_082.parquet:   0%|          | 0.00/3.14M [00:00<?, ?B/s]"
      ]
     },
     "metadata": {},
     "output_type": "display_data"
    },
    {
     "data": {
      "application/vnd.jupyter.widget-view+json": {
       "model_id": "c73362b383f6422bb3b847b78df3292f",
       "version_major": 2,
       "version_minor": 0
      },
      "text/plain": [
       "dataset_083.parquet:   0%|          | 0.00/3.14M [00:00<?, ?B/s]"
      ]
     },
     "metadata": {},
     "output_type": "display_data"
    },
    {
     "data": {
      "application/vnd.jupyter.widget-view+json": {
       "model_id": "c16e4143a9a44c21aa2fdca87525c64b",
       "version_major": 2,
       "version_minor": 0
      },
      "text/plain": [
       "dataset_084.parquet:   0%|          | 0.00/3.24M [00:00<?, ?B/s]"
      ]
     },
     "metadata": {},
     "output_type": "display_data"
    },
    {
     "data": {
      "application/vnd.jupyter.widget-view+json": {
       "model_id": "07c4b93f1e73423899e0ed0b8c626586",
       "version_major": 2,
       "version_minor": 0
      },
      "text/plain": [
       "dataset_085.parquet:   0%|          | 0.00/3.06M [00:00<?, ?B/s]"
      ]
     },
     "metadata": {},
     "output_type": "display_data"
    },
    {
     "data": {
      "application/vnd.jupyter.widget-view+json": {
       "model_id": "92d6bc6d14c44a8c833796d12d433c31",
       "version_major": 2,
       "version_minor": 0
      },
      "text/plain": [
       "dataset_086.parquet:   0%|          | 0.00/3.13M [00:00<?, ?B/s]"
      ]
     },
     "metadata": {},
     "output_type": "display_data"
    },
    {
     "data": {
      "application/vnd.jupyter.widget-view+json": {
       "model_id": "5da34fc0651d42699d666c1bca6362fb",
       "version_major": 2,
       "version_minor": 0
      },
      "text/plain": [
       "dataset_087.parquet:   0%|          | 0.00/3.26M [00:00<?, ?B/s]"
      ]
     },
     "metadata": {},
     "output_type": "display_data"
    },
    {
     "data": {
      "application/vnd.jupyter.widget-view+json": {
       "model_id": "3804ece8f6b54047b047bfc68f949a04",
       "version_major": 2,
       "version_minor": 0
      },
      "text/plain": [
       "dataset_088.parquet:   0%|          | 0.00/3.11M [00:00<?, ?B/s]"
      ]
     },
     "metadata": {},
     "output_type": "display_data"
    },
    {
     "data": {
      "application/vnd.jupyter.widget-view+json": {
       "model_id": "24c70e70ff54405f8e0f9d12ba4a27ce",
       "version_major": 2,
       "version_minor": 0
      },
      "text/plain": [
       "dataset_089.parquet:   0%|          | 0.00/3.13M [00:00<?, ?B/s]"
      ]
     },
     "metadata": {},
     "output_type": "display_data"
    },
    {
     "data": {
      "application/vnd.jupyter.widget-view+json": {
       "model_id": "3ebb3465d8514257a7867ec466596330",
       "version_major": 2,
       "version_minor": 0
      },
      "text/plain": [
       "dataset_090.parquet:   0%|          | 0.00/3.19M [00:00<?, ?B/s]"
      ]
     },
     "metadata": {},
     "output_type": "display_data"
    },
    {
     "data": {
      "application/vnd.jupyter.widget-view+json": {
       "model_id": "e606bc34d499467985e4141ca9c6f4c2",
       "version_major": 2,
       "version_minor": 0
      },
      "text/plain": [
       "dataset_091.parquet:   0%|          | 0.00/3.20M [00:00<?, ?B/s]"
      ]
     },
     "metadata": {},
     "output_type": "display_data"
    },
    {
     "data": {
      "application/vnd.jupyter.widget-view+json": {
       "model_id": "16f8f601eaf74dbeb92ea330f4dc1a44",
       "version_major": 2,
       "version_minor": 0
      },
      "text/plain": [
       "dataset_092.parquet:   0%|          | 0.00/3.12M [00:00<?, ?B/s]"
      ]
     },
     "metadata": {},
     "output_type": "display_data"
    },
    {
     "data": {
      "application/vnd.jupyter.widget-view+json": {
       "model_id": "16dc863935e444339cebdf84ff16aa46",
       "version_major": 2,
       "version_minor": 0
      },
      "text/plain": [
       "dataset_093.parquet:   0%|          | 0.00/3.17M [00:00<?, ?B/s]"
      ]
     },
     "metadata": {},
     "output_type": "display_data"
    },
    {
     "data": {
      "application/vnd.jupyter.widget-view+json": {
       "model_id": "d3e9fb1be85343fba6511c717355c140",
       "version_major": 2,
       "version_minor": 0
      },
      "text/plain": [
       "dataset_095.parquet:   0%|          | 0.00/3.17M [00:00<?, ?B/s]"
      ]
     },
     "metadata": {},
     "output_type": "display_data"
    },
    {
     "data": {
      "application/vnd.jupyter.widget-view+json": {
       "model_id": "4c6d5ae2ea1843c8b7b772bd10e2114a",
       "version_major": 2,
       "version_minor": 0
      },
      "text/plain": [
       "dataset_096.parquet:   0%|          | 0.00/3.20M [00:00<?, ?B/s]"
      ]
     },
     "metadata": {},
     "output_type": "display_data"
    },
    {
     "data": {
      "application/vnd.jupyter.widget-view+json": {
       "model_id": "45dc02a7f965448797fb96b6f89ed5cf",
       "version_major": 2,
       "version_minor": 0
      },
      "text/plain": [
       "dataset_094.parquet:   0%|          | 0.00/3.23M [00:00<?, ?B/s]"
      ]
     },
     "metadata": {},
     "output_type": "display_data"
    },
    {
     "data": {
      "application/vnd.jupyter.widget-view+json": {
       "model_id": "76f638a8610c49e8ab04715f28cd1c91",
       "version_major": 2,
       "version_minor": 0
      },
      "text/plain": [
       "dataset_097.parquet:   0%|          | 0.00/3.22M [00:00<?, ?B/s]"
      ]
     },
     "metadata": {},
     "output_type": "display_data"
    },
    {
     "data": {
      "application/vnd.jupyter.widget-view+json": {
       "model_id": "c0abb947d0c6475fbbc55eedf0e0ca90",
       "version_major": 2,
       "version_minor": 0
      },
      "text/plain": [
       "dataset_098.parquet:   0%|          | 0.00/3.10M [00:00<?, ?B/s]"
      ]
     },
     "metadata": {},
     "output_type": "display_data"
    },
    {
     "data": {
      "application/vnd.jupyter.widget-view+json": {
       "model_id": "5a2492219bfa4002ac95d33e25e98b86",
       "version_major": 2,
       "version_minor": 0
      },
      "text/plain": [
       "dataset_099.parquet:   0%|          | 0.00/3.14M [00:00<?, ?B/s]"
      ]
     },
     "metadata": {},
     "output_type": "display_data"
    },
    {
     "data": {
      "application/vnd.jupyter.widget-view+json": {
       "model_id": "91e1c8e45f5b489d8612ecd055ac0830",
       "version_major": 2,
       "version_minor": 0
      },
      "text/plain": [
       "dataset_1000.parquet:   0%|          | 0.00/3.36M [00:00<?, ?B/s]"
      ]
     },
     "metadata": {},
     "output_type": "display_data"
    },
    {
     "data": {
      "application/vnd.jupyter.widget-view+json": {
       "model_id": "fd9d7831978a41bb9cc2d16db4dbeade",
       "version_major": 2,
       "version_minor": 0
      },
      "text/plain": [
       "dataset_100.parquet:   0%|          | 0.00/3.17M [00:00<?, ?B/s]"
      ]
     },
     "metadata": {},
     "output_type": "display_data"
    },
    {
     "data": {
      "application/vnd.jupyter.widget-view+json": {
       "model_id": "815a644b6fac4201a6663aa0ef9d8e1c",
       "version_major": 2,
       "version_minor": 0
      },
      "text/plain": [
       "dataset_1001.parquet:   0%|          | 0.00/3.46M [00:00<?, ?B/s]"
      ]
     },
     "metadata": {},
     "output_type": "display_data"
    },
    {
     "data": {
      "application/vnd.jupyter.widget-view+json": {
       "model_id": "b8e149b5744a4469879bc32a6ccb6881",
       "version_major": 2,
       "version_minor": 0
      },
      "text/plain": [
       "dataset_1002.parquet:   0%|          | 0.00/3.35M [00:00<?, ?B/s]"
      ]
     },
     "metadata": {},
     "output_type": "display_data"
    },
    {
     "data": {
      "application/vnd.jupyter.widget-view+json": {
       "model_id": "dd17b41e257e4d78a5270fb22e977e7c",
       "version_major": 2,
       "version_minor": 0
      },
      "text/plain": [
       "dataset_1003.parquet:   0%|          | 0.00/3.22M [00:00<?, ?B/s]"
      ]
     },
     "metadata": {},
     "output_type": "display_data"
    },
    {
     "data": {
      "application/vnd.jupyter.widget-view+json": {
       "model_id": "48e84e45eed84ada99e22f8100187262",
       "version_major": 2,
       "version_minor": 0
      },
      "text/plain": [
       "dataset_1004.parquet:   0%|          | 0.00/3.44M [00:00<?, ?B/s]"
      ]
     },
     "metadata": {},
     "output_type": "display_data"
    },
    {
     "data": {
      "application/vnd.jupyter.widget-view+json": {
       "model_id": "24d7446219434f449c612bc1bdfb5f4b",
       "version_major": 2,
       "version_minor": 0
      },
      "text/plain": [
       "dataset_1005.parquet:   0%|          | 0.00/3.34M [00:00<?, ?B/s]"
      ]
     },
     "metadata": {},
     "output_type": "display_data"
    },
    {
     "data": {
      "application/vnd.jupyter.widget-view+json": {
       "model_id": "a252a963b1474a27a892a66488730536",
       "version_major": 2,
       "version_minor": 0
      },
      "text/plain": [
       "dataset_1006.parquet:   0%|          | 0.00/3.39M [00:00<?, ?B/s]"
      ]
     },
     "metadata": {},
     "output_type": "display_data"
    },
    {
     "data": {
      "application/vnd.jupyter.widget-view+json": {
       "model_id": "5b4127850a964583a9134f87344d32b0",
       "version_major": 2,
       "version_minor": 0
      },
      "text/plain": [
       "dataset_1007.parquet:   0%|          | 0.00/3.32M [00:00<?, ?B/s]"
      ]
     },
     "metadata": {},
     "output_type": "display_data"
    },
    {
     "data": {
      "application/vnd.jupyter.widget-view+json": {
       "model_id": "d34448ae72ef4b649d4e18692eacf104",
       "version_major": 2,
       "version_minor": 0
      },
      "text/plain": [
       "dataset_101.parquet:   0%|          | 0.00/3.11M [00:00<?, ?B/s]"
      ]
     },
     "metadata": {},
     "output_type": "display_data"
    },
    {
     "data": {
      "application/vnd.jupyter.widget-view+json": {
       "model_id": "0b84dc1324e442b5ab3f0d1c0881a163",
       "version_major": 2,
       "version_minor": 0
      },
      "text/plain": [
       "dataset_1008.parquet:   0%|          | 0.00/3.28M [00:00<?, ?B/s]"
      ]
     },
     "metadata": {},
     "output_type": "display_data"
    },
    {
     "data": {
      "application/vnd.jupyter.widget-view+json": {
       "model_id": "68fc7222cfbe4053afea24bd084f08b9",
       "version_major": 2,
       "version_minor": 0
      },
      "text/plain": [
       "dataset_1009.parquet:   0%|          | 0.00/3.36M [00:00<?, ?B/s]"
      ]
     },
     "metadata": {},
     "output_type": "display_data"
    },
    {
     "data": {
      "application/vnd.jupyter.widget-view+json": {
       "model_id": "1fd2f938be3f4f929e34b836b135d9ab",
       "version_major": 2,
       "version_minor": 0
      },
      "text/plain": [
       "dataset_1010.parquet:   0%|          | 0.00/3.43M [00:00<?, ?B/s]"
      ]
     },
     "metadata": {},
     "output_type": "display_data"
    },
    {
     "data": {
      "application/vnd.jupyter.widget-view+json": {
       "model_id": "5d27f3deb5134c5a9952c5898b0eae9d",
       "version_major": 2,
       "version_minor": 0
      },
      "text/plain": [
       "dataset_1011.parquet:   0%|          | 0.00/3.46M [00:00<?, ?B/s]"
      ]
     },
     "metadata": {},
     "output_type": "display_data"
    },
    {
     "data": {
      "application/vnd.jupyter.widget-view+json": {
       "model_id": "435d4273ebcf44e59ad0e6e08449125f",
       "version_major": 2,
       "version_minor": 0
      },
      "text/plain": [
       "dataset_1012.parquet:   0%|          | 0.00/3.41M [00:00<?, ?B/s]"
      ]
     },
     "metadata": {},
     "output_type": "display_data"
    },
    {
     "data": {
      "application/vnd.jupyter.widget-view+json": {
       "model_id": "643a1c1500cf4d5080d76113f731141f",
       "version_major": 2,
       "version_minor": 0
      },
      "text/plain": [
       "dataset_1013.parquet:   0%|          | 0.00/3.37M [00:00<?, ?B/s]"
      ]
     },
     "metadata": {},
     "output_type": "display_data"
    },
    {
     "data": {
      "application/vnd.jupyter.widget-view+json": {
       "model_id": "5abe2f8534f9473fafeb7bc2b0878ea8",
       "version_major": 2,
       "version_minor": 0
      },
      "text/plain": [
       "dataset_1014.parquet:   0%|          | 0.00/3.42M [00:00<?, ?B/s]"
      ]
     },
     "metadata": {},
     "output_type": "display_data"
    },
    {
     "data": {
      "application/vnd.jupyter.widget-view+json": {
       "model_id": "e665767406bb46d9801e47ba8353203e",
       "version_major": 2,
       "version_minor": 0
      },
      "text/plain": [
       "dataset_1015.parquet:   0%|          | 0.00/3.43M [00:00<?, ?B/s]"
      ]
     },
     "metadata": {},
     "output_type": "display_data"
    },
    {
     "data": {
      "application/vnd.jupyter.widget-view+json": {
       "model_id": "2235c576e3c94f4dbc98f35b445415fc",
       "version_major": 2,
       "version_minor": 0
      },
      "text/plain": [
       "dataset_1016.parquet:   0%|          | 0.00/3.50M [00:00<?, ?B/s]"
      ]
     },
     "metadata": {},
     "output_type": "display_data"
    },
    {
     "data": {
      "application/vnd.jupyter.widget-view+json": {
       "model_id": "a2cc8c6ad1cb49e6b42a7a39793ddf89",
       "version_major": 2,
       "version_minor": 0
      },
      "text/plain": [
       "dataset_1018.parquet:   0%|          | 0.00/3.51M [00:00<?, ?B/s]"
      ]
     },
     "metadata": {},
     "output_type": "display_data"
    },
    {
     "data": {
      "application/vnd.jupyter.widget-view+json": {
       "model_id": "9de9d0cf44f8484fb4376884d393072d",
       "version_major": 2,
       "version_minor": 0
      },
      "text/plain": [
       "dataset_1017.parquet:   0%|          | 0.00/3.44M [00:00<?, ?B/s]"
      ]
     },
     "metadata": {},
     "output_type": "display_data"
    },
    {
     "data": {
      "application/vnd.jupyter.widget-view+json": {
       "model_id": "dccac41108d643b78bb30603997f03f1",
       "version_major": 2,
       "version_minor": 0
      },
      "text/plain": [
       "dataset_102.parquet:   0%|          | 0.00/3.24M [00:00<?, ?B/s]"
      ]
     },
     "metadata": {},
     "output_type": "display_data"
    },
    {
     "data": {
      "application/vnd.jupyter.widget-view+json": {
       "model_id": "cd0d8e2145b141208ea3cb2f26997f73",
       "version_major": 2,
       "version_minor": 0
      },
      "text/plain": [
       "dataset_1019.parquet:   0%|          | 0.00/3.57M [00:00<?, ?B/s]"
      ]
     },
     "metadata": {},
     "output_type": "display_data"
    },
    {
     "data": {
      "application/vnd.jupyter.widget-view+json": {
       "model_id": "f4ca7829d2bc403d9cf8a36bcfbbb34c",
       "version_major": 2,
       "version_minor": 0
      },
      "text/plain": [
       "dataset_1020.parquet:   0%|          | 0.00/3.67M [00:00<?, ?B/s]"
      ]
     },
     "metadata": {},
     "output_type": "display_data"
    },
    {
     "data": {
      "application/vnd.jupyter.widget-view+json": {
       "model_id": "a6ce87fdf01d4898ae0df419e9077b63",
       "version_major": 2,
       "version_minor": 0
      },
      "text/plain": [
       "dataset_1021.parquet:   0%|          | 0.00/3.60M [00:00<?, ?B/s]"
      ]
     },
     "metadata": {},
     "output_type": "display_data"
    },
    {
     "data": {
      "application/vnd.jupyter.widget-view+json": {
       "model_id": "f2307f64861c48c2b6d93f9b7b5b527a",
       "version_major": 2,
       "version_minor": 0
      },
      "text/plain": [
       "dataset_1022.parquet:   0%|          | 0.00/3.52M [00:00<?, ?B/s]"
      ]
     },
     "metadata": {},
     "output_type": "display_data"
    },
    {
     "data": {
      "application/vnd.jupyter.widget-view+json": {
       "model_id": "2f45cb2f8c4b4d3da8a50be987dea15a",
       "version_major": 2,
       "version_minor": 0
      },
      "text/plain": [
       "dataset_1023.parquet:   0%|          | 0.00/3.72M [00:00<?, ?B/s]"
      ]
     },
     "metadata": {},
     "output_type": "display_data"
    },
    {
     "data": {
      "application/vnd.jupyter.widget-view+json": {
       "model_id": "4141ddd312784b6496edb672cb1ef613",
       "version_major": 2,
       "version_minor": 0
      },
      "text/plain": [
       "dataset_1024.parquet:   0%|          | 0.00/3.45M [00:00<?, ?B/s]"
      ]
     },
     "metadata": {},
     "output_type": "display_data"
    },
    {
     "data": {
      "application/vnd.jupyter.widget-view+json": {
       "model_id": "5ab5944bc5cb4bb08a0e01f766ba04d8",
       "version_major": 2,
       "version_minor": 0
      },
      "text/plain": [
       "dataset_1025.parquet:   0%|          | 0.00/3.67M [00:00<?, ?B/s]"
      ]
     },
     "metadata": {},
     "output_type": "display_data"
    },
    {
     "data": {
      "application/vnd.jupyter.widget-view+json": {
       "model_id": "b9db137da28943f684f8e2c677aaa5e0",
       "version_major": 2,
       "version_minor": 0
      },
      "text/plain": [
       "dataset_1026.parquet:   0%|          | 0.00/3.61M [00:00<?, ?B/s]"
      ]
     },
     "metadata": {},
     "output_type": "display_data"
    },
    {
     "data": {
      "application/vnd.jupyter.widget-view+json": {
       "model_id": "338b395762dd42a39c7af1036139637b",
       "version_major": 2,
       "version_minor": 0
      },
      "text/plain": [
       "dataset_1027.parquet:   0%|          | 0.00/3.55M [00:00<?, ?B/s]"
      ]
     },
     "metadata": {},
     "output_type": "display_data"
    },
    {
     "data": {
      "application/vnd.jupyter.widget-view+json": {
       "model_id": "da478a145f614451a6f0b66b1ac72846",
       "version_major": 2,
       "version_minor": 0
      },
      "text/plain": [
       "dataset_1028.parquet:   0%|          | 0.00/3.58M [00:00<?, ?B/s]"
      ]
     },
     "metadata": {},
     "output_type": "display_data"
    },
    {
     "data": {
      "application/vnd.jupyter.widget-view+json": {
       "model_id": "eee5896e327d41f48c9d1575dc8d3a4d",
       "version_major": 2,
       "version_minor": 0
      },
      "text/plain": [
       "dataset_1029.parquet:   0%|          | 0.00/3.62M [00:00<?, ?B/s]"
      ]
     },
     "metadata": {},
     "output_type": "display_data"
    },
    {
     "data": {
      "application/vnd.jupyter.widget-view+json": {
       "model_id": "c9d6d0e8f9a5498db8d0d639e58cadd7",
       "version_major": 2,
       "version_minor": 0
      },
      "text/plain": [
       "dataset_1030.parquet:   0%|          | 0.00/3.62M [00:00<?, ?B/s]"
      ]
     },
     "metadata": {},
     "output_type": "display_data"
    },
    {
     "data": {
      "application/vnd.jupyter.widget-view+json": {
       "model_id": "3c6587acd0c3473bb1a8f105f7e4ef03",
       "version_major": 2,
       "version_minor": 0
      },
      "text/plain": [
       "dataset_103.parquet:   0%|          | 0.00/3.17M [00:00<?, ?B/s]"
      ]
     },
     "metadata": {},
     "output_type": "display_data"
    },
    {
     "data": {
      "application/vnd.jupyter.widget-view+json": {
       "model_id": "1124879895e7486ea71b13c7fbc3488c",
       "version_major": 2,
       "version_minor": 0
      },
      "text/plain": [
       "dataset_1031.parquet:   0%|          | 0.00/3.41M [00:00<?, ?B/s]"
      ]
     },
     "metadata": {},
     "output_type": "display_data"
    },
    {
     "data": {
      "application/vnd.jupyter.widget-view+json": {
       "model_id": "25fc5143f226479c8c36b0af95150a80",
       "version_major": 2,
       "version_minor": 0
      },
      "text/plain": [
       "dataset_1032.parquet:   0%|          | 0.00/3.57M [00:00<?, ?B/s]"
      ]
     },
     "metadata": {},
     "output_type": "display_data"
    },
    {
     "data": {
      "application/vnd.jupyter.widget-view+json": {
       "model_id": "4841cec93f14468dad257e666e8723fb",
       "version_major": 2,
       "version_minor": 0
      },
      "text/plain": [
       "dataset_1034.parquet:   0%|          | 0.00/3.46M [00:00<?, ?B/s]"
      ]
     },
     "metadata": {},
     "output_type": "display_data"
    },
    {
     "data": {
      "application/vnd.jupyter.widget-view+json": {
       "model_id": "d30cb6cab0ff425b9eb29857fa51cddb",
       "version_major": 2,
       "version_minor": 0
      },
      "text/plain": [
       "dataset_1033.parquet:   0%|          | 0.00/3.53M [00:00<?, ?B/s]"
      ]
     },
     "metadata": {},
     "output_type": "display_data"
    },
    {
     "data": {
      "application/vnd.jupyter.widget-view+json": {
       "model_id": "f3189b5035174c7ab5fd797a91e675a9",
       "version_major": 2,
       "version_minor": 0
      },
      "text/plain": [
       "dataset_1035.parquet:   0%|          | 0.00/3.60M [00:00<?, ?B/s]"
      ]
     },
     "metadata": {},
     "output_type": "display_data"
    },
    {
     "data": {
      "application/vnd.jupyter.widget-view+json": {
       "model_id": "7edfb4def9654fbdb426ef7fef41976b",
       "version_major": 2,
       "version_minor": 0
      },
      "text/plain": [
       "dataset_1036.parquet:   0%|          | 0.00/3.47M [00:00<?, ?B/s]"
      ]
     },
     "metadata": {},
     "output_type": "display_data"
    },
    {
     "data": {
      "application/vnd.jupyter.widget-view+json": {
       "model_id": "df3e38a6f1d9443d88c5bad89f7c180f",
       "version_major": 2,
       "version_minor": 0
      },
      "text/plain": [
       "dataset_1037.parquet:   0%|          | 0.00/3.52M [00:00<?, ?B/s]"
      ]
     },
     "metadata": {},
     "output_type": "display_data"
    },
    {
     "data": {
      "application/vnd.jupyter.widget-view+json": {
       "model_id": "3d0e1b3896be4b73ae722db9feb43785",
       "version_major": 2,
       "version_minor": 0
      },
      "text/plain": [
       "dataset_1038.parquet:   0%|          | 0.00/3.66M [00:00<?, ?B/s]"
      ]
     },
     "metadata": {},
     "output_type": "display_data"
    },
    {
     "data": {
      "application/vnd.jupyter.widget-view+json": {
       "model_id": "2c1d5a45593a4a079e08da0f97bb47e5",
       "version_major": 2,
       "version_minor": 0
      },
      "text/plain": [
       "dataset_1039.parquet:   0%|          | 0.00/3.70M [00:00<?, ?B/s]"
      ]
     },
     "metadata": {},
     "output_type": "display_data"
    },
    {
     "data": {
      "application/vnd.jupyter.widget-view+json": {
       "model_id": "2811ceb8f65f4284966d07f2abf41e74",
       "version_major": 2,
       "version_minor": 0
      },
      "text/plain": [
       "dataset_104.parquet:   0%|          | 0.00/3.09M [00:00<?, ?B/s]"
      ]
     },
     "metadata": {},
     "output_type": "display_data"
    },
    {
     "data": {
      "application/vnd.jupyter.widget-view+json": {
       "model_id": "8e205ee8fdb7413abc0a32f015ea818f",
       "version_major": 2,
       "version_minor": 0
      },
      "text/plain": [
       "dataset_1040.parquet:   0%|          | 0.00/3.40M [00:00<?, ?B/s]"
      ]
     },
     "metadata": {},
     "output_type": "display_data"
    },
    {
     "data": {
      "application/vnd.jupyter.widget-view+json": {
       "model_id": "0f120caa511e4de7b4fa9686b93f0855",
       "version_major": 2,
       "version_minor": 0
      },
      "text/plain": [
       "dataset_1041.parquet:   0%|          | 0.00/3.53M [00:00<?, ?B/s]"
      ]
     },
     "metadata": {},
     "output_type": "display_data"
    },
    {
     "data": {
      "application/vnd.jupyter.widget-view+json": {
       "model_id": "551a9bde7a8f49299d72e448500906ae",
       "version_major": 2,
       "version_minor": 0
      },
      "text/plain": [
       "dataset_1042.parquet:   0%|          | 0.00/3.52M [00:00<?, ?B/s]"
      ]
     },
     "metadata": {},
     "output_type": "display_data"
    },
    {
     "data": {
      "application/vnd.jupyter.widget-view+json": {
       "model_id": "ab722ded82484c4681f9e21157d04ecf",
       "version_major": 2,
       "version_minor": 0
      },
      "text/plain": [
       "dataset_1043.parquet:   0%|          | 0.00/3.58M [00:00<?, ?B/s]"
      ]
     },
     "metadata": {},
     "output_type": "display_data"
    },
    {
     "data": {
      "application/vnd.jupyter.widget-view+json": {
       "model_id": "8d3963f18de6465aabc6c4722631d781",
       "version_major": 2,
       "version_minor": 0
      },
      "text/plain": [
       "dataset_1044.parquet:   0%|          | 0.00/3.63M [00:00<?, ?B/s]"
      ]
     },
     "metadata": {},
     "output_type": "display_data"
    },
    {
     "data": {
      "application/vnd.jupyter.widget-view+json": {
       "model_id": "4206dd4ba56f463c8dc1b5973eda8000",
       "version_major": 2,
       "version_minor": 0
      },
      "text/plain": [
       "dataset_1045.parquet:   0%|          | 0.00/3.50M [00:00<?, ?B/s]"
      ]
     },
     "metadata": {},
     "output_type": "display_data"
    },
    {
     "data": {
      "application/vnd.jupyter.widget-view+json": {
       "model_id": "64dc34c60331425f851c3aa137d75b9e",
       "version_major": 2,
       "version_minor": 0
      },
      "text/plain": [
       "dataset_1047.parquet:   0%|          | 0.00/3.65M [00:00<?, ?B/s]"
      ]
     },
     "metadata": {},
     "output_type": "display_data"
    },
    {
     "data": {
      "application/vnd.jupyter.widget-view+json": {
       "model_id": "e5d41dac2e4542a1b6cb53e3ad04f31b",
       "version_major": 2,
       "version_minor": 0
      },
      "text/plain": [
       "dataset_1046.parquet:   0%|          | 0.00/3.59M [00:00<?, ?B/s]"
      ]
     },
     "metadata": {},
     "output_type": "display_data"
    },
    {
     "data": {
      "application/vnd.jupyter.widget-view+json": {
       "model_id": "b5c563dbd68e46bfacdcc86f4c7650b7",
       "version_major": 2,
       "version_minor": 0
      },
      "text/plain": [
       "dataset_1048.parquet:   0%|          | 0.00/3.56M [00:00<?, ?B/s]"
      ]
     },
     "metadata": {},
     "output_type": "display_data"
    },
    {
     "data": {
      "application/vnd.jupyter.widget-view+json": {
       "model_id": "9c56c1321b014ac3a1c2a5d17bdaec83",
       "version_major": 2,
       "version_minor": 0
      },
      "text/plain": [
       "dataset_1049.parquet:   0%|          | 0.00/3.48M [00:00<?, ?B/s]"
      ]
     },
     "metadata": {},
     "output_type": "display_data"
    },
    {
     "data": {
      "application/vnd.jupyter.widget-view+json": {
       "model_id": "c457eb38ea53439f9948641ba1de08f7",
       "version_major": 2,
       "version_minor": 0
      },
      "text/plain": [
       "dataset_105.parquet:   0%|          | 0.00/3.13M [00:00<?, ?B/s]"
      ]
     },
     "metadata": {},
     "output_type": "display_data"
    },
    {
     "data": {
      "application/vnd.jupyter.widget-view+json": {
       "model_id": "77748734474f49d1aced543ebcc99f82",
       "version_major": 2,
       "version_minor": 0
      },
      "text/plain": [
       "dataset_1050.parquet:   0%|          | 0.00/3.72M [00:00<?, ?B/s]"
      ]
     },
     "metadata": {},
     "output_type": "display_data"
    },
    {
     "data": {
      "application/vnd.jupyter.widget-view+json": {
       "model_id": "467a127cf75d4f5aa9b14707db31c094",
       "version_major": 2,
       "version_minor": 0
      },
      "text/plain": [
       "dataset_1051.parquet:   0%|          | 0.00/3.67M [00:00<?, ?B/s]"
      ]
     },
     "metadata": {},
     "output_type": "display_data"
    },
    {
     "data": {
      "application/vnd.jupyter.widget-view+json": {
       "model_id": "dc7ade97bc714b48a2bd19a4ebb2ab99",
       "version_major": 2,
       "version_minor": 0
      },
      "text/plain": [
       "dataset_1052.parquet:   0%|          | 0.00/3.64M [00:00<?, ?B/s]"
      ]
     },
     "metadata": {},
     "output_type": "display_data"
    },
    {
     "data": {
      "application/vnd.jupyter.widget-view+json": {
       "model_id": "204e0f42f48d444ebffe1aaf42bfe788",
       "version_major": 2,
       "version_minor": 0
      },
      "text/plain": [
       "dataset_1053.parquet:   0%|          | 0.00/3.56M [00:00<?, ?B/s]"
      ]
     },
     "metadata": {},
     "output_type": "display_data"
    },
    {
     "data": {
      "application/vnd.jupyter.widget-view+json": {
       "model_id": "3e18bb410eac4024a7cbec7fe5ae7ca9",
       "version_major": 2,
       "version_minor": 0
      },
      "text/plain": [
       "dataset_1054.parquet:   0%|          | 0.00/3.65M [00:00<?, ?B/s]"
      ]
     },
     "metadata": {},
     "output_type": "display_data"
    },
    {
     "data": {
      "application/vnd.jupyter.widget-view+json": {
       "model_id": "ad22a3a302244c05b7711e6c8b0e7687",
       "version_major": 2,
       "version_minor": 0
      },
      "text/plain": [
       "dataset_1055.parquet:   0%|          | 0.00/3.56M [00:00<?, ?B/s]"
      ]
     },
     "metadata": {},
     "output_type": "display_data"
    },
    {
     "data": {
      "application/vnd.jupyter.widget-view+json": {
       "model_id": "0c86fe292d4f47d7b9d8ff9f20231228",
       "version_major": 2,
       "version_minor": 0
      },
      "text/plain": [
       "dataset_1056.parquet:   0%|          | 0.00/3.61M [00:00<?, ?B/s]"
      ]
     },
     "metadata": {},
     "output_type": "display_data"
    },
    {
     "data": {
      "application/vnd.jupyter.widget-view+json": {
       "model_id": "df71e6d5b77a4a50bc94c52dd444b364",
       "version_major": 2,
       "version_minor": 0
      },
      "text/plain": [
       "dataset_1057.parquet:   0%|          | 0.00/3.61M [00:00<?, ?B/s]"
      ]
     },
     "metadata": {},
     "output_type": "display_data"
    },
    {
     "data": {
      "application/vnd.jupyter.widget-view+json": {
       "model_id": "0a0a59b5a3b240eaa5a8f286261da357",
       "version_major": 2,
       "version_minor": 0
      },
      "text/plain": [
       "dataset_1058.parquet:   0%|          | 0.00/3.58M [00:00<?, ?B/s]"
      ]
     },
     "metadata": {},
     "output_type": "display_data"
    },
    {
     "data": {
      "application/vnd.jupyter.widget-view+json": {
       "model_id": "ff9e3a4fee3041cdb647c63b92ecb339",
       "version_major": 2,
       "version_minor": 0
      },
      "text/plain": [
       "dataset_1059.parquet:   0%|          | 0.00/3.62M [00:00<?, ?B/s]"
      ]
     },
     "metadata": {},
     "output_type": "display_data"
    },
    {
     "data": {
      "application/vnd.jupyter.widget-view+json": {
       "model_id": "e0bb6a3df73d44e5b45f61f7d48cd834",
       "version_major": 2,
       "version_minor": 0
      },
      "text/plain": [
       "dataset_106.parquet:   0%|          | 0.00/3.09M [00:00<?, ?B/s]"
      ]
     },
     "metadata": {},
     "output_type": "display_data"
    },
    {
     "data": {
      "application/vnd.jupyter.widget-view+json": {
       "model_id": "f5c0603315054bbd950d820f96c99120",
       "version_major": 2,
       "version_minor": 0
      },
      "text/plain": [
       "dataset_1060.parquet:   0%|          | 0.00/3.60M [00:00<?, ?B/s]"
      ]
     },
     "metadata": {},
     "output_type": "display_data"
    },
    {
     "data": {
      "application/vnd.jupyter.widget-view+json": {
       "model_id": "2950042d3bf0479f80402ef4121a4579",
       "version_major": 2,
       "version_minor": 0
      },
      "text/plain": [
       "dataset_1061.parquet:   0%|          | 0.00/3.63M [00:00<?, ?B/s]"
      ]
     },
     "metadata": {},
     "output_type": "display_data"
    },
    {
     "data": {
      "application/vnd.jupyter.widget-view+json": {
       "model_id": "ec387d9546384a9eafc3a10d8201a11f",
       "version_major": 2,
       "version_minor": 0
      },
      "text/plain": [
       "dataset_1062.parquet:   0%|          | 0.00/3.67M [00:00<?, ?B/s]"
      ]
     },
     "metadata": {},
     "output_type": "display_data"
    },
    {
     "data": {
      "application/vnd.jupyter.widget-view+json": {
       "model_id": "d4d59cde514a45fbbe28da5d59435334",
       "version_major": 2,
       "version_minor": 0
      },
      "text/plain": [
       "dataset_1063.parquet:   0%|          | 0.00/3.53M [00:00<?, ?B/s]"
      ]
     },
     "metadata": {},
     "output_type": "display_data"
    },
    {
     "data": {
      "application/vnd.jupyter.widget-view+json": {
       "model_id": "8d57dbdf134b45ba821389957e07c988",
       "version_major": 2,
       "version_minor": 0
      },
      "text/plain": [
       "dataset_1064.parquet:   0%|          | 0.00/3.68M [00:00<?, ?B/s]"
      ]
     },
     "metadata": {},
     "output_type": "display_data"
    },
    {
     "data": {
      "application/vnd.jupyter.widget-view+json": {
       "model_id": "2a0a6d29a656460a8095637f5d7f6d65",
       "version_major": 2,
       "version_minor": 0
      },
      "text/plain": [
       "dataset_1065.parquet:   0%|          | 0.00/3.68M [00:00<?, ?B/s]"
      ]
     },
     "metadata": {},
     "output_type": "display_data"
    },
    {
     "data": {
      "application/vnd.jupyter.widget-view+json": {
       "model_id": "041bfa7105b94befbde4b7ac7173b570",
       "version_major": 2,
       "version_minor": 0
      },
      "text/plain": [
       "dataset_1066.parquet:   0%|          | 0.00/3.67M [00:00<?, ?B/s]"
      ]
     },
     "metadata": {},
     "output_type": "display_data"
    },
    {
     "data": {
      "application/vnd.jupyter.widget-view+json": {
       "model_id": "2d9e65caeab14709b655180ab5c05410",
       "version_major": 2,
       "version_minor": 0
      },
      "text/plain": [
       "dataset_1067.parquet:   0%|          | 0.00/3.59M [00:00<?, ?B/s]"
      ]
     },
     "metadata": {},
     "output_type": "display_data"
    },
    {
     "data": {
      "application/vnd.jupyter.widget-view+json": {
       "model_id": "d74f6568b2484743baa49949131a1449",
       "version_major": 2,
       "version_minor": 0
      },
      "text/plain": [
       "dataset_1069.parquet:   0%|          | 0.00/3.77M [00:00<?, ?B/s]"
      ]
     },
     "metadata": {},
     "output_type": "display_data"
    },
    {
     "data": {
      "application/vnd.jupyter.widget-view+json": {
       "model_id": "672a318c62484e1186657b1cb2ebdc8c",
       "version_major": 2,
       "version_minor": 0
      },
      "text/plain": [
       "dataset_1068.parquet:   0%|          | 0.00/3.64M [00:00<?, ?B/s]"
      ]
     },
     "metadata": {},
     "output_type": "display_data"
    },
    {
     "data": {
      "application/vnd.jupyter.widget-view+json": {
       "model_id": "a5ce595a560648f9a698d37668133573",
       "version_major": 2,
       "version_minor": 0
      },
      "text/plain": [
       "dataset_107.parquet:   0%|          | 0.00/3.14M [00:00<?, ?B/s]"
      ]
     },
     "metadata": {},
     "output_type": "display_data"
    },
    {
     "data": {
      "application/vnd.jupyter.widget-view+json": {
       "model_id": "26021ff78534487dbd499482cb548e11",
       "version_major": 2,
       "version_minor": 0
      },
      "text/plain": [
       "dataset_1070.parquet:   0%|          | 0.00/3.66M [00:00<?, ?B/s]"
      ]
     },
     "metadata": {},
     "output_type": "display_data"
    },
    {
     "data": {
      "application/vnd.jupyter.widget-view+json": {
       "model_id": "50f53b9c9c294eb8a392ffd47f7b9f94",
       "version_major": 2,
       "version_minor": 0
      },
      "text/plain": [
       "dataset_1071.parquet:   0%|          | 0.00/3.76M [00:00<?, ?B/s]"
      ]
     },
     "metadata": {},
     "output_type": "display_data"
    },
    {
     "data": {
      "application/vnd.jupyter.widget-view+json": {
       "model_id": "977718a82b81447c93c5deea67fcdec6",
       "version_major": 2,
       "version_minor": 0
      },
      "text/plain": [
       "dataset_1073.parquet:   0%|          | 0.00/3.66M [00:00<?, ?B/s]"
      ]
     },
     "metadata": {},
     "output_type": "display_data"
    },
    {
     "data": {
      "application/vnd.jupyter.widget-view+json": {
       "model_id": "1136da0034004d498fc802c265551f9c",
       "version_major": 2,
       "version_minor": 0
      },
      "text/plain": [
       "dataset_1072.parquet:   0%|          | 0.00/3.58M [00:00<?, ?B/s]"
      ]
     },
     "metadata": {},
     "output_type": "display_data"
    },
    {
     "data": {
      "application/vnd.jupyter.widget-view+json": {
       "model_id": "4c6f4ac29b0141528ca6ac7d4959f49f",
       "version_major": 2,
       "version_minor": 0
      },
      "text/plain": [
       "dataset_1074.parquet:   0%|          | 0.00/3.69M [00:00<?, ?B/s]"
      ]
     },
     "metadata": {},
     "output_type": "display_data"
    },
    {
     "data": {
      "application/vnd.jupyter.widget-view+json": {
       "model_id": "25a196cb7ba249278beab6eaa8837414",
       "version_major": 2,
       "version_minor": 0
      },
      "text/plain": [
       "dataset_1075.parquet:   0%|          | 0.00/3.65M [00:00<?, ?B/s]"
      ]
     },
     "metadata": {},
     "output_type": "display_data"
    },
    {
     "data": {
      "application/vnd.jupyter.widget-view+json": {
       "model_id": "99cb28ef685e4757b41b2dbc7d509158",
       "version_major": 2,
       "version_minor": 0
      },
      "text/plain": [
       "dataset_1076.parquet:   0%|          | 0.00/3.60M [00:00<?, ?B/s]"
      ]
     },
     "metadata": {},
     "output_type": "display_data"
    },
    {
     "data": {
      "application/vnd.jupyter.widget-view+json": {
       "model_id": "52b03f15479d446b94b473b797dae587",
       "version_major": 2,
       "version_minor": 0
      },
      "text/plain": [
       "dataset_1077.parquet:   0%|          | 0.00/3.65M [00:00<?, ?B/s]"
      ]
     },
     "metadata": {},
     "output_type": "display_data"
    },
    {
     "data": {
      "application/vnd.jupyter.widget-view+json": {
       "model_id": "218594fcc98244e2a70eaa4b405c697c",
       "version_major": 2,
       "version_minor": 0
      },
      "text/plain": [
       "dataset_1078.parquet:   0%|          | 0.00/3.66M [00:00<?, ?B/s]"
      ]
     },
     "metadata": {},
     "output_type": "display_data"
    },
    {
     "data": {
      "application/vnd.jupyter.widget-view+json": {
       "model_id": "9eae880f924f44d8a2482778bbb3711e",
       "version_major": 2,
       "version_minor": 0
      },
      "text/plain": [
       "dataset_108.parquet:   0%|          | 0.00/3.08M [00:00<?, ?B/s]"
      ]
     },
     "metadata": {},
     "output_type": "display_data"
    },
    {
     "data": {
      "application/vnd.jupyter.widget-view+json": {
       "model_id": "8950ad7eb1f3423a8eac3354edee5e3b",
       "version_major": 2,
       "version_minor": 0
      },
      "text/plain": [
       "dataset_1079.parquet:   0%|          | 0.00/3.70M [00:00<?, ?B/s]"
      ]
     },
     "metadata": {},
     "output_type": "display_data"
    },
    {
     "data": {
      "application/vnd.jupyter.widget-view+json": {
       "model_id": "6507410241a94a66be6b4f344615ae09",
       "version_major": 2,
       "version_minor": 0
      },
      "text/plain": [
       "dataset_1080.parquet:   0%|          | 0.00/3.62M [00:00<?, ?B/s]"
      ]
     },
     "metadata": {},
     "output_type": "display_data"
    },
    {
     "data": {
      "application/vnd.jupyter.widget-view+json": {
       "model_id": "7e91a17adc154c8c981b22ef340e6b54",
       "version_major": 2,
       "version_minor": 0
      },
      "text/plain": [
       "dataset_1081.parquet:   0%|          | 0.00/3.63M [00:00<?, ?B/s]"
      ]
     },
     "metadata": {},
     "output_type": "display_data"
    },
    {
     "data": {
      "application/vnd.jupyter.widget-view+json": {
       "model_id": "8c8f3499a81041f280a031d8a1180a14",
       "version_major": 2,
       "version_minor": 0
      },
      "text/plain": [
       "dataset_1082.parquet:   0%|          | 0.00/3.69M [00:00<?, ?B/s]"
      ]
     },
     "metadata": {},
     "output_type": "display_data"
    },
    {
     "data": {
      "application/vnd.jupyter.widget-view+json": {
       "model_id": "1ae9a31de0ab40bebd4c1a93de8b0c5e",
       "version_major": 2,
       "version_minor": 0
      },
      "text/plain": [
       "dataset_1083.parquet:   0%|          | 0.00/3.72M [00:00<?, ?B/s]"
      ]
     },
     "metadata": {},
     "output_type": "display_data"
    },
    {
     "data": {
      "application/vnd.jupyter.widget-view+json": {
       "model_id": "e7a48416389c4b81a90a52719fe4e375",
       "version_major": 2,
       "version_minor": 0
      },
      "text/plain": [
       "dataset_1084.parquet:   0%|          | 0.00/3.74M [00:00<?, ?B/s]"
      ]
     },
     "metadata": {},
     "output_type": "display_data"
    },
    {
     "data": {
      "application/vnd.jupyter.widget-view+json": {
       "model_id": "42bca6c15f0849ddaaf10f1f5831d911",
       "version_major": 2,
       "version_minor": 0
      },
      "text/plain": [
       "dataset_1085.parquet:   0%|          | 0.00/3.78M [00:00<?, ?B/s]"
      ]
     },
     "metadata": {},
     "output_type": "display_data"
    },
    {
     "data": {
      "application/vnd.jupyter.widget-view+json": {
       "model_id": "e3c3a6712d3140f189862f2240fb4e78",
       "version_major": 2,
       "version_minor": 0
      },
      "text/plain": [
       "dataset_1086.parquet:   0%|          | 0.00/3.44M [00:00<?, ?B/s]"
      ]
     },
     "metadata": {},
     "output_type": "display_data"
    },
    {
     "data": {
      "application/vnd.jupyter.widget-view+json": {
       "model_id": "549ee31b6fac4bb795a802f637b53715",
       "version_major": 2,
       "version_minor": 0
      },
      "text/plain": [
       "dataset_1087.parquet:   0%|          | 0.00/3.66M [00:00<?, ?B/s]"
      ]
     },
     "metadata": {},
     "output_type": "display_data"
    },
    {
     "data": {
      "application/vnd.jupyter.widget-view+json": {
       "model_id": "728a18ec96f546e0bd73245553fa0498",
       "version_major": 2,
       "version_minor": 0
      },
      "text/plain": [
       "dataset_1088.parquet:   0%|          | 0.00/3.80M [00:00<?, ?B/s]"
      ]
     },
     "metadata": {},
     "output_type": "display_data"
    },
    {
     "data": {
      "application/vnd.jupyter.widget-view+json": {
       "model_id": "f124782cb9f34f3e9369f46236acf2b9",
       "version_major": 2,
       "version_minor": 0
      },
      "text/plain": [
       "dataset_1089.parquet:   0%|          | 0.00/3.65M [00:00<?, ?B/s]"
      ]
     },
     "metadata": {},
     "output_type": "display_data"
    },
    {
     "data": {
      "application/vnd.jupyter.widget-view+json": {
       "model_id": "a953a74d9c614aadb6b65458cc3474d9",
       "version_major": 2,
       "version_minor": 0
      },
      "text/plain": [
       "dataset_109.parquet:   0%|          | 0.00/3.13M [00:00<?, ?B/s]"
      ]
     },
     "metadata": {},
     "output_type": "display_data"
    },
    {
     "data": {
      "application/vnd.jupyter.widget-view+json": {
       "model_id": "e3f16ecf120d45329bd25331604c39e6",
       "version_major": 2,
       "version_minor": 0
      },
      "text/plain": [
       "dataset_1090.parquet:   0%|          | 0.00/3.71M [00:00<?, ?B/s]"
      ]
     },
     "metadata": {},
     "output_type": "display_data"
    },
    {
     "data": {
      "application/vnd.jupyter.widget-view+json": {
       "model_id": "7c3bee1e5c1f492c83b6494c187c592d",
       "version_major": 2,
       "version_minor": 0
      },
      "text/plain": [
       "dataset_1091.parquet:   0%|          | 0.00/3.70M [00:00<?, ?B/s]"
      ]
     },
     "metadata": {},
     "output_type": "display_data"
    },
    {
     "data": {
      "application/vnd.jupyter.widget-view+json": {
       "model_id": "59fc8cb762d64b82a50a0edd8cd58f4e",
       "version_major": 2,
       "version_minor": 0
      },
      "text/plain": [
       "dataset_1092.parquet:   0%|          | 0.00/3.71M [00:00<?, ?B/s]"
      ]
     },
     "metadata": {},
     "output_type": "display_data"
    },
    {
     "data": {
      "application/vnd.jupyter.widget-view+json": {
       "model_id": "7558d954208d4b9aaf0fc9d6bc8f11e3",
       "version_major": 2,
       "version_minor": 0
      },
      "text/plain": [
       "dataset_1093.parquet:   0%|          | 0.00/3.73M [00:00<?, ?B/s]"
      ]
     },
     "metadata": {},
     "output_type": "display_data"
    },
    {
     "data": {
      "application/vnd.jupyter.widget-view+json": {
       "model_id": "b4cb922cc4b7435082361a93cb047ce3",
       "version_major": 2,
       "version_minor": 0
      },
      "text/plain": [
       "dataset_1094.parquet:   0%|          | 0.00/3.73M [00:00<?, ?B/s]"
      ]
     },
     "metadata": {},
     "output_type": "display_data"
    },
    {
     "data": {
      "application/vnd.jupyter.widget-view+json": {
       "model_id": "5f8c2a8eb482448b9cb0c5b7a66e4e9d",
       "version_major": 2,
       "version_minor": 0
      },
      "text/plain": [
       "dataset_1095.parquet:   0%|          | 0.00/3.76M [00:00<?, ?B/s]"
      ]
     },
     "metadata": {},
     "output_type": "display_data"
    },
    {
     "data": {
      "application/vnd.jupyter.widget-view+json": {
       "model_id": "4e6d002ee4fc4e8d9e31052ccfaa62a7",
       "version_major": 2,
       "version_minor": 0
      },
      "text/plain": [
       "dataset_1097.parquet:   0%|          | 0.00/3.53M [00:00<?, ?B/s]"
      ]
     },
     "metadata": {},
     "output_type": "display_data"
    },
    {
     "data": {
      "application/vnd.jupyter.widget-view+json": {
       "model_id": "46ae3bb338224eed8cca00d88959f6eb",
       "version_major": 2,
       "version_minor": 0
      },
      "text/plain": [
       "dataset_1098.parquet:   0%|          | 0.00/3.73M [00:00<?, ?B/s]"
      ]
     },
     "metadata": {},
     "output_type": "display_data"
    },
    {
     "data": {
      "application/vnd.jupyter.widget-view+json": {
       "model_id": "e79dbc3699dc4d7ea89c2726e908ba06",
       "version_major": 2,
       "version_minor": 0
      },
      "text/plain": [
       "dataset_1096.parquet:   0%|          | 0.00/3.79M [00:00<?, ?B/s]"
      ]
     },
     "metadata": {},
     "output_type": "display_data"
    },
    {
     "data": {
      "application/vnd.jupyter.widget-view+json": {
       "model_id": "7fda94342bad4ef9a1fb3bb219c71906",
       "version_major": 2,
       "version_minor": 0
      },
      "text/plain": [
       "dataset_1099.parquet:   0%|          | 0.00/3.71M [00:00<?, ?B/s]"
      ]
     },
     "metadata": {},
     "output_type": "display_data"
    },
    {
     "data": {
      "application/vnd.jupyter.widget-view+json": {
       "model_id": "affcf8c78415437fbb170a09926688ee",
       "version_major": 2,
       "version_minor": 0
      },
      "text/plain": [
       "dataset_110.parquet:   0%|          | 0.00/3.27M [00:00<?, ?B/s]"
      ]
     },
     "metadata": {},
     "output_type": "display_data"
    },
    {
     "data": {
      "application/vnd.jupyter.widget-view+json": {
       "model_id": "c3e9de409e384cbcb1ef8b0c5156308f",
       "version_major": 2,
       "version_minor": 0
      },
      "text/plain": [
       "dataset_1100.parquet:   0%|          | 0.00/3.69M [00:00<?, ?B/s]"
      ]
     },
     "metadata": {},
     "output_type": "display_data"
    },
    {
     "data": {
      "application/vnd.jupyter.widget-view+json": {
       "model_id": "081c8b36055f4f52a88051e45e5d95cc",
       "version_major": 2,
       "version_minor": 0
      },
      "text/plain": [
       "dataset_1101.parquet:   0%|          | 0.00/3.80M [00:00<?, ?B/s]"
      ]
     },
     "metadata": {},
     "output_type": "display_data"
    },
    {
     "data": {
      "application/vnd.jupyter.widget-view+json": {
       "model_id": "06de9822aa8d45d6bd232391cc77a214",
       "version_major": 2,
       "version_minor": 0
      },
      "text/plain": [
       "dataset_1102.parquet:   0%|          | 0.00/3.78M [00:00<?, ?B/s]"
      ]
     },
     "metadata": {},
     "output_type": "display_data"
    },
    {
     "data": {
      "application/vnd.jupyter.widget-view+json": {
       "model_id": "865245dc0e824694b4393d8de7c7c874",
       "version_major": 2,
       "version_minor": 0
      },
      "text/plain": [
       "dataset_1103.parquet:   0%|          | 0.00/3.72M [00:00<?, ?B/s]"
      ]
     },
     "metadata": {},
     "output_type": "display_data"
    },
    {
     "data": {
      "application/vnd.jupyter.widget-view+json": {
       "model_id": "635af08c63c742ce8fda9dcd3b585389",
       "version_major": 2,
       "version_minor": 0
      },
      "text/plain": [
       "dataset_1104.parquet:   0%|          | 0.00/3.62M [00:00<?, ?B/s]"
      ]
     },
     "metadata": {},
     "output_type": "display_data"
    },
    {
     "data": {
      "application/vnd.jupyter.widget-view+json": {
       "model_id": "07c5036de14340efba691e111ec2050a",
       "version_major": 2,
       "version_minor": 0
      },
      "text/plain": [
       "dataset_1105.parquet:   0%|          | 0.00/3.69M [00:00<?, ?B/s]"
      ]
     },
     "metadata": {},
     "output_type": "display_data"
    },
    {
     "data": {
      "application/vnd.jupyter.widget-view+json": {
       "model_id": "2dea4f7d7e7d44248ab756063b78d76c",
       "version_major": 2,
       "version_minor": 0
      },
      "text/plain": [
       "dataset_1106.parquet:   0%|          | 0.00/3.63M [00:00<?, ?B/s]"
      ]
     },
     "metadata": {},
     "output_type": "display_data"
    },
    {
     "data": {
      "application/vnd.jupyter.widget-view+json": {
       "model_id": "ba55b591eee94de1aae8d3b7abfb6ee7",
       "version_major": 2,
       "version_minor": 0
      },
      "text/plain": [
       "dataset_1107.parquet:   0%|          | 0.00/3.67M [00:00<?, ?B/s]"
      ]
     },
     "metadata": {},
     "output_type": "display_data"
    },
    {
     "data": {
      "application/vnd.jupyter.widget-view+json": {
       "model_id": "1b3d99bd49ce4f868661f97578c6bd59",
       "version_major": 2,
       "version_minor": 0
      },
      "text/plain": [
       "dataset_1108.parquet:   0%|          | 0.00/3.65M [00:00<?, ?B/s]"
      ]
     },
     "metadata": {},
     "output_type": "display_data"
    },
    {
     "data": {
      "application/vnd.jupyter.widget-view+json": {
       "model_id": "6fc713ec486640bd946010f70f94990d",
       "version_major": 2,
       "version_minor": 0
      },
      "text/plain": [
       "dataset_1109.parquet:   0%|          | 0.00/3.70M [00:00<?, ?B/s]"
      ]
     },
     "metadata": {},
     "output_type": "display_data"
    },
    {
     "data": {
      "application/vnd.jupyter.widget-view+json": {
       "model_id": "be3e8bbd4bdf4f3d8da3bcf1fb058d6e",
       "version_major": 2,
       "version_minor": 0
      },
      "text/plain": [
       "dataset_111.parquet:   0%|          | 0.00/3.24M [00:00<?, ?B/s]"
      ]
     },
     "metadata": {},
     "output_type": "display_data"
    },
    {
     "data": {
      "application/vnd.jupyter.widget-view+json": {
       "model_id": "6d2bef02e32e47ecab4c6288f462f4ff",
       "version_major": 2,
       "version_minor": 0
      },
      "text/plain": [
       "dataset_1110.parquet:   0%|          | 0.00/3.62M [00:00<?, ?B/s]"
      ]
     },
     "metadata": {},
     "output_type": "display_data"
    },
    {
     "data": {
      "application/vnd.jupyter.widget-view+json": {
       "model_id": "71118c385ec64957bb379d67f82d5850",
       "version_major": 2,
       "version_minor": 0
      },
      "text/plain": [
       "dataset_1111.parquet:   0%|          | 0.00/3.75M [00:00<?, ?B/s]"
      ]
     },
     "metadata": {},
     "output_type": "display_data"
    },
    {
     "data": {
      "application/vnd.jupyter.widget-view+json": {
       "model_id": "7c84e689da784d26b23b569e82e19724",
       "version_major": 2,
       "version_minor": 0
      },
      "text/plain": [
       "dataset_1113.parquet:   0%|          | 0.00/3.60M [00:00<?, ?B/s]"
      ]
     },
     "metadata": {},
     "output_type": "display_data"
    },
    {
     "data": {
      "application/vnd.jupyter.widget-view+json": {
       "model_id": "f3f39787e4e34214a83656e22f28ac8b",
       "version_major": 2,
       "version_minor": 0
      },
      "text/plain": [
       "dataset_1112.parquet:   0%|          | 0.00/3.69M [00:00<?, ?B/s]"
      ]
     },
     "metadata": {},
     "output_type": "display_data"
    },
    {
     "data": {
      "application/vnd.jupyter.widget-view+json": {
       "model_id": "52889499d18f40cd8fc7e7a397d38206",
       "version_major": 2,
       "version_minor": 0
      },
      "text/plain": [
       "dataset_1114.parquet:   0%|          | 0.00/3.64M [00:00<?, ?B/s]"
      ]
     },
     "metadata": {},
     "output_type": "display_data"
    },
    {
     "data": {
      "application/vnd.jupyter.widget-view+json": {
       "model_id": "b4878e3b6b6e45b79aa58b1ff83fd6de",
       "version_major": 2,
       "version_minor": 0
      },
      "text/plain": [
       "dataset_1115.parquet:   0%|          | 0.00/3.62M [00:00<?, ?B/s]"
      ]
     },
     "metadata": {},
     "output_type": "display_data"
    },
    {
     "data": {
      "application/vnd.jupyter.widget-view+json": {
       "model_id": "bbe9f588f5b04d4d83bb6422f7b5df5c",
       "version_major": 2,
       "version_minor": 0
      },
      "text/plain": [
       "dataset_1116.parquet:   0%|          | 0.00/3.65M [00:00<?, ?B/s]"
      ]
     },
     "metadata": {},
     "output_type": "display_data"
    },
    {
     "data": {
      "application/vnd.jupyter.widget-view+json": {
       "model_id": "71b6d292f2ea4021a8bcad62624e3075",
       "version_major": 2,
       "version_minor": 0
      },
      "text/plain": [
       "dataset_1117.parquet:   0%|          | 0.00/3.62M [00:00<?, ?B/s]"
      ]
     },
     "metadata": {},
     "output_type": "display_data"
    },
    {
     "data": {
      "application/vnd.jupyter.widget-view+json": {
       "model_id": "5bd00ea64ddb470bac3bac953868b1d4",
       "version_major": 2,
       "version_minor": 0
      },
      "text/plain": [
       "dataset_1118.parquet:   0%|          | 0.00/3.56M [00:00<?, ?B/s]"
      ]
     },
     "metadata": {},
     "output_type": "display_data"
    },
    {
     "data": {
      "application/vnd.jupyter.widget-view+json": {
       "model_id": "914ef123e0534b2caacd139e68884cc5",
       "version_major": 2,
       "version_minor": 0
      },
      "text/plain": [
       "dataset_1119.parquet:   0%|          | 0.00/3.67M [00:00<?, ?B/s]"
      ]
     },
     "metadata": {},
     "output_type": "display_data"
    },
    {
     "data": {
      "application/vnd.jupyter.widget-view+json": {
       "model_id": "a469761e8dcc49a2a7e47147ca0b9e14",
       "version_major": 2,
       "version_minor": 0
      },
      "text/plain": [
       "dataset_112.parquet:   0%|          | 0.00/3.04M [00:00<?, ?B/s]"
      ]
     },
     "metadata": {},
     "output_type": "display_data"
    },
    {
     "data": {
      "application/vnd.jupyter.widget-view+json": {
       "model_id": "c71686f6acc243ac95232cbb331c0dee",
       "version_major": 2,
       "version_minor": 0
      },
      "text/plain": [
       "dataset_1121.parquet:   0%|          | 0.00/3.62M [00:00<?, ?B/s]"
      ]
     },
     "metadata": {},
     "output_type": "display_data"
    },
    {
     "data": {
      "application/vnd.jupyter.widget-view+json": {
       "model_id": "78bf3dbacc5a4c1e9e0e1cbeef790fdf",
       "version_major": 2,
       "version_minor": 0
      },
      "text/plain": [
       "dataset_1120.parquet:   0%|          | 0.00/3.70M [00:00<?, ?B/s]"
      ]
     },
     "metadata": {},
     "output_type": "display_data"
    },
    {
     "data": {
      "application/vnd.jupyter.widget-view+json": {
       "model_id": "0674972a19544cfbba84cdd31863e1b5",
       "version_major": 2,
       "version_minor": 0
      },
      "text/plain": [
       "dataset_1122.parquet:   0%|          | 0.00/3.65M [00:00<?, ?B/s]"
      ]
     },
     "metadata": {},
     "output_type": "display_data"
    },
    {
     "data": {
      "application/vnd.jupyter.widget-view+json": {
       "model_id": "2bf9b5205e6f49809a7777ab7147908c",
       "version_major": 2,
       "version_minor": 0
      },
      "text/plain": [
       "dataset_1123.parquet:   0%|          | 0.00/3.67M [00:00<?, ?B/s]"
      ]
     },
     "metadata": {},
     "output_type": "display_data"
    },
    {
     "data": {
      "application/vnd.jupyter.widget-view+json": {
       "model_id": "acf66371e6714c4ebc0a8cec28f02bbc",
       "version_major": 2,
       "version_minor": 0
      },
      "text/plain": [
       "dataset_1124.parquet:   0%|          | 0.00/3.76M [00:00<?, ?B/s]"
      ]
     },
     "metadata": {},
     "output_type": "display_data"
    },
    {
     "data": {
      "application/vnd.jupyter.widget-view+json": {
       "model_id": "48fd4240990e4a6f9ba965fda2c144f8",
       "version_major": 2,
       "version_minor": 0
      },
      "text/plain": [
       "dataset_1125.parquet:   0%|          | 0.00/3.74M [00:00<?, ?B/s]"
      ]
     },
     "metadata": {},
     "output_type": "display_data"
    },
    {
     "data": {
      "application/vnd.jupyter.widget-view+json": {
       "model_id": "d0dbc9d704df427492bc0c0d98939ac8",
       "version_major": 2,
       "version_minor": 0
      },
      "text/plain": [
       "dataset_1126.parquet:   0%|          | 0.00/3.68M [00:00<?, ?B/s]"
      ]
     },
     "metadata": {},
     "output_type": "display_data"
    },
    {
     "data": {
      "application/vnd.jupyter.widget-view+json": {
       "model_id": "916879a3922c4487a53970ebc16ce754",
       "version_major": 2,
       "version_minor": 0
      },
      "text/plain": [
       "dataset_1128.parquet:   0%|          | 0.00/3.73M [00:00<?, ?B/s]"
      ]
     },
     "metadata": {},
     "output_type": "display_data"
    },
    {
     "data": {
      "application/vnd.jupyter.widget-view+json": {
       "model_id": "fda35faff0664b3ea42e3d93928cac7d",
       "version_major": 2,
       "version_minor": 0
      },
      "text/plain": [
       "dataset_1127.parquet:   0%|          | 0.00/3.74M [00:00<?, ?B/s]"
      ]
     },
     "metadata": {},
     "output_type": "display_data"
    },
    {
     "data": {
      "application/vnd.jupyter.widget-view+json": {
       "model_id": "0a22275e44e240b190663b1731dffb5f",
       "version_major": 2,
       "version_minor": 0
      },
      "text/plain": [
       "dataset_1129.parquet:   0%|          | 0.00/3.72M [00:00<?, ?B/s]"
      ]
     },
     "metadata": {},
     "output_type": "display_data"
    },
    {
     "data": {
      "application/vnd.jupyter.widget-view+json": {
       "model_id": "5fe3c32f434f406fb8ad0e288f8e39d0",
       "version_major": 2,
       "version_minor": 0
      },
      "text/plain": [
       "dataset_113.parquet:   0%|          | 0.00/3.20M [00:00<?, ?B/s]"
      ]
     },
     "metadata": {},
     "output_type": "display_data"
    },
    {
     "data": {
      "application/vnd.jupyter.widget-view+json": {
       "model_id": "e51a0bc593174663a43c89c50867c0aa",
       "version_major": 2,
       "version_minor": 0
      },
      "text/plain": [
       "dataset_1130.parquet:   0%|          | 0.00/3.83M [00:00<?, ?B/s]"
      ]
     },
     "metadata": {},
     "output_type": "display_data"
    },
    {
     "data": {
      "application/vnd.jupyter.widget-view+json": {
       "model_id": "be15e910f0d94b2fb6f924efeed75ea2",
       "version_major": 2,
       "version_minor": 0
      },
      "text/plain": [
       "dataset_1131.parquet:   0%|          | 0.00/3.71M [00:00<?, ?B/s]"
      ]
     },
     "metadata": {},
     "output_type": "display_data"
    },
    {
     "data": {
      "application/vnd.jupyter.widget-view+json": {
       "model_id": "80cd491953a24adabaa00fc8254d614e",
       "version_major": 2,
       "version_minor": 0
      },
      "text/plain": [
       "dataset_1132.parquet:   0%|          | 0.00/3.72M [00:00<?, ?B/s]"
      ]
     },
     "metadata": {},
     "output_type": "display_data"
    },
    {
     "data": {
      "application/vnd.jupyter.widget-view+json": {
       "model_id": "f57d2303decc46bf92f5d61b0f05a894",
       "version_major": 2,
       "version_minor": 0
      },
      "text/plain": [
       "dataset_1133.parquet:   0%|          | 0.00/3.87M [00:00<?, ?B/s]"
      ]
     },
     "metadata": {},
     "output_type": "display_data"
    },
    {
     "data": {
      "application/vnd.jupyter.widget-view+json": {
       "model_id": "81fba0393ea146809fac811fa01fda36",
       "version_major": 2,
       "version_minor": 0
      },
      "text/plain": [
       "dataset_1134.parquet:   0%|          | 0.00/3.81M [00:00<?, ?B/s]"
      ]
     },
     "metadata": {},
     "output_type": "display_data"
    },
    {
     "data": {
      "application/vnd.jupyter.widget-view+json": {
       "model_id": "cc20c0a1f2264c6dbba49e0a1c6a806f",
       "version_major": 2,
       "version_minor": 0
      },
      "text/plain": [
       "dataset_1135.parquet:   0%|          | 0.00/3.66M [00:00<?, ?B/s]"
      ]
     },
     "metadata": {},
     "output_type": "display_data"
    },
    {
     "data": {
      "application/vnd.jupyter.widget-view+json": {
       "model_id": "41d2d6afd8d54159a5286d240e5fe85f",
       "version_major": 2,
       "version_minor": 0
      },
      "text/plain": [
       "dataset_1136.parquet:   0%|          | 0.00/3.70M [00:00<?, ?B/s]"
      ]
     },
     "metadata": {},
     "output_type": "display_data"
    },
    {
     "data": {
      "application/vnd.jupyter.widget-view+json": {
       "model_id": "76e248f6655644f9be226fa0990e8a55",
       "version_major": 2,
       "version_minor": 0
      },
      "text/plain": [
       "dataset_1137.parquet:   0%|          | 0.00/3.62M [00:00<?, ?B/s]"
      ]
     },
     "metadata": {},
     "output_type": "display_data"
    },
    {
     "data": {
      "application/vnd.jupyter.widget-view+json": {
       "model_id": "d1fde9ea008b446684f0ae0932957b76",
       "version_major": 2,
       "version_minor": 0
      },
      "text/plain": [
       "dataset_1138.parquet:   0%|          | 0.00/3.73M [00:00<?, ?B/s]"
      ]
     },
     "metadata": {},
     "output_type": "display_data"
    },
    {
     "data": {
      "application/vnd.jupyter.widget-view+json": {
       "model_id": "ededace5e43f4779b1152195ff9ccd9d",
       "version_major": 2,
       "version_minor": 0
      },
      "text/plain": [
       "dataset_1139.parquet:   0%|          | 0.00/3.63M [00:00<?, ?B/s]"
      ]
     },
     "metadata": {},
     "output_type": "display_data"
    },
    {
     "data": {
      "application/vnd.jupyter.widget-view+json": {
       "model_id": "67c430fafe1a4e51befe3a2630690659",
       "version_major": 2,
       "version_minor": 0
      },
      "text/plain": [
       "dataset_114.parquet:   0%|          | 0.00/3.14M [00:00<?, ?B/s]"
      ]
     },
     "metadata": {},
     "output_type": "display_data"
    },
    {
     "data": {
      "application/vnd.jupyter.widget-view+json": {
       "model_id": "0e3377fbfa9d4431b29828ff920b4dea",
       "version_major": 2,
       "version_minor": 0
      },
      "text/plain": [
       "dataset_1140.parquet:   0%|          | 0.00/3.52M [00:00<?, ?B/s]"
      ]
     },
     "metadata": {},
     "output_type": "display_data"
    },
    {
     "data": {
      "application/vnd.jupyter.widget-view+json": {
       "model_id": "7f302831ab2d4291b75635d7cfd002d2",
       "version_major": 2,
       "version_minor": 0
      },
      "text/plain": [
       "dataset_1141.parquet:   0%|          | 0.00/3.37M [00:00<?, ?B/s]"
      ]
     },
     "metadata": {},
     "output_type": "display_data"
    },
    {
     "data": {
      "application/vnd.jupyter.widget-view+json": {
       "model_id": "0531bd92f22f49098cea5e3a52e46fd7",
       "version_major": 2,
       "version_minor": 0
      },
      "text/plain": [
       "dataset_1142.parquet:   0%|          | 0.00/3.41M [00:00<?, ?B/s]"
      ]
     },
     "metadata": {},
     "output_type": "display_data"
    },
    {
     "data": {
      "application/vnd.jupyter.widget-view+json": {
       "model_id": "b34fcafbc5964351bb14d76fd8fc1166",
       "version_major": 2,
       "version_minor": 0
      },
      "text/plain": [
       "dataset_1143.parquet:   0%|          | 0.00/3.67M [00:00<?, ?B/s]"
      ]
     },
     "metadata": {},
     "output_type": "display_data"
    },
    {
     "data": {
      "application/vnd.jupyter.widget-view+json": {
       "model_id": "2577e8de83d8413f844819e4d8495c3f",
       "version_major": 2,
       "version_minor": 0
      },
      "text/plain": [
       "dataset_1144.parquet:   0%|          | 0.00/3.50M [00:00<?, ?B/s]"
      ]
     },
     "metadata": {},
     "output_type": "display_data"
    },
    {
     "data": {
      "application/vnd.jupyter.widget-view+json": {
       "model_id": "bed88050ee174ee68186eec15116da9d",
       "version_major": 2,
       "version_minor": 0
      },
      "text/plain": [
       "dataset_1145.parquet:   0%|          | 0.00/3.59M [00:00<?, ?B/s]"
      ]
     },
     "metadata": {},
     "output_type": "display_data"
    },
    {
     "data": {
      "application/vnd.jupyter.widget-view+json": {
       "model_id": "cb05ac84ed4a41eaa633f7ed6c54661d",
       "version_major": 2,
       "version_minor": 0
      },
      "text/plain": [
       "dataset_1146.parquet:   0%|          | 0.00/3.72M [00:00<?, ?B/s]"
      ]
     },
     "metadata": {},
     "output_type": "display_data"
    },
    {
     "data": {
      "application/vnd.jupyter.widget-view+json": {
       "model_id": "7f1b11e9cfef48cea8981610b9b8a404",
       "version_major": 2,
       "version_minor": 0
      },
      "text/plain": [
       "dataset_1147.parquet:   0%|          | 0.00/3.64M [00:00<?, ?B/s]"
      ]
     },
     "metadata": {},
     "output_type": "display_data"
    },
    {
     "data": {
      "application/vnd.jupyter.widget-view+json": {
       "model_id": "9f361e74a41f489ebd327aed991c6263",
       "version_major": 2,
       "version_minor": 0
      },
      "text/plain": [
       "dataset_1148.parquet:   0%|          | 0.00/3.65M [00:00<?, ?B/s]"
      ]
     },
     "metadata": {},
     "output_type": "display_data"
    },
    {
     "data": {
      "application/vnd.jupyter.widget-view+json": {
       "model_id": "8fd19275ff8d43b7b8922b6a50cf833c",
       "version_major": 2,
       "version_minor": 0
      },
      "text/plain": [
       "dataset_1149.parquet:   0%|          | 0.00/3.55M [00:00<?, ?B/s]"
      ]
     },
     "metadata": {},
     "output_type": "display_data"
    },
    {
     "data": {
      "application/vnd.jupyter.widget-view+json": {
       "model_id": "da49a140695e4b4cb3b4c015a139fca2",
       "version_major": 2,
       "version_minor": 0
      },
      "text/plain": [
       "dataset_1150.parquet:   0%|          | 0.00/3.56M [00:00<?, ?B/s]"
      ]
     },
     "metadata": {},
     "output_type": "display_data"
    },
    {
     "data": {
      "application/vnd.jupyter.widget-view+json": {
       "model_id": "a56c112f5a684e2e8cd062beb72e4fa7",
       "version_major": 2,
       "version_minor": 0
      },
      "text/plain": [
       "dataset_115.parquet:   0%|          | 0.00/3.11M [00:00<?, ?B/s]"
      ]
     },
     "metadata": {},
     "output_type": "display_data"
    },
    {
     "data": {
      "application/vnd.jupyter.widget-view+json": {
       "model_id": "b34f4b458c734a3ab44cfa3c9b2d9f65",
       "version_major": 2,
       "version_minor": 0
      },
      "text/plain": [
       "dataset_1151.parquet:   0%|          | 0.00/3.60M [00:00<?, ?B/s]"
      ]
     },
     "metadata": {},
     "output_type": "display_data"
    },
    {
     "data": {
      "application/vnd.jupyter.widget-view+json": {
       "model_id": "df3d6041473044af9d72335180433104",
       "version_major": 2,
       "version_minor": 0
      },
      "text/plain": [
       "dataset_1152.parquet:   0%|          | 0.00/3.60M [00:00<?, ?B/s]"
      ]
     },
     "metadata": {},
     "output_type": "display_data"
    },
    {
     "data": {
      "application/vnd.jupyter.widget-view+json": {
       "model_id": "9dc12cf771cf458d86c3402965398291",
       "version_major": 2,
       "version_minor": 0
      },
      "text/plain": [
       "dataset_1153.parquet:   0%|          | 0.00/3.67M [00:00<?, ?B/s]"
      ]
     },
     "metadata": {},
     "output_type": "display_data"
    },
    {
     "data": {
      "application/vnd.jupyter.widget-view+json": {
       "model_id": "3586ffd38e3e4cc3b58f3da68506f642",
       "version_major": 2,
       "version_minor": 0
      },
      "text/plain": [
       "dataset_1154.parquet:   0%|          | 0.00/3.75M [00:00<?, ?B/s]"
      ]
     },
     "metadata": {},
     "output_type": "display_data"
    },
    {
     "data": {
      "application/vnd.jupyter.widget-view+json": {
       "model_id": "9dfc0657adfe4cc78e7c02cb5a0339b2",
       "version_major": 2,
       "version_minor": 0
      },
      "text/plain": [
       "dataset_1155.parquet:   0%|          | 0.00/3.68M [00:00<?, ?B/s]"
      ]
     },
     "metadata": {},
     "output_type": "display_data"
    },
    {
     "data": {
      "application/vnd.jupyter.widget-view+json": {
       "model_id": "e2f8087999d44ff5afa12261de6e701e",
       "version_major": 2,
       "version_minor": 0
      },
      "text/plain": [
       "dataset_1156.parquet:   0%|          | 0.00/3.79M [00:00<?, ?B/s]"
      ]
     },
     "metadata": {},
     "output_type": "display_data"
    },
    {
     "data": {
      "application/vnd.jupyter.widget-view+json": {
       "model_id": "4cc92d7df57441c5a82614e907b07ad2",
       "version_major": 2,
       "version_minor": 0
      },
      "text/plain": [
       "dataset_1157.parquet:   0%|          | 0.00/3.67M [00:00<?, ?B/s]"
      ]
     },
     "metadata": {},
     "output_type": "display_data"
    },
    {
     "data": {
      "application/vnd.jupyter.widget-view+json": {
       "model_id": "d785deb617c543f7a48a17a79e1de5d9",
       "version_major": 2,
       "version_minor": 0
      },
      "text/plain": [
       "dataset_1159.parquet:   0%|          | 0.00/3.32M [00:00<?, ?B/s]"
      ]
     },
     "metadata": {},
     "output_type": "display_data"
    },
    {
     "data": {
      "application/vnd.jupyter.widget-view+json": {
       "model_id": "3bf88194ab0c4084b022ab8286333e63",
       "version_major": 2,
       "version_minor": 0
      },
      "text/plain": [
       "dataset_1158.parquet:   0%|          | 0.00/3.38M [00:00<?, ?B/s]"
      ]
     },
     "metadata": {},
     "output_type": "display_data"
    },
    {
     "data": {
      "application/vnd.jupyter.widget-view+json": {
       "model_id": "358d55bd2b7e424faa6ba2b7832c8f5c",
       "version_major": 2,
       "version_minor": 0
      },
      "text/plain": [
       "dataset_116.parquet:   0%|          | 0.00/3.21M [00:00<?, ?B/s]"
      ]
     },
     "metadata": {},
     "output_type": "display_data"
    },
    {
     "data": {
      "application/vnd.jupyter.widget-view+json": {
       "model_id": "04f529d3ee624bb6936a54c70a0bab1c",
       "version_major": 2,
       "version_minor": 0
      },
      "text/plain": [
       "dataset_1160.parquet:   0%|          | 0.00/3.37M [00:00<?, ?B/s]"
      ]
     },
     "metadata": {},
     "output_type": "display_data"
    },
    {
     "data": {
      "application/vnd.jupyter.widget-view+json": {
       "model_id": "5d2a259ae4c347cda4461aeec36246b1",
       "version_major": 2,
       "version_minor": 0
      },
      "text/plain": [
       "dataset_1161.parquet:   0%|          | 0.00/3.40M [00:00<?, ?B/s]"
      ]
     },
     "metadata": {},
     "output_type": "display_data"
    },
    {
     "data": {
      "application/vnd.jupyter.widget-view+json": {
       "model_id": "0e516edf26ba4b36b30be8da45343fdc",
       "version_major": 2,
       "version_minor": 0
      },
      "text/plain": [
       "dataset_1162.parquet:   0%|          | 0.00/3.37M [00:00<?, ?B/s]"
      ]
     },
     "metadata": {},
     "output_type": "display_data"
    },
    {
     "data": {
      "application/vnd.jupyter.widget-view+json": {
       "model_id": "21563e3915b24bb995510f090d61f2d8",
       "version_major": 2,
       "version_minor": 0
      },
      "text/plain": [
       "dataset_1163.parquet:   0%|          | 0.00/3.45M [00:00<?, ?B/s]"
      ]
     },
     "metadata": {},
     "output_type": "display_data"
    },
    {
     "data": {
      "application/vnd.jupyter.widget-view+json": {
       "model_id": "044ef97bb97c4546ba8002fa20699e89",
       "version_major": 2,
       "version_minor": 0
      },
      "text/plain": [
       "dataset_1164.parquet:   0%|          | 0.00/3.49M [00:00<?, ?B/s]"
      ]
     },
     "metadata": {},
     "output_type": "display_data"
    },
    {
     "data": {
      "application/vnd.jupyter.widget-view+json": {
       "model_id": "279f69e898d4495991f418b0ff0bcd84",
       "version_major": 2,
       "version_minor": 0
      },
      "text/plain": [
       "dataset_1165.parquet:   0%|          | 0.00/3.49M [00:00<?, ?B/s]"
      ]
     },
     "metadata": {},
     "output_type": "display_data"
    },
    {
     "data": {
      "application/vnd.jupyter.widget-view+json": {
       "model_id": "95b9a1163f3c460ea0ed64d986abd266",
       "version_major": 2,
       "version_minor": 0
      },
      "text/plain": [
       "dataset_1166.parquet:   0%|          | 0.00/3.42M [00:00<?, ?B/s]"
      ]
     },
     "metadata": {},
     "output_type": "display_data"
    },
    {
     "data": {
      "application/vnd.jupyter.widget-view+json": {
       "model_id": "0ef8ae6704984786ad638782f24f357c",
       "version_major": 2,
       "version_minor": 0
      },
      "text/plain": [
       "dataset_1167.parquet:   0%|          | 0.00/3.28M [00:00<?, ?B/s]"
      ]
     },
     "metadata": {},
     "output_type": "display_data"
    },
    {
     "data": {
      "application/vnd.jupyter.widget-view+json": {
       "model_id": "b589368379174408b5a713b7d0fd4576",
       "version_major": 2,
       "version_minor": 0
      },
      "text/plain": [
       "dataset_1168.parquet:   0%|          | 0.00/3.43M [00:00<?, ?B/s]"
      ]
     },
     "metadata": {},
     "output_type": "display_data"
    },
    {
     "data": {
      "application/vnd.jupyter.widget-view+json": {
       "model_id": "874a66f7624649718877cd818469d2ac",
       "version_major": 2,
       "version_minor": 0
      },
      "text/plain": [
       "dataset_1169.parquet:   0%|          | 0.00/3.44M [00:00<?, ?B/s]"
      ]
     },
     "metadata": {},
     "output_type": "display_data"
    },
    {
     "data": {
      "application/vnd.jupyter.widget-view+json": {
       "model_id": "164b9c0551894612a07265b70c12ce0a",
       "version_major": 2,
       "version_minor": 0
      },
      "text/plain": [
       "dataset_117.parquet:   0%|          | 0.00/3.18M [00:00<?, ?B/s]"
      ]
     },
     "metadata": {},
     "output_type": "display_data"
    },
    {
     "data": {
      "application/vnd.jupyter.widget-view+json": {
       "model_id": "d9c8c921e0724f489f81b2c17c31ab87",
       "version_major": 2,
       "version_minor": 0
      },
      "text/plain": [
       "dataset_1170.parquet:   0%|          | 0.00/3.35M [00:00<?, ?B/s]"
      ]
     },
     "metadata": {},
     "output_type": "display_data"
    },
    {
     "data": {
      "application/vnd.jupyter.widget-view+json": {
       "model_id": "b72d5ae78fce4d51a9ecd3f4201aac04",
       "version_major": 2,
       "version_minor": 0
      },
      "text/plain": [
       "dataset_1171.parquet:   0%|          | 0.00/3.29M [00:00<?, ?B/s]"
      ]
     },
     "metadata": {},
     "output_type": "display_data"
    },
    {
     "data": {
      "application/vnd.jupyter.widget-view+json": {
       "model_id": "09f1846c7bcd42eea655390e1aee0299",
       "version_major": 2,
       "version_minor": 0
      },
      "text/plain": [
       "dataset_1172.parquet:   0%|          | 0.00/3.51M [00:00<?, ?B/s]"
      ]
     },
     "metadata": {},
     "output_type": "display_data"
    },
    {
     "data": {
      "application/vnd.jupyter.widget-view+json": {
       "model_id": "fcbdad79cb77468793d7856f733f6407",
       "version_major": 2,
       "version_minor": 0
      },
      "text/plain": [
       "dataset_1173.parquet:   0%|          | 0.00/3.41M [00:00<?, ?B/s]"
      ]
     },
     "metadata": {},
     "output_type": "display_data"
    },
    {
     "data": {
      "application/vnd.jupyter.widget-view+json": {
       "model_id": "161619b5010646229620534ca7cc57fd",
       "version_major": 2,
       "version_minor": 0
      },
      "text/plain": [
       "dataset_1174.parquet:   0%|          | 0.00/3.37M [00:00<?, ?B/s]"
      ]
     },
     "metadata": {},
     "output_type": "display_data"
    },
    {
     "data": {
      "application/vnd.jupyter.widget-view+json": {
       "model_id": "7f714dd2c9da4f30b3206a763ebc7c12",
       "version_major": 2,
       "version_minor": 0
      },
      "text/plain": [
       "dataset_1175.parquet:   0%|          | 0.00/3.39M [00:00<?, ?B/s]"
      ]
     },
     "metadata": {},
     "output_type": "display_data"
    },
    {
     "data": {
      "application/vnd.jupyter.widget-view+json": {
       "model_id": "ba8b8f89d8604aeaa0e1f51bc64845b8",
       "version_major": 2,
       "version_minor": 0
      },
      "text/plain": [
       "dataset_1176.parquet:   0%|          | 0.00/3.35M [00:00<?, ?B/s]"
      ]
     },
     "metadata": {},
     "output_type": "display_data"
    },
    {
     "data": {
      "application/vnd.jupyter.widget-view+json": {
       "model_id": "d7a3a187b81b48b4805338c15fbfeacc",
       "version_major": 2,
       "version_minor": 0
      },
      "text/plain": [
       "dataset_1177.parquet:   0%|          | 0.00/3.48M [00:00<?, ?B/s]"
      ]
     },
     "metadata": {},
     "output_type": "display_data"
    },
    {
     "data": {
      "application/vnd.jupyter.widget-view+json": {
       "model_id": "cb8b13dc1e2c43fb930112b7fbff4f0b",
       "version_major": 2,
       "version_minor": 0
      },
      "text/plain": [
       "dataset_1178.parquet:   0%|          | 0.00/3.45M [00:00<?, ?B/s]"
      ]
     },
     "metadata": {},
     "output_type": "display_data"
    },
    {
     "data": {
      "application/vnd.jupyter.widget-view+json": {
       "model_id": "6fc2022d74e24b82a2f081e777878a7a",
       "version_major": 2,
       "version_minor": 0
      },
      "text/plain": [
       "dataset_118.parquet:   0%|          | 0.00/3.19M [00:00<?, ?B/s]"
      ]
     },
     "metadata": {},
     "output_type": "display_data"
    },
    {
     "data": {
      "application/vnd.jupyter.widget-view+json": {
       "model_id": "d92c576fb48d4e35b8c80111d5749160",
       "version_major": 2,
       "version_minor": 0
      },
      "text/plain": [
       "dataset_1179.parquet:   0%|          | 0.00/3.50M [00:00<?, ?B/s]"
      ]
     },
     "metadata": {},
     "output_type": "display_data"
    },
    {
     "data": {
      "application/vnd.jupyter.widget-view+json": {
       "model_id": "7177921bf3f44f1c9e4e4cea58391d55",
       "version_major": 2,
       "version_minor": 0
      },
      "text/plain": [
       "dataset_1180.parquet:   0%|          | 0.00/3.44M [00:00<?, ?B/s]"
      ]
     },
     "metadata": {},
     "output_type": "display_data"
    },
    {
     "data": {
      "application/vnd.jupyter.widget-view+json": {
       "model_id": "d22d961757cc428c861c8e07036110f4",
       "version_major": 2,
       "version_minor": 0
      },
      "text/plain": [
       "dataset_1181.parquet:   0%|          | 0.00/3.28M [00:00<?, ?B/s]"
      ]
     },
     "metadata": {},
     "output_type": "display_data"
    },
    {
     "data": {
      "application/vnd.jupyter.widget-view+json": {
       "model_id": "1a678f4d31a74bf2bbd2154464032987",
       "version_major": 2,
       "version_minor": 0
      },
      "text/plain": [
       "dataset_1182.parquet:   0%|          | 0.00/3.45M [00:00<?, ?B/s]"
      ]
     },
     "metadata": {},
     "output_type": "display_data"
    },
    {
     "data": {
      "application/vnd.jupyter.widget-view+json": {
       "model_id": "8d0581ddb7fe4a5ca21142691ccf093c",
       "version_major": 2,
       "version_minor": 0
      },
      "text/plain": [
       "dataset_1183.parquet:   0%|          | 0.00/3.40M [00:00<?, ?B/s]"
      ]
     },
     "metadata": {},
     "output_type": "display_data"
    },
    {
     "data": {
      "application/vnd.jupyter.widget-view+json": {
       "model_id": "7de1167fd85a497ea3f58e4c551f4d9e",
       "version_major": 2,
       "version_minor": 0
      },
      "text/plain": [
       "dataset_1184.parquet:   0%|          | 0.00/3.46M [00:00<?, ?B/s]"
      ]
     },
     "metadata": {},
     "output_type": "display_data"
    },
    {
     "data": {
      "application/vnd.jupyter.widget-view+json": {
       "model_id": "0fb791514cc44e6089f9e597483b1269",
       "version_major": 2,
       "version_minor": 0
      },
      "text/plain": [
       "dataset_1185.parquet:   0%|          | 0.00/3.35M [00:00<?, ?B/s]"
      ]
     },
     "metadata": {},
     "output_type": "display_data"
    },
    {
     "data": {
      "application/vnd.jupyter.widget-view+json": {
       "model_id": "374e52e5f2b448a7affdbdc20bf86dce",
       "version_major": 2,
       "version_minor": 0
      },
      "text/plain": [
       "dataset_1186.parquet:   0%|          | 0.00/3.40M [00:00<?, ?B/s]"
      ]
     },
     "metadata": {},
     "output_type": "display_data"
    },
    {
     "data": {
      "application/vnd.jupyter.widget-view+json": {
       "model_id": "2d950bb72fe6417c901cb5cfbcfaa239",
       "version_major": 2,
       "version_minor": 0
      },
      "text/plain": [
       "dataset_1187.parquet:   0%|          | 0.00/3.40M [00:00<?, ?B/s]"
      ]
     },
     "metadata": {},
     "output_type": "display_data"
    },
    {
     "data": {
      "application/vnd.jupyter.widget-view+json": {
       "model_id": "46fb58f2db124e2bbeeb0cf61277db8a",
       "version_major": 2,
       "version_minor": 0
      },
      "text/plain": [
       "dataset_1188.parquet:   0%|          | 0.00/3.40M [00:00<?, ?B/s]"
      ]
     },
     "metadata": {},
     "output_type": "display_data"
    },
    {
     "data": {
      "application/vnd.jupyter.widget-view+json": {
       "model_id": "7c86f3cf0b854ea285ec5d51214d404b",
       "version_major": 2,
       "version_minor": 0
      },
      "text/plain": [
       "dataset_1189.parquet:   0%|          | 0.00/3.47M [00:00<?, ?B/s]"
      ]
     },
     "metadata": {},
     "output_type": "display_data"
    },
    {
     "data": {
      "application/vnd.jupyter.widget-view+json": {
       "model_id": "f6aa4c9ed79d4fb9905bb9c4aa22506a",
       "version_major": 2,
       "version_minor": 0
      },
      "text/plain": [
       "dataset_119.parquet:   0%|          | 0.00/3.06M [00:00<?, ?B/s]"
      ]
     },
     "metadata": {},
     "output_type": "display_data"
    },
    {
     "data": {
      "application/vnd.jupyter.widget-view+json": {
       "model_id": "6341f870cd0048d0af2dee95f5c8721f",
       "version_major": 2,
       "version_minor": 0
      },
      "text/plain": [
       "dataset_1190.parquet:   0%|          | 0.00/3.36M [00:00<?, ?B/s]"
      ]
     },
     "metadata": {},
     "output_type": "display_data"
    },
    {
     "data": {
      "application/vnd.jupyter.widget-view+json": {
       "model_id": "9221736c9b43418abffacfa2719c0e8d",
       "version_major": 2,
       "version_minor": 0
      },
      "text/plain": [
       "dataset_1191.parquet:   0%|          | 0.00/3.43M [00:00<?, ?B/s]"
      ]
     },
     "metadata": {},
     "output_type": "display_data"
    },
    {
     "data": {
      "application/vnd.jupyter.widget-view+json": {
       "model_id": "72f69928096b45838507780c0e5473e2",
       "version_major": 2,
       "version_minor": 0
      },
      "text/plain": [
       "dataset_1192.parquet:   0%|          | 0.00/3.44M [00:00<?, ?B/s]"
      ]
     },
     "metadata": {},
     "output_type": "display_data"
    },
    {
     "data": {
      "application/vnd.jupyter.widget-view+json": {
       "model_id": "a3b40b448dd847cc828ecf4af3e5b0ee",
       "version_major": 2,
       "version_minor": 0
      },
      "text/plain": [
       "dataset_1193.parquet:   0%|          | 0.00/3.41M [00:00<?, ?B/s]"
      ]
     },
     "metadata": {},
     "output_type": "display_data"
    },
    {
     "data": {
      "application/vnd.jupyter.widget-view+json": {
       "model_id": "de9c879879a5480abdb9cff7f180b35a",
       "version_major": 2,
       "version_minor": 0
      },
      "text/plain": [
       "dataset_1194.parquet:   0%|          | 0.00/3.48M [00:00<?, ?B/s]"
      ]
     },
     "metadata": {},
     "output_type": "display_data"
    },
    {
     "data": {
      "application/vnd.jupyter.widget-view+json": {
       "model_id": "0ea7b0627dd24322a6236949204daf14",
       "version_major": 2,
       "version_minor": 0
      },
      "text/plain": [
       "dataset_1195.parquet:   0%|          | 0.00/3.57M [00:00<?, ?B/s]"
      ]
     },
     "metadata": {},
     "output_type": "display_data"
    },
    {
     "data": {
      "application/vnd.jupyter.widget-view+json": {
       "model_id": "231c8e7206494d5f85d0902b4cc2b8f6",
       "version_major": 2,
       "version_minor": 0
      },
      "text/plain": [
       "dataset_1196.parquet:   0%|          | 0.00/3.22M [00:00<?, ?B/s]"
      ]
     },
     "metadata": {},
     "output_type": "display_data"
    },
    {
     "data": {
      "application/vnd.jupyter.widget-view+json": {
       "model_id": "07a4d40e918f4b8bb7d758e5277c889c",
       "version_major": 2,
       "version_minor": 0
      },
      "text/plain": [
       "dataset_1197.parquet:   0%|          | 0.00/3.39M [00:00<?, ?B/s]"
      ]
     },
     "metadata": {},
     "output_type": "display_data"
    },
    {
     "data": {
      "application/vnd.jupyter.widget-view+json": {
       "model_id": "7a56d1203fe9480aa47f97d26939b03f",
       "version_major": 2,
       "version_minor": 0
      },
      "text/plain": [
       "dataset_1198.parquet:   0%|          | 0.00/3.47M [00:00<?, ?B/s]"
      ]
     },
     "metadata": {},
     "output_type": "display_data"
    },
    {
     "data": {
      "application/vnd.jupyter.widget-view+json": {
       "model_id": "ee7f5f79f65e46cfbf11d08f4702cc03",
       "version_major": 2,
       "version_minor": 0
      },
      "text/plain": [
       "dataset_1199.parquet:   0%|          | 0.00/3.51M [00:00<?, ?B/s]"
      ]
     },
     "metadata": {},
     "output_type": "display_data"
    },
    {
     "data": {
      "application/vnd.jupyter.widget-view+json": {
       "model_id": "1f2e4649657445cf84bc4d65c45016b9",
       "version_major": 2,
       "version_minor": 0
      },
      "text/plain": [
       "dataset_120.parquet:   0%|          | 0.00/3.18M [00:00<?, ?B/s]"
      ]
     },
     "metadata": {},
     "output_type": "display_data"
    },
    {
     "data": {
      "application/vnd.jupyter.widget-view+json": {
       "model_id": "10655e822a9c4ff9a73686f5b47bfedb",
       "version_major": 2,
       "version_minor": 0
      },
      "text/plain": [
       "dataset_1200.parquet:   0%|          | 0.00/3.45M [00:00<?, ?B/s]"
      ]
     },
     "metadata": {},
     "output_type": "display_data"
    },
    {
     "data": {
      "application/vnd.jupyter.widget-view+json": {
       "model_id": "d44dc4ff08214bdba610705b7e0ccbe8",
       "version_major": 2,
       "version_minor": 0
      },
      "text/plain": [
       "dataset_1201.parquet:   0%|          | 0.00/3.44M [00:00<?, ?B/s]"
      ]
     },
     "metadata": {},
     "output_type": "display_data"
    },
    {
     "data": {
      "application/vnd.jupyter.widget-view+json": {
       "model_id": "80b25887d2d04aab945cbfeda0eaaec0",
       "version_major": 2,
       "version_minor": 0
      },
      "text/plain": [
       "dataset_1202.parquet:   0%|          | 0.00/3.45M [00:00<?, ?B/s]"
      ]
     },
     "metadata": {},
     "output_type": "display_data"
    },
    {
     "data": {
      "application/vnd.jupyter.widget-view+json": {
       "model_id": "cdd843496fd44ff79b907d69c771138f",
       "version_major": 2,
       "version_minor": 0
      },
      "text/plain": [
       "dataset_1203.parquet:   0%|          | 0.00/3.41M [00:00<?, ?B/s]"
      ]
     },
     "metadata": {},
     "output_type": "display_data"
    },
    {
     "data": {
      "application/vnd.jupyter.widget-view+json": {
       "model_id": "ee88fdf8baf243ab8f52307d8ed67dd8",
       "version_major": 2,
       "version_minor": 0
      },
      "text/plain": [
       "dataset_1204.parquet:   0%|          | 0.00/3.46M [00:00<?, ?B/s]"
      ]
     },
     "metadata": {},
     "output_type": "display_data"
    },
    {
     "data": {
      "application/vnd.jupyter.widget-view+json": {
       "model_id": "bb7ef353fac64e2d8a224cdf6786a539",
       "version_major": 2,
       "version_minor": 0
      },
      "text/plain": [
       "dataset_1205.parquet:   0%|          | 0.00/3.47M [00:00<?, ?B/s]"
      ]
     },
     "metadata": {},
     "output_type": "display_data"
    },
    {
     "data": {
      "application/vnd.jupyter.widget-view+json": {
       "model_id": "0afc500852994e1db244a641ab927727",
       "version_major": 2,
       "version_minor": 0
      },
      "text/plain": [
       "dataset_1207.parquet:   0%|          | 0.00/3.56M [00:00<?, ?B/s]"
      ]
     },
     "metadata": {},
     "output_type": "display_data"
    },
    {
     "data": {
      "application/vnd.jupyter.widget-view+json": {
       "model_id": "78672e413f8c4bf5a397211937551a32",
       "version_major": 2,
       "version_minor": 0
      },
      "text/plain": [
       "dataset_1206.parquet:   0%|          | 0.00/3.47M [00:00<?, ?B/s]"
      ]
     },
     "metadata": {},
     "output_type": "display_data"
    },
    {
     "data": {
      "application/vnd.jupyter.widget-view+json": {
       "model_id": "4878ab2949654c6f92c1cb3fa5cde8bc",
       "version_major": 2,
       "version_minor": 0
      },
      "text/plain": [
       "dataset_1209.parquet:   0%|          | 0.00/3.39M [00:00<?, ?B/s]"
      ]
     },
     "metadata": {},
     "output_type": "display_data"
    },
    {
     "data": {
      "application/vnd.jupyter.widget-view+json": {
       "model_id": "f08625efd15d4852bc7e7c007bf5a7f5",
       "version_major": 2,
       "version_minor": 0
      },
      "text/plain": [
       "dataset_1208.parquet:   0%|          | 0.00/3.31M [00:00<?, ?B/s]"
      ]
     },
     "metadata": {},
     "output_type": "display_data"
    },
    {
     "data": {
      "application/vnd.jupyter.widget-view+json": {
       "model_id": "a26fdfd61db04967ad76b3ae26f29663",
       "version_major": 2,
       "version_minor": 0
      },
      "text/plain": [
       "dataset_121.parquet:   0%|          | 0.00/3.04M [00:00<?, ?B/s]"
      ]
     },
     "metadata": {},
     "output_type": "display_data"
    },
    {
     "data": {
      "application/vnd.jupyter.widget-view+json": {
       "model_id": "5493a192f6fd441580bcf977d749e7b8",
       "version_major": 2,
       "version_minor": 0
      },
      "text/plain": [
       "dataset_1210.parquet:   0%|          | 0.00/3.45M [00:00<?, ?B/s]"
      ]
     },
     "metadata": {},
     "output_type": "display_data"
    },
    {
     "data": {
      "application/vnd.jupyter.widget-view+json": {
       "model_id": "ef10de7f254744c2bbebc76f0c086da7",
       "version_major": 2,
       "version_minor": 0
      },
      "text/plain": [
       "dataset_1211.parquet:   0%|          | 0.00/3.45M [00:00<?, ?B/s]"
      ]
     },
     "metadata": {},
     "output_type": "display_data"
    },
    {
     "data": {
      "application/vnd.jupyter.widget-view+json": {
       "model_id": "dca5b7f5fa5e4bfba74d2d2e8df32d05",
       "version_major": 2,
       "version_minor": 0
      },
      "text/plain": [
       "dataset_1212.parquet:   0%|          | 0.00/3.44M [00:00<?, ?B/s]"
      ]
     },
     "metadata": {},
     "output_type": "display_data"
    },
    {
     "data": {
      "application/vnd.jupyter.widget-view+json": {
       "model_id": "9e1e730325ea43b39bb8747d79d3ec98",
       "version_major": 2,
       "version_minor": 0
      },
      "text/plain": [
       "dataset_1213.parquet:   0%|          | 0.00/3.55M [00:00<?, ?B/s]"
      ]
     },
     "metadata": {},
     "output_type": "display_data"
    },
    {
     "data": {
      "application/vnd.jupyter.widget-view+json": {
       "model_id": "c21964452a304a31a90e476c5ca60464",
       "version_major": 2,
       "version_minor": 0
      },
      "text/plain": [
       "dataset_1214.parquet:   0%|          | 0.00/3.53M [00:00<?, ?B/s]"
      ]
     },
     "metadata": {},
     "output_type": "display_data"
    },
    {
     "data": {
      "application/vnd.jupyter.widget-view+json": {
       "model_id": "5153b2d5df3147b3a3a4f252d190db3a",
       "version_major": 2,
       "version_minor": 0
      },
      "text/plain": [
       "dataset_1215.parquet:   0%|          | 0.00/3.40M [00:00<?, ?B/s]"
      ]
     },
     "metadata": {},
     "output_type": "display_data"
    },
    {
     "data": {
      "application/vnd.jupyter.widget-view+json": {
       "model_id": "75fa74e5ce2e49d58953d214bc3bd166",
       "version_major": 2,
       "version_minor": 0
      },
      "text/plain": [
       "dataset_1216.parquet:   0%|          | 0.00/3.40M [00:00<?, ?B/s]"
      ]
     },
     "metadata": {},
     "output_type": "display_data"
    },
    {
     "data": {
      "application/vnd.jupyter.widget-view+json": {
       "model_id": "b6ee2612f73a4859876460cd9a4c2189",
       "version_major": 2,
       "version_minor": 0
      },
      "text/plain": [
       "dataset_1217.parquet:   0%|          | 0.00/3.38M [00:00<?, ?B/s]"
      ]
     },
     "metadata": {},
     "output_type": "display_data"
    },
    {
     "data": {
      "application/vnd.jupyter.widget-view+json": {
       "model_id": "a59cfe2d76e841cc934f4a252a53341e",
       "version_major": 2,
       "version_minor": 0
      },
      "text/plain": [
       "dataset_1218.parquet:   0%|          | 0.00/3.38M [00:00<?, ?B/s]"
      ]
     },
     "metadata": {},
     "output_type": "display_data"
    },
    {
     "data": {
      "application/vnd.jupyter.widget-view+json": {
       "model_id": "472a8ed6b318416eb8588bbc026d5930",
       "version_major": 2,
       "version_minor": 0
      },
      "text/plain": [
       "dataset_1219.parquet:   0%|          | 0.00/3.37M [00:00<?, ?B/s]"
      ]
     },
     "metadata": {},
     "output_type": "display_data"
    },
    {
     "data": {
      "application/vnd.jupyter.widget-view+json": {
       "model_id": "1d631e33728940d09b45287c90bd5254",
       "version_major": 2,
       "version_minor": 0
      },
      "text/plain": [
       "dataset_122.parquet:   0%|          | 0.00/3.06M [00:00<?, ?B/s]"
      ]
     },
     "metadata": {},
     "output_type": "display_data"
    },
    {
     "data": {
      "application/vnd.jupyter.widget-view+json": {
       "model_id": "7e07468f682e4808a939586d26694210",
       "version_major": 2,
       "version_minor": 0
      },
      "text/plain": [
       "dataset_1220.parquet:   0%|          | 0.00/3.43M [00:00<?, ?B/s]"
      ]
     },
     "metadata": {},
     "output_type": "display_data"
    },
    {
     "data": {
      "application/vnd.jupyter.widget-view+json": {
       "model_id": "aa557832b03d4f33b95692b5d43284d2",
       "version_major": 2,
       "version_minor": 0
      },
      "text/plain": [
       "dataset_1221.parquet:   0%|          | 0.00/3.44M [00:00<?, ?B/s]"
      ]
     },
     "metadata": {},
     "output_type": "display_data"
    },
    {
     "data": {
      "application/vnd.jupyter.widget-view+json": {
       "model_id": "0a661b6002594b4abc6c4870ad548088",
       "version_major": 2,
       "version_minor": 0
      },
      "text/plain": [
       "dataset_1222.parquet:   0%|          | 0.00/3.28M [00:00<?, ?B/s]"
      ]
     },
     "metadata": {},
     "output_type": "display_data"
    },
    {
     "data": {
      "application/vnd.jupyter.widget-view+json": {
       "model_id": "9f9dac6045364a79aec9236591ef69d3",
       "version_major": 2,
       "version_minor": 0
      },
      "text/plain": [
       "dataset_1223.parquet:   0%|          | 0.00/3.43M [00:00<?, ?B/s]"
      ]
     },
     "metadata": {},
     "output_type": "display_data"
    },
    {
     "data": {
      "application/vnd.jupyter.widget-view+json": {
       "model_id": "895bfa05f5e547d2b0e136a746e88987",
       "version_major": 2,
       "version_minor": 0
      },
      "text/plain": [
       "dataset_1224.parquet:   0%|          | 0.00/3.43M [00:00<?, ?B/s]"
      ]
     },
     "metadata": {},
     "output_type": "display_data"
    },
    {
     "data": {
      "application/vnd.jupyter.widget-view+json": {
       "model_id": "7a2656aebd1b482799cfb2e704b61f02",
       "version_major": 2,
       "version_minor": 0
      },
      "text/plain": [
       "dataset_1225.parquet:   0%|          | 0.00/3.40M [00:00<?, ?B/s]"
      ]
     },
     "metadata": {},
     "output_type": "display_data"
    },
    {
     "data": {
      "application/vnd.jupyter.widget-view+json": {
       "model_id": "ca1af199b3a24026a9689bf51a0e27f2",
       "version_major": 2,
       "version_minor": 0
      },
      "text/plain": [
       "dataset_1226.parquet:   0%|          | 0.00/3.38M [00:00<?, ?B/s]"
      ]
     },
     "metadata": {},
     "output_type": "display_data"
    },
    {
     "data": {
      "application/vnd.jupyter.widget-view+json": {
       "model_id": "256c49fb50214b26833c9fed9faa28be",
       "version_major": 2,
       "version_minor": 0
      },
      "text/plain": [
       "dataset_1227.parquet:   0%|          | 0.00/3.38M [00:00<?, ?B/s]"
      ]
     },
     "metadata": {},
     "output_type": "display_data"
    },
    {
     "data": {
      "application/vnd.jupyter.widget-view+json": {
       "model_id": "8cc285aa327b44ad97f000cd37b3e445",
       "version_major": 2,
       "version_minor": 0
      },
      "text/plain": [
       "dataset_1228.parquet:   0%|          | 0.00/3.49M [00:00<?, ?B/s]"
      ]
     },
     "metadata": {},
     "output_type": "display_data"
    },
    {
     "data": {
      "application/vnd.jupyter.widget-view+json": {
       "model_id": "eaebdda5e36c47bebfd6ea2433f6071f",
       "version_major": 2,
       "version_minor": 0
      },
      "text/plain": [
       "dataset_1229.parquet:   0%|          | 0.00/3.35M [00:00<?, ?B/s]"
      ]
     },
     "metadata": {},
     "output_type": "display_data"
    },
    {
     "data": {
      "application/vnd.jupyter.widget-view+json": {
       "model_id": "426499da3a4d42edab912aa46ce57bf0",
       "version_major": 2,
       "version_minor": 0
      },
      "text/plain": [
       "dataset_123.parquet:   0%|          | 0.00/3.10M [00:00<?, ?B/s]"
      ]
     },
     "metadata": {},
     "output_type": "display_data"
    },
    {
     "data": {
      "application/vnd.jupyter.widget-view+json": {
       "model_id": "26661978d964433c8aeceaf3c0eb4bdc",
       "version_major": 2,
       "version_minor": 0
      },
      "text/plain": [
       "dataset_1230.parquet:   0%|          | 0.00/3.44M [00:00<?, ?B/s]"
      ]
     },
     "metadata": {},
     "output_type": "display_data"
    },
    {
     "data": {
      "application/vnd.jupyter.widget-view+json": {
       "model_id": "ba36090ce38e485b91374179ebef6c0e",
       "version_major": 2,
       "version_minor": 0
      },
      "text/plain": [
       "dataset_1231.parquet:   0%|          | 0.00/3.32M [00:00<?, ?B/s]"
      ]
     },
     "metadata": {},
     "output_type": "display_data"
    },
    {
     "data": {
      "application/vnd.jupyter.widget-view+json": {
       "model_id": "e915df46103a4b04a8e25dd93af3ec8e",
       "version_major": 2,
       "version_minor": 0
      },
      "text/plain": [
       "dataset_1232.parquet:   0%|          | 0.00/3.35M [00:00<?, ?B/s]"
      ]
     },
     "metadata": {},
     "output_type": "display_data"
    },
    {
     "data": {
      "application/vnd.jupyter.widget-view+json": {
       "model_id": "3bb1fa0649e640188af946587da722ca",
       "version_major": 2,
       "version_minor": 0
      },
      "text/plain": [
       "dataset_1233.parquet:   0%|          | 0.00/3.43M [00:00<?, ?B/s]"
      ]
     },
     "metadata": {},
     "output_type": "display_data"
    },
    {
     "data": {
      "application/vnd.jupyter.widget-view+json": {
       "model_id": "f3af886241d24d0db26f5ce911fc8311",
       "version_major": 2,
       "version_minor": 0
      },
      "text/plain": [
       "dataset_1234.parquet:   0%|          | 0.00/3.43M [00:00<?, ?B/s]"
      ]
     },
     "metadata": {},
     "output_type": "display_data"
    },
    {
     "data": {
      "application/vnd.jupyter.widget-view+json": {
       "model_id": "5777f86b03484208a90b4a0be40977f8",
       "version_major": 2,
       "version_minor": 0
      },
      "text/plain": [
       "dataset_1235.parquet:   0%|          | 0.00/3.35M [00:00<?, ?B/s]"
      ]
     },
     "metadata": {},
     "output_type": "display_data"
    },
    {
     "data": {
      "application/vnd.jupyter.widget-view+json": {
       "model_id": "c28f765ae6684d47b7347b8d2e051203",
       "version_major": 2,
       "version_minor": 0
      },
      "text/plain": [
       "dataset_1236.parquet:   0%|          | 0.00/3.36M [00:00<?, ?B/s]"
      ]
     },
     "metadata": {},
     "output_type": "display_data"
    },
    {
     "data": {
      "application/vnd.jupyter.widget-view+json": {
       "model_id": "72ba538131a747dbb309001f94c34976",
       "version_major": 2,
       "version_minor": 0
      },
      "text/plain": [
       "dataset_1237.parquet:   0%|          | 0.00/3.42M [00:00<?, ?B/s]"
      ]
     },
     "metadata": {},
     "output_type": "display_data"
    },
    {
     "data": {
      "application/vnd.jupyter.widget-view+json": {
       "model_id": "e27be823100841fc8cdbf80497ee17b2",
       "version_major": 2,
       "version_minor": 0
      },
      "text/plain": [
       "dataset_1238.parquet:   0%|          | 0.00/3.41M [00:00<?, ?B/s]"
      ]
     },
     "metadata": {},
     "output_type": "display_data"
    },
    {
     "data": {
      "application/vnd.jupyter.widget-view+json": {
       "model_id": "eb91a8ab307a479d99fb0a99dd026e7d",
       "version_major": 2,
       "version_minor": 0
      },
      "text/plain": [
       "dataset_1239.parquet:   0%|          | 0.00/3.55M [00:00<?, ?B/s]"
      ]
     },
     "metadata": {},
     "output_type": "display_data"
    },
    {
     "data": {
      "application/vnd.jupyter.widget-view+json": {
       "model_id": "ead9b045982246d99a9aac5de6d8fc45",
       "version_major": 2,
       "version_minor": 0
      },
      "text/plain": [
       "dataset_124.parquet:   0%|          | 0.00/3.11M [00:00<?, ?B/s]"
      ]
     },
     "metadata": {},
     "output_type": "display_data"
    },
    {
     "data": {
      "application/vnd.jupyter.widget-view+json": {
       "model_id": "2449b97ce17949709b57500a5a647f65",
       "version_major": 2,
       "version_minor": 0
      },
      "text/plain": [
       "dataset_1240.parquet:   0%|          | 0.00/3.42M [00:00<?, ?B/s]"
      ]
     },
     "metadata": {},
     "output_type": "display_data"
    },
    {
     "data": {
      "application/vnd.jupyter.widget-view+json": {
       "model_id": "93a2de76d4ae49baa7a0b74037b70842",
       "version_major": 2,
       "version_minor": 0
      },
      "text/plain": [
       "dataset_1241.parquet:   0%|          | 0.00/3.50M [00:00<?, ?B/s]"
      ]
     },
     "metadata": {},
     "output_type": "display_data"
    },
    {
     "data": {
      "application/vnd.jupyter.widget-view+json": {
       "model_id": "d2240d1fc3214dfc8ac2261874a118c8",
       "version_major": 2,
       "version_minor": 0
      },
      "text/plain": [
       "dataset_1242.parquet:   0%|          | 0.00/3.48M [00:00<?, ?B/s]"
      ]
     },
     "metadata": {},
     "output_type": "display_data"
    },
    {
     "data": {
      "application/vnd.jupyter.widget-view+json": {
       "model_id": "e3e9dac5f65b4de1affdba22cf94bb6a",
       "version_major": 2,
       "version_minor": 0
      },
      "text/plain": [
       "dataset_1243.parquet:   0%|          | 0.00/3.43M [00:00<?, ?B/s]"
      ]
     },
     "metadata": {},
     "output_type": "display_data"
    },
    {
     "data": {
      "application/vnd.jupyter.widget-view+json": {
       "model_id": "3f57fac9149e44489fbdd6959d633f3b",
       "version_major": 2,
       "version_minor": 0
      },
      "text/plain": [
       "dataset_1244.parquet:   0%|          | 0.00/3.46M [00:00<?, ?B/s]"
      ]
     },
     "metadata": {},
     "output_type": "display_data"
    },
    {
     "data": {
      "application/vnd.jupyter.widget-view+json": {
       "model_id": "3c0b05df2f684d2aad6503413e889c9d",
       "version_major": 2,
       "version_minor": 0
      },
      "text/plain": [
       "dataset_1245.parquet:   0%|          | 0.00/3.53M [00:00<?, ?B/s]"
      ]
     },
     "metadata": {},
     "output_type": "display_data"
    },
    {
     "data": {
      "application/vnd.jupyter.widget-view+json": {
       "model_id": "8a9564af13fa4ea0a8dd507be68de41e",
       "version_major": 2,
       "version_minor": 0
      },
      "text/plain": [
       "dataset_1246.parquet:   0%|          | 0.00/3.41M [00:00<?, ?B/s]"
      ]
     },
     "metadata": {},
     "output_type": "display_data"
    },
    {
     "data": {
      "application/vnd.jupyter.widget-view+json": {
       "model_id": "58e5d46bdf344095900b1bdbfa9ec16b",
       "version_major": 2,
       "version_minor": 0
      },
      "text/plain": [
       "dataset_1247.parquet:   0%|          | 0.00/3.49M [00:00<?, ?B/s]"
      ]
     },
     "metadata": {},
     "output_type": "display_data"
    },
    {
     "data": {
      "application/vnd.jupyter.widget-view+json": {
       "model_id": "886844a91ce841fcaa116ef62c78d353",
       "version_major": 2,
       "version_minor": 0
      },
      "text/plain": [
       "dataset_1248.parquet:   0%|          | 0.00/3.52M [00:00<?, ?B/s]"
      ]
     },
     "metadata": {},
     "output_type": "display_data"
    },
    {
     "data": {
      "application/vnd.jupyter.widget-view+json": {
       "model_id": "923a28baa18e466293c032626a86a95b",
       "version_major": 2,
       "version_minor": 0
      },
      "text/plain": [
       "dataset_1249.parquet:   0%|          | 0.00/3.57M [00:00<?, ?B/s]"
      ]
     },
     "metadata": {},
     "output_type": "display_data"
    },
    {
     "data": {
      "application/vnd.jupyter.widget-view+json": {
       "model_id": "a353a9c6c26c40318e7fbef49956dd4b",
       "version_major": 2,
       "version_minor": 0
      },
      "text/plain": [
       "dataset_125.parquet:   0%|          | 0.00/3.13M [00:00<?, ?B/s]"
      ]
     },
     "metadata": {},
     "output_type": "display_data"
    },
    {
     "data": {
      "application/vnd.jupyter.widget-view+json": {
       "model_id": "df1550bd95af40e2b5220212c4648023",
       "version_major": 2,
       "version_minor": 0
      },
      "text/plain": [
       "dataset_1250.parquet:   0%|          | 0.00/3.36M [00:00<?, ?B/s]"
      ]
     },
     "metadata": {},
     "output_type": "display_data"
    },
    {
     "data": {
      "application/vnd.jupyter.widget-view+json": {
       "model_id": "b5076e8ca7c44a0ea878333cf240ca66",
       "version_major": 2,
       "version_minor": 0
      },
      "text/plain": [
       "dataset_1252.parquet:   0%|          | 0.00/3.44M [00:00<?, ?B/s]"
      ]
     },
     "metadata": {},
     "output_type": "display_data"
    },
    {
     "data": {
      "application/vnd.jupyter.widget-view+json": {
       "model_id": "638529116e6d46fc98a3a21bb44cd020",
       "version_major": 2,
       "version_minor": 0
      },
      "text/plain": [
       "dataset_1251.parquet:   0%|          | 0.00/3.41M [00:00<?, ?B/s]"
      ]
     },
     "metadata": {},
     "output_type": "display_data"
    },
    {
     "data": {
      "application/vnd.jupyter.widget-view+json": {
       "model_id": "69c47e4205f348f79aabf99fe2f2f6d8",
       "version_major": 2,
       "version_minor": 0
      },
      "text/plain": [
       "dataset_1253.parquet:   0%|          | 0.00/3.38M [00:00<?, ?B/s]"
      ]
     },
     "metadata": {},
     "output_type": "display_data"
    },
    {
     "data": {
      "application/vnd.jupyter.widget-view+json": {
       "model_id": "8fac5645fd334d3db9cefee3900f87d0",
       "version_major": 2,
       "version_minor": 0
      },
      "text/plain": [
       "dataset_1254.parquet:   0%|          | 0.00/3.46M [00:00<?, ?B/s]"
      ]
     },
     "metadata": {},
     "output_type": "display_data"
    },
    {
     "data": {
      "application/vnd.jupyter.widget-view+json": {
       "model_id": "a0ed87d81c7748dd90ff6d0335bc7a3d",
       "version_major": 2,
       "version_minor": 0
      },
      "text/plain": [
       "dataset_1255.parquet:   0%|          | 0.00/3.45M [00:00<?, ?B/s]"
      ]
     },
     "metadata": {},
     "output_type": "display_data"
    },
    {
     "data": {
      "application/vnd.jupyter.widget-view+json": {
       "model_id": "b97f5d34ed524cb38e6bbffc3772da6a",
       "version_major": 2,
       "version_minor": 0
      },
      "text/plain": [
       "dataset_1256.parquet:   0%|          | 0.00/3.32M [00:00<?, ?B/s]"
      ]
     },
     "metadata": {},
     "output_type": "display_data"
    },
    {
     "data": {
      "application/vnd.jupyter.widget-view+json": {
       "model_id": "c13155dc60af4c28b51e7ee3927dfecd",
       "version_major": 2,
       "version_minor": 0
      },
      "text/plain": [
       "dataset_1257.parquet:   0%|          | 0.00/3.18M [00:00<?, ?B/s]"
      ]
     },
     "metadata": {},
     "output_type": "display_data"
    },
    {
     "data": {
      "application/vnd.jupyter.widget-view+json": {
       "model_id": "1acb0b6296264151a56328d86cf8480f",
       "version_major": 2,
       "version_minor": 0
      },
      "text/plain": [
       "dataset_1258.parquet:   0%|          | 0.00/3.19M [00:00<?, ?B/s]"
      ]
     },
     "metadata": {},
     "output_type": "display_data"
    },
    {
     "data": {
      "application/vnd.jupyter.widget-view+json": {
       "model_id": "d6776105950d4709a0717bf0c8f43291",
       "version_major": 2,
       "version_minor": 0
      },
      "text/plain": [
       "dataset_1259.parquet:   0%|          | 0.00/3.35M [00:00<?, ?B/s]"
      ]
     },
     "metadata": {},
     "output_type": "display_data"
    },
    {
     "data": {
      "application/vnd.jupyter.widget-view+json": {
       "model_id": "24d66bfc3a18428481580dd0c860620d",
       "version_major": 2,
       "version_minor": 0
      },
      "text/plain": [
       "dataset_126.parquet:   0%|          | 0.00/3.04M [00:00<?, ?B/s]"
      ]
     },
     "metadata": {},
     "output_type": "display_data"
    },
    {
     "data": {
      "application/vnd.jupyter.widget-view+json": {
       "model_id": "5c3efb12e54a40a5bc9305e4d3a891c5",
       "version_major": 2,
       "version_minor": 0
      },
      "text/plain": [
       "dataset_1260.parquet:   0%|          | 0.00/3.34M [00:00<?, ?B/s]"
      ]
     },
     "metadata": {},
     "output_type": "display_data"
    },
    {
     "data": {
      "application/vnd.jupyter.widget-view+json": {
       "model_id": "af34f9596a214efa9bf38b76a48f8959",
       "version_major": 2,
       "version_minor": 0
      },
      "text/plain": [
       "dataset_1261.parquet:   0%|          | 0.00/3.35M [00:00<?, ?B/s]"
      ]
     },
     "metadata": {},
     "output_type": "display_data"
    },
    {
     "data": {
      "application/vnd.jupyter.widget-view+json": {
       "model_id": "5bc375291db743a09876eceb33b2b10c",
       "version_major": 2,
       "version_minor": 0
      },
      "text/plain": [
       "dataset_1262.parquet:   0%|          | 0.00/3.35M [00:00<?, ?B/s]"
      ]
     },
     "metadata": {},
     "output_type": "display_data"
    },
    {
     "data": {
      "application/vnd.jupyter.widget-view+json": {
       "model_id": "197c79352db94c198bc6a44d45acbae2",
       "version_major": 2,
       "version_minor": 0
      },
      "text/plain": [
       "dataset_1263.parquet:   0%|          | 0.00/3.46M [00:00<?, ?B/s]"
      ]
     },
     "metadata": {},
     "output_type": "display_data"
    },
    {
     "data": {
      "application/vnd.jupyter.widget-view+json": {
       "model_id": "6853d712cb814f558948149dbb821c8e",
       "version_major": 2,
       "version_minor": 0
      },
      "text/plain": [
       "dataset_1264.parquet:   0%|          | 0.00/3.36M [00:00<?, ?B/s]"
      ]
     },
     "metadata": {},
     "output_type": "display_data"
    },
    {
     "data": {
      "application/vnd.jupyter.widget-view+json": {
       "model_id": "e80b60a4ffae4f44a79460cb1afcdf32",
       "version_major": 2,
       "version_minor": 0
      },
      "text/plain": [
       "dataset_1265.parquet:   0%|          | 0.00/3.37M [00:00<?, ?B/s]"
      ]
     },
     "metadata": {},
     "output_type": "display_data"
    },
    {
     "data": {
      "application/vnd.jupyter.widget-view+json": {
       "model_id": "92030a58fead4b74a2710031f86f2f77",
       "version_major": 2,
       "version_minor": 0
      },
      "text/plain": [
       "dataset_1266.parquet:   0%|          | 0.00/1.98M [00:00<?, ?B/s]"
      ]
     },
     "metadata": {},
     "output_type": "display_data"
    },
    {
     "data": {
      "application/vnd.jupyter.widget-view+json": {
       "model_id": "d44af39d94b54a88bbfd87a64182bc82",
       "version_major": 2,
       "version_minor": 0
      },
      "text/plain": [
       "dataset_127.parquet:   0%|          | 0.00/3.20M [00:00<?, ?B/s]"
      ]
     },
     "metadata": {},
     "output_type": "display_data"
    },
    {
     "data": {
      "application/vnd.jupyter.widget-view+json": {
       "model_id": "81bf34869b7a4045a56ce9748fb5bb10",
       "version_major": 2,
       "version_minor": 0
      },
      "text/plain": [
       "dataset_128.parquet:   0%|          | 0.00/3.29M [00:00<?, ?B/s]"
      ]
     },
     "metadata": {},
     "output_type": "display_data"
    },
    {
     "data": {
      "application/vnd.jupyter.widget-view+json": {
       "model_id": "bb93afba4efd46ab9630b478afa011a2",
       "version_major": 2,
       "version_minor": 0
      },
      "text/plain": [
       "dataset_129.parquet:   0%|          | 0.00/3.23M [00:00<?, ?B/s]"
      ]
     },
     "metadata": {},
     "output_type": "display_data"
    },
    {
     "data": {
      "application/vnd.jupyter.widget-view+json": {
       "model_id": "1ca090a8fa034a738b300e319a14392b",
       "version_major": 2,
       "version_minor": 0
      },
      "text/plain": [
       "dataset_130.parquet:   0%|          | 0.00/3.22M [00:00<?, ?B/s]"
      ]
     },
     "metadata": {},
     "output_type": "display_data"
    },
    {
     "data": {
      "application/vnd.jupyter.widget-view+json": {
       "model_id": "c6e88242434d4cd1ac5a7148a16da2d7",
       "version_major": 2,
       "version_minor": 0
      },
      "text/plain": [
       "dataset_131.parquet:   0%|          | 0.00/3.22M [00:00<?, ?B/s]"
      ]
     },
     "metadata": {},
     "output_type": "display_data"
    },
    {
     "data": {
      "application/vnd.jupyter.widget-view+json": {
       "model_id": "5a0a0554bba04bbf94403dc78abf30fa",
       "version_major": 2,
       "version_minor": 0
      },
      "text/plain": [
       "dataset_132.parquet:   0%|          | 0.00/3.27M [00:00<?, ?B/s]"
      ]
     },
     "metadata": {},
     "output_type": "display_data"
    },
    {
     "data": {
      "application/vnd.jupyter.widget-view+json": {
       "model_id": "d0aa0b0066f848adaa0e11d498cc9c81",
       "version_major": 2,
       "version_minor": 0
      },
      "text/plain": [
       "dataset_133.parquet:   0%|          | 0.00/3.26M [00:00<?, ?B/s]"
      ]
     },
     "metadata": {},
     "output_type": "display_data"
    },
    {
     "data": {
      "application/vnd.jupyter.widget-view+json": {
       "model_id": "98467ec58f8a440bbcc6c4d76ff9bfce",
       "version_major": 2,
       "version_minor": 0
      },
      "text/plain": [
       "dataset_134.parquet:   0%|          | 0.00/3.09M [00:00<?, ?B/s]"
      ]
     },
     "metadata": {},
     "output_type": "display_data"
    },
    {
     "data": {
      "application/vnd.jupyter.widget-view+json": {
       "model_id": "577845f8d93c4c9e8e2f78e60dd1a64f",
       "version_major": 2,
       "version_minor": 0
      },
      "text/plain": [
       "dataset_135.parquet:   0%|          | 0.00/3.17M [00:00<?, ?B/s]"
      ]
     },
     "metadata": {},
     "output_type": "display_data"
    },
    {
     "data": {
      "application/vnd.jupyter.widget-view+json": {
       "model_id": "c2e09011fa94402db34d56c35981cc92",
       "version_major": 2,
       "version_minor": 0
      },
      "text/plain": [
       "dataset_136.parquet:   0%|          | 0.00/3.32M [00:00<?, ?B/s]"
      ]
     },
     "metadata": {},
     "output_type": "display_data"
    },
    {
     "data": {
      "application/vnd.jupyter.widget-view+json": {
       "model_id": "b7a4dce87b584df3a231a740906135f3",
       "version_major": 2,
       "version_minor": 0
      },
      "text/plain": [
       "dataset_137.parquet:   0%|          | 0.00/3.23M [00:00<?, ?B/s]"
      ]
     },
     "metadata": {},
     "output_type": "display_data"
    },
    {
     "data": {
      "application/vnd.jupyter.widget-view+json": {
       "model_id": "0cb886292ecc49029d9180cdfaed817a",
       "version_major": 2,
       "version_minor": 0
      },
      "text/plain": [
       "dataset_138.parquet:   0%|          | 0.00/3.12M [00:00<?, ?B/s]"
      ]
     },
     "metadata": {},
     "output_type": "display_data"
    },
    {
     "data": {
      "application/vnd.jupyter.widget-view+json": {
       "model_id": "a9b78ed8bea440ab8afbc95824f2ac36",
       "version_major": 2,
       "version_minor": 0
      },
      "text/plain": [
       "dataset_139.parquet:   0%|          | 0.00/3.10M [00:00<?, ?B/s]"
      ]
     },
     "metadata": {},
     "output_type": "display_data"
    },
    {
     "data": {
      "application/vnd.jupyter.widget-view+json": {
       "model_id": "a1c0bed7765d4663890ff8d117b7e79b",
       "version_major": 2,
       "version_minor": 0
      },
      "text/plain": [
       "dataset_140.parquet:   0%|          | 0.00/3.26M [00:00<?, ?B/s]"
      ]
     },
     "metadata": {},
     "output_type": "display_data"
    },
    {
     "data": {
      "application/vnd.jupyter.widget-view+json": {
       "model_id": "c22b645891a942c890f6b9ecb64422d2",
       "version_major": 2,
       "version_minor": 0
      },
      "text/plain": [
       "dataset_141.parquet:   0%|          | 0.00/3.17M [00:00<?, ?B/s]"
      ]
     },
     "metadata": {},
     "output_type": "display_data"
    },
    {
     "data": {
      "application/vnd.jupyter.widget-view+json": {
       "model_id": "12b6c7700f0842348a4f33b7993e8ebc",
       "version_major": 2,
       "version_minor": 0
      },
      "text/plain": [
       "dataset_142.parquet:   0%|          | 0.00/3.25M [00:00<?, ?B/s]"
      ]
     },
     "metadata": {},
     "output_type": "display_data"
    },
    {
     "data": {
      "application/vnd.jupyter.widget-view+json": {
       "model_id": "97f70577fff047b3afdcb5a9b0e8186b",
       "version_major": 2,
       "version_minor": 0
      },
      "text/plain": [
       "dataset_143.parquet:   0%|          | 0.00/3.25M [00:00<?, ?B/s]"
      ]
     },
     "metadata": {},
     "output_type": "display_data"
    },
    {
     "data": {
      "application/vnd.jupyter.widget-view+json": {
       "model_id": "5b195c6ec47043c7b48a6a17ab4443ef",
       "version_major": 2,
       "version_minor": 0
      },
      "text/plain": [
       "dataset_144.parquet:   0%|          | 0.00/3.21M [00:00<?, ?B/s]"
      ]
     },
     "metadata": {},
     "output_type": "display_data"
    },
    {
     "data": {
      "application/vnd.jupyter.widget-view+json": {
       "model_id": "8c2d2c767c7f41d1b8bbf20accb1d193",
       "version_major": 2,
       "version_minor": 0
      },
      "text/plain": [
       "dataset_145.parquet:   0%|          | 0.00/3.13M [00:00<?, ?B/s]"
      ]
     },
     "metadata": {},
     "output_type": "display_data"
    },
    {
     "data": {
      "application/vnd.jupyter.widget-view+json": {
       "model_id": "66695dce72204ea29c79d90c72dbfb30",
       "version_major": 2,
       "version_minor": 0
      },
      "text/plain": [
       "dataset_146.parquet:   0%|          | 0.00/3.24M [00:00<?, ?B/s]"
      ]
     },
     "metadata": {},
     "output_type": "display_data"
    },
    {
     "data": {
      "application/vnd.jupyter.widget-view+json": {
       "model_id": "5ba9701f43e748d88cec56062646d9ea",
       "version_major": 2,
       "version_minor": 0
      },
      "text/plain": [
       "dataset_147.parquet:   0%|          | 0.00/3.23M [00:00<?, ?B/s]"
      ]
     },
     "metadata": {},
     "output_type": "display_data"
    },
    {
     "data": {
      "application/vnd.jupyter.widget-view+json": {
       "model_id": "44fe52d700df4ff6833cdb1fbaeb9779",
       "version_major": 2,
       "version_minor": 0
      },
      "text/plain": [
       "dataset_148.parquet:   0%|          | 0.00/3.18M [00:00<?, ?B/s]"
      ]
     },
     "metadata": {},
     "output_type": "display_data"
    },
    {
     "data": {
      "application/vnd.jupyter.widget-view+json": {
       "model_id": "6398989aacd64bebbd553c7ac4763caf",
       "version_major": 2,
       "version_minor": 0
      },
      "text/plain": [
       "dataset_149.parquet:   0%|          | 0.00/3.22M [00:00<?, ?B/s]"
      ]
     },
     "metadata": {},
     "output_type": "display_data"
    },
    {
     "data": {
      "application/vnd.jupyter.widget-view+json": {
       "model_id": "18ad9a18a8ea41a0bceeddde710454c6",
       "version_major": 2,
       "version_minor": 0
      },
      "text/plain": [
       "dataset_150.parquet:   0%|          | 0.00/3.19M [00:00<?, ?B/s]"
      ]
     },
     "metadata": {},
     "output_type": "display_data"
    },
    {
     "data": {
      "application/vnd.jupyter.widget-view+json": {
       "model_id": "4c51542df8ad44e4a7b29be29f5cf389",
       "version_major": 2,
       "version_minor": 0
      },
      "text/plain": [
       "dataset_151.parquet:   0%|          | 0.00/3.14M [00:00<?, ?B/s]"
      ]
     },
     "metadata": {},
     "output_type": "display_data"
    },
    {
     "data": {
      "application/vnd.jupyter.widget-view+json": {
       "model_id": "23600ed1ac9b47a9813ec0c33e60b2f3",
       "version_major": 2,
       "version_minor": 0
      },
      "text/plain": [
       "dataset_152.parquet:   0%|          | 0.00/3.10M [00:00<?, ?B/s]"
      ]
     },
     "metadata": {},
     "output_type": "display_data"
    },
    {
     "data": {
      "application/vnd.jupyter.widget-view+json": {
       "model_id": "4ff63f128bfe4dd8864c60f587b47a2d",
       "version_major": 2,
       "version_minor": 0
      },
      "text/plain": [
       "dataset_154.parquet:   0%|          | 0.00/3.27M [00:00<?, ?B/s]"
      ]
     },
     "metadata": {},
     "output_type": "display_data"
    },
    {
     "data": {
      "application/vnd.jupyter.widget-view+json": {
       "model_id": "372ab3975d82474698461fa416ba1fbc",
       "version_major": 2,
       "version_minor": 0
      },
      "text/plain": [
       "dataset_153.parquet:   0%|          | 0.00/3.21M [00:00<?, ?B/s]"
      ]
     },
     "metadata": {},
     "output_type": "display_data"
    },
    {
     "data": {
      "application/vnd.jupyter.widget-view+json": {
       "model_id": "dd3b81b9964b4434a466eedaeaa1a0e5",
       "version_major": 2,
       "version_minor": 0
      },
      "text/plain": [
       "dataset_155.parquet:   0%|          | 0.00/3.11M [00:00<?, ?B/s]"
      ]
     },
     "metadata": {},
     "output_type": "display_data"
    },
    {
     "data": {
      "application/vnd.jupyter.widget-view+json": {
       "model_id": "7bdca4ee8e624dea9b8f4aefef57a93c",
       "version_major": 2,
       "version_minor": 0
      },
      "text/plain": [
       "dataset_156.parquet:   0%|          | 0.00/3.12M [00:00<?, ?B/s]"
      ]
     },
     "metadata": {},
     "output_type": "display_data"
    },
    {
     "data": {
      "application/vnd.jupyter.widget-view+json": {
       "model_id": "59cdf1eac48a4839bd2c08cb3b9a9a55",
       "version_major": 2,
       "version_minor": 0
      },
      "text/plain": [
       "dataset_157.parquet:   0%|          | 0.00/3.19M [00:00<?, ?B/s]"
      ]
     },
     "metadata": {},
     "output_type": "display_data"
    },
    {
     "data": {
      "application/vnd.jupyter.widget-view+json": {
       "model_id": "02271bd8fba74a79b4988b3f0da0cf67",
       "version_major": 2,
       "version_minor": 0
      },
      "text/plain": [
       "dataset_158.parquet:   0%|          | 0.00/3.10M [00:00<?, ?B/s]"
      ]
     },
     "metadata": {},
     "output_type": "display_data"
    },
    {
     "data": {
      "application/vnd.jupyter.widget-view+json": {
       "model_id": "6922b415b25f43f5a1f5c61b68296b7f",
       "version_major": 2,
       "version_minor": 0
      },
      "text/plain": [
       "dataset_159.parquet:   0%|          | 0.00/3.12M [00:00<?, ?B/s]"
      ]
     },
     "metadata": {},
     "output_type": "display_data"
    },
    {
     "data": {
      "application/vnd.jupyter.widget-view+json": {
       "model_id": "95b90b4bcb08488a84d5d31e8dde9dfd",
       "version_major": 2,
       "version_minor": 0
      },
      "text/plain": [
       "dataset_160.parquet:   0%|          | 0.00/3.18M [00:00<?, ?B/s]"
      ]
     },
     "metadata": {},
     "output_type": "display_data"
    },
    {
     "data": {
      "application/vnd.jupyter.widget-view+json": {
       "model_id": "14f101bbcf3c4c02a3986d09af018eb9",
       "version_major": 2,
       "version_minor": 0
      },
      "text/plain": [
       "dataset_161.parquet:   0%|          | 0.00/3.24M [00:00<?, ?B/s]"
      ]
     },
     "metadata": {},
     "output_type": "display_data"
    },
    {
     "data": {
      "application/vnd.jupyter.widget-view+json": {
       "model_id": "ad1912aeea4c4af3b17d775f279ba41f",
       "version_major": 2,
       "version_minor": 0
      },
      "text/plain": [
       "dataset_162.parquet:   0%|          | 0.00/3.15M [00:00<?, ?B/s]"
      ]
     },
     "metadata": {},
     "output_type": "display_data"
    },
    {
     "data": {
      "application/vnd.jupyter.widget-view+json": {
       "model_id": "03d6805aed754bd791eb33cbce2e00e3",
       "version_major": 2,
       "version_minor": 0
      },
      "text/plain": [
       "dataset_163.parquet:   0%|          | 0.00/3.10M [00:00<?, ?B/s]"
      ]
     },
     "metadata": {},
     "output_type": "display_data"
    },
    {
     "data": {
      "application/vnd.jupyter.widget-view+json": {
       "model_id": "5418ccfacc7a4d999175562285bfc267",
       "version_major": 2,
       "version_minor": 0
      },
      "text/plain": [
       "dataset_164.parquet:   0%|          | 0.00/3.22M [00:00<?, ?B/s]"
      ]
     },
     "metadata": {},
     "output_type": "display_data"
    },
    {
     "data": {
      "application/vnd.jupyter.widget-view+json": {
       "model_id": "381c28d9f7064a528bebfb2737bc6036",
       "version_major": 2,
       "version_minor": 0
      },
      "text/plain": [
       "dataset_165.parquet:   0%|          | 0.00/3.12M [00:00<?, ?B/s]"
      ]
     },
     "metadata": {},
     "output_type": "display_data"
    },
    {
     "data": {
      "application/vnd.jupyter.widget-view+json": {
       "model_id": "587b6fb6519a47c58b070631a17119fe",
       "version_major": 2,
       "version_minor": 0
      },
      "text/plain": [
       "dataset_166.parquet:   0%|          | 0.00/3.12M [00:00<?, ?B/s]"
      ]
     },
     "metadata": {},
     "output_type": "display_data"
    },
    {
     "data": {
      "application/vnd.jupyter.widget-view+json": {
       "model_id": "5518ca61bf9d4d8dac7ac8f9bbabda94",
       "version_major": 2,
       "version_minor": 0
      },
      "text/plain": [
       "dataset_167.parquet:   0%|          | 0.00/3.26M [00:00<?, ?B/s]"
      ]
     },
     "metadata": {},
     "output_type": "display_data"
    },
    {
     "data": {
      "application/vnd.jupyter.widget-view+json": {
       "model_id": "37ba616403b54574b132bfd4a80f8799",
       "version_major": 2,
       "version_minor": 0
      },
      "text/plain": [
       "dataset_168.parquet:   0%|          | 0.00/3.17M [00:00<?, ?B/s]"
      ]
     },
     "metadata": {},
     "output_type": "display_data"
    },
    {
     "data": {
      "application/vnd.jupyter.widget-view+json": {
       "model_id": "25b8bed3da2b47528ea8a63698ab8ef1",
       "version_major": 2,
       "version_minor": 0
      },
      "text/plain": [
       "dataset_169.parquet:   0%|          | 0.00/3.08M [00:00<?, ?B/s]"
      ]
     },
     "metadata": {},
     "output_type": "display_data"
    },
    {
     "data": {
      "application/vnd.jupyter.widget-view+json": {
       "model_id": "6690c78017814d6d9af071a46157ea87",
       "version_major": 2,
       "version_minor": 0
      },
      "text/plain": [
       "dataset_170.parquet:   0%|          | 0.00/3.09M [00:00<?, ?B/s]"
      ]
     },
     "metadata": {},
     "output_type": "display_data"
    },
    {
     "data": {
      "application/vnd.jupyter.widget-view+json": {
       "model_id": "cc0b468329d644729a53790ac30c6e82",
       "version_major": 2,
       "version_minor": 0
      },
      "text/plain": [
       "dataset_172.parquet:   0%|          | 0.00/3.27M [00:00<?, ?B/s]"
      ]
     },
     "metadata": {},
     "output_type": "display_data"
    },
    {
     "data": {
      "application/vnd.jupyter.widget-view+json": {
       "model_id": "abd31ee937174a7dba6dad707a62d645",
       "version_major": 2,
       "version_minor": 0
      },
      "text/plain": [
       "dataset_171.parquet:   0%|          | 0.00/3.23M [00:00<?, ?B/s]"
      ]
     },
     "metadata": {},
     "output_type": "display_data"
    },
    {
     "data": {
      "application/vnd.jupyter.widget-view+json": {
       "model_id": "cb1ff2a3ca89458d82df96f58520079d",
       "version_major": 2,
       "version_minor": 0
      },
      "text/plain": [
       "dataset_173.parquet:   0%|          | 0.00/3.12M [00:00<?, ?B/s]"
      ]
     },
     "metadata": {},
     "output_type": "display_data"
    },
    {
     "data": {
      "application/vnd.jupyter.widget-view+json": {
       "model_id": "56c033c59c764ed4a245bfa7bd3b5768",
       "version_major": 2,
       "version_minor": 0
      },
      "text/plain": [
       "dataset_174.parquet:   0%|          | 0.00/3.07M [00:00<?, ?B/s]"
      ]
     },
     "metadata": {},
     "output_type": "display_data"
    },
    {
     "data": {
      "application/vnd.jupyter.widget-view+json": {
       "model_id": "9d601e2af5254861b74bbcddbbb6770b",
       "version_major": 2,
       "version_minor": 0
      },
      "text/plain": [
       "dataset_175.parquet:   0%|          | 0.00/3.19M [00:00<?, ?B/s]"
      ]
     },
     "metadata": {},
     "output_type": "display_data"
    },
    {
     "data": {
      "application/vnd.jupyter.widget-view+json": {
       "model_id": "011f74d2433243b9b5817319a7be075a",
       "version_major": 2,
       "version_minor": 0
      },
      "text/plain": [
       "dataset_176.parquet:   0%|          | 0.00/3.07M [00:00<?, ?B/s]"
      ]
     },
     "metadata": {},
     "output_type": "display_data"
    },
    {
     "data": {
      "application/vnd.jupyter.widget-view+json": {
       "model_id": "18f76609978e4c44a84a4e7307787fb2",
       "version_major": 2,
       "version_minor": 0
      },
      "text/plain": [
       "dataset_177.parquet:   0%|          | 0.00/3.10M [00:00<?, ?B/s]"
      ]
     },
     "metadata": {},
     "output_type": "display_data"
    },
    {
     "data": {
      "application/vnd.jupyter.widget-view+json": {
       "model_id": "db225cb3df7c46599a4af989b7a20f25",
       "version_major": 2,
       "version_minor": 0
      },
      "text/plain": [
       "dataset_178.parquet:   0%|          | 0.00/3.17M [00:00<?, ?B/s]"
      ]
     },
     "metadata": {},
     "output_type": "display_data"
    },
    {
     "data": {
      "application/vnd.jupyter.widget-view+json": {
       "model_id": "1866cc72f01d4364bc0d3bee58d2fd2e",
       "version_major": 2,
       "version_minor": 0
      },
      "text/plain": [
       "dataset_179.parquet:   0%|          | 0.00/3.18M [00:00<?, ?B/s]"
      ]
     },
     "metadata": {},
     "output_type": "display_data"
    },
    {
     "data": {
      "application/vnd.jupyter.widget-view+json": {
       "model_id": "4ac5f97d22ed443bb4a4a29b02453b28",
       "version_major": 2,
       "version_minor": 0
      },
      "text/plain": [
       "dataset_180.parquet:   0%|          | 0.00/3.13M [00:00<?, ?B/s]"
      ]
     },
     "metadata": {},
     "output_type": "display_data"
    },
    {
     "data": {
      "application/vnd.jupyter.widget-view+json": {
       "model_id": "1014c0c71078407a98aab77da1ea2f45",
       "version_major": 2,
       "version_minor": 0
      },
      "text/plain": [
       "dataset_181.parquet:   0%|          | 0.00/3.13M [00:00<?, ?B/s]"
      ]
     },
     "metadata": {},
     "output_type": "display_data"
    },
    {
     "data": {
      "application/vnd.jupyter.widget-view+json": {
       "model_id": "fbfd429244734a96a44b49014d76ef04",
       "version_major": 2,
       "version_minor": 0
      },
      "text/plain": [
       "dataset_182.parquet:   0%|          | 0.00/3.35M [00:00<?, ?B/s]"
      ]
     },
     "metadata": {},
     "output_type": "display_data"
    },
    {
     "data": {
      "application/vnd.jupyter.widget-view+json": {
       "model_id": "5eb9cbf6497246329898af8d2e4e84f5",
       "version_major": 2,
       "version_minor": 0
      },
      "text/plain": [
       "dataset_183.parquet:   0%|          | 0.00/3.23M [00:00<?, ?B/s]"
      ]
     },
     "metadata": {},
     "output_type": "display_data"
    },
    {
     "data": {
      "application/vnd.jupyter.widget-view+json": {
       "model_id": "2a09f0b2b4074444b14cb5bcb56ef0ac",
       "version_major": 2,
       "version_minor": 0
      },
      "text/plain": [
       "dataset_184.parquet:   0%|          | 0.00/3.25M [00:00<?, ?B/s]"
      ]
     },
     "metadata": {},
     "output_type": "display_data"
    },
    {
     "data": {
      "application/vnd.jupyter.widget-view+json": {
       "model_id": "bc1383daf7b9497aa94502c4c6477a25",
       "version_major": 2,
       "version_minor": 0
      },
      "text/plain": [
       "dataset_185.parquet:   0%|          | 0.00/3.25M [00:00<?, ?B/s]"
      ]
     },
     "metadata": {},
     "output_type": "display_data"
    },
    {
     "data": {
      "application/vnd.jupyter.widget-view+json": {
       "model_id": "1a611ab07ee54427ad855c703879752e",
       "version_major": 2,
       "version_minor": 0
      },
      "text/plain": [
       "dataset_186.parquet:   0%|          | 0.00/3.25M [00:00<?, ?B/s]"
      ]
     },
     "metadata": {},
     "output_type": "display_data"
    },
    {
     "data": {
      "application/vnd.jupyter.widget-view+json": {
       "model_id": "e8941a8218304fc1a3f1f3938461cdd0",
       "version_major": 2,
       "version_minor": 0
      },
      "text/plain": [
       "dataset_187.parquet:   0%|          | 0.00/3.32M [00:00<?, ?B/s]"
      ]
     },
     "metadata": {},
     "output_type": "display_data"
    },
    {
     "data": {
      "application/vnd.jupyter.widget-view+json": {
       "model_id": "045d3844cb584777a1d95d7076b4fe95",
       "version_major": 2,
       "version_minor": 0
      },
      "text/plain": [
       "dataset_188.parquet:   0%|          | 0.00/3.33M [00:00<?, ?B/s]"
      ]
     },
     "metadata": {},
     "output_type": "display_data"
    },
    {
     "data": {
      "application/vnd.jupyter.widget-view+json": {
       "model_id": "6c5032752e1449c29138f5fca916a9f6",
       "version_major": 2,
       "version_minor": 0
      },
      "text/plain": [
       "dataset_189.parquet:   0%|          | 0.00/3.41M [00:00<?, ?B/s]"
      ]
     },
     "metadata": {},
     "output_type": "display_data"
    },
    {
     "data": {
      "application/vnd.jupyter.widget-view+json": {
       "model_id": "4f4d01850e4141ab9f7e218cef881ac1",
       "version_major": 2,
       "version_minor": 0
      },
      "text/plain": [
       "dataset_190.parquet:   0%|          | 0.00/3.49M [00:00<?, ?B/s]"
      ]
     },
     "metadata": {},
     "output_type": "display_data"
    },
    {
     "data": {
      "application/vnd.jupyter.widget-view+json": {
       "model_id": "81adba9008c5431eab58f6a392b3647c",
       "version_major": 2,
       "version_minor": 0
      },
      "text/plain": [
       "dataset_191.parquet:   0%|          | 0.00/3.35M [00:00<?, ?B/s]"
      ]
     },
     "metadata": {},
     "output_type": "display_data"
    },
    {
     "data": {
      "application/vnd.jupyter.widget-view+json": {
       "model_id": "bd64f4b41d4b4bbca68dbdce57c77411",
       "version_major": 2,
       "version_minor": 0
      },
      "text/plain": [
       "dataset_192.parquet:   0%|          | 0.00/3.43M [00:00<?, ?B/s]"
      ]
     },
     "metadata": {},
     "output_type": "display_data"
    },
    {
     "data": {
      "application/vnd.jupyter.widget-view+json": {
       "model_id": "e4ed429c6d234a8cbc7830150a4a793b",
       "version_major": 2,
       "version_minor": 0
      },
      "text/plain": [
       "dataset_193.parquet:   0%|          | 0.00/3.47M [00:00<?, ?B/s]"
      ]
     },
     "metadata": {},
     "output_type": "display_data"
    },
    {
     "data": {
      "application/vnd.jupyter.widget-view+json": {
       "model_id": "acf0550e434f477eb7e3e02220775c70",
       "version_major": 2,
       "version_minor": 0
      },
      "text/plain": [
       "dataset_194.parquet:   0%|          | 0.00/3.31M [00:00<?, ?B/s]"
      ]
     },
     "metadata": {},
     "output_type": "display_data"
    },
    {
     "data": {
      "application/vnd.jupyter.widget-view+json": {
       "model_id": "18a417684f114addb82af04d27f99755",
       "version_major": 2,
       "version_minor": 0
      },
      "text/plain": [
       "dataset_195.parquet:   0%|          | 0.00/3.33M [00:00<?, ?B/s]"
      ]
     },
     "metadata": {},
     "output_type": "display_data"
    },
    {
     "data": {
      "application/vnd.jupyter.widget-view+json": {
       "model_id": "7cc020b1244440a988faf8b640c09f91",
       "version_major": 2,
       "version_minor": 0
      },
      "text/plain": [
       "dataset_196.parquet:   0%|          | 0.00/3.53M [00:00<?, ?B/s]"
      ]
     },
     "metadata": {},
     "output_type": "display_data"
    },
    {
     "data": {
      "application/vnd.jupyter.widget-view+json": {
       "model_id": "583f332a7cd8401d90a9b8fc0b987756",
       "version_major": 2,
       "version_minor": 0
      },
      "text/plain": [
       "dataset_198.parquet:   0%|          | 0.00/3.29M [00:00<?, ?B/s]"
      ]
     },
     "metadata": {},
     "output_type": "display_data"
    },
    {
     "data": {
      "application/vnd.jupyter.widget-view+json": {
       "model_id": "6f606a9058304b8bbc25a1f8524d0b15",
       "version_major": 2,
       "version_minor": 0
      },
      "text/plain": [
       "dataset_197.parquet:   0%|          | 0.00/3.34M [00:00<?, ?B/s]"
      ]
     },
     "metadata": {},
     "output_type": "display_data"
    },
    {
     "data": {
      "application/vnd.jupyter.widget-view+json": {
       "model_id": "eaeac6a892114f80a1187114a2448561",
       "version_major": 2,
       "version_minor": 0
      },
      "text/plain": [
       "dataset_199.parquet:   0%|          | 0.00/3.36M [00:00<?, ?B/s]"
      ]
     },
     "metadata": {},
     "output_type": "display_data"
    },
    {
     "data": {
      "application/vnd.jupyter.widget-view+json": {
       "model_id": "bcbc4f7de795426081f115959aee91f7",
       "version_major": 2,
       "version_minor": 0
      },
      "text/plain": [
       "dataset_200.parquet:   0%|          | 0.00/3.34M [00:00<?, ?B/s]"
      ]
     },
     "metadata": {},
     "output_type": "display_data"
    },
    {
     "data": {
      "application/vnd.jupyter.widget-view+json": {
       "model_id": "a61be34df2524ca1be76f52220704bd3",
       "version_major": 2,
       "version_minor": 0
      },
      "text/plain": [
       "dataset_201.parquet:   0%|          | 0.00/3.35M [00:00<?, ?B/s]"
      ]
     },
     "metadata": {},
     "output_type": "display_data"
    },
    {
     "data": {
      "application/vnd.jupyter.widget-view+json": {
       "model_id": "a377c8d46f894c19bd8821e960f18343",
       "version_major": 2,
       "version_minor": 0
      },
      "text/plain": [
       "dataset_202.parquet:   0%|          | 0.00/3.47M [00:00<?, ?B/s]"
      ]
     },
     "metadata": {},
     "output_type": "display_data"
    },
    {
     "data": {
      "application/vnd.jupyter.widget-view+json": {
       "model_id": "4e06566be88646fdbd6b3904614de960",
       "version_major": 2,
       "version_minor": 0
      },
      "text/plain": [
       "dataset_203.parquet:   0%|          | 0.00/3.25M [00:00<?, ?B/s]"
      ]
     },
     "metadata": {},
     "output_type": "display_data"
    },
    {
     "data": {
      "application/vnd.jupyter.widget-view+json": {
       "model_id": "9b761dceea52475892e24361e6143a6f",
       "version_major": 2,
       "version_minor": 0
      },
      "text/plain": [
       "dataset_204.parquet:   0%|          | 0.00/3.34M [00:00<?, ?B/s]"
      ]
     },
     "metadata": {},
     "output_type": "display_data"
    },
    {
     "data": {
      "application/vnd.jupyter.widget-view+json": {
       "model_id": "6a717f9470a343c8a523aa15f613ac85",
       "version_major": 2,
       "version_minor": 0
      },
      "text/plain": [
       "dataset_205.parquet:   0%|          | 0.00/3.39M [00:00<?, ?B/s]"
      ]
     },
     "metadata": {},
     "output_type": "display_data"
    },
    {
     "data": {
      "application/vnd.jupyter.widget-view+json": {
       "model_id": "cc62ae12a65b44b7b5adfbe5544511df",
       "version_major": 2,
       "version_minor": 0
      },
      "text/plain": [
       "dataset_206.parquet:   0%|          | 0.00/3.40M [00:00<?, ?B/s]"
      ]
     },
     "metadata": {},
     "output_type": "display_data"
    },
    {
     "data": {
      "application/vnd.jupyter.widget-view+json": {
       "model_id": "7d529239d17c4f2bb558898a6509cb71",
       "version_major": 2,
       "version_minor": 0
      },
      "text/plain": [
       "dataset_207.parquet:   0%|          | 0.00/3.35M [00:00<?, ?B/s]"
      ]
     },
     "metadata": {},
     "output_type": "display_data"
    },
    {
     "data": {
      "application/vnd.jupyter.widget-view+json": {
       "model_id": "32b87f1cf32946ed8194e5c4e8d7ef70",
       "version_major": 2,
       "version_minor": 0
      },
      "text/plain": [
       "dataset_208.parquet:   0%|          | 0.00/3.39M [00:00<?, ?B/s]"
      ]
     },
     "metadata": {},
     "output_type": "display_data"
    },
    {
     "data": {
      "application/vnd.jupyter.widget-view+json": {
       "model_id": "00f597b4034c41db9be2d361fff4303a",
       "version_major": 2,
       "version_minor": 0
      },
      "text/plain": [
       "dataset_209.parquet:   0%|          | 0.00/3.26M [00:00<?, ?B/s]"
      ]
     },
     "metadata": {},
     "output_type": "display_data"
    },
    {
     "data": {
      "application/vnd.jupyter.widget-view+json": {
       "model_id": "abbcc9209a9c4f67887d0ffada85c234",
       "version_major": 2,
       "version_minor": 0
      },
      "text/plain": [
       "dataset_210.parquet:   0%|          | 0.00/3.23M [00:00<?, ?B/s]"
      ]
     },
     "metadata": {},
     "output_type": "display_data"
    },
    {
     "data": {
      "application/vnd.jupyter.widget-view+json": {
       "model_id": "44ee0696c29a405694a55cdc2ef957ad",
       "version_major": 2,
       "version_minor": 0
      },
      "text/plain": [
       "dataset_211.parquet:   0%|          | 0.00/3.46M [00:00<?, ?B/s]"
      ]
     },
     "metadata": {},
     "output_type": "display_data"
    },
    {
     "data": {
      "application/vnd.jupyter.widget-view+json": {
       "model_id": "e270e65144c24fbf9f04c9261ff9b7a2",
       "version_major": 2,
       "version_minor": 0
      },
      "text/plain": [
       "dataset_212.parquet:   0%|          | 0.00/3.33M [00:00<?, ?B/s]"
      ]
     },
     "metadata": {},
     "output_type": "display_data"
    },
    {
     "data": {
      "application/vnd.jupyter.widget-view+json": {
       "model_id": "c5f15a00b5af4e99a12ffa5d4982ce3b",
       "version_major": 2,
       "version_minor": 0
      },
      "text/plain": [
       "dataset_213.parquet:   0%|          | 0.00/3.28M [00:00<?, ?B/s]"
      ]
     },
     "metadata": {},
     "output_type": "display_data"
    },
    {
     "data": {
      "application/vnd.jupyter.widget-view+json": {
       "model_id": "13c82927386d449d9b3c35621145d69b",
       "version_major": 2,
       "version_minor": 0
      },
      "text/plain": [
       "dataset_214.parquet:   0%|          | 0.00/3.32M [00:00<?, ?B/s]"
      ]
     },
     "metadata": {},
     "output_type": "display_data"
    },
    {
     "data": {
      "application/vnd.jupyter.widget-view+json": {
       "model_id": "f591efbf13be48f9ab63b211c98f53f6",
       "version_major": 2,
       "version_minor": 0
      },
      "text/plain": [
       "dataset_215.parquet:   0%|          | 0.00/3.23M [00:00<?, ?B/s]"
      ]
     },
     "metadata": {},
     "output_type": "display_data"
    },
    {
     "data": {
      "application/vnd.jupyter.widget-view+json": {
       "model_id": "67b600b160e5443b850319ab60fcac69",
       "version_major": 2,
       "version_minor": 0
      },
      "text/plain": [
       "dataset_216.parquet:   0%|          | 0.00/3.28M [00:00<?, ?B/s]"
      ]
     },
     "metadata": {},
     "output_type": "display_data"
    },
    {
     "data": {
      "application/vnd.jupyter.widget-view+json": {
       "model_id": "8b2d18135ac34e2cbf45f69c89f2e71c",
       "version_major": 2,
       "version_minor": 0
      },
      "text/plain": [
       "dataset_217.parquet:   0%|          | 0.00/3.40M [00:00<?, ?B/s]"
      ]
     },
     "metadata": {},
     "output_type": "display_data"
    },
    {
     "data": {
      "application/vnd.jupyter.widget-view+json": {
       "model_id": "8d8193ca4541485bb6f80159ddffd8f3",
       "version_major": 2,
       "version_minor": 0
      },
      "text/plain": [
       "dataset_218.parquet:   0%|          | 0.00/3.33M [00:00<?, ?B/s]"
      ]
     },
     "metadata": {},
     "output_type": "display_data"
    },
    {
     "data": {
      "application/vnd.jupyter.widget-view+json": {
       "model_id": "9ea467efd4b44f849ae36a38b98e17a7",
       "version_major": 2,
       "version_minor": 0
      },
      "text/plain": [
       "dataset_219.parquet:   0%|          | 0.00/3.26M [00:00<?, ?B/s]"
      ]
     },
     "metadata": {},
     "output_type": "display_data"
    },
    {
     "data": {
      "application/vnd.jupyter.widget-view+json": {
       "model_id": "2ead235f94c2412aa927a800850d3da5",
       "version_major": 2,
       "version_minor": 0
      },
      "text/plain": [
       "dataset_220.parquet:   0%|          | 0.00/3.34M [00:00<?, ?B/s]"
      ]
     },
     "metadata": {},
     "output_type": "display_data"
    },
    {
     "data": {
      "application/vnd.jupyter.widget-view+json": {
       "model_id": "6ea9eeca092541f3b9fa76d5645bfe5d",
       "version_major": 2,
       "version_minor": 0
      },
      "text/plain": [
       "dataset_221.parquet:   0%|          | 0.00/3.24M [00:00<?, ?B/s]"
      ]
     },
     "metadata": {},
     "output_type": "display_data"
    },
    {
     "data": {
      "application/vnd.jupyter.widget-view+json": {
       "model_id": "ee2365442f464f9a9798920129189381",
       "version_major": 2,
       "version_minor": 0
      },
      "text/plain": [
       "dataset_222.parquet:   0%|          | 0.00/3.30M [00:00<?, ?B/s]"
      ]
     },
     "metadata": {},
     "output_type": "display_data"
    },
    {
     "data": {
      "application/vnd.jupyter.widget-view+json": {
       "model_id": "cbc1c1611b1f466b93674fad31dd55da",
       "version_major": 2,
       "version_minor": 0
      },
      "text/plain": [
       "dataset_223.parquet:   0%|          | 0.00/3.37M [00:00<?, ?B/s]"
      ]
     },
     "metadata": {},
     "output_type": "display_data"
    },
    {
     "data": {
      "application/vnd.jupyter.widget-view+json": {
       "model_id": "a3f5f60e47a5424daf00b1e2d08816c8",
       "version_major": 2,
       "version_minor": 0
      },
      "text/plain": [
       "dataset_224.parquet:   0%|          | 0.00/3.24M [00:00<?, ?B/s]"
      ]
     },
     "metadata": {},
     "output_type": "display_data"
    },
    {
     "data": {
      "application/vnd.jupyter.widget-view+json": {
       "model_id": "b0b3bc14114d40a689a4ea2bacf5ee8c",
       "version_major": 2,
       "version_minor": 0
      },
      "text/plain": [
       "dataset_226.parquet:   0%|          | 0.00/3.37M [00:00<?, ?B/s]"
      ]
     },
     "metadata": {},
     "output_type": "display_data"
    },
    {
     "data": {
      "application/vnd.jupyter.widget-view+json": {
       "model_id": "8bf34f6a0a9949a3b0637d0c04ab3c6a",
       "version_major": 2,
       "version_minor": 0
      },
      "text/plain": [
       "dataset_225.parquet:   0%|          | 0.00/3.26M [00:00<?, ?B/s]"
      ]
     },
     "metadata": {},
     "output_type": "display_data"
    },
    {
     "data": {
      "application/vnd.jupyter.widget-view+json": {
       "model_id": "a40f4747fdea4412acc6fac0596d1a22",
       "version_major": 2,
       "version_minor": 0
      },
      "text/plain": [
       "dataset_228.parquet:   0%|          | 0.00/3.25M [00:00<?, ?B/s]"
      ]
     },
     "metadata": {},
     "output_type": "display_data"
    },
    {
     "data": {
      "application/vnd.jupyter.widget-view+json": {
       "model_id": "cb5566e478204a0cae555c72485f1c0c",
       "version_major": 2,
       "version_minor": 0
      },
      "text/plain": [
       "dataset_229.parquet:   0%|          | 0.00/3.29M [00:00<?, ?B/s]"
      ]
     },
     "metadata": {},
     "output_type": "display_data"
    },
    {
     "data": {
      "application/vnd.jupyter.widget-view+json": {
       "model_id": "faa95f0434a04f6498851b00a13e73a6",
       "version_major": 2,
       "version_minor": 0
      },
      "text/plain": [
       "dataset_227.parquet:   0%|          | 0.00/3.34M [00:00<?, ?B/s]"
      ]
     },
     "metadata": {},
     "output_type": "display_data"
    },
    {
     "data": {
      "application/vnd.jupyter.widget-view+json": {
       "model_id": "96b92bd390ac409d8ef0c7ff1262c622",
       "version_major": 2,
       "version_minor": 0
      },
      "text/plain": [
       "dataset_230.parquet:   0%|          | 0.00/3.21M [00:00<?, ?B/s]"
      ]
     },
     "metadata": {},
     "output_type": "display_data"
    },
    {
     "data": {
      "application/vnd.jupyter.widget-view+json": {
       "model_id": "50c05f71cf064998b61e2580b518c281",
       "version_major": 2,
       "version_minor": 0
      },
      "text/plain": [
       "dataset_231.parquet:   0%|          | 0.00/3.31M [00:00<?, ?B/s]"
      ]
     },
     "metadata": {},
     "output_type": "display_data"
    },
    {
     "data": {
      "application/vnd.jupyter.widget-view+json": {
       "model_id": "ed948bc4c37844b19d7fe9fb92f57d15",
       "version_major": 2,
       "version_minor": 0
      },
      "text/plain": [
       "dataset_232.parquet:   0%|          | 0.00/3.36M [00:00<?, ?B/s]"
      ]
     },
     "metadata": {},
     "output_type": "display_data"
    },
    {
     "data": {
      "application/vnd.jupyter.widget-view+json": {
       "model_id": "4bf7034db7844079901c295b27562913",
       "version_major": 2,
       "version_minor": 0
      },
      "text/plain": [
       "dataset_233.parquet:   0%|          | 0.00/3.30M [00:00<?, ?B/s]"
      ]
     },
     "metadata": {},
     "output_type": "display_data"
    },
    {
     "data": {
      "application/vnd.jupyter.widget-view+json": {
       "model_id": "33d392fa03c7420bbd08e0b13ec8b1c3",
       "version_major": 2,
       "version_minor": 0
      },
      "text/plain": [
       "dataset_234.parquet:   0%|          | 0.00/3.23M [00:00<?, ?B/s]"
      ]
     },
     "metadata": {},
     "output_type": "display_data"
    },
    {
     "data": {
      "application/vnd.jupyter.widget-view+json": {
       "model_id": "8ee924b21402471cb06e2d605b152ad4",
       "version_major": 2,
       "version_minor": 0
      },
      "text/plain": [
       "dataset_235.parquet:   0%|          | 0.00/3.34M [00:00<?, ?B/s]"
      ]
     },
     "metadata": {},
     "output_type": "display_data"
    },
    {
     "data": {
      "application/vnd.jupyter.widget-view+json": {
       "model_id": "829a9271d88e44db990cab69107879ee",
       "version_major": 2,
       "version_minor": 0
      },
      "text/plain": [
       "dataset_236.parquet:   0%|          | 0.00/3.31M [00:00<?, ?B/s]"
      ]
     },
     "metadata": {},
     "output_type": "display_data"
    },
    {
     "data": {
      "application/vnd.jupyter.widget-view+json": {
       "model_id": "056e3d4f1da64537b072d2df15e64717",
       "version_major": 2,
       "version_minor": 0
      },
      "text/plain": [
       "dataset_237.parquet:   0%|          | 0.00/3.37M [00:00<?, ?B/s]"
      ]
     },
     "metadata": {},
     "output_type": "display_data"
    },
    {
     "data": {
      "application/vnd.jupyter.widget-view+json": {
       "model_id": "ec0c2be2706e4f8ea3c66636613c8141",
       "version_major": 2,
       "version_minor": 0
      },
      "text/plain": [
       "dataset_238.parquet:   0%|          | 0.00/3.28M [00:00<?, ?B/s]"
      ]
     },
     "metadata": {},
     "output_type": "display_data"
    },
    {
     "data": {
      "application/vnd.jupyter.widget-view+json": {
       "model_id": "cc9bdcdc95cd42e9ae297c9cb7b98a4e",
       "version_major": 2,
       "version_minor": 0
      },
      "text/plain": [
       "dataset_239.parquet:   0%|          | 0.00/3.26M [00:00<?, ?B/s]"
      ]
     },
     "metadata": {},
     "output_type": "display_data"
    },
    {
     "data": {
      "application/vnd.jupyter.widget-view+json": {
       "model_id": "e38f47640ea44b249bf59d46abdbdbae",
       "version_major": 2,
       "version_minor": 0
      },
      "text/plain": [
       "dataset_240.parquet:   0%|          | 0.00/3.34M [00:00<?, ?B/s]"
      ]
     },
     "metadata": {},
     "output_type": "display_data"
    },
    {
     "data": {
      "application/vnd.jupyter.widget-view+json": {
       "model_id": "37711cfa812c48319dd881823b4b8d03",
       "version_major": 2,
       "version_minor": 0
      },
      "text/plain": [
       "dataset_241.parquet:   0%|          | 0.00/3.28M [00:00<?, ?B/s]"
      ]
     },
     "metadata": {},
     "output_type": "display_data"
    },
    {
     "data": {
      "application/vnd.jupyter.widget-view+json": {
       "model_id": "40de23c03a0845a1bc7db7423c606350",
       "version_major": 2,
       "version_minor": 0
      },
      "text/plain": [
       "dataset_242.parquet:   0%|          | 0.00/3.35M [00:00<?, ?B/s]"
      ]
     },
     "metadata": {},
     "output_type": "display_data"
    },
    {
     "data": {
      "application/vnd.jupyter.widget-view+json": {
       "model_id": "04be1c71117e495da46f2d245284612d",
       "version_major": 2,
       "version_minor": 0
      },
      "text/plain": [
       "dataset_244.parquet:   0%|          | 0.00/3.36M [00:00<?, ?B/s]"
      ]
     },
     "metadata": {},
     "output_type": "display_data"
    },
    {
     "data": {
      "application/vnd.jupyter.widget-view+json": {
       "model_id": "3dfeb56d8f744e7dbcefc85a8a843807",
       "version_major": 2,
       "version_minor": 0
      },
      "text/plain": [
       "dataset_243.parquet:   0%|          | 0.00/3.35M [00:00<?, ?B/s]"
      ]
     },
     "metadata": {},
     "output_type": "display_data"
    },
    {
     "data": {
      "application/vnd.jupyter.widget-view+json": {
       "model_id": "09a71f1e6e3540c08667c718ebd4294c",
       "version_major": 2,
       "version_minor": 0
      },
      "text/plain": [
       "dataset_245.parquet:   0%|          | 0.00/3.20M [00:00<?, ?B/s]"
      ]
     },
     "metadata": {},
     "output_type": "display_data"
    },
    {
     "data": {
      "application/vnd.jupyter.widget-view+json": {
       "model_id": "e90acb924ccb4fa5a16e178e69f35a57",
       "version_major": 2,
       "version_minor": 0
      },
      "text/plain": [
       "dataset_246.parquet:   0%|          | 0.00/3.30M [00:00<?, ?B/s]"
      ]
     },
     "metadata": {},
     "output_type": "display_data"
    },
    {
     "data": {
      "application/vnd.jupyter.widget-view+json": {
       "model_id": "89a2b99d12e447c9949e34abd74db6dd",
       "version_major": 2,
       "version_minor": 0
      },
      "text/plain": [
       "dataset_247.parquet:   0%|          | 0.00/3.35M [00:00<?, ?B/s]"
      ]
     },
     "metadata": {},
     "output_type": "display_data"
    },
    {
     "data": {
      "application/vnd.jupyter.widget-view+json": {
       "model_id": "77efe51d4a70499497100d109ff20295",
       "version_major": 2,
       "version_minor": 0
      },
      "text/plain": [
       "dataset_248.parquet:   0%|          | 0.00/3.42M [00:00<?, ?B/s]"
      ]
     },
     "metadata": {},
     "output_type": "display_data"
    },
    {
     "data": {
      "application/vnd.jupyter.widget-view+json": {
       "model_id": "58f3bbb0e5c84da5b502f3c6025adf78",
       "version_major": 2,
       "version_minor": 0
      },
      "text/plain": [
       "dataset_249.parquet:   0%|          | 0.00/3.43M [00:00<?, ?B/s]"
      ]
     },
     "metadata": {},
     "output_type": "display_data"
    },
    {
     "data": {
      "application/vnd.jupyter.widget-view+json": {
       "model_id": "7a02a4a90bc44c3b9f59d5d519fa3d17",
       "version_major": 2,
       "version_minor": 0
      },
      "text/plain": [
       "dataset_250.parquet:   0%|          | 0.00/3.45M [00:00<?, ?B/s]"
      ]
     },
     "metadata": {},
     "output_type": "display_data"
    },
    {
     "data": {
      "application/vnd.jupyter.widget-view+json": {
       "model_id": "74fa12f7c4564aac8f72495925c69280",
       "version_major": 2,
       "version_minor": 0
      },
      "text/plain": [
       "dataset_251.parquet:   0%|          | 0.00/3.34M [00:00<?, ?B/s]"
      ]
     },
     "metadata": {},
     "output_type": "display_data"
    },
    {
     "data": {
      "application/vnd.jupyter.widget-view+json": {
       "model_id": "96c5f5583d3b4db2ad5367b916eb2993",
       "version_major": 2,
       "version_minor": 0
      },
      "text/plain": [
       "dataset_252.parquet:   0%|          | 0.00/3.34M [00:00<?, ?B/s]"
      ]
     },
     "metadata": {},
     "output_type": "display_data"
    },
    {
     "data": {
      "application/vnd.jupyter.widget-view+json": {
       "model_id": "e144cefdfe3f456c8d16804107dfb10a",
       "version_major": 2,
       "version_minor": 0
      },
      "text/plain": [
       "dataset_253.parquet:   0%|          | 0.00/3.39M [00:00<?, ?B/s]"
      ]
     },
     "metadata": {},
     "output_type": "display_data"
    },
    {
     "data": {
      "application/vnd.jupyter.widget-view+json": {
       "model_id": "55b1dd21b6d44dad9909262b538f428f",
       "version_major": 2,
       "version_minor": 0
      },
      "text/plain": [
       "dataset_254.parquet:   0%|          | 0.00/3.35M [00:00<?, ?B/s]"
      ]
     },
     "metadata": {},
     "output_type": "display_data"
    },
    {
     "data": {
      "application/vnd.jupyter.widget-view+json": {
       "model_id": "db90568a529d48fcb4acdccf3c9dfc85",
       "version_major": 2,
       "version_minor": 0
      },
      "text/plain": [
       "dataset_255.parquet:   0%|          | 0.00/3.45M [00:00<?, ?B/s]"
      ]
     },
     "metadata": {},
     "output_type": "display_data"
    },
    {
     "data": {
      "application/vnd.jupyter.widget-view+json": {
       "model_id": "692a6b1b7afb401595c1be343f427050",
       "version_major": 2,
       "version_minor": 0
      },
      "text/plain": [
       "dataset_256.parquet:   0%|          | 0.00/3.39M [00:00<?, ?B/s]"
      ]
     },
     "metadata": {},
     "output_type": "display_data"
    },
    {
     "data": {
      "application/vnd.jupyter.widget-view+json": {
       "model_id": "ee2edebcd2bf453d93560a40b2cceaba",
       "version_major": 2,
       "version_minor": 0
      },
      "text/plain": [
       "dataset_257.parquet:   0%|          | 0.00/3.44M [00:00<?, ?B/s]"
      ]
     },
     "metadata": {},
     "output_type": "display_data"
    },
    {
     "data": {
      "application/vnd.jupyter.widget-view+json": {
       "model_id": "67a1f36e90584c00a23b7aff39193b65",
       "version_major": 2,
       "version_minor": 0
      },
      "text/plain": [
       "dataset_258.parquet:   0%|          | 0.00/3.35M [00:00<?, ?B/s]"
      ]
     },
     "metadata": {},
     "output_type": "display_data"
    },
    {
     "data": {
      "application/vnd.jupyter.widget-view+json": {
       "model_id": "ef043a1c77c14d86a21c573f665bbe5f",
       "version_major": 2,
       "version_minor": 0
      },
      "text/plain": [
       "dataset_259.parquet:   0%|          | 0.00/3.31M [00:00<?, ?B/s]"
      ]
     },
     "metadata": {},
     "output_type": "display_data"
    },
    {
     "data": {
      "application/vnd.jupyter.widget-view+json": {
       "model_id": "8bf4c5d49b1e4d8db48ffe7924cbd56a",
       "version_major": 2,
       "version_minor": 0
      },
      "text/plain": [
       "dataset_260.parquet:   0%|          | 0.00/3.31M [00:00<?, ?B/s]"
      ]
     },
     "metadata": {},
     "output_type": "display_data"
    },
    {
     "data": {
      "application/vnd.jupyter.widget-view+json": {
       "model_id": "e58717936b9846e2bdc89c23e5c23246",
       "version_major": 2,
       "version_minor": 0
      },
      "text/plain": [
       "dataset_261.parquet:   0%|          | 0.00/3.34M [00:00<?, ?B/s]"
      ]
     },
     "metadata": {},
     "output_type": "display_data"
    },
    {
     "data": {
      "application/vnd.jupyter.widget-view+json": {
       "model_id": "7d5fb3414bc4487d9f3e656bf7d8383e",
       "version_major": 2,
       "version_minor": 0
      },
      "text/plain": [
       "dataset_264.parquet:   0%|          | 0.00/3.44M [00:00<?, ?B/s]"
      ]
     },
     "metadata": {},
     "output_type": "display_data"
    },
    {
     "data": {
      "application/vnd.jupyter.widget-view+json": {
       "model_id": "5d44794d387c4084bd0e0e51d9ed8a28",
       "version_major": 2,
       "version_minor": 0
      },
      "text/plain": [
       "dataset_263.parquet:   0%|          | 0.00/3.31M [00:00<?, ?B/s]"
      ]
     },
     "metadata": {},
     "output_type": "display_data"
    },
    {
     "data": {
      "application/vnd.jupyter.widget-view+json": {
       "model_id": "2a8ff2eed87945cbbbfd66206d797e62",
       "version_major": 2,
       "version_minor": 0
      },
      "text/plain": [
       "dataset_262.parquet:   0%|          | 0.00/3.36M [00:00<?, ?B/s]"
      ]
     },
     "metadata": {},
     "output_type": "display_data"
    },
    {
     "data": {
      "application/vnd.jupyter.widget-view+json": {
       "model_id": "e8c23a184ce84c549cedfe98fe17740d",
       "version_major": 2,
       "version_minor": 0
      },
      "text/plain": [
       "dataset_266.parquet:   0%|          | 0.00/3.27M [00:00<?, ?B/s]"
      ]
     },
     "metadata": {},
     "output_type": "display_data"
    },
    {
     "data": {
      "application/vnd.jupyter.widget-view+json": {
       "model_id": "54795a91dc7441fe8d72a2d2d8ea4cab",
       "version_major": 2,
       "version_minor": 0
      },
      "text/plain": [
       "dataset_265.parquet:   0%|          | 0.00/3.25M [00:00<?, ?B/s]"
      ]
     },
     "metadata": {},
     "output_type": "display_data"
    },
    {
     "data": {
      "application/vnd.jupyter.widget-view+json": {
       "model_id": "e43c96ca34dc405ebe83860a0435c5ea",
       "version_major": 2,
       "version_minor": 0
      },
      "text/plain": [
       "dataset_267.parquet:   0%|          | 0.00/3.29M [00:00<?, ?B/s]"
      ]
     },
     "metadata": {},
     "output_type": "display_data"
    },
    {
     "data": {
      "application/vnd.jupyter.widget-view+json": {
       "model_id": "7899a4b757634df6858657b12083aded",
       "version_major": 2,
       "version_minor": 0
      },
      "text/plain": [
       "dataset_268.parquet:   0%|          | 0.00/3.13M [00:00<?, ?B/s]"
      ]
     },
     "metadata": {},
     "output_type": "display_data"
    },
    {
     "data": {
      "application/vnd.jupyter.widget-view+json": {
       "model_id": "1f73f3a40825413580d5a66f8b098b27",
       "version_major": 2,
       "version_minor": 0
      },
      "text/plain": [
       "dataset_269.parquet:   0%|          | 0.00/3.08M [00:00<?, ?B/s]"
      ]
     },
     "metadata": {},
     "output_type": "display_data"
    },
    {
     "data": {
      "application/vnd.jupyter.widget-view+json": {
       "model_id": "cbc6e3900ecb4de9bf46d296554fb934",
       "version_major": 2,
       "version_minor": 0
      },
      "text/plain": [
       "dataset_270.parquet:   0%|          | 0.00/3.05M [00:00<?, ?B/s]"
      ]
     },
     "metadata": {},
     "output_type": "display_data"
    },
    {
     "data": {
      "application/vnd.jupyter.widget-view+json": {
       "model_id": "9859a3bf7184422db68099bf8fb0dbbc",
       "version_major": 2,
       "version_minor": 0
      },
      "text/plain": [
       "dataset_271.parquet:   0%|          | 0.00/3.08M [00:00<?, ?B/s]"
      ]
     },
     "metadata": {},
     "output_type": "display_data"
    },
    {
     "data": {
      "application/vnd.jupyter.widget-view+json": {
       "model_id": "a94e3c07788d49738cb4ac97be4d3897",
       "version_major": 2,
       "version_minor": 0
      },
      "text/plain": [
       "dataset_272.parquet:   0%|          | 0.00/3.00M [00:00<?, ?B/s]"
      ]
     },
     "metadata": {},
     "output_type": "display_data"
    },
    {
     "data": {
      "application/vnd.jupyter.widget-view+json": {
       "model_id": "fc88ba8ffcf049f88211f3f94cba9e50",
       "version_major": 2,
       "version_minor": 0
      },
      "text/plain": [
       "dataset_273.parquet:   0%|          | 0.00/3.08M [00:00<?, ?B/s]"
      ]
     },
     "metadata": {},
     "output_type": "display_data"
    },
    {
     "data": {
      "application/vnd.jupyter.widget-view+json": {
       "model_id": "3b8c6df8d8fe4600abc50b122927a74c",
       "version_major": 2,
       "version_minor": 0
      },
      "text/plain": [
       "dataset_274.parquet:   0%|          | 0.00/3.17M [00:00<?, ?B/s]"
      ]
     },
     "metadata": {},
     "output_type": "display_data"
    },
    {
     "data": {
      "application/vnd.jupyter.widget-view+json": {
       "model_id": "98ef3d2d223d44da9137274ce18da228",
       "version_major": 2,
       "version_minor": 0
      },
      "text/plain": [
       "dataset_275.parquet:   0%|          | 0.00/3.37M [00:00<?, ?B/s]"
      ]
     },
     "metadata": {},
     "output_type": "display_data"
    },
    {
     "data": {
      "application/vnd.jupyter.widget-view+json": {
       "model_id": "be6a7049e00a402a839dbe96e6e095e8",
       "version_major": 2,
       "version_minor": 0
      },
      "text/plain": [
       "dataset_276.parquet:   0%|          | 0.00/3.32M [00:00<?, ?B/s]"
      ]
     },
     "metadata": {},
     "output_type": "display_data"
    },
    {
     "data": {
      "application/vnd.jupyter.widget-view+json": {
       "model_id": "f25571365b784f728204bae0513b6c6a",
       "version_major": 2,
       "version_minor": 0
      },
      "text/plain": [
       "dataset_277.parquet:   0%|          | 0.00/3.31M [00:00<?, ?B/s]"
      ]
     },
     "metadata": {},
     "output_type": "display_data"
    },
    {
     "data": {
      "application/vnd.jupyter.widget-view+json": {
       "model_id": "4107f721db8c40f8bde082a3ce09d073",
       "version_major": 2,
       "version_minor": 0
      },
      "text/plain": [
       "dataset_278.parquet:   0%|          | 0.00/3.28M [00:00<?, ?B/s]"
      ]
     },
     "metadata": {},
     "output_type": "display_data"
    },
    {
     "data": {
      "application/vnd.jupyter.widget-view+json": {
       "model_id": "3648bf333de54acc9675557d5f61e0ff",
       "version_major": 2,
       "version_minor": 0
      },
      "text/plain": [
       "dataset_280.parquet:   0%|          | 0.00/3.39M [00:00<?, ?B/s]"
      ]
     },
     "metadata": {},
     "output_type": "display_data"
    },
    {
     "data": {
      "application/vnd.jupyter.widget-view+json": {
       "model_id": "431fc37f42da4a098e8cf8b7a0cc6669",
       "version_major": 2,
       "version_minor": 0
      },
      "text/plain": [
       "dataset_279.parquet:   0%|          | 0.00/3.36M [00:00<?, ?B/s]"
      ]
     },
     "metadata": {},
     "output_type": "display_data"
    },
    {
     "data": {
      "application/vnd.jupyter.widget-view+json": {
       "model_id": "f6df6ed640c74ddfa45557fac989e73f",
       "version_major": 2,
       "version_minor": 0
      },
      "text/plain": [
       "dataset_281.parquet:   0%|          | 0.00/3.41M [00:00<?, ?B/s]"
      ]
     },
     "metadata": {},
     "output_type": "display_data"
    },
    {
     "data": {
      "application/vnd.jupyter.widget-view+json": {
       "model_id": "21a8f9851afd49c1b9c795792e16eb57",
       "version_major": 2,
       "version_minor": 0
      },
      "text/plain": [
       "dataset_282.parquet:   0%|          | 0.00/3.38M [00:00<?, ?B/s]"
      ]
     },
     "metadata": {},
     "output_type": "display_data"
    },
    {
     "data": {
      "application/vnd.jupyter.widget-view+json": {
       "model_id": "510766e7d0c34d0cbf3e1e7ce38f5bb0",
       "version_major": 2,
       "version_minor": 0
      },
      "text/plain": [
       "dataset_283.parquet:   0%|          | 0.00/3.29M [00:00<?, ?B/s]"
      ]
     },
     "metadata": {},
     "output_type": "display_data"
    },
    {
     "data": {
      "application/vnd.jupyter.widget-view+json": {
       "model_id": "2c8e6380344f4eeab01cf64d149655c9",
       "version_major": 2,
       "version_minor": 0
      },
      "text/plain": [
       "dataset_284.parquet:   0%|          | 0.00/3.31M [00:00<?, ?B/s]"
      ]
     },
     "metadata": {},
     "output_type": "display_data"
    },
    {
     "data": {
      "application/vnd.jupyter.widget-view+json": {
       "model_id": "c51abc80ff484984a5344d5adebfad8c",
       "version_major": 2,
       "version_minor": 0
      },
      "text/plain": [
       "dataset_285.parquet:   0%|          | 0.00/3.28M [00:00<?, ?B/s]"
      ]
     },
     "metadata": {},
     "output_type": "display_data"
    },
    {
     "data": {
      "application/vnd.jupyter.widget-view+json": {
       "model_id": "5dc945a1e4194db4be181e5183824044",
       "version_major": 2,
       "version_minor": 0
      },
      "text/plain": [
       "dataset_286.parquet:   0%|          | 0.00/3.41M [00:00<?, ?B/s]"
      ]
     },
     "metadata": {},
     "output_type": "display_data"
    },
    {
     "data": {
      "application/vnd.jupyter.widget-view+json": {
       "model_id": "5af4f076284349f0b4c745c9ead618b4",
       "version_major": 2,
       "version_minor": 0
      },
      "text/plain": [
       "dataset_287.parquet:   0%|          | 0.00/3.12M [00:00<?, ?B/s]"
      ]
     },
     "metadata": {},
     "output_type": "display_data"
    },
    {
     "data": {
      "application/vnd.jupyter.widget-view+json": {
       "model_id": "a40c14cdd303477aace2edfe781a7a04",
       "version_major": 2,
       "version_minor": 0
      },
      "text/plain": [
       "dataset_288.parquet:   0%|          | 0.00/3.11M [00:00<?, ?B/s]"
      ]
     },
     "metadata": {},
     "output_type": "display_data"
    },
    {
     "data": {
      "application/vnd.jupyter.widget-view+json": {
       "model_id": "4b11db18b1374ffca9872aab6ab5c798",
       "version_major": 2,
       "version_minor": 0
      },
      "text/plain": [
       "dataset_289.parquet:   0%|          | 0.00/3.05M [00:00<?, ?B/s]"
      ]
     },
     "metadata": {},
     "output_type": "display_data"
    },
    {
     "data": {
      "application/vnd.jupyter.widget-view+json": {
       "model_id": "1faac15d701e4c3cace70e93aa91bcd1",
       "version_major": 2,
       "version_minor": 0
      },
      "text/plain": [
       "dataset_290.parquet:   0%|          | 0.00/3.13M [00:00<?, ?B/s]"
      ]
     },
     "metadata": {},
     "output_type": "display_data"
    },
    {
     "data": {
      "application/vnd.jupyter.widget-view+json": {
       "model_id": "73679463cf374d08b8bb31000e2f1e30",
       "version_major": 2,
       "version_minor": 0
      },
      "text/plain": [
       "dataset_291.parquet:   0%|          | 0.00/3.19M [00:00<?, ?B/s]"
      ]
     },
     "metadata": {},
     "output_type": "display_data"
    },
    {
     "data": {
      "application/vnd.jupyter.widget-view+json": {
       "model_id": "1c06c1f7b0fa428894885737fae924ae",
       "version_major": 2,
       "version_minor": 0
      },
      "text/plain": [
       "dataset_293.parquet:   0%|          | 0.00/3.04M [00:00<?, ?B/s]"
      ]
     },
     "metadata": {},
     "output_type": "display_data"
    },
    {
     "data": {
      "application/vnd.jupyter.widget-view+json": {
       "model_id": "6c49c79efc194412a765a010b0470235",
       "version_major": 2,
       "version_minor": 0
      },
      "text/plain": [
       "dataset_292.parquet:   0%|          | 0.00/3.00M [00:00<?, ?B/s]"
      ]
     },
     "metadata": {},
     "output_type": "display_data"
    },
    {
     "data": {
      "application/vnd.jupyter.widget-view+json": {
       "model_id": "44de5b1ca9df46c096362ddcd84f5404",
       "version_major": 2,
       "version_minor": 0
      },
      "text/plain": [
       "dataset_294.parquet:   0%|          | 0.00/3.10M [00:00<?, ?B/s]"
      ]
     },
     "metadata": {},
     "output_type": "display_data"
    },
    {
     "data": {
      "application/vnd.jupyter.widget-view+json": {
       "model_id": "a84777f4d9174623af9b2eae038c78a8",
       "version_major": 2,
       "version_minor": 0
      },
      "text/plain": [
       "dataset_295.parquet:   0%|          | 0.00/3.18M [00:00<?, ?B/s]"
      ]
     },
     "metadata": {},
     "output_type": "display_data"
    },
    {
     "data": {
      "application/vnd.jupyter.widget-view+json": {
       "model_id": "fd6e860d78cf4b2ea51170ed7520bb4f",
       "version_major": 2,
       "version_minor": 0
      },
      "text/plain": [
       "dataset_296.parquet:   0%|          | 0.00/3.14M [00:00<?, ?B/s]"
      ]
     },
     "metadata": {},
     "output_type": "display_data"
    },
    {
     "data": {
      "application/vnd.jupyter.widget-view+json": {
       "model_id": "c5e0884fa3c84cf79aa2cf472b48a20f",
       "version_major": 2,
       "version_minor": 0
      },
      "text/plain": [
       "dataset_297.parquet:   0%|          | 0.00/3.28M [00:00<?, ?B/s]"
      ]
     },
     "metadata": {},
     "output_type": "display_data"
    },
    {
     "data": {
      "application/vnd.jupyter.widget-view+json": {
       "model_id": "3d41a9fc279f47b89e40d22192387607",
       "version_major": 2,
       "version_minor": 0
      },
      "text/plain": [
       "dataset_298.parquet:   0%|          | 0.00/3.21M [00:00<?, ?B/s]"
      ]
     },
     "metadata": {},
     "output_type": "display_data"
    },
    {
     "data": {
      "application/vnd.jupyter.widget-view+json": {
       "model_id": "ba0d8fcb609c446ba6e3bbb5325752ca",
       "version_major": 2,
       "version_minor": 0
      },
      "text/plain": [
       "dataset_299.parquet:   0%|          | 0.00/3.13M [00:00<?, ?B/s]"
      ]
     },
     "metadata": {},
     "output_type": "display_data"
    },
    {
     "data": {
      "application/vnd.jupyter.widget-view+json": {
       "model_id": "804bba7983c94a6baff5d2baac33509e",
       "version_major": 2,
       "version_minor": 0
      },
      "text/plain": [
       "dataset_300.parquet:   0%|          | 0.00/3.16M [00:00<?, ?B/s]"
      ]
     },
     "metadata": {},
     "output_type": "display_data"
    },
    {
     "data": {
      "application/vnd.jupyter.widget-view+json": {
       "model_id": "3e4bbc67070c482b94a358e0500b4fb0",
       "version_major": 2,
       "version_minor": 0
      },
      "text/plain": [
       "dataset_301.parquet:   0%|          | 0.00/3.18M [00:00<?, ?B/s]"
      ]
     },
     "metadata": {},
     "output_type": "display_data"
    },
    {
     "data": {
      "application/vnd.jupyter.widget-view+json": {
       "model_id": "b2a2e245a3234dba91bb8778df1a807a",
       "version_major": 2,
       "version_minor": 0
      },
      "text/plain": [
       "dataset_302.parquet:   0%|          | 0.00/3.17M [00:00<?, ?B/s]"
      ]
     },
     "metadata": {},
     "output_type": "display_data"
    },
    {
     "data": {
      "application/vnd.jupyter.widget-view+json": {
       "model_id": "fe4f869b409445bc9a79a86efd745fe7",
       "version_major": 2,
       "version_minor": 0
      },
      "text/plain": [
       "dataset_303.parquet:   0%|          | 0.00/3.23M [00:00<?, ?B/s]"
      ]
     },
     "metadata": {},
     "output_type": "display_data"
    },
    {
     "data": {
      "application/vnd.jupyter.widget-view+json": {
       "model_id": "35b82131435d449c88bd59a974c35805",
       "version_major": 2,
       "version_minor": 0
      },
      "text/plain": [
       "dataset_304.parquet:   0%|          | 0.00/3.09M [00:00<?, ?B/s]"
      ]
     },
     "metadata": {},
     "output_type": "display_data"
    },
    {
     "data": {
      "application/vnd.jupyter.widget-view+json": {
       "model_id": "95bffabe3cc2401aa16b996e3f434b07",
       "version_major": 2,
       "version_minor": 0
      },
      "text/plain": [
       "dataset_305.parquet:   0%|          | 0.00/3.18M [00:00<?, ?B/s]"
      ]
     },
     "metadata": {},
     "output_type": "display_data"
    },
    {
     "data": {
      "application/vnd.jupyter.widget-view+json": {
       "model_id": "674339f78f544434a1754587d1fd4d62",
       "version_major": 2,
       "version_minor": 0
      },
      "text/plain": [
       "dataset_306.parquet:   0%|          | 0.00/3.25M [00:00<?, ?B/s]"
      ]
     },
     "metadata": {},
     "output_type": "display_data"
    },
    {
     "data": {
      "application/vnd.jupyter.widget-view+json": {
       "model_id": "7d98021b774049738b4ca598b23f1c19",
       "version_major": 2,
       "version_minor": 0
      },
      "text/plain": [
       "dataset_307.parquet:   0%|          | 0.00/3.12M [00:00<?, ?B/s]"
      ]
     },
     "metadata": {},
     "output_type": "display_data"
    },
    {
     "data": {
      "application/vnd.jupyter.widget-view+json": {
       "model_id": "a93895ad413848519551601a6a98b1c4",
       "version_major": 2,
       "version_minor": 0
      },
      "text/plain": [
       "dataset_308.parquet:   0%|          | 0.00/3.05M [00:00<?, ?B/s]"
      ]
     },
     "metadata": {},
     "output_type": "display_data"
    },
    {
     "data": {
      "application/vnd.jupyter.widget-view+json": {
       "model_id": "5266a779a08b458ebea579d6029e5ad8",
       "version_major": 2,
       "version_minor": 0
      },
      "text/plain": [
       "dataset_309.parquet:   0%|          | 0.00/3.13M [00:00<?, ?B/s]"
      ]
     },
     "metadata": {},
     "output_type": "display_data"
    },
    {
     "data": {
      "application/vnd.jupyter.widget-view+json": {
       "model_id": "6ac39b90446440ddb5c5a12c558359a4",
       "version_major": 2,
       "version_minor": 0
      },
      "text/plain": [
       "dataset_310.parquet:   0%|          | 0.00/3.16M [00:00<?, ?B/s]"
      ]
     },
     "metadata": {},
     "output_type": "display_data"
    },
    {
     "data": {
      "application/vnd.jupyter.widget-view+json": {
       "model_id": "792ca2deb2b34479a737b76981295273",
       "version_major": 2,
       "version_minor": 0
      },
      "text/plain": [
       "dataset_311.parquet:   0%|          | 0.00/3.16M [00:00<?, ?B/s]"
      ]
     },
     "metadata": {},
     "output_type": "display_data"
    },
    {
     "data": {
      "application/vnd.jupyter.widget-view+json": {
       "model_id": "b718d091a71e492db1a2acd1ad7373a4",
       "version_major": 2,
       "version_minor": 0
      },
      "text/plain": [
       "dataset_312.parquet:   0%|          | 0.00/3.12M [00:00<?, ?B/s]"
      ]
     },
     "metadata": {},
     "output_type": "display_data"
    },
    {
     "data": {
      "application/vnd.jupyter.widget-view+json": {
       "model_id": "3389662e59644a9a8a2f6fb8fa047d13",
       "version_major": 2,
       "version_minor": 0
      },
      "text/plain": [
       "dataset_313.parquet:   0%|          | 0.00/3.21M [00:00<?, ?B/s]"
      ]
     },
     "metadata": {},
     "output_type": "display_data"
    },
    {
     "data": {
      "application/vnd.jupyter.widget-view+json": {
       "model_id": "96b87a999b464ef29fc21054839a72f0",
       "version_major": 2,
       "version_minor": 0
      },
      "text/plain": [
       "dataset_314.parquet:   0%|          | 0.00/3.10M [00:00<?, ?B/s]"
      ]
     },
     "metadata": {},
     "output_type": "display_data"
    },
    {
     "data": {
      "application/vnd.jupyter.widget-view+json": {
       "model_id": "2072ff3d4d3747a782aac689723cf2fd",
       "version_major": 2,
       "version_minor": 0
      },
      "text/plain": [
       "dataset_315.parquet:   0%|          | 0.00/3.09M [00:00<?, ?B/s]"
      ]
     },
     "metadata": {},
     "output_type": "display_data"
    },
    {
     "data": {
      "application/vnd.jupyter.widget-view+json": {
       "model_id": "53061caef02f42bea7d43b3909d43ac9",
       "version_major": 2,
       "version_minor": 0
      },
      "text/plain": [
       "dataset_316.parquet:   0%|          | 0.00/3.09M [00:00<?, ?B/s]"
      ]
     },
     "metadata": {},
     "output_type": "display_data"
    },
    {
     "data": {
      "application/vnd.jupyter.widget-view+json": {
       "model_id": "097d822513c847f88618e0387189bc19",
       "version_major": 2,
       "version_minor": 0
      },
      "text/plain": [
       "dataset_317.parquet:   0%|          | 0.00/3.04M [00:00<?, ?B/s]"
      ]
     },
     "metadata": {},
     "output_type": "display_data"
    },
    {
     "data": {
      "application/vnd.jupyter.widget-view+json": {
       "model_id": "03c1b3d0e7f449c787edfd7d3d89b2de",
       "version_major": 2,
       "version_minor": 0
      },
      "text/plain": [
       "dataset_318.parquet:   0%|          | 0.00/3.00M [00:00<?, ?B/s]"
      ]
     },
     "metadata": {},
     "output_type": "display_data"
    },
    {
     "data": {
      "application/vnd.jupyter.widget-view+json": {
       "model_id": "cac9913ad53e4b8e8659c2c93f2d7eb5",
       "version_major": 2,
       "version_minor": 0
      },
      "text/plain": [
       "dataset_319.parquet:   0%|          | 0.00/2.90M [00:00<?, ?B/s]"
      ]
     },
     "metadata": {},
     "output_type": "display_data"
    },
    {
     "data": {
      "application/vnd.jupyter.widget-view+json": {
       "model_id": "c153d4bcc8704ee29528185bf3aead49",
       "version_major": 2,
       "version_minor": 0
      },
      "text/plain": [
       "dataset_320.parquet:   0%|          | 0.00/2.92M [00:00<?, ?B/s]"
      ]
     },
     "metadata": {},
     "output_type": "display_data"
    },
    {
     "data": {
      "application/vnd.jupyter.widget-view+json": {
       "model_id": "e12295c8142b497d99f7182a9693c977",
       "version_major": 2,
       "version_minor": 0
      },
      "text/plain": [
       "dataset_321.parquet:   0%|          | 0.00/2.89M [00:00<?, ?B/s]"
      ]
     },
     "metadata": {},
     "output_type": "display_data"
    },
    {
     "data": {
      "application/vnd.jupyter.widget-view+json": {
       "model_id": "6e3b527a208b4c3397d65e77f144fcf2",
       "version_major": 2,
       "version_minor": 0
      },
      "text/plain": [
       "dataset_322.parquet:   0%|          | 0.00/2.86M [00:00<?, ?B/s]"
      ]
     },
     "metadata": {},
     "output_type": "display_data"
    },
    {
     "data": {
      "application/vnd.jupyter.widget-view+json": {
       "model_id": "9159f94665364dd7a6ff4fca337503c6",
       "version_major": 2,
       "version_minor": 0
      },
      "text/plain": [
       "dataset_323.parquet:   0%|          | 0.00/2.88M [00:00<?, ?B/s]"
      ]
     },
     "metadata": {},
     "output_type": "display_data"
    },
    {
     "data": {
      "application/vnd.jupyter.widget-view+json": {
       "model_id": "96b756c2676c4e3dbb6f2ae77bf2d216",
       "version_major": 2,
       "version_minor": 0
      },
      "text/plain": [
       "dataset_324.parquet:   0%|          | 0.00/2.99M [00:00<?, ?B/s]"
      ]
     },
     "metadata": {},
     "output_type": "display_data"
    },
    {
     "data": {
      "application/vnd.jupyter.widget-view+json": {
       "model_id": "14919deba9f84a70a057de13276f495e",
       "version_major": 2,
       "version_minor": 0
      },
      "text/plain": [
       "dataset_325.parquet:   0%|          | 0.00/3.18M [00:00<?, ?B/s]"
      ]
     },
     "metadata": {},
     "output_type": "display_data"
    },
    {
     "data": {
      "application/vnd.jupyter.widget-view+json": {
       "model_id": "8a5280718aad4a29988278416bd9a12e",
       "version_major": 2,
       "version_minor": 0
      },
      "text/plain": [
       "dataset_326.parquet:   0%|          | 0.00/3.13M [00:00<?, ?B/s]"
      ]
     },
     "metadata": {},
     "output_type": "display_data"
    },
    {
     "data": {
      "application/vnd.jupyter.widget-view+json": {
       "model_id": "85b35c13cfeb4eae91409c7a2f1bb124",
       "version_major": 2,
       "version_minor": 0
      },
      "text/plain": [
       "dataset_327.parquet:   0%|          | 0.00/3.08M [00:00<?, ?B/s]"
      ]
     },
     "metadata": {},
     "output_type": "display_data"
    },
    {
     "data": {
      "application/vnd.jupyter.widget-view+json": {
       "model_id": "6159d2b0a1484db1883d00d9f87276c5",
       "version_major": 2,
       "version_minor": 0
      },
      "text/plain": [
       "dataset_328.parquet:   0%|          | 0.00/3.09M [00:00<?, ?B/s]"
      ]
     },
     "metadata": {},
     "output_type": "display_data"
    },
    {
     "data": {
      "application/vnd.jupyter.widget-view+json": {
       "model_id": "e94e991851164f70afc67dfca373c13e",
       "version_major": 2,
       "version_minor": 0
      },
      "text/plain": [
       "dataset_329.parquet:   0%|          | 0.00/3.12M [00:00<?, ?B/s]"
      ]
     },
     "metadata": {},
     "output_type": "display_data"
    },
    {
     "data": {
      "application/vnd.jupyter.widget-view+json": {
       "model_id": "2b0005c5d6844799973fd297c7456328",
       "version_major": 2,
       "version_minor": 0
      },
      "text/plain": [
       "dataset_330.parquet:   0%|          | 0.00/3.13M [00:00<?, ?B/s]"
      ]
     },
     "metadata": {},
     "output_type": "display_data"
    },
    {
     "data": {
      "application/vnd.jupyter.widget-view+json": {
       "model_id": "2a573624b70e4b549e4cb0062b5589f8",
       "version_major": 2,
       "version_minor": 0
      },
      "text/plain": [
       "dataset_331.parquet:   0%|          | 0.00/3.14M [00:00<?, ?B/s]"
      ]
     },
     "metadata": {},
     "output_type": "display_data"
    },
    {
     "data": {
      "application/vnd.jupyter.widget-view+json": {
       "model_id": "d07b98bf366144adb08951b9370ebb69",
       "version_major": 2,
       "version_minor": 0
      },
      "text/plain": [
       "dataset_333.parquet:   0%|          | 0.00/3.21M [00:00<?, ?B/s]"
      ]
     },
     "metadata": {},
     "output_type": "display_data"
    },
    {
     "data": {
      "application/vnd.jupyter.widget-view+json": {
       "model_id": "d20b988fc2704d4aa0b2fd08aaa09b06",
       "version_major": 2,
       "version_minor": 0
      },
      "text/plain": [
       "dataset_332.parquet:   0%|          | 0.00/3.22M [00:00<?, ?B/s]"
      ]
     },
     "metadata": {},
     "output_type": "display_data"
    },
    {
     "data": {
      "application/vnd.jupyter.widget-view+json": {
       "model_id": "86c9f05e0d7b4bc286da849f4a5aff8d",
       "version_major": 2,
       "version_minor": 0
      },
      "text/plain": [
       "dataset_334.parquet:   0%|          | 0.00/3.12M [00:00<?, ?B/s]"
      ]
     },
     "metadata": {},
     "output_type": "display_data"
    },
    {
     "data": {
      "application/vnd.jupyter.widget-view+json": {
       "model_id": "359c515e23874de68e131bfd75374509",
       "version_major": 2,
       "version_minor": 0
      },
      "text/plain": [
       "dataset_335.parquet:   0%|          | 0.00/3.08M [00:00<?, ?B/s]"
      ]
     },
     "metadata": {},
     "output_type": "display_data"
    },
    {
     "data": {
      "application/vnd.jupyter.widget-view+json": {
       "model_id": "cca60ef226ba48099173c8a9ff65743c",
       "version_major": 2,
       "version_minor": 0
      },
      "text/plain": [
       "dataset_336.parquet:   0%|          | 0.00/3.07M [00:00<?, ?B/s]"
      ]
     },
     "metadata": {},
     "output_type": "display_data"
    },
    {
     "data": {
      "application/vnd.jupyter.widget-view+json": {
       "model_id": "cd0cf45125e745719c33fcf1201d8022",
       "version_major": 2,
       "version_minor": 0
      },
      "text/plain": [
       "dataset_337.parquet:   0%|          | 0.00/3.22M [00:00<?, ?B/s]"
      ]
     },
     "metadata": {},
     "output_type": "display_data"
    },
    {
     "data": {
      "application/vnd.jupyter.widget-view+json": {
       "model_id": "89d269aaaabc4000b8ef2a2a8ee815af",
       "version_major": 2,
       "version_minor": 0
      },
      "text/plain": [
       "dataset_338.parquet:   0%|          | 0.00/3.31M [00:00<?, ?B/s]"
      ]
     },
     "metadata": {},
     "output_type": "display_data"
    },
    {
     "data": {
      "application/vnd.jupyter.widget-view+json": {
       "model_id": "d6f03c4b01fe409f8b877a22707d6940",
       "version_major": 2,
       "version_minor": 0
      },
      "text/plain": [
       "dataset_339.parquet:   0%|          | 0.00/3.45M [00:00<?, ?B/s]"
      ]
     },
     "metadata": {},
     "output_type": "display_data"
    },
    {
     "data": {
      "application/vnd.jupyter.widget-view+json": {
       "model_id": "9e297390a84749fba99323b70813a833",
       "version_major": 2,
       "version_minor": 0
      },
      "text/plain": [
       "dataset_340.parquet:   0%|          | 0.00/3.62M [00:00<?, ?B/s]"
      ]
     },
     "metadata": {},
     "output_type": "display_data"
    },
    {
     "data": {
      "application/vnd.jupyter.widget-view+json": {
       "model_id": "a506e9f936a94ecd94914bc3d176a76b",
       "version_major": 2,
       "version_minor": 0
      },
      "text/plain": [
       "dataset_341.parquet:   0%|          | 0.00/3.52M [00:00<?, ?B/s]"
      ]
     },
     "metadata": {},
     "output_type": "display_data"
    },
    {
     "data": {
      "application/vnd.jupyter.widget-view+json": {
       "model_id": "d7f28ef6ad9e4250879cd83eb9341e10",
       "version_major": 2,
       "version_minor": 0
      },
      "text/plain": [
       "dataset_342.parquet:   0%|          | 0.00/3.43M [00:00<?, ?B/s]"
      ]
     },
     "metadata": {},
     "output_type": "display_data"
    },
    {
     "data": {
      "application/vnd.jupyter.widget-view+json": {
       "model_id": "4bff5d89ce504d399c9b3fe0f17bb9c9",
       "version_major": 2,
       "version_minor": 0
      },
      "text/plain": [
       "dataset_343.parquet:   0%|          | 0.00/3.55M [00:00<?, ?B/s]"
      ]
     },
     "metadata": {},
     "output_type": "display_data"
    },
    {
     "data": {
      "application/vnd.jupyter.widget-view+json": {
       "model_id": "564d80522d3d4cb29409d69f4785d332",
       "version_major": 2,
       "version_minor": 0
      },
      "text/plain": [
       "dataset_344.parquet:   0%|          | 0.00/3.34M [00:00<?, ?B/s]"
      ]
     },
     "metadata": {},
     "output_type": "display_data"
    },
    {
     "data": {
      "application/vnd.jupyter.widget-view+json": {
       "model_id": "b29801bccbe84e4cb70cf576c8ca0d1c",
       "version_major": 2,
       "version_minor": 0
      },
      "text/plain": [
       "dataset_345.parquet:   0%|          | 0.00/3.51M [00:00<?, ?B/s]"
      ]
     },
     "metadata": {},
     "output_type": "display_data"
    },
    {
     "data": {
      "application/vnd.jupyter.widget-view+json": {
       "model_id": "3ad142417b8f47dc841a6518ca84d958",
       "version_major": 2,
       "version_minor": 0
      },
      "text/plain": [
       "dataset_346.parquet:   0%|          | 0.00/3.42M [00:00<?, ?B/s]"
      ]
     },
     "metadata": {},
     "output_type": "display_data"
    },
    {
     "data": {
      "application/vnd.jupyter.widget-view+json": {
       "model_id": "f924fd22721b4ecc9705d5d60e9500cc",
       "version_major": 2,
       "version_minor": 0
      },
      "text/plain": [
       "dataset_347.parquet:   0%|          | 0.00/3.53M [00:00<?, ?B/s]"
      ]
     },
     "metadata": {},
     "output_type": "display_data"
    },
    {
     "data": {
      "application/vnd.jupyter.widget-view+json": {
       "model_id": "6ae5c1c55b854fc08ec22db5a4ea8ca5",
       "version_major": 2,
       "version_minor": 0
      },
      "text/plain": [
       "dataset_348.parquet:   0%|          | 0.00/3.47M [00:00<?, ?B/s]"
      ]
     },
     "metadata": {},
     "output_type": "display_data"
    },
    {
     "data": {
      "application/vnd.jupyter.widget-view+json": {
       "model_id": "d8f61edafe9c49bd907375ab32086e9e",
       "version_major": 2,
       "version_minor": 0
      },
      "text/plain": [
       "dataset_349.parquet:   0%|          | 0.00/3.53M [00:00<?, ?B/s]"
      ]
     },
     "metadata": {},
     "output_type": "display_data"
    },
    {
     "data": {
      "application/vnd.jupyter.widget-view+json": {
       "model_id": "85dcd909d10d4db7819fb7871ec411c4",
       "version_major": 2,
       "version_minor": 0
      },
      "text/plain": [
       "dataset_350.parquet:   0%|          | 0.00/3.53M [00:00<?, ?B/s]"
      ]
     },
     "metadata": {},
     "output_type": "display_data"
    },
    {
     "data": {
      "application/vnd.jupyter.widget-view+json": {
       "model_id": "c3ebca178d094d73a25ef6698db6bd0f",
       "version_major": 2,
       "version_minor": 0
      },
      "text/plain": [
       "dataset_351.parquet:   0%|          | 0.00/3.42M [00:00<?, ?B/s]"
      ]
     },
     "metadata": {},
     "output_type": "display_data"
    },
    {
     "data": {
      "application/vnd.jupyter.widget-view+json": {
       "model_id": "a4b5afa735de41ac86926a143930eb3a",
       "version_major": 2,
       "version_minor": 0
      },
      "text/plain": [
       "dataset_352.parquet:   0%|          | 0.00/3.65M [00:00<?, ?B/s]"
      ]
     },
     "metadata": {},
     "output_type": "display_data"
    },
    {
     "data": {
      "application/vnd.jupyter.widget-view+json": {
       "model_id": "1fb4273ecdc4440cb0fe4cf5b698ab95",
       "version_major": 2,
       "version_minor": 0
      },
      "text/plain": [
       "dataset_353.parquet:   0%|          | 0.00/3.37M [00:00<?, ?B/s]"
      ]
     },
     "metadata": {},
     "output_type": "display_data"
    },
    {
     "data": {
      "application/vnd.jupyter.widget-view+json": {
       "model_id": "3fb1153194394d0885ff6b102709bd5c",
       "version_major": 2,
       "version_minor": 0
      },
      "text/plain": [
       "dataset_354.parquet:   0%|          | 0.00/3.43M [00:00<?, ?B/s]"
      ]
     },
     "metadata": {},
     "output_type": "display_data"
    },
    {
     "data": {
      "application/vnd.jupyter.widget-view+json": {
       "model_id": "2d9d37e431cf4079b6ce793913dcdd8f",
       "version_major": 2,
       "version_minor": 0
      },
      "text/plain": [
       "dataset_355.parquet:   0%|          | 0.00/3.46M [00:00<?, ?B/s]"
      ]
     },
     "metadata": {},
     "output_type": "display_data"
    },
    {
     "data": {
      "application/vnd.jupyter.widget-view+json": {
       "model_id": "892388d68d1649f0b2e1f11acfbad84e",
       "version_major": 2,
       "version_minor": 0
      },
      "text/plain": [
       "dataset_356.parquet:   0%|          | 0.00/3.41M [00:00<?, ?B/s]"
      ]
     },
     "metadata": {},
     "output_type": "display_data"
    },
    {
     "data": {
      "application/vnd.jupyter.widget-view+json": {
       "model_id": "d6070ddd276b4fba90609b2ab5afeba1",
       "version_major": 2,
       "version_minor": 0
      },
      "text/plain": [
       "dataset_357.parquet:   0%|          | 0.00/3.63M [00:00<?, ?B/s]"
      ]
     },
     "metadata": {},
     "output_type": "display_data"
    },
    {
     "data": {
      "application/vnd.jupyter.widget-view+json": {
       "model_id": "4ac03d71bd6745d597d8250af89c30ad",
       "version_major": 2,
       "version_minor": 0
      },
      "text/plain": [
       "dataset_358.parquet:   0%|          | 0.00/3.50M [00:00<?, ?B/s]"
      ]
     },
     "metadata": {},
     "output_type": "display_data"
    },
    {
     "data": {
      "application/vnd.jupyter.widget-view+json": {
       "model_id": "41281e0a5cc644fda84e05d1ba68ca4e",
       "version_major": 2,
       "version_minor": 0
      },
      "text/plain": [
       "dataset_359.parquet:   0%|          | 0.00/3.60M [00:00<?, ?B/s]"
      ]
     },
     "metadata": {},
     "output_type": "display_data"
    },
    {
     "data": {
      "application/vnd.jupyter.widget-view+json": {
       "model_id": "d22530ef45cf419ea33c71aff0abdba3",
       "version_major": 2,
       "version_minor": 0
      },
      "text/plain": [
       "dataset_360.parquet:   0%|          | 0.00/3.46M [00:00<?, ?B/s]"
      ]
     },
     "metadata": {},
     "output_type": "display_data"
    },
    {
     "data": {
      "application/vnd.jupyter.widget-view+json": {
       "model_id": "5c56ed479c544a9a929394f025e4e868",
       "version_major": 2,
       "version_minor": 0
      },
      "text/plain": [
       "dataset_361.parquet:   0%|          | 0.00/3.57M [00:00<?, ?B/s]"
      ]
     },
     "metadata": {},
     "output_type": "display_data"
    },
    {
     "data": {
      "application/vnd.jupyter.widget-view+json": {
       "model_id": "8f58abb7515f4601a959968f7e9eed34",
       "version_major": 2,
       "version_minor": 0
      },
      "text/plain": [
       "dataset_362.parquet:   0%|          | 0.00/3.50M [00:00<?, ?B/s]"
      ]
     },
     "metadata": {},
     "output_type": "display_data"
    },
    {
     "data": {
      "application/vnd.jupyter.widget-view+json": {
       "model_id": "ef2066f8d1484321a448c35beb525c01",
       "version_major": 2,
       "version_minor": 0
      },
      "text/plain": [
       "dataset_363.parquet:   0%|          | 0.00/3.41M [00:00<?, ?B/s]"
      ]
     },
     "metadata": {},
     "output_type": "display_data"
    },
    {
     "data": {
      "application/vnd.jupyter.widget-view+json": {
       "model_id": "c346ee85c5a94594b8fb17f43a4a9830",
       "version_major": 2,
       "version_minor": 0
      },
      "text/plain": [
       "dataset_364.parquet:   0%|          | 0.00/3.32M [00:00<?, ?B/s]"
      ]
     },
     "metadata": {},
     "output_type": "display_data"
    },
    {
     "data": {
      "application/vnd.jupyter.widget-view+json": {
       "model_id": "3cab71ddaabe4480ad453e6a66a8c1f4",
       "version_major": 2,
       "version_minor": 0
      },
      "text/plain": [
       "dataset_365.parquet:   0%|          | 0.00/3.40M [00:00<?, ?B/s]"
      ]
     },
     "metadata": {},
     "output_type": "display_data"
    },
    {
     "data": {
      "application/vnd.jupyter.widget-view+json": {
       "model_id": "5d625937ae3a4d1a958cab5435d5d689",
       "version_major": 2,
       "version_minor": 0
      },
      "text/plain": [
       "dataset_366.parquet:   0%|          | 0.00/3.49M [00:00<?, ?B/s]"
      ]
     },
     "metadata": {},
     "output_type": "display_data"
    },
    {
     "data": {
      "application/vnd.jupyter.widget-view+json": {
       "model_id": "e9e03535de854c4baf434a74c3d25cf3",
       "version_major": 2,
       "version_minor": 0
      },
      "text/plain": [
       "dataset_367.parquet:   0%|          | 0.00/3.53M [00:00<?, ?B/s]"
      ]
     },
     "metadata": {},
     "output_type": "display_data"
    },
    {
     "data": {
      "application/vnd.jupyter.widget-view+json": {
       "model_id": "97669c9850b44593892d7247cef6daa6",
       "version_major": 2,
       "version_minor": 0
      },
      "text/plain": [
       "dataset_368.parquet:   0%|          | 0.00/3.45M [00:00<?, ?B/s]"
      ]
     },
     "metadata": {},
     "output_type": "display_data"
    },
    {
     "data": {
      "application/vnd.jupyter.widget-view+json": {
       "model_id": "e8275ad78ae04b778df9363ee374b022",
       "version_major": 2,
       "version_minor": 0
      },
      "text/plain": [
       "dataset_369.parquet:   0%|          | 0.00/3.66M [00:00<?, ?B/s]"
      ]
     },
     "metadata": {},
     "output_type": "display_data"
    },
    {
     "data": {
      "application/vnd.jupyter.widget-view+json": {
       "model_id": "a37363f04afd4c15ab0b2e318e732c9f",
       "version_major": 2,
       "version_minor": 0
      },
      "text/plain": [
       "dataset_370.parquet:   0%|          | 0.00/3.40M [00:00<?, ?B/s]"
      ]
     },
     "metadata": {},
     "output_type": "display_data"
    },
    {
     "data": {
      "application/vnd.jupyter.widget-view+json": {
       "model_id": "38a2e22401bc403394228c5af68a8e36",
       "version_major": 2,
       "version_minor": 0
      },
      "text/plain": [
       "dataset_371.parquet:   0%|          | 0.00/3.44M [00:00<?, ?B/s]"
      ]
     },
     "metadata": {},
     "output_type": "display_data"
    },
    {
     "data": {
      "application/vnd.jupyter.widget-view+json": {
       "model_id": "0469cefa9a3b41009364ecc972388c45",
       "version_major": 2,
       "version_minor": 0
      },
      "text/plain": [
       "dataset_372.parquet:   0%|          | 0.00/3.52M [00:00<?, ?B/s]"
      ]
     },
     "metadata": {},
     "output_type": "display_data"
    },
    {
     "data": {
      "application/vnd.jupyter.widget-view+json": {
       "model_id": "7bd133769e4b4d63bc8b61ff859309e7",
       "version_major": 2,
       "version_minor": 0
      },
      "text/plain": [
       "dataset_373.parquet:   0%|          | 0.00/3.60M [00:00<?, ?B/s]"
      ]
     },
     "metadata": {},
     "output_type": "display_data"
    },
    {
     "data": {
      "application/vnd.jupyter.widget-view+json": {
       "model_id": "6fb404a302524b528347e12587d48f35",
       "version_major": 2,
       "version_minor": 0
      },
      "text/plain": [
       "dataset_374.parquet:   0%|          | 0.00/3.59M [00:00<?, ?B/s]"
      ]
     },
     "metadata": {},
     "output_type": "display_data"
    },
    {
     "data": {
      "application/vnd.jupyter.widget-view+json": {
       "model_id": "ec28fd10096f4515847d0262a26e4e42",
       "version_major": 2,
       "version_minor": 0
      },
      "text/plain": [
       "dataset_375.parquet:   0%|          | 0.00/3.62M [00:00<?, ?B/s]"
      ]
     },
     "metadata": {},
     "output_type": "display_data"
    },
    {
     "data": {
      "application/vnd.jupyter.widget-view+json": {
       "model_id": "824afc5f918b426bb4e5de6bce6bb9e6",
       "version_major": 2,
       "version_minor": 0
      },
      "text/plain": [
       "dataset_376.parquet:   0%|          | 0.00/3.43M [00:00<?, ?B/s]"
      ]
     },
     "metadata": {},
     "output_type": "display_data"
    },
    {
     "data": {
      "application/vnd.jupyter.widget-view+json": {
       "model_id": "d2a32e3893dc44a0bdc9638d0e198c8a",
       "version_major": 2,
       "version_minor": 0
      },
      "text/plain": [
       "dataset_377.parquet:   0%|          | 0.00/3.61M [00:00<?, ?B/s]"
      ]
     },
     "metadata": {},
     "output_type": "display_data"
    },
    {
     "data": {
      "application/vnd.jupyter.widget-view+json": {
       "model_id": "3d13a5d0a4564dbdaef55c6fde75f02d",
       "version_major": 2,
       "version_minor": 0
      },
      "text/plain": [
       "dataset_378.parquet:   0%|          | 0.00/3.55M [00:00<?, ?B/s]"
      ]
     },
     "metadata": {},
     "output_type": "display_data"
    },
    {
     "data": {
      "application/vnd.jupyter.widget-view+json": {
       "model_id": "69d9e9554a7242f4b47742f2eb8d8b4e",
       "version_major": 2,
       "version_minor": 0
      },
      "text/plain": [
       "dataset_379.parquet:   0%|          | 0.00/3.52M [00:00<?, ?B/s]"
      ]
     },
     "metadata": {},
     "output_type": "display_data"
    },
    {
     "data": {
      "application/vnd.jupyter.widget-view+json": {
       "model_id": "7489a7ffb0b54ccd90afdc0a6cf6bdd2",
       "version_major": 2,
       "version_minor": 0
      },
      "text/plain": [
       "dataset_381.parquet:   0%|          | 0.00/3.39M [00:00<?, ?B/s]"
      ]
     },
     "metadata": {},
     "output_type": "display_data"
    },
    {
     "data": {
      "application/vnd.jupyter.widget-view+json": {
       "model_id": "60e8418bd02e4d0e94a1bdb69e196eb9",
       "version_major": 2,
       "version_minor": 0
      },
      "text/plain": [
       "dataset_380.parquet:   0%|          | 0.00/3.45M [00:00<?, ?B/s]"
      ]
     },
     "metadata": {},
     "output_type": "display_data"
    },
    {
     "data": {
      "application/vnd.jupyter.widget-view+json": {
       "model_id": "2701c1b821004dd0ae56f11e9697fc0b",
       "version_major": 2,
       "version_minor": 0
      },
      "text/plain": [
       "dataset_382.parquet:   0%|          | 0.00/3.65M [00:00<?, ?B/s]"
      ]
     },
     "metadata": {},
     "output_type": "display_data"
    },
    {
     "data": {
      "application/vnd.jupyter.widget-view+json": {
       "model_id": "0d994aca28a84134b0fc9af6e02a6919",
       "version_major": 2,
       "version_minor": 0
      },
      "text/plain": [
       "dataset_383.parquet:   0%|          | 0.00/3.55M [00:00<?, ?B/s]"
      ]
     },
     "metadata": {},
     "output_type": "display_data"
    },
    {
     "data": {
      "application/vnd.jupyter.widget-view+json": {
       "model_id": "e1c5d28b275f4a5ab6021f48efeaa79b",
       "version_major": 2,
       "version_minor": 0
      },
      "text/plain": [
       "dataset_385.parquet:   0%|          | 0.00/3.56M [00:00<?, ?B/s]"
      ]
     },
     "metadata": {},
     "output_type": "display_data"
    },
    {
     "data": {
      "application/vnd.jupyter.widget-view+json": {
       "model_id": "dfd94fc2404e4b69929c9dc22e2fd1e3",
       "version_major": 2,
       "version_minor": 0
      },
      "text/plain": [
       "dataset_384.parquet:   0%|          | 0.00/3.55M [00:00<?, ?B/s]"
      ]
     },
     "metadata": {},
     "output_type": "display_data"
    },
    {
     "data": {
      "application/vnd.jupyter.widget-view+json": {
       "model_id": "c3f1386e11fd4d0493ab083c4e9583b0",
       "version_major": 2,
       "version_minor": 0
      },
      "text/plain": [
       "dataset_386.parquet:   0%|          | 0.00/3.55M [00:00<?, ?B/s]"
      ]
     },
     "metadata": {},
     "output_type": "display_data"
    },
    {
     "data": {
      "application/vnd.jupyter.widget-view+json": {
       "model_id": "48fa092fafc84191929973627273a6ed",
       "version_major": 2,
       "version_minor": 0
      },
      "text/plain": [
       "dataset_387.parquet:   0%|          | 0.00/3.59M [00:00<?, ?B/s]"
      ]
     },
     "metadata": {},
     "output_type": "display_data"
    },
    {
     "data": {
      "application/vnd.jupyter.widget-view+json": {
       "model_id": "85760e631136436c81ceb628b27e7596",
       "version_major": 2,
       "version_minor": 0
      },
      "text/plain": [
       "dataset_388.parquet:   0%|          | 0.00/3.37M [00:00<?, ?B/s]"
      ]
     },
     "metadata": {},
     "output_type": "display_data"
    },
    {
     "data": {
      "application/vnd.jupyter.widget-view+json": {
       "model_id": "9f4480c8a01e4d09b5c1e2f3a7ea9767",
       "version_major": 2,
       "version_minor": 0
      },
      "text/plain": [
       "dataset_389.parquet:   0%|          | 0.00/3.61M [00:00<?, ?B/s]"
      ]
     },
     "metadata": {},
     "output_type": "display_data"
    },
    {
     "data": {
      "application/vnd.jupyter.widget-view+json": {
       "model_id": "757e10cd4b5d4b63b2061122de7e7edc",
       "version_major": 2,
       "version_minor": 0
      },
      "text/plain": [
       "dataset_390.parquet:   0%|          | 0.00/3.53M [00:00<?, ?B/s]"
      ]
     },
     "metadata": {},
     "output_type": "display_data"
    },
    {
     "data": {
      "application/vnd.jupyter.widget-view+json": {
       "model_id": "87364f71329c4f91bf428359514ed4bd",
       "version_major": 2,
       "version_minor": 0
      },
      "text/plain": [
       "dataset_392.parquet:   0%|          | 0.00/3.64M [00:00<?, ?B/s]"
      ]
     },
     "metadata": {},
     "output_type": "display_data"
    },
    {
     "data": {
      "application/vnd.jupyter.widget-view+json": {
       "model_id": "5fe68c8de68147b9a4cfe2421007ff84",
       "version_major": 2,
       "version_minor": 0
      },
      "text/plain": [
       "dataset_391.parquet:   0%|          | 0.00/3.45M [00:00<?, ?B/s]"
      ]
     },
     "metadata": {},
     "output_type": "display_data"
    },
    {
     "data": {
      "application/vnd.jupyter.widget-view+json": {
       "model_id": "0eae522f287f421aa6ea898d4fdb6aff",
       "version_major": 2,
       "version_minor": 0
      },
      "text/plain": [
       "dataset_393.parquet:   0%|          | 0.00/3.42M [00:00<?, ?B/s]"
      ]
     },
     "metadata": {},
     "output_type": "display_data"
    },
    {
     "data": {
      "application/vnd.jupyter.widget-view+json": {
       "model_id": "b4544c11231d4a64a3d6ac7bf34d9720",
       "version_major": 2,
       "version_minor": 0
      },
      "text/plain": [
       "dataset_394.parquet:   0%|          | 0.00/3.44M [00:00<?, ?B/s]"
      ]
     },
     "metadata": {},
     "output_type": "display_data"
    },
    {
     "data": {
      "application/vnd.jupyter.widget-view+json": {
       "model_id": "f5192aa030e14df7940108f5c437cf57",
       "version_major": 2,
       "version_minor": 0
      },
      "text/plain": [
       "dataset_395.parquet:   0%|          | 0.00/3.52M [00:00<?, ?B/s]"
      ]
     },
     "metadata": {},
     "output_type": "display_data"
    },
    {
     "data": {
      "application/vnd.jupyter.widget-view+json": {
       "model_id": "bb6ead25595949a6a9fa5b29e8b905ee",
       "version_major": 2,
       "version_minor": 0
      },
      "text/plain": [
       "dataset_397.parquet:   0%|          | 0.00/3.54M [00:00<?, ?B/s]"
      ]
     },
     "metadata": {},
     "output_type": "display_data"
    },
    {
     "data": {
      "application/vnd.jupyter.widget-view+json": {
       "model_id": "23779643f71f40238f7cf36cafb245e9",
       "version_major": 2,
       "version_minor": 0
      },
      "text/plain": [
       "dataset_396.parquet:   0%|          | 0.00/3.52M [00:00<?, ?B/s]"
      ]
     },
     "metadata": {},
     "output_type": "display_data"
    },
    {
     "data": {
      "application/vnd.jupyter.widget-view+json": {
       "model_id": "6709f96101424900bb6e24f5165f51ef",
       "version_major": 2,
       "version_minor": 0
      },
      "text/plain": [
       "dataset_398.parquet:   0%|          | 0.00/3.56M [00:00<?, ?B/s]"
      ]
     },
     "metadata": {},
     "output_type": "display_data"
    },
    {
     "data": {
      "application/vnd.jupyter.widget-view+json": {
       "model_id": "0870daef69e24cbdb30e6b6fc8d85313",
       "version_major": 2,
       "version_minor": 0
      },
      "text/plain": [
       "dataset_399.parquet:   0%|          | 0.00/3.51M [00:00<?, ?B/s]"
      ]
     },
     "metadata": {},
     "output_type": "display_data"
    },
    {
     "data": {
      "application/vnd.jupyter.widget-view+json": {
       "model_id": "e91dcd5177884e38b349e307c93c010e",
       "version_major": 2,
       "version_minor": 0
      },
      "text/plain": [
       "dataset_400.parquet:   0%|          | 0.00/3.58M [00:00<?, ?B/s]"
      ]
     },
     "metadata": {},
     "output_type": "display_data"
    },
    {
     "data": {
      "application/vnd.jupyter.widget-view+json": {
       "model_id": "dbf2e025725a46c09ab63931d9362203",
       "version_major": 2,
       "version_minor": 0
      },
      "text/plain": [
       "dataset_401.parquet:   0%|          | 0.00/3.56M [00:00<?, ?B/s]"
      ]
     },
     "metadata": {},
     "output_type": "display_data"
    },
    {
     "data": {
      "application/vnd.jupyter.widget-view+json": {
       "model_id": "1a724b8d1928451c92aeb773f417a8db",
       "version_major": 2,
       "version_minor": 0
      },
      "text/plain": [
       "dataset_402.parquet:   0%|          | 0.00/3.75M [00:00<?, ?B/s]"
      ]
     },
     "metadata": {},
     "output_type": "display_data"
    },
    {
     "data": {
      "application/vnd.jupyter.widget-view+json": {
       "model_id": "f9f1110387eb4679a375e430563479d9",
       "version_major": 2,
       "version_minor": 0
      },
      "text/plain": [
       "dataset_403.parquet:   0%|          | 0.00/3.41M [00:00<?, ?B/s]"
      ]
     },
     "metadata": {},
     "output_type": "display_data"
    },
    {
     "data": {
      "application/vnd.jupyter.widget-view+json": {
       "model_id": "d71d85aac37847ddadf420449957bd9f",
       "version_major": 2,
       "version_minor": 0
      },
      "text/plain": [
       "dataset_404.parquet:   0%|          | 0.00/3.51M [00:00<?, ?B/s]"
      ]
     },
     "metadata": {},
     "output_type": "display_data"
    },
    {
     "data": {
      "application/vnd.jupyter.widget-view+json": {
       "model_id": "472a159c8557432693740eb67645e890",
       "version_major": 2,
       "version_minor": 0
      },
      "text/plain": [
       "dataset_405.parquet:   0%|          | 0.00/3.54M [00:00<?, ?B/s]"
      ]
     },
     "metadata": {},
     "output_type": "display_data"
    },
    {
     "data": {
      "application/vnd.jupyter.widget-view+json": {
       "model_id": "fd5b2180f0ce4118ab3f49e43460b0b5",
       "version_major": 2,
       "version_minor": 0
      },
      "text/plain": [
       "dataset_406.parquet:   0%|          | 0.00/3.59M [00:00<?, ?B/s]"
      ]
     },
     "metadata": {},
     "output_type": "display_data"
    },
    {
     "data": {
      "application/vnd.jupyter.widget-view+json": {
       "model_id": "b12c4ac2ded1460fb2a412cdb3f75288",
       "version_major": 2,
       "version_minor": 0
      },
      "text/plain": [
       "dataset_408.parquet:   0%|          | 0.00/3.50M [00:00<?, ?B/s]"
      ]
     },
     "metadata": {},
     "output_type": "display_data"
    },
    {
     "data": {
      "application/vnd.jupyter.widget-view+json": {
       "model_id": "b2ccc0a956db4dd599079386f332be71",
       "version_major": 2,
       "version_minor": 0
      },
      "text/plain": [
       "dataset_407.parquet:   0%|          | 0.00/3.61M [00:00<?, ?B/s]"
      ]
     },
     "metadata": {},
     "output_type": "display_data"
    },
    {
     "data": {
      "application/vnd.jupyter.widget-view+json": {
       "model_id": "fdde02298e6c480ca16cadffbab3c763",
       "version_major": 2,
       "version_minor": 0
      },
      "text/plain": [
       "dataset_410.parquet:   0%|          | 0.00/3.53M [00:00<?, ?B/s]"
      ]
     },
     "metadata": {},
     "output_type": "display_data"
    },
    {
     "data": {
      "application/vnd.jupyter.widget-view+json": {
       "model_id": "7bc15029ecbe4cb89eadf4b732130f37",
       "version_major": 2,
       "version_minor": 0
      },
      "text/plain": [
       "dataset_409.parquet:   0%|          | 0.00/3.39M [00:00<?, ?B/s]"
      ]
     },
     "metadata": {},
     "output_type": "display_data"
    },
    {
     "data": {
      "application/vnd.jupyter.widget-view+json": {
       "model_id": "33b99f9e2b4e4ce7b82c39e5cc5e7138",
       "version_major": 2,
       "version_minor": 0
      },
      "text/plain": [
       "dataset_411.parquet:   0%|          | 0.00/3.54M [00:00<?, ?B/s]"
      ]
     },
     "metadata": {},
     "output_type": "display_data"
    },
    {
     "data": {
      "application/vnd.jupyter.widget-view+json": {
       "model_id": "91d6d34ee98d48bf9f3aacef6a895178",
       "version_major": 2,
       "version_minor": 0
      },
      "text/plain": [
       "dataset_412.parquet:   0%|          | 0.00/3.60M [00:00<?, ?B/s]"
      ]
     },
     "metadata": {},
     "output_type": "display_data"
    },
    {
     "data": {
      "application/vnd.jupyter.widget-view+json": {
       "model_id": "791a8d6fa9bb4613b834e939e7459a5d",
       "version_major": 2,
       "version_minor": 0
      },
      "text/plain": [
       "dataset_413.parquet:   0%|          | 0.00/3.49M [00:00<?, ?B/s]"
      ]
     },
     "metadata": {},
     "output_type": "display_data"
    },
    {
     "data": {
      "application/vnd.jupyter.widget-view+json": {
       "model_id": "7c3278bf56a34af0a0fe323ac4a84374",
       "version_major": 2,
       "version_minor": 0
      },
      "text/plain": [
       "dataset_414.parquet:   0%|          | 0.00/3.72M [00:00<?, ?B/s]"
      ]
     },
     "metadata": {},
     "output_type": "display_data"
    },
    {
     "data": {
      "application/vnd.jupyter.widget-view+json": {
       "model_id": "a32e9f01a9ce484fa9a57e72e06693fd",
       "version_major": 2,
       "version_minor": 0
      },
      "text/plain": [
       "dataset_415.parquet:   0%|          | 0.00/3.46M [00:00<?, ?B/s]"
      ]
     },
     "metadata": {},
     "output_type": "display_data"
    },
    {
     "data": {
      "application/vnd.jupyter.widget-view+json": {
       "model_id": "3ad99581f87a498a8e6f9f97d25ef45c",
       "version_major": 2,
       "version_minor": 0
      },
      "text/plain": [
       "dataset_416.parquet:   0%|          | 0.00/3.59M [00:00<?, ?B/s]"
      ]
     },
     "metadata": {},
     "output_type": "display_data"
    },
    {
     "data": {
      "application/vnd.jupyter.widget-view+json": {
       "model_id": "39f885b9ef0f40b3a3b15140dadd9a60",
       "version_major": 2,
       "version_minor": 0
      },
      "text/plain": [
       "dataset_417.parquet:   0%|          | 0.00/3.41M [00:00<?, ?B/s]"
      ]
     },
     "metadata": {},
     "output_type": "display_data"
    },
    {
     "data": {
      "application/vnd.jupyter.widget-view+json": {
       "model_id": "a585fee953014431aaaa286d4b2c0646",
       "version_major": 2,
       "version_minor": 0
      },
      "text/plain": [
       "dataset_418.parquet:   0%|          | 0.00/3.61M [00:00<?, ?B/s]"
      ]
     },
     "metadata": {},
     "output_type": "display_data"
    },
    {
     "data": {
      "application/vnd.jupyter.widget-view+json": {
       "model_id": "9b05cf4952404f079508a24ce086ff8b",
       "version_major": 2,
       "version_minor": 0
      },
      "text/plain": [
       "dataset_419.parquet:   0%|          | 0.00/3.53M [00:00<?, ?B/s]"
      ]
     },
     "metadata": {},
     "output_type": "display_data"
    },
    {
     "data": {
      "application/vnd.jupyter.widget-view+json": {
       "model_id": "6ca501f9012948e487886c0271777014",
       "version_major": 2,
       "version_minor": 0
      },
      "text/plain": [
       "dataset_420.parquet:   0%|          | 0.00/3.55M [00:00<?, ?B/s]"
      ]
     },
     "metadata": {},
     "output_type": "display_data"
    },
    {
     "data": {
      "application/vnd.jupyter.widget-view+json": {
       "model_id": "8dd6ac66751b41e6939b52981603dc8b",
       "version_major": 2,
       "version_minor": 0
      },
      "text/plain": [
       "dataset_421.parquet:   0%|          | 0.00/3.67M [00:00<?, ?B/s]"
      ]
     },
     "metadata": {},
     "output_type": "display_data"
    },
    {
     "data": {
      "application/vnd.jupyter.widget-view+json": {
       "model_id": "9a05e6d658fc43f7b59fa5799dcf48e8",
       "version_major": 2,
       "version_minor": 0
      },
      "text/plain": [
       "dataset_422.parquet:   0%|          | 0.00/3.53M [00:00<?, ?B/s]"
      ]
     },
     "metadata": {},
     "output_type": "display_data"
    },
    {
     "data": {
      "application/vnd.jupyter.widget-view+json": {
       "model_id": "d9554ab7a54b4369b9f7dc4016436537",
       "version_major": 2,
       "version_minor": 0
      },
      "text/plain": [
       "dataset_423.parquet:   0%|          | 0.00/3.44M [00:00<?, ?B/s]"
      ]
     },
     "metadata": {},
     "output_type": "display_data"
    },
    {
     "data": {
      "application/vnd.jupyter.widget-view+json": {
       "model_id": "bb28b52ac9624499bfde13aa780c2225",
       "version_major": 2,
       "version_minor": 0
      },
      "text/plain": [
       "dataset_424.parquet:   0%|          | 0.00/3.52M [00:00<?, ?B/s]"
      ]
     },
     "metadata": {},
     "output_type": "display_data"
    },
    {
     "data": {
      "application/vnd.jupyter.widget-view+json": {
       "model_id": "07c54b09b6da40e4bb529ff8a5a66b36",
       "version_major": 2,
       "version_minor": 0
      },
      "text/plain": [
       "dataset_425.parquet:   0%|          | 0.00/3.63M [00:00<?, ?B/s]"
      ]
     },
     "metadata": {},
     "output_type": "display_data"
    },
    {
     "data": {
      "application/vnd.jupyter.widget-view+json": {
       "model_id": "d70f158e5bb2473faf9baefd60352fab",
       "version_major": 2,
       "version_minor": 0
      },
      "text/plain": [
       "dataset_426.parquet:   0%|          | 0.00/3.59M [00:00<?, ?B/s]"
      ]
     },
     "metadata": {},
     "output_type": "display_data"
    },
    {
     "data": {
      "application/vnd.jupyter.widget-view+json": {
       "model_id": "62103daa34dd4b72a1440427c4c3ea29",
       "version_major": 2,
       "version_minor": 0
      },
      "text/plain": [
       "dataset_427.parquet:   0%|          | 0.00/3.61M [00:00<?, ?B/s]"
      ]
     },
     "metadata": {},
     "output_type": "display_data"
    },
    {
     "data": {
      "application/vnd.jupyter.widget-view+json": {
       "model_id": "a1677de71a9542f6a02afe0d6ac7040b",
       "version_major": 2,
       "version_minor": 0
      },
      "text/plain": [
       "dataset_428.parquet:   0%|          | 0.00/3.58M [00:00<?, ?B/s]"
      ]
     },
     "metadata": {},
     "output_type": "display_data"
    },
    {
     "data": {
      "application/vnd.jupyter.widget-view+json": {
       "model_id": "076e4bbbad644a81a2041d2d4c2529e5",
       "version_major": 2,
       "version_minor": 0
      },
      "text/plain": [
       "dataset_429.parquet:   0%|          | 0.00/3.58M [00:00<?, ?B/s]"
      ]
     },
     "metadata": {},
     "output_type": "display_data"
    },
    {
     "data": {
      "application/vnd.jupyter.widget-view+json": {
       "model_id": "4bb24286943d42d39935f1853ab02e16",
       "version_major": 2,
       "version_minor": 0
      },
      "text/plain": [
       "dataset_430.parquet:   0%|          | 0.00/3.63M [00:00<?, ?B/s]"
      ]
     },
     "metadata": {},
     "output_type": "display_data"
    },
    {
     "data": {
      "application/vnd.jupyter.widget-view+json": {
       "model_id": "5ada498c256a46e89aa9c75b859a10db",
       "version_major": 2,
       "version_minor": 0
      },
      "text/plain": [
       "dataset_431.parquet:   0%|          | 0.00/3.77M [00:00<?, ?B/s]"
      ]
     },
     "metadata": {},
     "output_type": "display_data"
    },
    {
     "data": {
      "application/vnd.jupyter.widget-view+json": {
       "model_id": "6bf867a368f743c5b0795dcdc6f4fec5",
       "version_major": 2,
       "version_minor": 0
      },
      "text/plain": [
       "dataset_432.parquet:   0%|          | 0.00/3.51M [00:00<?, ?B/s]"
      ]
     },
     "metadata": {},
     "output_type": "display_data"
    },
    {
     "data": {
      "application/vnd.jupyter.widget-view+json": {
       "model_id": "4c482cf1bb58420d8814746a97f3c146",
       "version_major": 2,
       "version_minor": 0
      },
      "text/plain": [
       "dataset_433.parquet:   0%|          | 0.00/3.61M [00:00<?, ?B/s]"
      ]
     },
     "metadata": {},
     "output_type": "display_data"
    },
    {
     "data": {
      "application/vnd.jupyter.widget-view+json": {
       "model_id": "f1c3ef46d12e4f3d968bad59e06aefa8",
       "version_major": 2,
       "version_minor": 0
      },
      "text/plain": [
       "dataset_434.parquet:   0%|          | 0.00/3.52M [00:00<?, ?B/s]"
      ]
     },
     "metadata": {},
     "output_type": "display_data"
    },
    {
     "data": {
      "application/vnd.jupyter.widget-view+json": {
       "model_id": "083b67cb530c45ce8a58ee5af622f4d2",
       "version_major": 2,
       "version_minor": 0
      },
      "text/plain": [
       "dataset_435.parquet:   0%|          | 0.00/3.49M [00:00<?, ?B/s]"
      ]
     },
     "metadata": {},
     "output_type": "display_data"
    },
    {
     "data": {
      "application/vnd.jupyter.widget-view+json": {
       "model_id": "1ccb5129e81c412c8b969853f053b221",
       "version_major": 2,
       "version_minor": 0
      },
      "text/plain": [
       "dataset_436.parquet:   0%|          | 0.00/3.54M [00:00<?, ?B/s]"
      ]
     },
     "metadata": {},
     "output_type": "display_data"
    },
    {
     "data": {
      "application/vnd.jupyter.widget-view+json": {
       "model_id": "3ec3458e74084dc18a39fe315d36912e",
       "version_major": 2,
       "version_minor": 0
      },
      "text/plain": [
       "dataset_437.parquet:   0%|          | 0.00/3.51M [00:00<?, ?B/s]"
      ]
     },
     "metadata": {},
     "output_type": "display_data"
    },
    {
     "data": {
      "application/vnd.jupyter.widget-view+json": {
       "model_id": "e1c0e215fa2c4d279479b7a477a0be36",
       "version_major": 2,
       "version_minor": 0
      },
      "text/plain": [
       "dataset_438.parquet:   0%|          | 0.00/3.52M [00:00<?, ?B/s]"
      ]
     },
     "metadata": {},
     "output_type": "display_data"
    },
    {
     "data": {
      "application/vnd.jupyter.widget-view+json": {
       "model_id": "bf01ab2b3c2248fb91ef9f2f6135c3ac",
       "version_major": 2,
       "version_minor": 0
      },
      "text/plain": [
       "dataset_439.parquet:   0%|          | 0.00/3.49M [00:00<?, ?B/s]"
      ]
     },
     "metadata": {},
     "output_type": "display_data"
    },
    {
     "data": {
      "application/vnd.jupyter.widget-view+json": {
       "model_id": "4442ebfe9c294b5cb0b40f2d478906a4",
       "version_major": 2,
       "version_minor": 0
      },
      "text/plain": [
       "dataset_440.parquet:   0%|          | 0.00/3.48M [00:00<?, ?B/s]"
      ]
     },
     "metadata": {},
     "output_type": "display_data"
    },
    {
     "data": {
      "application/vnd.jupyter.widget-view+json": {
       "model_id": "1f92f4aa35004ffe9230fdc47fa88cc2",
       "version_major": 2,
       "version_minor": 0
      },
      "text/plain": [
       "dataset_441.parquet:   0%|          | 0.00/3.53M [00:00<?, ?B/s]"
      ]
     },
     "metadata": {},
     "output_type": "display_data"
    },
    {
     "data": {
      "application/vnd.jupyter.widget-view+json": {
       "model_id": "69b1e21335744f3a98bdacce2e7b1629",
       "version_major": 2,
       "version_minor": 0
      },
      "text/plain": [
       "dataset_442.parquet:   0%|          | 0.00/3.57M [00:00<?, ?B/s]"
      ]
     },
     "metadata": {},
     "output_type": "display_data"
    },
    {
     "data": {
      "application/vnd.jupyter.widget-view+json": {
       "model_id": "68634e87d69546f6944cdda41ec362f6",
       "version_major": 2,
       "version_minor": 0
      },
      "text/plain": [
       "dataset_444.parquet:   0%|          | 0.00/3.51M [00:00<?, ?B/s]"
      ]
     },
     "metadata": {},
     "output_type": "display_data"
    },
    {
     "data": {
      "application/vnd.jupyter.widget-view+json": {
       "model_id": "4ce00f65039f4a2b9c858739e5fbb076",
       "version_major": 2,
       "version_minor": 0
      },
      "text/plain": [
       "dataset_443.parquet:   0%|          | 0.00/3.58M [00:00<?, ?B/s]"
      ]
     },
     "metadata": {},
     "output_type": "display_data"
    },
    {
     "data": {
      "application/vnd.jupyter.widget-view+json": {
       "model_id": "7a26a5204b9d498f9c282d7e1a847bb9",
       "version_major": 2,
       "version_minor": 0
      },
      "text/plain": [
       "dataset_445.parquet:   0%|          | 0.00/3.57M [00:00<?, ?B/s]"
      ]
     },
     "metadata": {},
     "output_type": "display_data"
    },
    {
     "data": {
      "application/vnd.jupyter.widget-view+json": {
       "model_id": "1d8b97a6cafd4bf1bb63bcbe379b60da",
       "version_major": 2,
       "version_minor": 0
      },
      "text/plain": [
       "dataset_446.parquet:   0%|          | 0.00/3.52M [00:00<?, ?B/s]"
      ]
     },
     "metadata": {},
     "output_type": "display_data"
    },
    {
     "data": {
      "application/vnd.jupyter.widget-view+json": {
       "model_id": "1a15f554de074c4d8dbefebb510b3dd0",
       "version_major": 2,
       "version_minor": 0
      },
      "text/plain": [
       "dataset_447.parquet:   0%|          | 0.00/3.52M [00:00<?, ?B/s]"
      ]
     },
     "metadata": {},
     "output_type": "display_data"
    },
    {
     "data": {
      "application/vnd.jupyter.widget-view+json": {
       "model_id": "b299c2ac44554d218f9303a072117fbd",
       "version_major": 2,
       "version_minor": 0
      },
      "text/plain": [
       "dataset_448.parquet:   0%|          | 0.00/3.50M [00:00<?, ?B/s]"
      ]
     },
     "metadata": {},
     "output_type": "display_data"
    },
    {
     "data": {
      "application/vnd.jupyter.widget-view+json": {
       "model_id": "a31caaefb4e04844b56901240e3c9ca1",
       "version_major": 2,
       "version_minor": 0
      },
      "text/plain": [
       "dataset_449.parquet:   0%|          | 0.00/3.67M [00:00<?, ?B/s]"
      ]
     },
     "metadata": {},
     "output_type": "display_data"
    },
    {
     "data": {
      "application/vnd.jupyter.widget-view+json": {
       "model_id": "95a6f8c6db09446a8a05b2efe1096e6b",
       "version_major": 2,
       "version_minor": 0
      },
      "text/plain": [
       "dataset_450.parquet:   0%|          | 0.00/3.50M [00:00<?, ?B/s]"
      ]
     },
     "metadata": {},
     "output_type": "display_data"
    },
    {
     "data": {
      "application/vnd.jupyter.widget-view+json": {
       "model_id": "b72112fb6ed84a86a157f13af526acb1",
       "version_major": 2,
       "version_minor": 0
      },
      "text/plain": [
       "dataset_451.parquet:   0%|          | 0.00/3.49M [00:00<?, ?B/s]"
      ]
     },
     "metadata": {},
     "output_type": "display_data"
    },
    {
     "data": {
      "application/vnd.jupyter.widget-view+json": {
       "model_id": "d4c95639601e4c1382d7339ab872487f",
       "version_major": 2,
       "version_minor": 0
      },
      "text/plain": [
       "dataset_452.parquet:   0%|          | 0.00/3.60M [00:00<?, ?B/s]"
      ]
     },
     "metadata": {},
     "output_type": "display_data"
    },
    {
     "data": {
      "application/vnd.jupyter.widget-view+json": {
       "model_id": "363a590dc6574be29cd4344ee5a6abd8",
       "version_major": 2,
       "version_minor": 0
      },
      "text/plain": [
       "dataset_453.parquet:   0%|          | 0.00/3.46M [00:00<?, ?B/s]"
      ]
     },
     "metadata": {},
     "output_type": "display_data"
    },
    {
     "data": {
      "application/vnd.jupyter.widget-view+json": {
       "model_id": "188f3e863a2040a4ae421a32fdc8a55a",
       "version_major": 2,
       "version_minor": 0
      },
      "text/plain": [
       "dataset_454.parquet:   0%|          | 0.00/3.44M [00:00<?, ?B/s]"
      ]
     },
     "metadata": {},
     "output_type": "display_data"
    },
    {
     "data": {
      "application/vnd.jupyter.widget-view+json": {
       "model_id": "d068c8ecc09a4806b55936ac0f85ac58",
       "version_major": 2,
       "version_minor": 0
      },
      "text/plain": [
       "dataset_455.parquet:   0%|          | 0.00/3.46M [00:00<?, ?B/s]"
      ]
     },
     "metadata": {},
     "output_type": "display_data"
    },
    {
     "data": {
      "application/vnd.jupyter.widget-view+json": {
       "model_id": "496909f048224e4984fc14433594b413",
       "version_major": 2,
       "version_minor": 0
      },
      "text/plain": [
       "dataset_456.parquet:   0%|          | 0.00/3.47M [00:00<?, ?B/s]"
      ]
     },
     "metadata": {},
     "output_type": "display_data"
    },
    {
     "data": {
      "application/vnd.jupyter.widget-view+json": {
       "model_id": "d6a43bef44e0490bafe9c80b6d908e55",
       "version_major": 2,
       "version_minor": 0
      },
      "text/plain": [
       "dataset_457.parquet:   0%|          | 0.00/3.55M [00:00<?, ?B/s]"
      ]
     },
     "metadata": {},
     "output_type": "display_data"
    },
    {
     "data": {
      "application/vnd.jupyter.widget-view+json": {
       "model_id": "68c549f43fc14f888f7be78cb96fb01d",
       "version_major": 2,
       "version_minor": 0
      },
      "text/plain": [
       "dataset_458.parquet:   0%|          | 0.00/3.42M [00:00<?, ?B/s]"
      ]
     },
     "metadata": {},
     "output_type": "display_data"
    },
    {
     "data": {
      "application/vnd.jupyter.widget-view+json": {
       "model_id": "c94e9f8c6995458ab458402d33143d49",
       "version_major": 2,
       "version_minor": 0
      },
      "text/plain": [
       "dataset_459.parquet:   0%|          | 0.00/3.41M [00:00<?, ?B/s]"
      ]
     },
     "metadata": {},
     "output_type": "display_data"
    },
    {
     "data": {
      "application/vnd.jupyter.widget-view+json": {
       "model_id": "265a516f51544d419508ba267e54a80b",
       "version_major": 2,
       "version_minor": 0
      },
      "text/plain": [
       "dataset_460.parquet:   0%|          | 0.00/3.52M [00:00<?, ?B/s]"
      ]
     },
     "metadata": {},
     "output_type": "display_data"
    },
    {
     "data": {
      "application/vnd.jupyter.widget-view+json": {
       "model_id": "ab386f5f6abd498ca142ab5457d9944c",
       "version_major": 2,
       "version_minor": 0
      },
      "text/plain": [
       "dataset_461.parquet:   0%|          | 0.00/3.47M [00:00<?, ?B/s]"
      ]
     },
     "metadata": {},
     "output_type": "display_data"
    },
    {
     "data": {
      "application/vnd.jupyter.widget-view+json": {
       "model_id": "beb89c74be31407890212a4dd40322dc",
       "version_major": 2,
       "version_minor": 0
      },
      "text/plain": [
       "dataset_462.parquet:   0%|          | 0.00/3.53M [00:00<?, ?B/s]"
      ]
     },
     "metadata": {},
     "output_type": "display_data"
    },
    {
     "data": {
      "application/vnd.jupyter.widget-view+json": {
       "model_id": "c22e564c652246d9af043d76689a3366",
       "version_major": 2,
       "version_minor": 0
      },
      "text/plain": [
       "dataset_463.parquet:   0%|          | 0.00/3.38M [00:00<?, ?B/s]"
      ]
     },
     "metadata": {},
     "output_type": "display_data"
    },
    {
     "data": {
      "application/vnd.jupyter.widget-view+json": {
       "model_id": "25415bf112e4486d9f66f1d3a61b0afc",
       "version_major": 2,
       "version_minor": 0
      },
      "text/plain": [
       "dataset_464.parquet:   0%|          | 0.00/3.42M [00:00<?, ?B/s]"
      ]
     },
     "metadata": {},
     "output_type": "display_data"
    },
    {
     "data": {
      "application/vnd.jupyter.widget-view+json": {
       "model_id": "388dc2847d10429b848fa4ff9bc53358",
       "version_major": 2,
       "version_minor": 0
      },
      "text/plain": [
       "dataset_465.parquet:   0%|          | 0.00/3.50M [00:00<?, ?B/s]"
      ]
     },
     "metadata": {},
     "output_type": "display_data"
    },
    {
     "data": {
      "application/vnd.jupyter.widget-view+json": {
       "model_id": "45f3fa5f4bc44ce6bf3ecc05836275ec",
       "version_major": 2,
       "version_minor": 0
      },
      "text/plain": [
       "dataset_466.parquet:   0%|          | 0.00/3.42M [00:00<?, ?B/s]"
      ]
     },
     "metadata": {},
     "output_type": "display_data"
    },
    {
     "data": {
      "application/vnd.jupyter.widget-view+json": {
       "model_id": "b32319e2ff8840818a40c95030745e03",
       "version_major": 2,
       "version_minor": 0
      },
      "text/plain": [
       "dataset_467.parquet:   0%|          | 0.00/3.42M [00:00<?, ?B/s]"
      ]
     },
     "metadata": {},
     "output_type": "display_data"
    },
    {
     "data": {
      "application/vnd.jupyter.widget-view+json": {
       "model_id": "0eb0a50653fa4e029d41870c69930b21",
       "version_major": 2,
       "version_minor": 0
      },
      "text/plain": [
       "dataset_468.parquet:   0%|          | 0.00/3.50M [00:00<?, ?B/s]"
      ]
     },
     "metadata": {},
     "output_type": "display_data"
    },
    {
     "data": {
      "application/vnd.jupyter.widget-view+json": {
       "model_id": "818535c938564f7481686dcdbc2a9148",
       "version_major": 2,
       "version_minor": 0
      },
      "text/plain": [
       "dataset_469.parquet:   0%|          | 0.00/3.66M [00:00<?, ?B/s]"
      ]
     },
     "metadata": {},
     "output_type": "display_data"
    },
    {
     "data": {
      "application/vnd.jupyter.widget-view+json": {
       "model_id": "0970b4eb3fe64d769e6fabd92e3909fd",
       "version_major": 2,
       "version_minor": 0
      },
      "text/plain": [
       "dataset_471.parquet:   0%|          | 0.00/3.65M [00:00<?, ?B/s]"
      ]
     },
     "metadata": {},
     "output_type": "display_data"
    },
    {
     "data": {
      "application/vnd.jupyter.widget-view+json": {
       "model_id": "000697c77d80465aac40958ba9e0aad6",
       "version_major": 2,
       "version_minor": 0
      },
      "text/plain": [
       "dataset_470.parquet:   0%|          | 0.00/3.51M [00:00<?, ?B/s]"
      ]
     },
     "metadata": {},
     "output_type": "display_data"
    },
    {
     "data": {
      "application/vnd.jupyter.widget-view+json": {
       "model_id": "f16816de1fc4499d95fa2de9583ca950",
       "version_major": 2,
       "version_minor": 0
      },
      "text/plain": [
       "dataset_472.parquet:   0%|          | 0.00/3.53M [00:00<?, ?B/s]"
      ]
     },
     "metadata": {},
     "output_type": "display_data"
    },
    {
     "data": {
      "application/vnd.jupyter.widget-view+json": {
       "model_id": "8b98cc49a7804a059f11d6251c976fa5",
       "version_major": 2,
       "version_minor": 0
      },
      "text/plain": [
       "dataset_473.parquet:   0%|          | 0.00/3.45M [00:00<?, ?B/s]"
      ]
     },
     "metadata": {},
     "output_type": "display_data"
    },
    {
     "data": {
      "application/vnd.jupyter.widget-view+json": {
       "model_id": "3d23c66db4ed4df6a0919839150b8d76",
       "version_major": 2,
       "version_minor": 0
      },
      "text/plain": [
       "dataset_474.parquet:   0%|          | 0.00/3.44M [00:00<?, ?B/s]"
      ]
     },
     "metadata": {},
     "output_type": "display_data"
    },
    {
     "data": {
      "application/vnd.jupyter.widget-view+json": {
       "model_id": "def436e1eca8468484647bddff977b20",
       "version_major": 2,
       "version_minor": 0
      },
      "text/plain": [
       "dataset_475.parquet:   0%|          | 0.00/3.55M [00:00<?, ?B/s]"
      ]
     },
     "metadata": {},
     "output_type": "display_data"
    },
    {
     "data": {
      "application/vnd.jupyter.widget-view+json": {
       "model_id": "5b738556db9e40e1940256cb8fd94426",
       "version_major": 2,
       "version_minor": 0
      },
      "text/plain": [
       "dataset_476.parquet:   0%|          | 0.00/3.53M [00:00<?, ?B/s]"
      ]
     },
     "metadata": {},
     "output_type": "display_data"
    },
    {
     "data": {
      "application/vnd.jupyter.widget-view+json": {
       "model_id": "4faeef6dca0a43f390db44617792cb97",
       "version_major": 2,
       "version_minor": 0
      },
      "text/plain": [
       "dataset_477.parquet:   0%|          | 0.00/3.55M [00:00<?, ?B/s]"
      ]
     },
     "metadata": {},
     "output_type": "display_data"
    },
    {
     "data": {
      "application/vnd.jupyter.widget-view+json": {
       "model_id": "5174f734a3f041d3a94a95fe2eb2f6b3",
       "version_major": 2,
       "version_minor": 0
      },
      "text/plain": [
       "dataset_478.parquet:   0%|          | 0.00/3.53M [00:00<?, ?B/s]"
      ]
     },
     "metadata": {},
     "output_type": "display_data"
    },
    {
     "data": {
      "application/vnd.jupyter.widget-view+json": {
       "model_id": "459ea6ee37304b31bfc21deb01784b3c",
       "version_major": 2,
       "version_minor": 0
      },
      "text/plain": [
       "dataset_479.parquet:   0%|          | 0.00/3.60M [00:00<?, ?B/s]"
      ]
     },
     "metadata": {},
     "output_type": "display_data"
    },
    {
     "data": {
      "application/vnd.jupyter.widget-view+json": {
       "model_id": "b7388e9a08de49368cc6426bc6fe74b7",
       "version_major": 2,
       "version_minor": 0
      },
      "text/plain": [
       "dataset_480.parquet:   0%|          | 0.00/3.57M [00:00<?, ?B/s]"
      ]
     },
     "metadata": {},
     "output_type": "display_data"
    },
    {
     "data": {
      "application/vnd.jupyter.widget-view+json": {
       "model_id": "947c91121bc74478b6356531a0340f62",
       "version_major": 2,
       "version_minor": 0
      },
      "text/plain": [
       "dataset_481.parquet:   0%|          | 0.00/3.63M [00:00<?, ?B/s]"
      ]
     },
     "metadata": {},
     "output_type": "display_data"
    },
    {
     "data": {
      "application/vnd.jupyter.widget-view+json": {
       "model_id": "f9540d262fbb46549355eadb947ba97c",
       "version_major": 2,
       "version_minor": 0
      },
      "text/plain": [
       "dataset_482.parquet:   0%|          | 0.00/3.47M [00:00<?, ?B/s]"
      ]
     },
     "metadata": {},
     "output_type": "display_data"
    },
    {
     "data": {
      "application/vnd.jupyter.widget-view+json": {
       "model_id": "1e1d3ad572964f94aec864a32a68c2ae",
       "version_major": 2,
       "version_minor": 0
      },
      "text/plain": [
       "dataset_483.parquet:   0%|          | 0.00/3.58M [00:00<?, ?B/s]"
      ]
     },
     "metadata": {},
     "output_type": "display_data"
    },
    {
     "data": {
      "application/vnd.jupyter.widget-view+json": {
       "model_id": "99f15cd448d3431bb072c078396b1bd1",
       "version_major": 2,
       "version_minor": 0
      },
      "text/plain": [
       "dataset_484.parquet:   0%|          | 0.00/3.67M [00:00<?, ?B/s]"
      ]
     },
     "metadata": {},
     "output_type": "display_data"
    },
    {
     "data": {
      "application/vnd.jupyter.widget-view+json": {
       "model_id": "fa61659881454d52b89b7ffdda1fff6b",
       "version_major": 2,
       "version_minor": 0
      },
      "text/plain": [
       "dataset_485.parquet:   0%|          | 0.00/3.68M [00:00<?, ?B/s]"
      ]
     },
     "metadata": {},
     "output_type": "display_data"
    },
    {
     "data": {
      "application/vnd.jupyter.widget-view+json": {
       "model_id": "a1f1cb6e632c41389558520dadfc3600",
       "version_major": 2,
       "version_minor": 0
      },
      "text/plain": [
       "dataset_486.parquet:   0%|          | 0.00/3.56M [00:00<?, ?B/s]"
      ]
     },
     "metadata": {},
     "output_type": "display_data"
    },
    {
     "data": {
      "application/vnd.jupyter.widget-view+json": {
       "model_id": "319bc81996db44ee919d688713862f3e",
       "version_major": 2,
       "version_minor": 0
      },
      "text/plain": [
       "dataset_487.parquet:   0%|          | 0.00/3.69M [00:00<?, ?B/s]"
      ]
     },
     "metadata": {},
     "output_type": "display_data"
    },
    {
     "data": {
      "application/vnd.jupyter.widget-view+json": {
       "model_id": "0d90318602cd401397510b807e77276d",
       "version_major": 2,
       "version_minor": 0
      },
      "text/plain": [
       "dataset_488.parquet:   0%|          | 0.00/3.71M [00:00<?, ?B/s]"
      ]
     },
     "metadata": {},
     "output_type": "display_data"
    },
    {
     "data": {
      "application/vnd.jupyter.widget-view+json": {
       "model_id": "e24ffd3f7d1f4f9a9ab6ef1c88d9e829",
       "version_major": 2,
       "version_minor": 0
      },
      "text/plain": [
       "dataset_489.parquet:   0%|          | 0.00/3.47M [00:00<?, ?B/s]"
      ]
     },
     "metadata": {},
     "output_type": "display_data"
    },
    {
     "data": {
      "application/vnd.jupyter.widget-view+json": {
       "model_id": "df3b53449d1e446195885003e7f0c3e8",
       "version_major": 2,
       "version_minor": 0
      },
      "text/plain": [
       "dataset_490.parquet:   0%|          | 0.00/3.48M [00:00<?, ?B/s]"
      ]
     },
     "metadata": {},
     "output_type": "display_data"
    },
    {
     "data": {
      "application/vnd.jupyter.widget-view+json": {
       "model_id": "64c29453f768441d9de6fcac85b87863",
       "version_major": 2,
       "version_minor": 0
      },
      "text/plain": [
       "dataset_491.parquet:   0%|          | 0.00/3.52M [00:00<?, ?B/s]"
      ]
     },
     "metadata": {},
     "output_type": "display_data"
    },
    {
     "data": {
      "application/vnd.jupyter.widget-view+json": {
       "model_id": "ebe8eae5cb994efda027e66d775a4347",
       "version_major": 2,
       "version_minor": 0
      },
      "text/plain": [
       "dataset_492.parquet:   0%|          | 0.00/3.45M [00:00<?, ?B/s]"
      ]
     },
     "metadata": {},
     "output_type": "display_data"
    },
    {
     "data": {
      "application/vnd.jupyter.widget-view+json": {
       "model_id": "4b9c92ed8c0b45cda612509b612d62df",
       "version_major": 2,
       "version_minor": 0
      },
      "text/plain": [
       "dataset_493.parquet:   0%|          | 0.00/3.45M [00:00<?, ?B/s]"
      ]
     },
     "metadata": {},
     "output_type": "display_data"
    },
    {
     "data": {
      "application/vnd.jupyter.widget-view+json": {
       "model_id": "7242377094554803aa3b7c58417e67c6",
       "version_major": 2,
       "version_minor": 0
      },
      "text/plain": [
       "dataset_494.parquet:   0%|          | 0.00/3.58M [00:00<?, ?B/s]"
      ]
     },
     "metadata": {},
     "output_type": "display_data"
    },
    {
     "data": {
      "application/vnd.jupyter.widget-view+json": {
       "model_id": "f0ad7dfaeeb84e73baf4b23d3232842b",
       "version_major": 2,
       "version_minor": 0
      },
      "text/plain": [
       "dataset_495.parquet:   0%|          | 0.00/3.50M [00:00<?, ?B/s]"
      ]
     },
     "metadata": {},
     "output_type": "display_data"
    },
    {
     "data": {
      "application/vnd.jupyter.widget-view+json": {
       "model_id": "e195f9ea1d78417286b2805062cdde5d",
       "version_major": 2,
       "version_minor": 0
      },
      "text/plain": [
       "dataset_496.parquet:   0%|          | 0.00/3.55M [00:00<?, ?B/s]"
      ]
     },
     "metadata": {},
     "output_type": "display_data"
    },
    {
     "data": {
      "application/vnd.jupyter.widget-view+json": {
       "model_id": "d227e3043e7a4f83a84a434d363af1de",
       "version_major": 2,
       "version_minor": 0
      },
      "text/plain": [
       "dataset_497.parquet:   0%|          | 0.00/3.66M [00:00<?, ?B/s]"
      ]
     },
     "metadata": {},
     "output_type": "display_data"
    },
    {
     "data": {
      "application/vnd.jupyter.widget-view+json": {
       "model_id": "f54e380720844fb28d2cb5caec9ef715",
       "version_major": 2,
       "version_minor": 0
      },
      "text/plain": [
       "dataset_498.parquet:   0%|          | 0.00/3.40M [00:00<?, ?B/s]"
      ]
     },
     "metadata": {},
     "output_type": "display_data"
    },
    {
     "data": {
      "application/vnd.jupyter.widget-view+json": {
       "model_id": "1c58b85af30246e2b2b9fe1ee1799502",
       "version_major": 2,
       "version_minor": 0
      },
      "text/plain": [
       "dataset_499.parquet:   0%|          | 0.00/3.30M [00:00<?, ?B/s]"
      ]
     },
     "metadata": {},
     "output_type": "display_data"
    },
    {
     "data": {
      "application/vnd.jupyter.widget-view+json": {
       "model_id": "02ef350a9fe74617914d661330fd77d4",
       "version_major": 2,
       "version_minor": 0
      },
      "text/plain": [
       "dataset_500.parquet:   0%|          | 0.00/3.29M [00:00<?, ?B/s]"
      ]
     },
     "metadata": {},
     "output_type": "display_data"
    },
    {
     "data": {
      "application/vnd.jupyter.widget-view+json": {
       "model_id": "36083bb245fe4221bdf17b60cbb7661c",
       "version_major": 2,
       "version_minor": 0
      },
      "text/plain": [
       "dataset_501.parquet:   0%|          | 0.00/3.30M [00:00<?, ?B/s]"
      ]
     },
     "metadata": {},
     "output_type": "display_data"
    },
    {
     "data": {
      "application/vnd.jupyter.widget-view+json": {
       "model_id": "de7595114ae4420b9087fb9750396079",
       "version_major": 2,
       "version_minor": 0
      },
      "text/plain": [
       "dataset_502.parquet:   0%|          | 0.00/3.46M [00:00<?, ?B/s]"
      ]
     },
     "metadata": {},
     "output_type": "display_data"
    },
    {
     "data": {
      "application/vnd.jupyter.widget-view+json": {
       "model_id": "b3a0eb790ebb4b289560e093841e3b78",
       "version_major": 2,
       "version_minor": 0
      },
      "text/plain": [
       "dataset_503.parquet:   0%|          | 0.00/3.49M [00:00<?, ?B/s]"
      ]
     },
     "metadata": {},
     "output_type": "display_data"
    },
    {
     "data": {
      "application/vnd.jupyter.widget-view+json": {
       "model_id": "3331d1c1604041acba5ac83502c4392c",
       "version_major": 2,
       "version_minor": 0
      },
      "text/plain": [
       "dataset_504.parquet:   0%|          | 0.00/3.46M [00:00<?, ?B/s]"
      ]
     },
     "metadata": {},
     "output_type": "display_data"
    },
    {
     "data": {
      "application/vnd.jupyter.widget-view+json": {
       "model_id": "befbdf7cabd4411fa3b22d90e6f3591b",
       "version_major": 2,
       "version_minor": 0
      },
      "text/plain": [
       "dataset_505.parquet:   0%|          | 0.00/3.49M [00:00<?, ?B/s]"
      ]
     },
     "metadata": {},
     "output_type": "display_data"
    },
    {
     "data": {
      "application/vnd.jupyter.widget-view+json": {
       "model_id": "a12968d1daa949c286e3a420df08c181",
       "version_major": 2,
       "version_minor": 0
      },
      "text/plain": [
       "dataset_506.parquet:   0%|          | 0.00/3.43M [00:00<?, ?B/s]"
      ]
     },
     "metadata": {},
     "output_type": "display_data"
    },
    {
     "data": {
      "application/vnd.jupyter.widget-view+json": {
       "model_id": "5ec697021cb046aea72cc487f0f4aed1",
       "version_major": 2,
       "version_minor": 0
      },
      "text/plain": [
       "dataset_507.parquet:   0%|          | 0.00/3.48M [00:00<?, ?B/s]"
      ]
     },
     "metadata": {},
     "output_type": "display_data"
    },
    {
     "data": {
      "application/vnd.jupyter.widget-view+json": {
       "model_id": "6dd4aa9a296d4bef81ff8b425690cde6",
       "version_major": 2,
       "version_minor": 0
      },
      "text/plain": [
       "dataset_508.parquet:   0%|          | 0.00/3.45M [00:00<?, ?B/s]"
      ]
     },
     "metadata": {},
     "output_type": "display_data"
    },
    {
     "data": {
      "application/vnd.jupyter.widget-view+json": {
       "model_id": "36c201c82adf4b548a64226248b48cf4",
       "version_major": 2,
       "version_minor": 0
      },
      "text/plain": [
       "dataset_509.parquet:   0%|          | 0.00/3.49M [00:00<?, ?B/s]"
      ]
     },
     "metadata": {},
     "output_type": "display_data"
    },
    {
     "data": {
      "application/vnd.jupyter.widget-view+json": {
       "model_id": "d9048bd3cdb743c1a440f696de5076cc",
       "version_major": 2,
       "version_minor": 0
      },
      "text/plain": [
       "dataset_510.parquet:   0%|          | 0.00/3.58M [00:00<?, ?B/s]"
      ]
     },
     "metadata": {},
     "output_type": "display_data"
    },
    {
     "data": {
      "application/vnd.jupyter.widget-view+json": {
       "model_id": "cca61d9662834454895a0155a6c365cf",
       "version_major": 2,
       "version_minor": 0
      },
      "text/plain": [
       "dataset_511.parquet:   0%|          | 0.00/3.45M [00:00<?, ?B/s]"
      ]
     },
     "metadata": {},
     "output_type": "display_data"
    },
    {
     "data": {
      "application/vnd.jupyter.widget-view+json": {
       "model_id": "afae61e6a468457b9599180b410c6ddc",
       "version_major": 2,
       "version_minor": 0
      },
      "text/plain": [
       "dataset_512.parquet:   0%|          | 0.00/3.35M [00:00<?, ?B/s]"
      ]
     },
     "metadata": {},
     "output_type": "display_data"
    },
    {
     "data": {
      "application/vnd.jupyter.widget-view+json": {
       "model_id": "62e50432080549db9fa842f70b02333d",
       "version_major": 2,
       "version_minor": 0
      },
      "text/plain": [
       "dataset_513.parquet:   0%|          | 0.00/3.40M [00:00<?, ?B/s]"
      ]
     },
     "metadata": {},
     "output_type": "display_data"
    },
    {
     "data": {
      "application/vnd.jupyter.widget-view+json": {
       "model_id": "837ecea444054004b3f8eba435b5f590",
       "version_major": 2,
       "version_minor": 0
      },
      "text/plain": [
       "dataset_514.parquet:   0%|          | 0.00/3.48M [00:00<?, ?B/s]"
      ]
     },
     "metadata": {},
     "output_type": "display_data"
    },
    {
     "data": {
      "application/vnd.jupyter.widget-view+json": {
       "model_id": "d621aff77d784fce9286fed72d583a82",
       "version_major": 2,
       "version_minor": 0
      },
      "text/plain": [
       "dataset_515.parquet:   0%|          | 0.00/3.42M [00:00<?, ?B/s]"
      ]
     },
     "metadata": {},
     "output_type": "display_data"
    },
    {
     "data": {
      "application/vnd.jupyter.widget-view+json": {
       "model_id": "a441a1a43e9d497994198b5ab69508bf",
       "version_major": 2,
       "version_minor": 0
      },
      "text/plain": [
       "dataset_517.parquet:   0%|          | 0.00/3.56M [00:00<?, ?B/s]"
      ]
     },
     "metadata": {},
     "output_type": "display_data"
    },
    {
     "data": {
      "application/vnd.jupyter.widget-view+json": {
       "model_id": "e0a293392a184929a7797d30c0aed16b",
       "version_major": 2,
       "version_minor": 0
      },
      "text/plain": [
       "dataset_516.parquet:   0%|          | 0.00/3.50M [00:00<?, ?B/s]"
      ]
     },
     "metadata": {},
     "output_type": "display_data"
    },
    {
     "data": {
      "application/vnd.jupyter.widget-view+json": {
       "model_id": "52d91fb951814748a05ece51370cbc2b",
       "version_major": 2,
       "version_minor": 0
      },
      "text/plain": [
       "dataset_518.parquet:   0%|          | 0.00/3.48M [00:00<?, ?B/s]"
      ]
     },
     "metadata": {},
     "output_type": "display_data"
    },
    {
     "data": {
      "application/vnd.jupyter.widget-view+json": {
       "model_id": "113fbff415a54b78ae8232af4620c4f5",
       "version_major": 2,
       "version_minor": 0
      },
      "text/plain": [
       "dataset_519.parquet:   0%|          | 0.00/3.54M [00:00<?, ?B/s]"
      ]
     },
     "metadata": {},
     "output_type": "display_data"
    },
    {
     "data": {
      "application/vnd.jupyter.widget-view+json": {
       "model_id": "2f866227b7d640d2be55b69325aa3a02",
       "version_major": 2,
       "version_minor": 0
      },
      "text/plain": [
       "dataset_520.parquet:   0%|          | 0.00/3.49M [00:00<?, ?B/s]"
      ]
     },
     "metadata": {},
     "output_type": "display_data"
    },
    {
     "data": {
      "application/vnd.jupyter.widget-view+json": {
       "model_id": "8152bed137ff4c7284c0737241a3b78e",
       "version_major": 2,
       "version_minor": 0
      },
      "text/plain": [
       "dataset_521.parquet:   0%|          | 0.00/3.62M [00:00<?, ?B/s]"
      ]
     },
     "metadata": {},
     "output_type": "display_data"
    },
    {
     "data": {
      "application/vnd.jupyter.widget-view+json": {
       "model_id": "516f0662d3eb436fbf3249991cd0517e",
       "version_major": 2,
       "version_minor": 0
      },
      "text/plain": [
       "dataset_522.parquet:   0%|          | 0.00/3.49M [00:00<?, ?B/s]"
      ]
     },
     "metadata": {},
     "output_type": "display_data"
    },
    {
     "data": {
      "application/vnd.jupyter.widget-view+json": {
       "model_id": "c9d22b4b97434f319468ca080dead26a",
       "version_major": 2,
       "version_minor": 0
      },
      "text/plain": [
       "dataset_523.parquet:   0%|          | 0.00/3.51M [00:00<?, ?B/s]"
      ]
     },
     "metadata": {},
     "output_type": "display_data"
    },
    {
     "data": {
      "application/vnd.jupyter.widget-view+json": {
       "model_id": "a517d74b42c04a92a390cea7c15c7684",
       "version_major": 2,
       "version_minor": 0
      },
      "text/plain": [
       "dataset_524.parquet:   0%|          | 0.00/3.54M [00:00<?, ?B/s]"
      ]
     },
     "metadata": {},
     "output_type": "display_data"
    },
    {
     "data": {
      "application/vnd.jupyter.widget-view+json": {
       "model_id": "0d9f4a2825604a0cbfaa911f0a68b1be",
       "version_major": 2,
       "version_minor": 0
      },
      "text/plain": [
       "dataset_525.parquet:   0%|          | 0.00/3.45M [00:00<?, ?B/s]"
      ]
     },
     "metadata": {},
     "output_type": "display_data"
    },
    {
     "data": {
      "application/vnd.jupyter.widget-view+json": {
       "model_id": "13430fc6cbfa4c47b1a160a38d3a62a0",
       "version_major": 2,
       "version_minor": 0
      },
      "text/plain": [
       "dataset_526.parquet:   0%|          | 0.00/3.31M [00:00<?, ?B/s]"
      ]
     },
     "metadata": {},
     "output_type": "display_data"
    },
    {
     "data": {
      "application/vnd.jupyter.widget-view+json": {
       "model_id": "a14a9576e289459889808e4f547e198f",
       "version_major": 2,
       "version_minor": 0
      },
      "text/plain": [
       "dataset_527.parquet:   0%|          | 0.00/3.22M [00:00<?, ?B/s]"
      ]
     },
     "metadata": {},
     "output_type": "display_data"
    },
    {
     "data": {
      "application/vnd.jupyter.widget-view+json": {
       "model_id": "1ba1d312b20448bbad440f66f0933dbd",
       "version_major": 2,
       "version_minor": 0
      },
      "text/plain": [
       "dataset_528.parquet:   0%|          | 0.00/3.33M [00:00<?, ?B/s]"
      ]
     },
     "metadata": {},
     "output_type": "display_data"
    },
    {
     "data": {
      "application/vnd.jupyter.widget-view+json": {
       "model_id": "9a1a2bb0ee8e402dabddccbe367481bc",
       "version_major": 2,
       "version_minor": 0
      },
      "text/plain": [
       "dataset_529.parquet:   0%|          | 0.00/3.28M [00:00<?, ?B/s]"
      ]
     },
     "metadata": {},
     "output_type": "display_data"
    },
    {
     "data": {
      "application/vnd.jupyter.widget-view+json": {
       "model_id": "32a513b39ec643fd80ae3dc37eaa2a75",
       "version_major": 2,
       "version_minor": 0
      },
      "text/plain": [
       "dataset_530.parquet:   0%|          | 0.00/3.33M [00:00<?, ?B/s]"
      ]
     },
     "metadata": {},
     "output_type": "display_data"
    },
    {
     "data": {
      "application/vnd.jupyter.widget-view+json": {
       "model_id": "37073cacbacb4d8bbe4745f456ab34e6",
       "version_major": 2,
       "version_minor": 0
      },
      "text/plain": [
       "dataset_531.parquet:   0%|          | 0.00/3.34M [00:00<?, ?B/s]"
      ]
     },
     "metadata": {},
     "output_type": "display_data"
    },
    {
     "data": {
      "application/vnd.jupyter.widget-view+json": {
       "model_id": "8ab50d4331ea4d74aaa8692e2d9e5ec6",
       "version_major": 2,
       "version_minor": 0
      },
      "text/plain": [
       "dataset_532.parquet:   0%|          | 0.00/3.29M [00:00<?, ?B/s]"
      ]
     },
     "metadata": {},
     "output_type": "display_data"
    },
    {
     "data": {
      "application/vnd.jupyter.widget-view+json": {
       "model_id": "18ac4d7ae4c24b34b013007647b05683",
       "version_major": 2,
       "version_minor": 0
      },
      "text/plain": [
       "dataset_533.parquet:   0%|          | 0.00/3.28M [00:00<?, ?B/s]"
      ]
     },
     "metadata": {},
     "output_type": "display_data"
    },
    {
     "data": {
      "application/vnd.jupyter.widget-view+json": {
       "model_id": "5db54c52b88e4e3ab2e0a8062d7d8519",
       "version_major": 2,
       "version_minor": 0
      },
      "text/plain": [
       "dataset_534.parquet:   0%|          | 0.00/3.34M [00:00<?, ?B/s]"
      ]
     },
     "metadata": {},
     "output_type": "display_data"
    },
    {
     "data": {
      "application/vnd.jupyter.widget-view+json": {
       "model_id": "dd694b2b98a747ae8f1654195349b83b",
       "version_major": 2,
       "version_minor": 0
      },
      "text/plain": [
       "dataset_535.parquet:   0%|          | 0.00/3.31M [00:00<?, ?B/s]"
      ]
     },
     "metadata": {},
     "output_type": "display_data"
    },
    {
     "data": {
      "application/vnd.jupyter.widget-view+json": {
       "model_id": "ca0e89553ae64d5b8fa6b14cb8f6d80b",
       "version_major": 2,
       "version_minor": 0
      },
      "text/plain": [
       "dataset_536.parquet:   0%|          | 0.00/3.30M [00:00<?, ?B/s]"
      ]
     },
     "metadata": {},
     "output_type": "display_data"
    },
    {
     "data": {
      "application/vnd.jupyter.widget-view+json": {
       "model_id": "3e5dc83c1db64968b496835fb29a67b4",
       "version_major": 2,
       "version_minor": 0
      },
      "text/plain": [
       "dataset_537.parquet:   0%|          | 0.00/3.25M [00:00<?, ?B/s]"
      ]
     },
     "metadata": {},
     "output_type": "display_data"
    },
    {
     "data": {
      "application/vnd.jupyter.widget-view+json": {
       "model_id": "87a61600642a4ae68a3188a5e833d67a",
       "version_major": 2,
       "version_minor": 0
      },
      "text/plain": [
       "dataset_539.parquet:   0%|          | 0.00/3.32M [00:00<?, ?B/s]"
      ]
     },
     "metadata": {},
     "output_type": "display_data"
    },
    {
     "data": {
      "application/vnd.jupyter.widget-view+json": {
       "model_id": "b82249297d7c4c6ab73f1489a5bad5ee",
       "version_major": 2,
       "version_minor": 0
      },
      "text/plain": [
       "dataset_538.parquet:   0%|          | 0.00/3.32M [00:00<?, ?B/s]"
      ]
     },
     "metadata": {},
     "output_type": "display_data"
    },
    {
     "data": {
      "application/vnd.jupyter.widget-view+json": {
       "model_id": "1c14cfcc7e8940279a572baac4dc51b3",
       "version_major": 2,
       "version_minor": 0
      },
      "text/plain": [
       "dataset_540.parquet:   0%|          | 0.00/3.32M [00:00<?, ?B/s]"
      ]
     },
     "metadata": {},
     "output_type": "display_data"
    },
    {
     "data": {
      "application/vnd.jupyter.widget-view+json": {
       "model_id": "07968b901ef14dcfbd532ffd6f3d1372",
       "version_major": 2,
       "version_minor": 0
      },
      "text/plain": [
       "dataset_541.parquet:   0%|          | 0.00/3.28M [00:00<?, ?B/s]"
      ]
     },
     "metadata": {},
     "output_type": "display_data"
    },
    {
     "data": {
      "application/vnd.jupyter.widget-view+json": {
       "model_id": "ae0e09990ebf41b99b68747287c791f0",
       "version_major": 2,
       "version_minor": 0
      },
      "text/plain": [
       "dataset_542.parquet:   0%|          | 0.00/3.35M [00:00<?, ?B/s]"
      ]
     },
     "metadata": {},
     "output_type": "display_data"
    },
    {
     "data": {
      "application/vnd.jupyter.widget-view+json": {
       "model_id": "4b9c18e5461a4722887ddb0e5def9fbc",
       "version_major": 2,
       "version_minor": 0
      },
      "text/plain": [
       "dataset_544.parquet:   0%|          | 0.00/3.25M [00:00<?, ?B/s]"
      ]
     },
     "metadata": {},
     "output_type": "display_data"
    },
    {
     "data": {
      "application/vnd.jupyter.widget-view+json": {
       "model_id": "cc133a146c534947a067ac0e79920021",
       "version_major": 2,
       "version_minor": 0
      },
      "text/plain": [
       "dataset_545.parquet:   0%|          | 0.00/3.29M [00:00<?, ?B/s]"
      ]
     },
     "metadata": {},
     "output_type": "display_data"
    },
    {
     "data": {
      "application/vnd.jupyter.widget-view+json": {
       "model_id": "c485c9a22f24434497ac81ddef461d1c",
       "version_major": 2,
       "version_minor": 0
      },
      "text/plain": [
       "dataset_543.parquet:   0%|          | 0.00/3.23M [00:00<?, ?B/s]"
      ]
     },
     "metadata": {},
     "output_type": "display_data"
    },
    {
     "data": {
      "application/vnd.jupyter.widget-view+json": {
       "model_id": "2b569d86a48d418c8543c2acf45a9c0e",
       "version_major": 2,
       "version_minor": 0
      },
      "text/plain": [
       "dataset_546.parquet:   0%|          | 0.00/3.31M [00:00<?, ?B/s]"
      ]
     },
     "metadata": {},
     "output_type": "display_data"
    },
    {
     "data": {
      "application/vnd.jupyter.widget-view+json": {
       "model_id": "40536970c20b40708fc339fff88b51b5",
       "version_major": 2,
       "version_minor": 0
      },
      "text/plain": [
       "dataset_548.parquet:   0%|          | 0.00/3.22M [00:00<?, ?B/s]"
      ]
     },
     "metadata": {},
     "output_type": "display_data"
    },
    {
     "data": {
      "application/vnd.jupyter.widget-view+json": {
       "model_id": "3dc5c7ed17a94d16834f75ac7be04048",
       "version_major": 2,
       "version_minor": 0
      },
      "text/plain": [
       "dataset_549.parquet:   0%|          | 0.00/3.27M [00:00<?, ?B/s]"
      ]
     },
     "metadata": {},
     "output_type": "display_data"
    },
    {
     "data": {
      "application/vnd.jupyter.widget-view+json": {
       "model_id": "551a4e78db2442dba26801720003693d",
       "version_major": 2,
       "version_minor": 0
      },
      "text/plain": [
       "dataset_547.parquet:   0%|          | 0.00/3.33M [00:00<?, ?B/s]"
      ]
     },
     "metadata": {},
     "output_type": "display_data"
    },
    {
     "data": {
      "application/vnd.jupyter.widget-view+json": {
       "model_id": "2aac24ae27b64551bffe4e3376fd75b7",
       "version_major": 2,
       "version_minor": 0
      },
      "text/plain": [
       "dataset_550.parquet:   0%|          | 0.00/3.20M [00:00<?, ?B/s]"
      ]
     },
     "metadata": {},
     "output_type": "display_data"
    },
    {
     "data": {
      "application/vnd.jupyter.widget-view+json": {
       "model_id": "0a1f8a18d71e42a48de9f7272d6b01a5",
       "version_major": 2,
       "version_minor": 0
      },
      "text/plain": [
       "dataset_551.parquet:   0%|          | 0.00/3.29M [00:00<?, ?B/s]"
      ]
     },
     "metadata": {},
     "output_type": "display_data"
    },
    {
     "data": {
      "application/vnd.jupyter.widget-view+json": {
       "model_id": "830aa76fee4d4e1fbb4cf94251903e29",
       "version_major": 2,
       "version_minor": 0
      },
      "text/plain": [
       "dataset_552.parquet:   0%|          | 0.00/3.31M [00:00<?, ?B/s]"
      ]
     },
     "metadata": {},
     "output_type": "display_data"
    },
    {
     "data": {
      "application/vnd.jupyter.widget-view+json": {
       "model_id": "8cc956490c74410fa5c4f8ad0aca15ac",
       "version_major": 2,
       "version_minor": 0
      },
      "text/plain": [
       "dataset_553.parquet:   0%|          | 0.00/3.34M [00:00<?, ?B/s]"
      ]
     },
     "metadata": {},
     "output_type": "display_data"
    },
    {
     "data": {
      "application/vnd.jupyter.widget-view+json": {
       "model_id": "94f8c6460adb44d2bebd0990bfc65f20",
       "version_major": 2,
       "version_minor": 0
      },
      "text/plain": [
       "dataset_555.parquet:   0%|          | 0.00/3.19M [00:00<?, ?B/s]"
      ]
     },
     "metadata": {},
     "output_type": "display_data"
    },
    {
     "data": {
      "application/vnd.jupyter.widget-view+json": {
       "model_id": "569b2bea4aed46c7b2184b74a5ef7c64",
       "version_major": 2,
       "version_minor": 0
      },
      "text/plain": [
       "dataset_554.parquet:   0%|          | 0.00/3.18M [00:00<?, ?B/s]"
      ]
     },
     "metadata": {},
     "output_type": "display_data"
    },
    {
     "data": {
      "application/vnd.jupyter.widget-view+json": {
       "model_id": "8eefc91d5a644ad8a961d0a79aed436d",
       "version_major": 2,
       "version_minor": 0
      },
      "text/plain": [
       "dataset_556.parquet:   0%|          | 0.00/3.20M [00:00<?, ?B/s]"
      ]
     },
     "metadata": {},
     "output_type": "display_data"
    },
    {
     "data": {
      "application/vnd.jupyter.widget-view+json": {
       "model_id": "95a9fea691564e9fb1dca892ba5549f5",
       "version_major": 2,
       "version_minor": 0
      },
      "text/plain": [
       "dataset_557.parquet:   0%|          | 0.00/3.22M [00:00<?, ?B/s]"
      ]
     },
     "metadata": {},
     "output_type": "display_data"
    },
    {
     "data": {
      "application/vnd.jupyter.widget-view+json": {
       "model_id": "3beaacd5710f4be7ab9bd8a5a93aa55f",
       "version_major": 2,
       "version_minor": 0
      },
      "text/plain": [
       "dataset_558.parquet:   0%|          | 0.00/3.22M [00:00<?, ?B/s]"
      ]
     },
     "metadata": {},
     "output_type": "display_data"
    },
    {
     "data": {
      "application/vnd.jupyter.widget-view+json": {
       "model_id": "e0a1ec3e1aed4e14af58eda84c9b08b0",
       "version_major": 2,
       "version_minor": 0
      },
      "text/plain": [
       "dataset_559.parquet:   0%|          | 0.00/3.19M [00:00<?, ?B/s]"
      ]
     },
     "metadata": {},
     "output_type": "display_data"
    },
    {
     "data": {
      "application/vnd.jupyter.widget-view+json": {
       "model_id": "143adb08a2e844b8886db0a2f53e9d9e",
       "version_major": 2,
       "version_minor": 0
      },
      "text/plain": [
       "dataset_561.parquet:   0%|          | 0.00/3.35M [00:00<?, ?B/s]"
      ]
     },
     "metadata": {},
     "output_type": "display_data"
    },
    {
     "data": {
      "application/vnd.jupyter.widget-view+json": {
       "model_id": "ccd897c558ce489f9439c5cf8146a06b",
       "version_major": 2,
       "version_minor": 0
      },
      "text/plain": [
       "dataset_562.parquet:   0%|          | 0.00/3.26M [00:00<?, ?B/s]"
      ]
     },
     "metadata": {},
     "output_type": "display_data"
    },
    {
     "data": {
      "application/vnd.jupyter.widget-view+json": {
       "model_id": "ce8770fe1ef947b6a08cc3411d9bb09f",
       "version_major": 2,
       "version_minor": 0
      },
      "text/plain": [
       "dataset_560.parquet:   0%|          | 0.00/3.34M [00:00<?, ?B/s]"
      ]
     },
     "metadata": {},
     "output_type": "display_data"
    },
    {
     "data": {
      "application/vnd.jupyter.widget-view+json": {
       "model_id": "c80af788324c4d559f7cf9f5337efa08",
       "version_major": 2,
       "version_minor": 0
      },
      "text/plain": [
       "dataset_564.parquet:   0%|          | 0.00/3.32M [00:00<?, ?B/s]"
      ]
     },
     "metadata": {},
     "output_type": "display_data"
    },
    {
     "data": {
      "application/vnd.jupyter.widget-view+json": {
       "model_id": "f3c0bf06bd9d401ea19dae9b3340cd93",
       "version_major": 2,
       "version_minor": 0
      },
      "text/plain": [
       "dataset_563.parquet:   0%|          | 0.00/3.43M [00:00<?, ?B/s]"
      ]
     },
     "metadata": {},
     "output_type": "display_data"
    },
    {
     "data": {
      "application/vnd.jupyter.widget-view+json": {
       "model_id": "686843a198024d13bbfe9ab5aff42c85",
       "version_major": 2,
       "version_minor": 0
      },
      "text/plain": [
       "dataset_567.parquet:   0%|          | 0.00/3.25M [00:00<?, ?B/s]"
      ]
     },
     "metadata": {},
     "output_type": "display_data"
    },
    {
     "data": {
      "application/vnd.jupyter.widget-view+json": {
       "model_id": "1b100f8e196041cb9432e364ab6fc42c",
       "version_major": 2,
       "version_minor": 0
      },
      "text/plain": [
       "dataset_566.parquet:   0%|          | 0.00/3.24M [00:00<?, ?B/s]"
      ]
     },
     "metadata": {},
     "output_type": "display_data"
    },
    {
     "data": {
      "application/vnd.jupyter.widget-view+json": {
       "model_id": "eba54d2f5aba4228967c2fa11d97a9eb",
       "version_major": 2,
       "version_minor": 0
      },
      "text/plain": [
       "dataset_568.parquet:   0%|          | 0.00/3.26M [00:00<?, ?B/s]"
      ]
     },
     "metadata": {},
     "output_type": "display_data"
    },
    {
     "data": {
      "application/vnd.jupyter.widget-view+json": {
       "model_id": "cc22a814344444698655178fb497dba0",
       "version_major": 2,
       "version_minor": 0
      },
      "text/plain": [
       "dataset_565.parquet:   0%|          | 0.00/3.20M [00:00<?, ?B/s]"
      ]
     },
     "metadata": {},
     "output_type": "display_data"
    },
    {
     "data": {
      "application/vnd.jupyter.widget-view+json": {
       "model_id": "7a4cf67a900b4e968e7491a84b264888",
       "version_major": 2,
       "version_minor": 0
      },
      "text/plain": [
       "dataset_569.parquet:   0%|          | 0.00/3.38M [00:00<?, ?B/s]"
      ]
     },
     "metadata": {},
     "output_type": "display_data"
    },
    {
     "data": {
      "application/vnd.jupyter.widget-view+json": {
       "model_id": "2f383050a9d74d6fbf9a0b33c9eaaba9",
       "version_major": 2,
       "version_minor": 0
      },
      "text/plain": [
       "dataset_570.parquet:   0%|          | 0.00/3.40M [00:00<?, ?B/s]"
      ]
     },
     "metadata": {},
     "output_type": "display_data"
    },
    {
     "data": {
      "application/vnd.jupyter.widget-view+json": {
       "model_id": "56196e848b1842058b62bc967e28da24",
       "version_major": 2,
       "version_minor": 0
      },
      "text/plain": [
       "dataset_571.parquet:   0%|          | 0.00/3.33M [00:00<?, ?B/s]"
      ]
     },
     "metadata": {},
     "output_type": "display_data"
    },
    {
     "data": {
      "application/vnd.jupyter.widget-view+json": {
       "model_id": "db7c0509a651407c9df9997a8e2b05d6",
       "version_major": 2,
       "version_minor": 0
      },
      "text/plain": [
       "dataset_572.parquet:   0%|          | 0.00/3.38M [00:00<?, ?B/s]"
      ]
     },
     "metadata": {},
     "output_type": "display_data"
    },
    {
     "data": {
      "application/vnd.jupyter.widget-view+json": {
       "model_id": "3898d92ec7ab4800b6a4c4002be2639a",
       "version_major": 2,
       "version_minor": 0
      },
      "text/plain": [
       "dataset_573.parquet:   0%|          | 0.00/3.31M [00:00<?, ?B/s]"
      ]
     },
     "metadata": {},
     "output_type": "display_data"
    },
    {
     "data": {
      "application/vnd.jupyter.widget-view+json": {
       "model_id": "05a589b4f0e1418a8a6689e9923ba74c",
       "version_major": 2,
       "version_minor": 0
      },
      "text/plain": [
       "dataset_574.parquet:   0%|          | 0.00/3.38M [00:00<?, ?B/s]"
      ]
     },
     "metadata": {},
     "output_type": "display_data"
    },
    {
     "data": {
      "application/vnd.jupyter.widget-view+json": {
       "model_id": "7ba4adb4749048a988f40551a04c51ac",
       "version_major": 2,
       "version_minor": 0
      },
      "text/plain": [
       "dataset_575.parquet:   0%|          | 0.00/3.27M [00:00<?, ?B/s]"
      ]
     },
     "metadata": {},
     "output_type": "display_data"
    },
    {
     "data": {
      "application/vnd.jupyter.widget-view+json": {
       "model_id": "33badcac27e541758ace33d6d3091345",
       "version_major": 2,
       "version_minor": 0
      },
      "text/plain": [
       "dataset_576.parquet:   0%|          | 0.00/3.36M [00:00<?, ?B/s]"
      ]
     },
     "metadata": {},
     "output_type": "display_data"
    },
    {
     "data": {
      "application/vnd.jupyter.widget-view+json": {
       "model_id": "8a67fc59b22f4324bec64692f031e126",
       "version_major": 2,
       "version_minor": 0
      },
      "text/plain": [
       "dataset_578.parquet:   0%|          | 0.00/3.44M [00:00<?, ?B/s]"
      ]
     },
     "metadata": {},
     "output_type": "display_data"
    },
    {
     "data": {
      "application/vnd.jupyter.widget-view+json": {
       "model_id": "1ad83525ded34f648ce4b64f3136d92b",
       "version_major": 2,
       "version_minor": 0
      },
      "text/plain": [
       "dataset_579.parquet:   0%|          | 0.00/3.32M [00:00<?, ?B/s]"
      ]
     },
     "metadata": {},
     "output_type": "display_data"
    },
    {
     "data": {
      "application/vnd.jupyter.widget-view+json": {
       "model_id": "dd58f6d883314787994eee3600268a2d",
       "version_major": 2,
       "version_minor": 0
      },
      "text/plain": [
       "dataset_577.parquet:   0%|          | 0.00/3.35M [00:00<?, ?B/s]"
      ]
     },
     "metadata": {},
     "output_type": "display_data"
    },
    {
     "data": {
      "application/vnd.jupyter.widget-view+json": {
       "model_id": "3b5954abb8444be2aa9a94d76bbef70c",
       "version_major": 2,
       "version_minor": 0
      },
      "text/plain": [
       "dataset_580.parquet:   0%|          | 0.00/3.45M [00:00<?, ?B/s]"
      ]
     },
     "metadata": {},
     "output_type": "display_data"
    },
    {
     "data": {
      "application/vnd.jupyter.widget-view+json": {
       "model_id": "9b9d49fad45640e6b19eda6e27123a1e",
       "version_major": 2,
       "version_minor": 0
      },
      "text/plain": [
       "dataset_583.parquet:   0%|          | 0.00/3.29M [00:00<?, ?B/s]"
      ]
     },
     "metadata": {},
     "output_type": "display_data"
    },
    {
     "data": {
      "application/vnd.jupyter.widget-view+json": {
       "model_id": "914cc492d26a4626875b5fed37b6c390",
       "version_major": 2,
       "version_minor": 0
      },
      "text/plain": [
       "dataset_581.parquet:   0%|          | 0.00/3.44M [00:00<?, ?B/s]"
      ]
     },
     "metadata": {},
     "output_type": "display_data"
    },
    {
     "data": {
      "application/vnd.jupyter.widget-view+json": {
       "model_id": "ddcd480bac1246db9f5028dfbd00151d",
       "version_major": 2,
       "version_minor": 0
      },
      "text/plain": [
       "dataset_582.parquet:   0%|          | 0.00/3.35M [00:00<?, ?B/s]"
      ]
     },
     "metadata": {},
     "output_type": "display_data"
    },
    {
     "data": {
      "application/vnd.jupyter.widget-view+json": {
       "model_id": "da45a64371064731b72541d321732fa6",
       "version_major": 2,
       "version_minor": 0
      },
      "text/plain": [
       "dataset_584.parquet:   0%|          | 0.00/3.19M [00:00<?, ?B/s]"
      ]
     },
     "metadata": {},
     "output_type": "display_data"
    },
    {
     "data": {
      "application/vnd.jupyter.widget-view+json": {
       "model_id": "bd4928b4337845be8699ba2cd676648b",
       "version_major": 2,
       "version_minor": 0
      },
      "text/plain": [
       "dataset_586.parquet:   0%|          | 0.00/3.21M [00:00<?, ?B/s]"
      ]
     },
     "metadata": {},
     "output_type": "display_data"
    },
    {
     "data": {
      "application/vnd.jupyter.widget-view+json": {
       "model_id": "66f4fa4b2b114df0befb9f02dc2c098f",
       "version_major": 2,
       "version_minor": 0
      },
      "text/plain": [
       "dataset_587.parquet:   0%|          | 0.00/3.24M [00:00<?, ?B/s]"
      ]
     },
     "metadata": {},
     "output_type": "display_data"
    },
    {
     "data": {
      "application/vnd.jupyter.widget-view+json": {
       "model_id": "6e2fe92db37548528adddb6a22f8a088",
       "version_major": 2,
       "version_minor": 0
      },
      "text/plain": [
       "dataset_589.parquet:   0%|          | 0.00/3.20M [00:00<?, ?B/s]"
      ]
     },
     "metadata": {},
     "output_type": "display_data"
    },
    {
     "data": {
      "application/vnd.jupyter.widget-view+json": {
       "model_id": "18474c82d33045de975e945e7474589a",
       "version_major": 2,
       "version_minor": 0
      },
      "text/plain": [
       "dataset_585.parquet:   0%|          | 0.00/3.25M [00:00<?, ?B/s]"
      ]
     },
     "metadata": {},
     "output_type": "display_data"
    },
    {
     "data": {
      "application/vnd.jupyter.widget-view+json": {
       "model_id": "1cefca79100a407ba1d2f2a0a1400d72",
       "version_major": 2,
       "version_minor": 0
      },
      "text/plain": [
       "dataset_588.parquet:   0%|          | 0.00/3.32M [00:00<?, ?B/s]"
      ]
     },
     "metadata": {},
     "output_type": "display_data"
    },
    {
     "data": {
      "application/vnd.jupyter.widget-view+json": {
       "model_id": "932f98e2b24f42f4a32c7764e3852159",
       "version_major": 2,
       "version_minor": 0
      },
      "text/plain": [
       "dataset_590.parquet:   0%|          | 0.00/3.33M [00:00<?, ?B/s]"
      ]
     },
     "metadata": {},
     "output_type": "display_data"
    },
    {
     "data": {
      "application/vnd.jupyter.widget-view+json": {
       "model_id": "f915fe004a104cd49b3718914966e2e6",
       "version_major": 2,
       "version_minor": 0
      },
      "text/plain": [
       "dataset_591.parquet:   0%|          | 0.00/3.32M [00:00<?, ?B/s]"
      ]
     },
     "metadata": {},
     "output_type": "display_data"
    },
    {
     "data": {
      "application/vnd.jupyter.widget-view+json": {
       "model_id": "abd9cf3c06454f7e968bb18b1cd95333",
       "version_major": 2,
       "version_minor": 0
      },
      "text/plain": [
       "dataset_592.parquet:   0%|          | 0.00/3.38M [00:00<?, ?B/s]"
      ]
     },
     "metadata": {},
     "output_type": "display_data"
    },
    {
     "data": {
      "application/vnd.jupyter.widget-view+json": {
       "model_id": "250b7213516846e599db43e2e3f25367",
       "version_major": 2,
       "version_minor": 0
      },
      "text/plain": [
       "dataset_593.parquet:   0%|          | 0.00/3.05M [00:00<?, ?B/s]"
      ]
     },
     "metadata": {},
     "output_type": "display_data"
    },
    {
     "data": {
      "application/vnd.jupyter.widget-view+json": {
       "model_id": "8a63af6b515a4c1f9871f728c6f1f559",
       "version_major": 2,
       "version_minor": 0
      },
      "text/plain": [
       "dataset_594.parquet:   0%|          | 0.00/3.11M [00:00<?, ?B/s]"
      ]
     },
     "metadata": {},
     "output_type": "display_data"
    },
    {
     "data": {
      "application/vnd.jupyter.widget-view+json": {
       "model_id": "c5ebbf4fa1cc4604aab2b6346d54d731",
       "version_major": 2,
       "version_minor": 0
      },
      "text/plain": [
       "dataset_595.parquet:   0%|          | 0.00/3.11M [00:00<?, ?B/s]"
      ]
     },
     "metadata": {},
     "output_type": "display_data"
    },
    {
     "data": {
      "application/vnd.jupyter.widget-view+json": {
       "model_id": "00181ec2f6174f5aa850fdbe65f16411",
       "version_major": 2,
       "version_minor": 0
      },
      "text/plain": [
       "dataset_596.parquet:   0%|          | 0.00/3.07M [00:00<?, ?B/s]"
      ]
     },
     "metadata": {},
     "output_type": "display_data"
    },
    {
     "data": {
      "application/vnd.jupyter.widget-view+json": {
       "model_id": "f5c2bc2125a041849a847b9e0949d494",
       "version_major": 2,
       "version_minor": 0
      },
      "text/plain": [
       "dataset_597.parquet:   0%|          | 0.00/3.22M [00:00<?, ?B/s]"
      ]
     },
     "metadata": {},
     "output_type": "display_data"
    },
    {
     "data": {
      "application/vnd.jupyter.widget-view+json": {
       "model_id": "6487328aaa49457185c87cfec56cbb64",
       "version_major": 2,
       "version_minor": 0
      },
      "text/plain": [
       "dataset_598.parquet:   0%|          | 0.00/3.28M [00:00<?, ?B/s]"
      ]
     },
     "metadata": {},
     "output_type": "display_data"
    },
    {
     "data": {
      "application/vnd.jupyter.widget-view+json": {
       "model_id": "4bbe8064842a44af814fa85aaff9875b",
       "version_major": 2,
       "version_minor": 0
      },
      "text/plain": [
       "dataset_599.parquet:   0%|          | 0.00/3.18M [00:00<?, ?B/s]"
      ]
     },
     "metadata": {},
     "output_type": "display_data"
    },
    {
     "data": {
      "application/vnd.jupyter.widget-view+json": {
       "model_id": "d082fb99ca7844d6b2108afcb256ff4a",
       "version_major": 2,
       "version_minor": 0
      },
      "text/plain": [
       "dataset_600.parquet:   0%|          | 0.00/3.29M [00:00<?, ?B/s]"
      ]
     },
     "metadata": {},
     "output_type": "display_data"
    },
    {
     "data": {
      "application/vnd.jupyter.widget-view+json": {
       "model_id": "74d01940fde8416b80df6739da06f7aa",
       "version_major": 2,
       "version_minor": 0
      },
      "text/plain": [
       "dataset_601.parquet:   0%|          | 0.00/3.22M [00:00<?, ?B/s]"
      ]
     },
     "metadata": {},
     "output_type": "display_data"
    },
    {
     "data": {
      "application/vnd.jupyter.widget-view+json": {
       "model_id": "d7b6de5e4f8f4f2c84227c53a91f882f",
       "version_major": 2,
       "version_minor": 0
      },
      "text/plain": [
       "dataset_602.parquet:   0%|          | 0.00/3.30M [00:00<?, ?B/s]"
      ]
     },
     "metadata": {},
     "output_type": "display_data"
    },
    {
     "data": {
      "application/vnd.jupyter.widget-view+json": {
       "model_id": "a6cd14cf52b34dfe9a65e6b63e250b1e",
       "version_major": 2,
       "version_minor": 0
      },
      "text/plain": [
       "dataset_603.parquet:   0%|          | 0.00/3.17M [00:00<?, ?B/s]"
      ]
     },
     "metadata": {},
     "output_type": "display_data"
    },
    {
     "data": {
      "application/vnd.jupyter.widget-view+json": {
       "model_id": "029b7edba8664627a9b73ef3edb70b48",
       "version_major": 2,
       "version_minor": 0
      },
      "text/plain": [
       "dataset_604.parquet:   0%|          | 0.00/3.30M [00:00<?, ?B/s]"
      ]
     },
     "metadata": {},
     "output_type": "display_data"
    },
    {
     "data": {
      "application/vnd.jupyter.widget-view+json": {
       "model_id": "9a88ae4335f6481f8f1898ce64215bc9",
       "version_major": 2,
       "version_minor": 0
      },
      "text/plain": [
       "dataset_606.parquet:   0%|          | 0.00/3.35M [00:00<?, ?B/s]"
      ]
     },
     "metadata": {},
     "output_type": "display_data"
    },
    {
     "data": {
      "application/vnd.jupyter.widget-view+json": {
       "model_id": "b8c5e935dafd417cbd9d710ef880abd4",
       "version_major": 2,
       "version_minor": 0
      },
      "text/plain": [
       "dataset_605.parquet:   0%|          | 0.00/3.27M [00:00<?, ?B/s]"
      ]
     },
     "metadata": {},
     "output_type": "display_data"
    },
    {
     "data": {
      "application/vnd.jupyter.widget-view+json": {
       "model_id": "06282530b6a14b3f929981c7312eeea4",
       "version_major": 2,
       "version_minor": 0
      },
      "text/plain": [
       "dataset_607.parquet:   0%|          | 0.00/3.20M [00:00<?, ?B/s]"
      ]
     },
     "metadata": {},
     "output_type": "display_data"
    },
    {
     "data": {
      "application/vnd.jupyter.widget-view+json": {
       "model_id": "81c89399dcd44d8ea2b067d16cd7d904",
       "version_major": 2,
       "version_minor": 0
      },
      "text/plain": [
       "dataset_608.parquet:   0%|          | 0.00/3.17M [00:00<?, ?B/s]"
      ]
     },
     "metadata": {},
     "output_type": "display_data"
    },
    {
     "data": {
      "application/vnd.jupyter.widget-view+json": {
       "model_id": "4424c491b0a54aee8098d8367635c846",
       "version_major": 2,
       "version_minor": 0
      },
      "text/plain": [
       "dataset_609.parquet:   0%|          | 0.00/3.20M [00:00<?, ?B/s]"
      ]
     },
     "metadata": {},
     "output_type": "display_data"
    },
    {
     "data": {
      "application/vnd.jupyter.widget-view+json": {
       "model_id": "6fa4e9132b7a41749857ce9236c6b4d9",
       "version_major": 2,
       "version_minor": 0
      },
      "text/plain": [
       "dataset_610.parquet:   0%|          | 0.00/3.31M [00:00<?, ?B/s]"
      ]
     },
     "metadata": {},
     "output_type": "display_data"
    },
    {
     "data": {
      "application/vnd.jupyter.widget-view+json": {
       "model_id": "6df845bdecc9496e956c6b055f6c7b08",
       "version_major": 2,
       "version_minor": 0
      },
      "text/plain": [
       "dataset_611.parquet:   0%|          | 0.00/3.19M [00:00<?, ?B/s]"
      ]
     },
     "metadata": {},
     "output_type": "display_data"
    },
    {
     "data": {
      "application/vnd.jupyter.widget-view+json": {
       "model_id": "c35cc0227b8743ceb03edd1428630c68",
       "version_major": 2,
       "version_minor": 0
      },
      "text/plain": [
       "dataset_612.parquet:   0%|          | 0.00/3.25M [00:00<?, ?B/s]"
      ]
     },
     "metadata": {},
     "output_type": "display_data"
    },
    {
     "data": {
      "application/vnd.jupyter.widget-view+json": {
       "model_id": "d180e6b150d14496976da9828859233e",
       "version_major": 2,
       "version_minor": 0
      },
      "text/plain": [
       "dataset_613.parquet:   0%|          | 0.00/3.27M [00:00<?, ?B/s]"
      ]
     },
     "metadata": {},
     "output_type": "display_data"
    },
    {
     "data": {
      "application/vnd.jupyter.widget-view+json": {
       "model_id": "f98780a4e0b345f092a01a8ae133c5ed",
       "version_major": 2,
       "version_minor": 0
      },
      "text/plain": [
       "dataset_614.parquet:   0%|          | 0.00/3.28M [00:00<?, ?B/s]"
      ]
     },
     "metadata": {},
     "output_type": "display_data"
    },
    {
     "data": {
      "application/vnd.jupyter.widget-view+json": {
       "model_id": "ca3f02716ca04c3db986d0547c4eedc5",
       "version_major": 2,
       "version_minor": 0
      },
      "text/plain": [
       "dataset_615.parquet:   0%|          | 0.00/3.22M [00:00<?, ?B/s]"
      ]
     },
     "metadata": {},
     "output_type": "display_data"
    },
    {
     "data": {
      "application/vnd.jupyter.widget-view+json": {
       "model_id": "46ac661536d948ba9195841974478966",
       "version_major": 2,
       "version_minor": 0
      },
      "text/plain": [
       "dataset_616.parquet:   0%|          | 0.00/3.33M [00:00<?, ?B/s]"
      ]
     },
     "metadata": {},
     "output_type": "display_data"
    },
    {
     "data": {
      "application/vnd.jupyter.widget-view+json": {
       "model_id": "2a09fa83a61b4b46b2e33cf579dab11d",
       "version_major": 2,
       "version_minor": 0
      },
      "text/plain": [
       "dataset_617.parquet:   0%|          | 0.00/3.21M [00:00<?, ?B/s]"
      ]
     },
     "metadata": {},
     "output_type": "display_data"
    },
    {
     "data": {
      "application/vnd.jupyter.widget-view+json": {
       "model_id": "ef2ba45bad554820a5d494d9bd2e2e90",
       "version_major": 2,
       "version_minor": 0
      },
      "text/plain": [
       "dataset_618.parquet:   0%|          | 0.00/3.38M [00:00<?, ?B/s]"
      ]
     },
     "metadata": {},
     "output_type": "display_data"
    },
    {
     "data": {
      "application/vnd.jupyter.widget-view+json": {
       "model_id": "fbcb281db75342459400ef652ffcbdd5",
       "version_major": 2,
       "version_minor": 0
      },
      "text/plain": [
       "dataset_619.parquet:   0%|          | 0.00/3.32M [00:00<?, ?B/s]"
      ]
     },
     "metadata": {},
     "output_type": "display_data"
    },
    {
     "data": {
      "application/vnd.jupyter.widget-view+json": {
       "model_id": "7a29726afdab4440bcb658d4b84ed3f7",
       "version_major": 2,
       "version_minor": 0
      },
      "text/plain": [
       "dataset_620.parquet:   0%|          | 0.00/3.29M [00:00<?, ?B/s]"
      ]
     },
     "metadata": {},
     "output_type": "display_data"
    },
    {
     "data": {
      "application/vnd.jupyter.widget-view+json": {
       "model_id": "ee44a0cdab5141aeae443f9fde234abe",
       "version_major": 2,
       "version_minor": 0
      },
      "text/plain": [
       "dataset_621.parquet:   0%|          | 0.00/3.34M [00:00<?, ?B/s]"
      ]
     },
     "metadata": {},
     "output_type": "display_data"
    },
    {
     "data": {
      "application/vnd.jupyter.widget-view+json": {
       "model_id": "c46ba788f7b04993b3453331262d0d85",
       "version_major": 2,
       "version_minor": 0
      },
      "text/plain": [
       "dataset_622.parquet:   0%|          | 0.00/3.33M [00:00<?, ?B/s]"
      ]
     },
     "metadata": {},
     "output_type": "display_data"
    },
    {
     "data": {
      "application/vnd.jupyter.widget-view+json": {
       "model_id": "2f39094ebdfe4e16b1d7f964b793deda",
       "version_major": 2,
       "version_minor": 0
      },
      "text/plain": [
       "dataset_623.parquet:   0%|          | 0.00/3.16M [00:00<?, ?B/s]"
      ]
     },
     "metadata": {},
     "output_type": "display_data"
    },
    {
     "data": {
      "application/vnd.jupyter.widget-view+json": {
       "model_id": "658228b8a8b24918815f96a7bf32a189",
       "version_major": 2,
       "version_minor": 0
      },
      "text/plain": [
       "dataset_624.parquet:   0%|          | 0.00/3.38M [00:00<?, ?B/s]"
      ]
     },
     "metadata": {},
     "output_type": "display_data"
    },
    {
     "data": {
      "application/vnd.jupyter.widget-view+json": {
       "model_id": "45dfb0c0d69740b6a155eb7656b89399",
       "version_major": 2,
       "version_minor": 0
      },
      "text/plain": [
       "dataset_625.parquet:   0%|          | 0.00/3.25M [00:00<?, ?B/s]"
      ]
     },
     "metadata": {},
     "output_type": "display_data"
    },
    {
     "data": {
      "application/vnd.jupyter.widget-view+json": {
       "model_id": "1461662f51714719b7af95b53ca397c0",
       "version_major": 2,
       "version_minor": 0
      },
      "text/plain": [
       "dataset_626.parquet:   0%|          | 0.00/3.39M [00:00<?, ?B/s]"
      ]
     },
     "metadata": {},
     "output_type": "display_data"
    },
    {
     "data": {
      "application/vnd.jupyter.widget-view+json": {
       "model_id": "b0022174e6be40c99e5b717405f6977e",
       "version_major": 2,
       "version_minor": 0
      },
      "text/plain": [
       "dataset_627.parquet:   0%|          | 0.00/3.26M [00:00<?, ?B/s]"
      ]
     },
     "metadata": {},
     "output_type": "display_data"
    },
    {
     "data": {
      "application/vnd.jupyter.widget-view+json": {
       "model_id": "89d7c2f620544d1fa69597f2aef3fc43",
       "version_major": 2,
       "version_minor": 0
      },
      "text/plain": [
       "dataset_628.parquet:   0%|          | 0.00/3.30M [00:00<?, ?B/s]"
      ]
     },
     "metadata": {},
     "output_type": "display_data"
    },
    {
     "data": {
      "application/vnd.jupyter.widget-view+json": {
       "model_id": "d4971392d9754ba798044b81526bd74f",
       "version_major": 2,
       "version_minor": 0
      },
      "text/plain": [
       "dataset_630.parquet:   0%|          | 0.00/3.13M [00:00<?, ?B/s]"
      ]
     },
     "metadata": {},
     "output_type": "display_data"
    },
    {
     "data": {
      "application/vnd.jupyter.widget-view+json": {
       "model_id": "5129ac11c5d745c48a0d653533bda81a",
       "version_major": 2,
       "version_minor": 0
      },
      "text/plain": [
       "dataset_629.parquet:   0%|          | 0.00/3.36M [00:00<?, ?B/s]"
      ]
     },
     "metadata": {},
     "output_type": "display_data"
    },
    {
     "data": {
      "application/vnd.jupyter.widget-view+json": {
       "model_id": "6dbe1333252143aa9a69f3893d169093",
       "version_major": 2,
       "version_minor": 0
      },
      "text/plain": [
       "dataset_632.parquet:   0%|          | 0.00/3.05M [00:00<?, ?B/s]"
      ]
     },
     "metadata": {},
     "output_type": "display_data"
    },
    {
     "data": {
      "application/vnd.jupyter.widget-view+json": {
       "model_id": "7631b0c2a48c4e4cbd082d1425b677e3",
       "version_major": 2,
       "version_minor": 0
      },
      "text/plain": [
       "dataset_631.parquet:   0%|          | 0.00/3.26M [00:00<?, ?B/s]"
      ]
     },
     "metadata": {},
     "output_type": "display_data"
    },
    {
     "data": {
      "application/vnd.jupyter.widget-view+json": {
       "model_id": "99de5a14a9db4a9baca01e3cc0a87ebe",
       "version_major": 2,
       "version_minor": 0
      },
      "text/plain": [
       "dataset_633.parquet:   0%|          | 0.00/3.26M [00:00<?, ?B/s]"
      ]
     },
     "metadata": {},
     "output_type": "display_data"
    },
    {
     "data": {
      "application/vnd.jupyter.widget-view+json": {
       "model_id": "5699bb5a623444528c831ac4c81822b6",
       "version_major": 2,
       "version_minor": 0
      },
      "text/plain": [
       "dataset_635.parquet:   0%|          | 0.00/3.28M [00:00<?, ?B/s]"
      ]
     },
     "metadata": {},
     "output_type": "display_data"
    },
    {
     "data": {
      "application/vnd.jupyter.widget-view+json": {
       "model_id": "5e3030d27b384d749d8e20e77b4bdd98",
       "version_major": 2,
       "version_minor": 0
      },
      "text/plain": [
       "dataset_636.parquet:   0%|          | 0.00/3.25M [00:00<?, ?B/s]"
      ]
     },
     "metadata": {},
     "output_type": "display_data"
    },
    {
     "data": {
      "application/vnd.jupyter.widget-view+json": {
       "model_id": "e2326d074abb48c5a818b6bd081dee9e",
       "version_major": 2,
       "version_minor": 0
      },
      "text/plain": [
       "dataset_634.parquet:   0%|          | 0.00/3.30M [00:00<?, ?B/s]"
      ]
     },
     "metadata": {},
     "output_type": "display_data"
    },
    {
     "data": {
      "application/vnd.jupyter.widget-view+json": {
       "model_id": "3af01ca79ecd4cf59d920a8c5d2a99a2",
       "version_major": 2,
       "version_minor": 0
      },
      "text/plain": [
       "dataset_637.parquet:   0%|          | 0.00/3.38M [00:00<?, ?B/s]"
      ]
     },
     "metadata": {},
     "output_type": "display_data"
    },
    {
     "data": {
      "application/vnd.jupyter.widget-view+json": {
       "model_id": "bc1313d79cf14f628d4d29da8d49e59e",
       "version_major": 2,
       "version_minor": 0
      },
      "text/plain": [
       "dataset_638.parquet:   0%|          | 0.00/3.23M [00:00<?, ?B/s]"
      ]
     },
     "metadata": {},
     "output_type": "display_data"
    },
    {
     "data": {
      "application/vnd.jupyter.widget-view+json": {
       "model_id": "d256b0b03a7a40a09dce5e7c142f9e18",
       "version_major": 2,
       "version_minor": 0
      },
      "text/plain": [
       "dataset_639.parquet:   0%|          | 0.00/3.24M [00:00<?, ?B/s]"
      ]
     },
     "metadata": {},
     "output_type": "display_data"
    },
    {
     "data": {
      "application/vnd.jupyter.widget-view+json": {
       "model_id": "521cf782d187442095067eb6122fe3eb",
       "version_major": 2,
       "version_minor": 0
      },
      "text/plain": [
       "dataset_640.parquet:   0%|          | 0.00/3.26M [00:00<?, ?B/s]"
      ]
     },
     "metadata": {},
     "output_type": "display_data"
    },
    {
     "data": {
      "application/vnd.jupyter.widget-view+json": {
       "model_id": "e6dfa215835b40d7bf9e2e1a300816fe",
       "version_major": 2,
       "version_minor": 0
      },
      "text/plain": [
       "dataset_641.parquet:   0%|          | 0.00/3.37M [00:00<?, ?B/s]"
      ]
     },
     "metadata": {},
     "output_type": "display_data"
    },
    {
     "data": {
      "application/vnd.jupyter.widget-view+json": {
       "model_id": "784905f9a7774d778551c0f8648e4a03",
       "version_major": 2,
       "version_minor": 0
      },
      "text/plain": [
       "dataset_642.parquet:   0%|          | 0.00/3.38M [00:00<?, ?B/s]"
      ]
     },
     "metadata": {},
     "output_type": "display_data"
    },
    {
     "data": {
      "application/vnd.jupyter.widget-view+json": {
       "model_id": "2fadba160b9942898fa24dd1dd7cbc3d",
       "version_major": 2,
       "version_minor": 0
      },
      "text/plain": [
       "dataset_643.parquet:   0%|          | 0.00/3.38M [00:00<?, ?B/s]"
      ]
     },
     "metadata": {},
     "output_type": "display_data"
    },
    {
     "data": {
      "application/vnd.jupyter.widget-view+json": {
       "model_id": "8d0f12ef2cdf46df9f0978a40364a6cf",
       "version_major": 2,
       "version_minor": 0
      },
      "text/plain": [
       "dataset_644.parquet:   0%|          | 0.00/3.33M [00:00<?, ?B/s]"
      ]
     },
     "metadata": {},
     "output_type": "display_data"
    },
    {
     "data": {
      "application/vnd.jupyter.widget-view+json": {
       "model_id": "31d860254a194bf5b3f9dfd621127d2d",
       "version_major": 2,
       "version_minor": 0
      },
      "text/plain": [
       "dataset_645.parquet:   0%|          | 0.00/3.28M [00:00<?, ?B/s]"
      ]
     },
     "metadata": {},
     "output_type": "display_data"
    },
    {
     "data": {
      "application/vnd.jupyter.widget-view+json": {
       "model_id": "ac58d218b5164659aacd0c64ea16f04c",
       "version_major": 2,
       "version_minor": 0
      },
      "text/plain": [
       "dataset_646.parquet:   0%|          | 0.00/3.34M [00:00<?, ?B/s]"
      ]
     },
     "metadata": {},
     "output_type": "display_data"
    },
    {
     "data": {
      "application/vnd.jupyter.widget-view+json": {
       "model_id": "77c5494d76d9418e91221563919b5812",
       "version_major": 2,
       "version_minor": 0
      },
      "text/plain": [
       "dataset_647.parquet:   0%|          | 0.00/3.31M [00:00<?, ?B/s]"
      ]
     },
     "metadata": {},
     "output_type": "display_data"
    },
    {
     "data": {
      "application/vnd.jupyter.widget-view+json": {
       "model_id": "1fe9c792c40440f1a67c714c121495c2",
       "version_major": 2,
       "version_minor": 0
      },
      "text/plain": [
       "dataset_648.parquet:   0%|          | 0.00/3.31M [00:00<?, ?B/s]"
      ]
     },
     "metadata": {},
     "output_type": "display_data"
    },
    {
     "data": {
      "application/vnd.jupyter.widget-view+json": {
       "model_id": "522074b7ef204306ad2cbf490eb851d7",
       "version_major": 2,
       "version_minor": 0
      },
      "text/plain": [
       "dataset_649.parquet:   0%|          | 0.00/3.20M [00:00<?, ?B/s]"
      ]
     },
     "metadata": {},
     "output_type": "display_data"
    },
    {
     "data": {
      "application/vnd.jupyter.widget-view+json": {
       "model_id": "0d80be72da704c3cac52a56663c4b852",
       "version_major": 2,
       "version_minor": 0
      },
      "text/plain": [
       "dataset_650.parquet:   0%|          | 0.00/3.22M [00:00<?, ?B/s]"
      ]
     },
     "metadata": {},
     "output_type": "display_data"
    },
    {
     "data": {
      "application/vnd.jupyter.widget-view+json": {
       "model_id": "7b69b3fa7bc444e8abc32ddb3129777b",
       "version_major": 2,
       "version_minor": 0
      },
      "text/plain": [
       "dataset_651.parquet:   0%|          | 0.00/3.33M [00:00<?, ?B/s]"
      ]
     },
     "metadata": {},
     "output_type": "display_data"
    },
    {
     "data": {
      "application/vnd.jupyter.widget-view+json": {
       "model_id": "aa9ef187e9ca45aabde1b8051ed5d1b9",
       "version_major": 2,
       "version_minor": 0
      },
      "text/plain": [
       "dataset_653.parquet:   0%|          | 0.00/3.35M [00:00<?, ?B/s]"
      ]
     },
     "metadata": {},
     "output_type": "display_data"
    },
    {
     "data": {
      "application/vnd.jupyter.widget-view+json": {
       "model_id": "3de2e2d8df1e447fb94700f2a8bbd817",
       "version_major": 2,
       "version_minor": 0
      },
      "text/plain": [
       "dataset_652.parquet:   0%|          | 0.00/3.32M [00:00<?, ?B/s]"
      ]
     },
     "metadata": {},
     "output_type": "display_data"
    },
    {
     "data": {
      "application/vnd.jupyter.widget-view+json": {
       "model_id": "96d2c60bbaeb4dec9e324b524759b574",
       "version_major": 2,
       "version_minor": 0
      },
      "text/plain": [
       "dataset_655.parquet:   0%|          | 0.00/3.41M [00:00<?, ?B/s]"
      ]
     },
     "metadata": {},
     "output_type": "display_data"
    },
    {
     "data": {
      "application/vnd.jupyter.widget-view+json": {
       "model_id": "8349619455bf46a59462065e8cf340d0",
       "version_major": 2,
       "version_minor": 0
      },
      "text/plain": [
       "dataset_654.parquet:   0%|          | 0.00/3.22M [00:00<?, ?B/s]"
      ]
     },
     "metadata": {},
     "output_type": "display_data"
    },
    {
     "data": {
      "application/vnd.jupyter.widget-view+json": {
       "model_id": "e7dd490d5dd841d597fcc30300bcb514",
       "version_major": 2,
       "version_minor": 0
      },
      "text/plain": [
       "dataset_656.parquet:   0%|          | 0.00/3.32M [00:00<?, ?B/s]"
      ]
     },
     "metadata": {},
     "output_type": "display_data"
    },
    {
     "data": {
      "application/vnd.jupyter.widget-view+json": {
       "model_id": "9b582aba1c734da1a4778c03db2b7bff",
       "version_major": 2,
       "version_minor": 0
      },
      "text/plain": [
       "dataset_657.parquet:   0%|          | 0.00/3.38M [00:00<?, ?B/s]"
      ]
     },
     "metadata": {},
     "output_type": "display_data"
    },
    {
     "data": {
      "application/vnd.jupyter.widget-view+json": {
       "model_id": "e8a1dce3d6964670837a97b0101c864b",
       "version_major": 2,
       "version_minor": 0
      },
      "text/plain": [
       "dataset_658.parquet:   0%|          | 0.00/3.21M [00:00<?, ?B/s]"
      ]
     },
     "metadata": {},
     "output_type": "display_data"
    },
    {
     "data": {
      "application/vnd.jupyter.widget-view+json": {
       "model_id": "61aea3d82e684947adbefa8d5dafa7c8",
       "version_major": 2,
       "version_minor": 0
      },
      "text/plain": [
       "dataset_659.parquet:   0%|          | 0.00/3.27M [00:00<?, ?B/s]"
      ]
     },
     "metadata": {},
     "output_type": "display_data"
    },
    {
     "data": {
      "application/vnd.jupyter.widget-view+json": {
       "model_id": "2805f424016e49e8bec32c147e18d561",
       "version_major": 2,
       "version_minor": 0
      },
      "text/plain": [
       "dataset_660.parquet:   0%|          | 0.00/3.31M [00:00<?, ?B/s]"
      ]
     },
     "metadata": {},
     "output_type": "display_data"
    },
    {
     "data": {
      "application/vnd.jupyter.widget-view+json": {
       "model_id": "5a59d950da3042028870f82a36e37ded",
       "version_major": 2,
       "version_minor": 0
      },
      "text/plain": [
       "dataset_661.parquet:   0%|          | 0.00/3.36M [00:00<?, ?B/s]"
      ]
     },
     "metadata": {},
     "output_type": "display_data"
    },
    {
     "data": {
      "application/vnd.jupyter.widget-view+json": {
       "model_id": "5d5b85ea0d39402ab2d0013faa168b5d",
       "version_major": 2,
       "version_minor": 0
      },
      "text/plain": [
       "dataset_662.parquet:   0%|          | 0.00/3.25M [00:00<?, ?B/s]"
      ]
     },
     "metadata": {},
     "output_type": "display_data"
    },
    {
     "data": {
      "application/vnd.jupyter.widget-view+json": {
       "model_id": "4d66c2409cab43d995a49a5c295b877d",
       "version_major": 2,
       "version_minor": 0
      },
      "text/plain": [
       "dataset_663.parquet:   0%|          | 0.00/3.38M [00:00<?, ?B/s]"
      ]
     },
     "metadata": {},
     "output_type": "display_data"
    },
    {
     "data": {
      "application/vnd.jupyter.widget-view+json": {
       "model_id": "02d597d6bb9845bd9a64d4dfb64c800c",
       "version_major": 2,
       "version_minor": 0
      },
      "text/plain": [
       "dataset_665.parquet:   0%|          | 0.00/3.14M [00:00<?, ?B/s]"
      ]
     },
     "metadata": {},
     "output_type": "display_data"
    },
    {
     "data": {
      "application/vnd.jupyter.widget-view+json": {
       "model_id": "cebe090d59184d9fa1783e8cf53cca14",
       "version_major": 2,
       "version_minor": 0
      },
      "text/plain": [
       "dataset_664.parquet:   0%|          | 0.00/3.27M [00:00<?, ?B/s]"
      ]
     },
     "metadata": {},
     "output_type": "display_data"
    },
    {
     "data": {
      "application/vnd.jupyter.widget-view+json": {
       "model_id": "c9a093ce203042e1b2f3c8b943d956a8",
       "version_major": 2,
       "version_minor": 0
      },
      "text/plain": [
       "dataset_667.parquet:   0%|          | 0.00/3.27M [00:00<?, ?B/s]"
      ]
     },
     "metadata": {},
     "output_type": "display_data"
    },
    {
     "data": {
      "application/vnd.jupyter.widget-view+json": {
       "model_id": "11a4b1f0d3ce42fb92ac0625b2000373",
       "version_major": 2,
       "version_minor": 0
      },
      "text/plain": [
       "dataset_666.parquet:   0%|          | 0.00/3.30M [00:00<?, ?B/s]"
      ]
     },
     "metadata": {},
     "output_type": "display_data"
    },
    {
     "data": {
      "application/vnd.jupyter.widget-view+json": {
       "model_id": "ab91721e91cc4bc0a8d8486174452b19",
       "version_major": 2,
       "version_minor": 0
      },
      "text/plain": [
       "dataset_668.parquet:   0%|          | 0.00/3.28M [00:00<?, ?B/s]"
      ]
     },
     "metadata": {},
     "output_type": "display_data"
    },
    {
     "data": {
      "application/vnd.jupyter.widget-view+json": {
       "model_id": "a730a71e79ec4620a28d04fa856f252b",
       "version_major": 2,
       "version_minor": 0
      },
      "text/plain": [
       "dataset_669.parquet:   0%|          | 0.00/3.31M [00:00<?, ?B/s]"
      ]
     },
     "metadata": {},
     "output_type": "display_data"
    },
    {
     "data": {
      "application/vnd.jupyter.widget-view+json": {
       "model_id": "51b9c25b4c8e442a8ad87794b3b8551e",
       "version_major": 2,
       "version_minor": 0
      },
      "text/plain": [
       "dataset_670.parquet:   0%|          | 0.00/3.31M [00:00<?, ?B/s]"
      ]
     },
     "metadata": {},
     "output_type": "display_data"
    },
    {
     "data": {
      "application/vnd.jupyter.widget-view+json": {
       "model_id": "1618bcf2bf294927b0c9137992aa3727",
       "version_major": 2,
       "version_minor": 0
      },
      "text/plain": [
       "dataset_671.parquet:   0%|          | 0.00/3.27M [00:00<?, ?B/s]"
      ]
     },
     "metadata": {},
     "output_type": "display_data"
    },
    {
     "data": {
      "application/vnd.jupyter.widget-view+json": {
       "model_id": "7e6163363807413a8f90ca134abed830",
       "version_major": 2,
       "version_minor": 0
      },
      "text/plain": [
       "dataset_672.parquet:   0%|          | 0.00/3.32M [00:00<?, ?B/s]"
      ]
     },
     "metadata": {},
     "output_type": "display_data"
    },
    {
     "data": {
      "application/vnd.jupyter.widget-view+json": {
       "model_id": "ef6ab19b0972476fb4d1ee96c8d5c9b1",
       "version_major": 2,
       "version_minor": 0
      },
      "text/plain": [
       "dataset_673.parquet:   0%|          | 0.00/3.41M [00:00<?, ?B/s]"
      ]
     },
     "metadata": {},
     "output_type": "display_data"
    },
    {
     "data": {
      "application/vnd.jupyter.widget-view+json": {
       "model_id": "585ce6b4eeb54e769b7d45efd7cb6f6e",
       "version_major": 2,
       "version_minor": 0
      },
      "text/plain": [
       "dataset_675.parquet:   0%|          | 0.00/3.28M [00:00<?, ?B/s]"
      ]
     },
     "metadata": {},
     "output_type": "display_data"
    },
    {
     "data": {
      "application/vnd.jupyter.widget-view+json": {
       "model_id": "1557d95a3fad487886993403737aa343",
       "version_major": 2,
       "version_minor": 0
      },
      "text/plain": [
       "dataset_676.parquet:   0%|          | 0.00/3.27M [00:00<?, ?B/s]"
      ]
     },
     "metadata": {},
     "output_type": "display_data"
    },
    {
     "data": {
      "application/vnd.jupyter.widget-view+json": {
       "model_id": "51ff3e6a09034bdbbe4b39e6377f880f",
       "version_major": 2,
       "version_minor": 0
      },
      "text/plain": [
       "dataset_674.parquet:   0%|          | 0.00/3.40M [00:00<?, ?B/s]"
      ]
     },
     "metadata": {},
     "output_type": "display_data"
    },
    {
     "data": {
      "application/vnd.jupyter.widget-view+json": {
       "model_id": "e7afa724633f4e6da90f3c821283fd13",
       "version_major": 2,
       "version_minor": 0
      },
      "text/plain": [
       "dataset_677.parquet:   0%|          | 0.00/3.35M [00:00<?, ?B/s]"
      ]
     },
     "metadata": {},
     "output_type": "display_data"
    },
    {
     "data": {
      "application/vnd.jupyter.widget-view+json": {
       "model_id": "afdce9f0fd57438f846a285d0ac8e01b",
       "version_major": 2,
       "version_minor": 0
      },
      "text/plain": [
       "dataset_678.parquet:   0%|          | 0.00/3.36M [00:00<?, ?B/s]"
      ]
     },
     "metadata": {},
     "output_type": "display_data"
    },
    {
     "data": {
      "application/vnd.jupyter.widget-view+json": {
       "model_id": "dfdbb3614ca14242aa84df9fd07ed7a1",
       "version_major": 2,
       "version_minor": 0
      },
      "text/plain": [
       "dataset_679.parquet:   0%|          | 0.00/3.41M [00:00<?, ?B/s]"
      ]
     },
     "metadata": {},
     "output_type": "display_data"
    },
    {
     "data": {
      "application/vnd.jupyter.widget-view+json": {
       "model_id": "84ce9b53f646404e9653fe3706e2bd9d",
       "version_major": 2,
       "version_minor": 0
      },
      "text/plain": [
       "dataset_680.parquet:   0%|          | 0.00/3.24M [00:00<?, ?B/s]"
      ]
     },
     "metadata": {},
     "output_type": "display_data"
    },
    {
     "data": {
      "application/vnd.jupyter.widget-view+json": {
       "model_id": "803cf394c02841078f207e7341230d53",
       "version_major": 2,
       "version_minor": 0
      },
      "text/plain": [
       "dataset_681.parquet:   0%|          | 0.00/3.38M [00:00<?, ?B/s]"
      ]
     },
     "metadata": {},
     "output_type": "display_data"
    },
    {
     "data": {
      "application/vnd.jupyter.widget-view+json": {
       "model_id": "33ef3519203944078c6421caeb6cb225",
       "version_major": 2,
       "version_minor": 0
      },
      "text/plain": [
       "dataset_682.parquet:   0%|          | 0.00/3.14M [00:00<?, ?B/s]"
      ]
     },
     "metadata": {},
     "output_type": "display_data"
    },
    {
     "data": {
      "application/vnd.jupyter.widget-view+json": {
       "model_id": "bd2dda67e6ab4fd5bdf06185ec5eb974",
       "version_major": 2,
       "version_minor": 0
      },
      "text/plain": [
       "dataset_683.parquet:   0%|          | 0.00/3.36M [00:00<?, ?B/s]"
      ]
     },
     "metadata": {},
     "output_type": "display_data"
    },
    {
     "data": {
      "application/vnd.jupyter.widget-view+json": {
       "model_id": "443045df6ea445919155c5c4d056d1c3",
       "version_major": 2,
       "version_minor": 0
      },
      "text/plain": [
       "dataset_684.parquet:   0%|          | 0.00/3.27M [00:00<?, ?B/s]"
      ]
     },
     "metadata": {},
     "output_type": "display_data"
    },
    {
     "data": {
      "application/vnd.jupyter.widget-view+json": {
       "model_id": "8f5d126e57eb4507b7c70b1f0b9e0b69",
       "version_major": 2,
       "version_minor": 0
      },
      "text/plain": [
       "dataset_685.parquet:   0%|          | 0.00/3.44M [00:00<?, ?B/s]"
      ]
     },
     "metadata": {},
     "output_type": "display_data"
    },
    {
     "data": {
      "application/vnd.jupyter.widget-view+json": {
       "model_id": "e88976ffc5e84298b37c198d4ebfd258",
       "version_major": 2,
       "version_minor": 0
      },
      "text/plain": [
       "dataset_686.parquet:   0%|          | 0.00/3.25M [00:00<?, ?B/s]"
      ]
     },
     "metadata": {},
     "output_type": "display_data"
    },
    {
     "data": {
      "application/vnd.jupyter.widget-view+json": {
       "model_id": "2f7303df1187439a80c4a90a3d58d466",
       "version_major": 2,
       "version_minor": 0
      },
      "text/plain": [
       "dataset_687.parquet:   0%|          | 0.00/3.43M [00:00<?, ?B/s]"
      ]
     },
     "metadata": {},
     "output_type": "display_data"
    },
    {
     "data": {
      "application/vnd.jupyter.widget-view+json": {
       "model_id": "4fbad5c1992c43929a3033cfe759492a",
       "version_major": 2,
       "version_minor": 0
      },
      "text/plain": [
       "dataset_688.parquet:   0%|          | 0.00/3.26M [00:00<?, ?B/s]"
      ]
     },
     "metadata": {},
     "output_type": "display_data"
    },
    {
     "data": {
      "application/vnd.jupyter.widget-view+json": {
       "model_id": "d8759fa69cde48fea0f2eec6b91cc49b",
       "version_major": 2,
       "version_minor": 0
      },
      "text/plain": [
       "dataset_689.parquet:   0%|          | 0.00/3.38M [00:00<?, ?B/s]"
      ]
     },
     "metadata": {},
     "output_type": "display_data"
    },
    {
     "data": {
      "application/vnd.jupyter.widget-view+json": {
       "model_id": "edd11415505d42f18560b7da9e4edc22",
       "version_major": 2,
       "version_minor": 0
      },
      "text/plain": [
       "dataset_690.parquet:   0%|          | 0.00/3.15M [00:00<?, ?B/s]"
      ]
     },
     "metadata": {},
     "output_type": "display_data"
    },
    {
     "data": {
      "application/vnd.jupyter.widget-view+json": {
       "model_id": "a0af09364f9d40e2846e498c5f16c39c",
       "version_major": 2,
       "version_minor": 0
      },
      "text/plain": [
       "dataset_691.parquet:   0%|          | 0.00/3.32M [00:00<?, ?B/s]"
      ]
     },
     "metadata": {},
     "output_type": "display_data"
    },
    {
     "data": {
      "application/vnd.jupyter.widget-view+json": {
       "model_id": "8b5ec4f69c014ef78b09e0a03f0db6da",
       "version_major": 2,
       "version_minor": 0
      },
      "text/plain": [
       "dataset_692.parquet:   0%|          | 0.00/3.32M [00:00<?, ?B/s]"
      ]
     },
     "metadata": {},
     "output_type": "display_data"
    },
    {
     "data": {
      "application/vnd.jupyter.widget-view+json": {
       "model_id": "687ad705ef59482ca830a749c810f8fb",
       "version_major": 2,
       "version_minor": 0
      },
      "text/plain": [
       "dataset_693.parquet:   0%|          | 0.00/3.34M [00:00<?, ?B/s]"
      ]
     },
     "metadata": {},
     "output_type": "display_data"
    },
    {
     "data": {
      "application/vnd.jupyter.widget-view+json": {
       "model_id": "5ff18aafe69b4b068d13ccd34cd99dd1",
       "version_major": 2,
       "version_minor": 0
      },
      "text/plain": [
       "dataset_694.parquet:   0%|          | 0.00/3.27M [00:00<?, ?B/s]"
      ]
     },
     "metadata": {},
     "output_type": "display_data"
    },
    {
     "data": {
      "application/vnd.jupyter.widget-view+json": {
       "model_id": "d623ee59efce46e6a91417a99f6de2d4",
       "version_major": 2,
       "version_minor": 0
      },
      "text/plain": [
       "dataset_696.parquet:   0%|          | 0.00/3.22M [00:00<?, ?B/s]"
      ]
     },
     "metadata": {},
     "output_type": "display_data"
    },
    {
     "data": {
      "application/vnd.jupyter.widget-view+json": {
       "model_id": "613820db3b1745b0a4b5d93830f65c78",
       "version_major": 2,
       "version_minor": 0
      },
      "text/plain": [
       "dataset_695.parquet:   0%|          | 0.00/3.42M [00:00<?, ?B/s]"
      ]
     },
     "metadata": {},
     "output_type": "display_data"
    },
    {
     "data": {
      "application/vnd.jupyter.widget-view+json": {
       "model_id": "8c3188da8b004a3ab32709c0f3c32bd2",
       "version_major": 2,
       "version_minor": 0
      },
      "text/plain": [
       "dataset_697.parquet:   0%|          | 0.00/3.30M [00:00<?, ?B/s]"
      ]
     },
     "metadata": {},
     "output_type": "display_data"
    },
    {
     "data": {
      "application/vnd.jupyter.widget-view+json": {
       "model_id": "6e45c5c086ca43de9738e1d4d29e1b99",
       "version_major": 2,
       "version_minor": 0
      },
      "text/plain": [
       "dataset_698.parquet:   0%|          | 0.00/3.31M [00:00<?, ?B/s]"
      ]
     },
     "metadata": {},
     "output_type": "display_data"
    },
    {
     "data": {
      "application/vnd.jupyter.widget-view+json": {
       "model_id": "7cb4735e5b1b474094836366d9db4279",
       "version_major": 2,
       "version_minor": 0
      },
      "text/plain": [
       "dataset_699.parquet:   0%|          | 0.00/3.36M [00:00<?, ?B/s]"
      ]
     },
     "metadata": {},
     "output_type": "display_data"
    },
    {
     "data": {
      "application/vnd.jupyter.widget-view+json": {
       "model_id": "b9fc69695811424fb0af9cee61a325ac",
       "version_major": 2,
       "version_minor": 0
      },
      "text/plain": [
       "dataset_700.parquet:   0%|          | 0.00/3.36M [00:00<?, ?B/s]"
      ]
     },
     "metadata": {},
     "output_type": "display_data"
    },
    {
     "data": {
      "application/vnd.jupyter.widget-view+json": {
       "model_id": "af7c0cc2edcf4c22b37692da4c526890",
       "version_major": 2,
       "version_minor": 0
      },
      "text/plain": [
       "dataset_701.parquet:   0%|          | 0.00/3.40M [00:00<?, ?B/s]"
      ]
     },
     "metadata": {},
     "output_type": "display_data"
    },
    {
     "data": {
      "application/vnd.jupyter.widget-view+json": {
       "model_id": "14b91b4d6d3e4e2aad228dc3e7d7d203",
       "version_major": 2,
       "version_minor": 0
      },
      "text/plain": [
       "dataset_702.parquet:   0%|          | 0.00/3.34M [00:00<?, ?B/s]"
      ]
     },
     "metadata": {},
     "output_type": "display_data"
    },
    {
     "data": {
      "application/vnd.jupyter.widget-view+json": {
       "model_id": "b01a19464ca64ead9605e059cfb47079",
       "version_major": 2,
       "version_minor": 0
      },
      "text/plain": [
       "dataset_703.parquet:   0%|          | 0.00/3.32M [00:00<?, ?B/s]"
      ]
     },
     "metadata": {},
     "output_type": "display_data"
    },
    {
     "data": {
      "application/vnd.jupyter.widget-view+json": {
       "model_id": "796ab5c76d204b5ab843efe80690af74",
       "version_major": 2,
       "version_minor": 0
      },
      "text/plain": [
       "dataset_705.parquet:   0%|          | 0.00/3.41M [00:00<?, ?B/s]"
      ]
     },
     "metadata": {},
     "output_type": "display_data"
    },
    {
     "data": {
      "application/vnd.jupyter.widget-view+json": {
       "model_id": "5a0c1bc83a7d49ad843eaab619e90662",
       "version_major": 2,
       "version_minor": 0
      },
      "text/plain": [
       "dataset_704.parquet:   0%|          | 0.00/3.39M [00:00<?, ?B/s]"
      ]
     },
     "metadata": {},
     "output_type": "display_data"
    },
    {
     "data": {
      "application/vnd.jupyter.widget-view+json": {
       "model_id": "d85b99bc6e6c4d02b8451eace4f42d20",
       "version_major": 2,
       "version_minor": 0
      },
      "text/plain": [
       "dataset_706.parquet:   0%|          | 0.00/3.48M [00:00<?, ?B/s]"
      ]
     },
     "metadata": {},
     "output_type": "display_data"
    },
    {
     "data": {
      "application/vnd.jupyter.widget-view+json": {
       "model_id": "595b2574aacb4c4f8984921001ce2868",
       "version_major": 2,
       "version_minor": 0
      },
      "text/plain": [
       "dataset_707.parquet:   0%|          | 0.00/3.33M [00:00<?, ?B/s]"
      ]
     },
     "metadata": {},
     "output_type": "display_data"
    },
    {
     "data": {
      "application/vnd.jupyter.widget-view+json": {
       "model_id": "01e234b5cdd84fda9e87cfd3e5c14bd5",
       "version_major": 2,
       "version_minor": 0
      },
      "text/plain": [
       "dataset_708.parquet:   0%|          | 0.00/3.36M [00:00<?, ?B/s]"
      ]
     },
     "metadata": {},
     "output_type": "display_data"
    },
    {
     "data": {
      "application/vnd.jupyter.widget-view+json": {
       "model_id": "122202494058409281f60622c1a3a6d7",
       "version_major": 2,
       "version_minor": 0
      },
      "text/plain": [
       "dataset_709.parquet:   0%|          | 0.00/3.29M [00:00<?, ?B/s]"
      ]
     },
     "metadata": {},
     "output_type": "display_data"
    },
    {
     "data": {
      "application/vnd.jupyter.widget-view+json": {
       "model_id": "fe26e77e7e7241889e7e3192b163edd6",
       "version_major": 2,
       "version_minor": 0
      },
      "text/plain": [
       "dataset_710.parquet:   0%|          | 0.00/3.28M [00:00<?, ?B/s]"
      ]
     },
     "metadata": {},
     "output_type": "display_data"
    },
    {
     "data": {
      "application/vnd.jupyter.widget-view+json": {
       "model_id": "ba9d14f4425e436c92b29b7aae1c28f4",
       "version_major": 2,
       "version_minor": 0
      },
      "text/plain": [
       "dataset_711.parquet:   0%|          | 0.00/3.35M [00:00<?, ?B/s]"
      ]
     },
     "metadata": {},
     "output_type": "display_data"
    },
    {
     "data": {
      "application/vnd.jupyter.widget-view+json": {
       "model_id": "f0ca49b49bb640588c8a7eafb17f6ed7",
       "version_major": 2,
       "version_minor": 0
      },
      "text/plain": [
       "dataset_712.parquet:   0%|          | 0.00/3.25M [00:00<?, ?B/s]"
      ]
     },
     "metadata": {},
     "output_type": "display_data"
    },
    {
     "data": {
      "application/vnd.jupyter.widget-view+json": {
       "model_id": "2d72222700544e359ace5ae5318214a5",
       "version_major": 2,
       "version_minor": 0
      },
      "text/plain": [
       "dataset_713.parquet:   0%|          | 0.00/3.42M [00:00<?, ?B/s]"
      ]
     },
     "metadata": {},
     "output_type": "display_data"
    },
    {
     "data": {
      "application/vnd.jupyter.widget-view+json": {
       "model_id": "488d74fedb66479caa1891b52229679a",
       "version_major": 2,
       "version_minor": 0
      },
      "text/plain": [
       "dataset_714.parquet:   0%|          | 0.00/3.46M [00:00<?, ?B/s]"
      ]
     },
     "metadata": {},
     "output_type": "display_data"
    },
    {
     "data": {
      "application/vnd.jupyter.widget-view+json": {
       "model_id": "c206f5526f4947b18ec9b799f6d17a92",
       "version_major": 2,
       "version_minor": 0
      },
      "text/plain": [
       "dataset_715.parquet:   0%|          | 0.00/3.56M [00:00<?, ?B/s]"
      ]
     },
     "metadata": {},
     "output_type": "display_data"
    },
    {
     "data": {
      "application/vnd.jupyter.widget-view+json": {
       "model_id": "b580e6e4f2854324985ecb929988d1b4",
       "version_major": 2,
       "version_minor": 0
      },
      "text/plain": [
       "dataset_716.parquet:   0%|          | 0.00/3.55M [00:00<?, ?B/s]"
      ]
     },
     "metadata": {},
     "output_type": "display_data"
    },
    {
     "data": {
      "application/vnd.jupyter.widget-view+json": {
       "model_id": "4cd7b00d96d3460591ea8fd79663db14",
       "version_major": 2,
       "version_minor": 0
      },
      "text/plain": [
       "dataset_717.parquet:   0%|          | 0.00/3.50M [00:00<?, ?B/s]"
      ]
     },
     "metadata": {},
     "output_type": "display_data"
    },
    {
     "data": {
      "application/vnd.jupyter.widget-view+json": {
       "model_id": "27a427f10bcb42f8864e2dcde0744899",
       "version_major": 2,
       "version_minor": 0
      },
      "text/plain": [
       "dataset_718.parquet:   0%|          | 0.00/3.44M [00:00<?, ?B/s]"
      ]
     },
     "metadata": {},
     "output_type": "display_data"
    },
    {
     "data": {
      "application/vnd.jupyter.widget-view+json": {
       "model_id": "577e31e984dc44fb8f2f634e9f37c462",
       "version_major": 2,
       "version_minor": 0
      },
      "text/plain": [
       "dataset_719.parquet:   0%|          | 0.00/3.48M [00:00<?, ?B/s]"
      ]
     },
     "metadata": {},
     "output_type": "display_data"
    },
    {
     "data": {
      "application/vnd.jupyter.widget-view+json": {
       "model_id": "e4f66ecbeae74a9194932d3684753909",
       "version_major": 2,
       "version_minor": 0
      },
      "text/plain": [
       "dataset_720.parquet:   0%|          | 0.00/3.58M [00:00<?, ?B/s]"
      ]
     },
     "metadata": {},
     "output_type": "display_data"
    },
    {
     "data": {
      "application/vnd.jupyter.widget-view+json": {
       "model_id": "0563b7d5c0c94eeda8c8c2a271b14d25",
       "version_major": 2,
       "version_minor": 0
      },
      "text/plain": [
       "dataset_721.parquet:   0%|          | 0.00/3.49M [00:00<?, ?B/s]"
      ]
     },
     "metadata": {},
     "output_type": "display_data"
    },
    {
     "data": {
      "application/vnd.jupyter.widget-view+json": {
       "model_id": "0e928e09f17c4309891b4ff962270f97",
       "version_major": 2,
       "version_minor": 0
      },
      "text/plain": [
       "dataset_722.parquet:   0%|          | 0.00/3.50M [00:00<?, ?B/s]"
      ]
     },
     "metadata": {},
     "output_type": "display_data"
    },
    {
     "data": {
      "application/vnd.jupyter.widget-view+json": {
       "model_id": "e8649efefbf14faea1d2cf9e6bad4fc8",
       "version_major": 2,
       "version_minor": 0
      },
      "text/plain": [
       "dataset_723.parquet:   0%|          | 0.00/3.55M [00:00<?, ?B/s]"
      ]
     },
     "metadata": {},
     "output_type": "display_data"
    },
    {
     "data": {
      "application/vnd.jupyter.widget-view+json": {
       "model_id": "2626a7bae2aa4d43ba1f80e8a6dd92ae",
       "version_major": 2,
       "version_minor": 0
      },
      "text/plain": [
       "dataset_724.parquet:   0%|          | 0.00/3.67M [00:00<?, ?B/s]"
      ]
     },
     "metadata": {},
     "output_type": "display_data"
    },
    {
     "data": {
      "application/vnd.jupyter.widget-view+json": {
       "model_id": "5872620155834fed86c4faf8786af460",
       "version_major": 2,
       "version_minor": 0
      },
      "text/plain": [
       "dataset_725.parquet:   0%|          | 0.00/3.62M [00:00<?, ?B/s]"
      ]
     },
     "metadata": {},
     "output_type": "display_data"
    },
    {
     "data": {
      "application/vnd.jupyter.widget-view+json": {
       "model_id": "ea6f56d6edcb4513b74a8a418ce36344",
       "version_major": 2,
       "version_minor": 0
      },
      "text/plain": [
       "dataset_726.parquet:   0%|          | 0.00/3.45M [00:00<?, ?B/s]"
      ]
     },
     "metadata": {},
     "output_type": "display_data"
    },
    {
     "data": {
      "application/vnd.jupyter.widget-view+json": {
       "model_id": "52096d2a309745e696053a81f2707b97",
       "version_major": 2,
       "version_minor": 0
      },
      "text/plain": [
       "dataset_728.parquet:   0%|          | 0.00/3.52M [00:00<?, ?B/s]"
      ]
     },
     "metadata": {},
     "output_type": "display_data"
    },
    {
     "data": {
      "application/vnd.jupyter.widget-view+json": {
       "model_id": "7808ca00bc7d4243a0d9dc775ae51344",
       "version_major": 2,
       "version_minor": 0
      },
      "text/plain": [
       "dataset_727.parquet:   0%|          | 0.00/3.50M [00:00<?, ?B/s]"
      ]
     },
     "metadata": {},
     "output_type": "display_data"
    },
    {
     "data": {
      "application/vnd.jupyter.widget-view+json": {
       "model_id": "cb71ec17c67d4355adeb81ce040cb5e0",
       "version_major": 2,
       "version_minor": 0
      },
      "text/plain": [
       "dataset_729.parquet:   0%|          | 0.00/3.46M [00:00<?, ?B/s]"
      ]
     },
     "metadata": {},
     "output_type": "display_data"
    },
    {
     "data": {
      "application/vnd.jupyter.widget-view+json": {
       "model_id": "f90fa2a995c74c889e6a560cf4470c5e",
       "version_major": 2,
       "version_minor": 0
      },
      "text/plain": [
       "dataset_730.parquet:   0%|          | 0.00/3.61M [00:00<?, ?B/s]"
      ]
     },
     "metadata": {},
     "output_type": "display_data"
    },
    {
     "data": {
      "application/vnd.jupyter.widget-view+json": {
       "model_id": "e08d9e2962d2498e8e02a38593eef57a",
       "version_major": 2,
       "version_minor": 0
      },
      "text/plain": [
       "dataset_731.parquet:   0%|          | 0.00/3.37M [00:00<?, ?B/s]"
      ]
     },
     "metadata": {},
     "output_type": "display_data"
    },
    {
     "data": {
      "application/vnd.jupyter.widget-view+json": {
       "model_id": "8feca21de1e443f9980e52775889347a",
       "version_major": 2,
       "version_minor": 0
      },
      "text/plain": [
       "dataset_732.parquet:   0%|          | 0.00/3.47M [00:00<?, ?B/s]"
      ]
     },
     "metadata": {},
     "output_type": "display_data"
    },
    {
     "data": {
      "application/vnd.jupyter.widget-view+json": {
       "model_id": "34bb1137523c4f6fb724502e5afa97e2",
       "version_major": 2,
       "version_minor": 0
      },
      "text/plain": [
       "dataset_733.parquet:   0%|          | 0.00/3.57M [00:00<?, ?B/s]"
      ]
     },
     "metadata": {},
     "output_type": "display_data"
    },
    {
     "data": {
      "application/vnd.jupyter.widget-view+json": {
       "model_id": "15735f04378a45b685658ffa0e7417e4",
       "version_major": 2,
       "version_minor": 0
      },
      "text/plain": [
       "dataset_734.parquet:   0%|          | 0.00/3.59M [00:00<?, ?B/s]"
      ]
     },
     "metadata": {},
     "output_type": "display_data"
    },
    {
     "data": {
      "application/vnd.jupyter.widget-view+json": {
       "model_id": "fb906f8a863344bd8c8e10e93d3b6465",
       "version_major": 2,
       "version_minor": 0
      },
      "text/plain": [
       "dataset_735.parquet:   0%|          | 0.00/3.56M [00:00<?, ?B/s]"
      ]
     },
     "metadata": {},
     "output_type": "display_data"
    },
    {
     "data": {
      "application/vnd.jupyter.widget-view+json": {
       "model_id": "b00876ccc78342f9a9c43441412603cc",
       "version_major": 2,
       "version_minor": 0
      },
      "text/plain": [
       "dataset_736.parquet:   0%|          | 0.00/3.44M [00:00<?, ?B/s]"
      ]
     },
     "metadata": {},
     "output_type": "display_data"
    },
    {
     "data": {
      "application/vnd.jupyter.widget-view+json": {
       "model_id": "3736e75e3d73413898d171b15326fda5",
       "version_major": 2,
       "version_minor": 0
      },
      "text/plain": [
       "dataset_737.parquet:   0%|          | 0.00/3.48M [00:00<?, ?B/s]"
      ]
     },
     "metadata": {},
     "output_type": "display_data"
    },
    {
     "data": {
      "application/vnd.jupyter.widget-view+json": {
       "model_id": "939f818b6b754cc39c7b6133a47e73f5",
       "version_major": 2,
       "version_minor": 0
      },
      "text/plain": [
       "dataset_739.parquet:   0%|          | 0.00/3.57M [00:00<?, ?B/s]"
      ]
     },
     "metadata": {},
     "output_type": "display_data"
    },
    {
     "data": {
      "application/vnd.jupyter.widget-view+json": {
       "model_id": "637f6705512146e892c96b14ca208f3e",
       "version_major": 2,
       "version_minor": 0
      },
      "text/plain": [
       "dataset_740.parquet:   0%|          | 0.00/3.56M [00:00<?, ?B/s]"
      ]
     },
     "metadata": {},
     "output_type": "display_data"
    },
    {
     "data": {
      "application/vnd.jupyter.widget-view+json": {
       "model_id": "eaa812e943d244da8549c420ead4ecdd",
       "version_major": 2,
       "version_minor": 0
      },
      "text/plain": [
       "dataset_738.parquet:   0%|          | 0.00/3.57M [00:00<?, ?B/s]"
      ]
     },
     "metadata": {},
     "output_type": "display_data"
    },
    {
     "data": {
      "application/vnd.jupyter.widget-view+json": {
       "model_id": "d0f0f56c80164de4a00489bd2361d3fb",
       "version_major": 2,
       "version_minor": 0
      },
      "text/plain": [
       "dataset_741.parquet:   0%|          | 0.00/3.42M [00:00<?, ?B/s]"
      ]
     },
     "metadata": {},
     "output_type": "display_data"
    },
    {
     "data": {
      "application/vnd.jupyter.widget-view+json": {
       "model_id": "cd295d7c446a4e8b8ebb475b75198696",
       "version_major": 2,
       "version_minor": 0
      },
      "text/plain": [
       "dataset_742.parquet:   0%|          | 0.00/3.60M [00:00<?, ?B/s]"
      ]
     },
     "metadata": {},
     "output_type": "display_data"
    },
    {
     "data": {
      "application/vnd.jupyter.widget-view+json": {
       "model_id": "290717d2b75449a0b58d1c4f0d240c3a",
       "version_major": 2,
       "version_minor": 0
      },
      "text/plain": [
       "dataset_743.parquet:   0%|          | 0.00/3.56M [00:00<?, ?B/s]"
      ]
     },
     "metadata": {},
     "output_type": "display_data"
    },
    {
     "data": {
      "application/vnd.jupyter.widget-view+json": {
       "model_id": "ff4115e75a9146619a0465bb6759afd5",
       "version_major": 2,
       "version_minor": 0
      },
      "text/plain": [
       "dataset_744.parquet:   0%|          | 0.00/3.55M [00:00<?, ?B/s]"
      ]
     },
     "metadata": {},
     "output_type": "display_data"
    },
    {
     "data": {
      "application/vnd.jupyter.widget-view+json": {
       "model_id": "b3a8bd0b820d44c98fc47dc8131c0549",
       "version_major": 2,
       "version_minor": 0
      },
      "text/plain": [
       "dataset_745.parquet:   0%|          | 0.00/3.38M [00:00<?, ?B/s]"
      ]
     },
     "metadata": {},
     "output_type": "display_data"
    },
    {
     "data": {
      "application/vnd.jupyter.widget-view+json": {
       "model_id": "31f7e269d84d48f2a5fdbc3cad4fad2c",
       "version_major": 2,
       "version_minor": 0
      },
      "text/plain": [
       "dataset_746.parquet:   0%|          | 0.00/3.39M [00:00<?, ?B/s]"
      ]
     },
     "metadata": {},
     "output_type": "display_data"
    },
    {
     "data": {
      "application/vnd.jupyter.widget-view+json": {
       "model_id": "eed14103475e4575a4858ed8dff62f47",
       "version_major": 2,
       "version_minor": 0
      },
      "text/plain": [
       "dataset_747.parquet:   0%|          | 0.00/3.58M [00:00<?, ?B/s]"
      ]
     },
     "metadata": {},
     "output_type": "display_data"
    },
    {
     "data": {
      "application/vnd.jupyter.widget-view+json": {
       "model_id": "62e499462c1e4d31ae8f04e68555aaa7",
       "version_major": 2,
       "version_minor": 0
      },
      "text/plain": [
       "dataset_748.parquet:   0%|          | 0.00/3.52M [00:00<?, ?B/s]"
      ]
     },
     "metadata": {},
     "output_type": "display_data"
    },
    {
     "data": {
      "application/vnd.jupyter.widget-view+json": {
       "model_id": "6a6e6fc31ab4469c84c4b59a8765170d",
       "version_major": 2,
       "version_minor": 0
      },
      "text/plain": [
       "dataset_749.parquet:   0%|          | 0.00/3.63M [00:00<?, ?B/s]"
      ]
     },
     "metadata": {},
     "output_type": "display_data"
    },
    {
     "data": {
      "application/vnd.jupyter.widget-view+json": {
       "model_id": "f870879189d44cb78761780a7c2b6968",
       "version_major": 2,
       "version_minor": 0
      },
      "text/plain": [
       "dataset_750.parquet:   0%|          | 0.00/3.40M [00:00<?, ?B/s]"
      ]
     },
     "metadata": {},
     "output_type": "display_data"
    },
    {
     "data": {
      "application/vnd.jupyter.widget-view+json": {
       "model_id": "ece0bc1fdeb240cdb1277c8f92868f3d",
       "version_major": 2,
       "version_minor": 0
      },
      "text/plain": [
       "dataset_751.parquet:   0%|          | 0.00/3.46M [00:00<?, ?B/s]"
      ]
     },
     "metadata": {},
     "output_type": "display_data"
    },
    {
     "data": {
      "application/vnd.jupyter.widget-view+json": {
       "model_id": "dad5b1cad08f4c11acb667f4ceece3a8",
       "version_major": 2,
       "version_minor": 0
      },
      "text/plain": [
       "dataset_752.parquet:   0%|          | 0.00/3.45M [00:00<?, ?B/s]"
      ]
     },
     "metadata": {},
     "output_type": "display_data"
    },
    {
     "data": {
      "application/vnd.jupyter.widget-view+json": {
       "model_id": "f045cf7eeecf43719a4b58fbf84571d1",
       "version_major": 2,
       "version_minor": 0
      },
      "text/plain": [
       "dataset_754.parquet:   0%|          | 0.00/3.44M [00:00<?, ?B/s]"
      ]
     },
     "metadata": {},
     "output_type": "display_data"
    },
    {
     "data": {
      "application/vnd.jupyter.widget-view+json": {
       "model_id": "329ad8e398b9405b85923847c633db3b",
       "version_major": 2,
       "version_minor": 0
      },
      "text/plain": [
       "dataset_755.parquet:   0%|          | 0.00/3.38M [00:00<?, ?B/s]"
      ]
     },
     "metadata": {},
     "output_type": "display_data"
    },
    {
     "data": {
      "application/vnd.jupyter.widget-view+json": {
       "model_id": "20f3a36eaca942ae8e12034a9708360e",
       "version_major": 2,
       "version_minor": 0
      },
      "text/plain": [
       "dataset_756.parquet:   0%|          | 0.00/3.46M [00:00<?, ?B/s]"
      ]
     },
     "metadata": {},
     "output_type": "display_data"
    },
    {
     "data": {
      "application/vnd.jupyter.widget-view+json": {
       "model_id": "a3e14271e1464a0cb863bee7ad31889f",
       "version_major": 2,
       "version_minor": 0
      },
      "text/plain": [
       "dataset_753.parquet:   0%|          | 0.00/3.44M [00:00<?, ?B/s]"
      ]
     },
     "metadata": {},
     "output_type": "display_data"
    },
    {
     "data": {
      "application/vnd.jupyter.widget-view+json": {
       "model_id": "9ddcaab03c0348a889a7a86f93e727e2",
       "version_major": 2,
       "version_minor": 0
      },
      "text/plain": [
       "dataset_757.parquet:   0%|          | 0.00/3.54M [00:00<?, ?B/s]"
      ]
     },
     "metadata": {},
     "output_type": "display_data"
    },
    {
     "data": {
      "application/vnd.jupyter.widget-view+json": {
       "model_id": "63e06a5b7d044f02940157d81bbe1dff",
       "version_major": 2,
       "version_minor": 0
      },
      "text/plain": [
       "dataset_758.parquet:   0%|          | 0.00/3.63M [00:00<?, ?B/s]"
      ]
     },
     "metadata": {},
     "output_type": "display_data"
    },
    {
     "data": {
      "application/vnd.jupyter.widget-view+json": {
       "model_id": "1430727f6a5e4a7facbaacb4302a5583",
       "version_major": 2,
       "version_minor": 0
      },
      "text/plain": [
       "dataset_759.parquet:   0%|          | 0.00/3.50M [00:00<?, ?B/s]"
      ]
     },
     "metadata": {},
     "output_type": "display_data"
    },
    {
     "data": {
      "application/vnd.jupyter.widget-view+json": {
       "model_id": "b412086eccb543bb8539a766b5d123b2",
       "version_major": 2,
       "version_minor": 0
      },
      "text/plain": [
       "dataset_760.parquet:   0%|          | 0.00/3.36M [00:00<?, ?B/s]"
      ]
     },
     "metadata": {},
     "output_type": "display_data"
    },
    {
     "data": {
      "application/vnd.jupyter.widget-view+json": {
       "model_id": "f119811e817c4cfdb0464e476f575934",
       "version_major": 2,
       "version_minor": 0
      },
      "text/plain": [
       "dataset_761.parquet:   0%|          | 0.00/3.23M [00:00<?, ?B/s]"
      ]
     },
     "metadata": {},
     "output_type": "display_data"
    },
    {
     "data": {
      "application/vnd.jupyter.widget-view+json": {
       "model_id": "f4f498179c4b4f5289852c8cea1b614e",
       "version_major": 2,
       "version_minor": 0
      },
      "text/plain": [
       "dataset_762.parquet:   0%|          | 0.00/3.29M [00:00<?, ?B/s]"
      ]
     },
     "metadata": {},
     "output_type": "display_data"
    },
    {
     "data": {
      "application/vnd.jupyter.widget-view+json": {
       "model_id": "efb1f8ed6516424888d9a186e404ab8b",
       "version_major": 2,
       "version_minor": 0
      },
      "text/plain": [
       "dataset_763.parquet:   0%|          | 0.00/3.25M [00:00<?, ?B/s]"
      ]
     },
     "metadata": {},
     "output_type": "display_data"
    },
    {
     "data": {
      "application/vnd.jupyter.widget-view+json": {
       "model_id": "6cb6a9edd27a4e699835d090b0a32ac7",
       "version_major": 2,
       "version_minor": 0
      },
      "text/plain": [
       "dataset_764.parquet:   0%|          | 0.00/3.14M [00:00<?, ?B/s]"
      ]
     },
     "metadata": {},
     "output_type": "display_data"
    },
    {
     "data": {
      "application/vnd.jupyter.widget-view+json": {
       "model_id": "b9ff7365f4b342b99849df8d310d923c",
       "version_major": 2,
       "version_minor": 0
      },
      "text/plain": [
       "dataset_765.parquet:   0%|          | 0.00/3.23M [00:00<?, ?B/s]"
      ]
     },
     "metadata": {},
     "output_type": "display_data"
    },
    {
     "data": {
      "application/vnd.jupyter.widget-view+json": {
       "model_id": "21e405845cd74e6fb3834409fc9e2018",
       "version_major": 2,
       "version_minor": 0
      },
      "text/plain": [
       "dataset_766.parquet:   0%|          | 0.00/3.28M [00:00<?, ?B/s]"
      ]
     },
     "metadata": {},
     "output_type": "display_data"
    },
    {
     "data": {
      "application/vnd.jupyter.widget-view+json": {
       "model_id": "1f9eb75d127c47d9ab4469a3d5448d0a",
       "version_major": 2,
       "version_minor": 0
      },
      "text/plain": [
       "dataset_767.parquet:   0%|          | 0.00/3.15M [00:00<?, ?B/s]"
      ]
     },
     "metadata": {},
     "output_type": "display_data"
    },
    {
     "data": {
      "application/vnd.jupyter.widget-view+json": {
       "model_id": "37393210ea424fcf836989c5227cad44",
       "version_major": 2,
       "version_minor": 0
      },
      "text/plain": [
       "dataset_768.parquet:   0%|          | 0.00/3.12M [00:00<?, ?B/s]"
      ]
     },
     "metadata": {},
     "output_type": "display_data"
    },
    {
     "data": {
      "application/vnd.jupyter.widget-view+json": {
       "model_id": "66106a758e2840428f2bd131c632c389",
       "version_major": 2,
       "version_minor": 0
      },
      "text/plain": [
       "dataset_769.parquet:   0%|          | 0.00/3.22M [00:00<?, ?B/s]"
      ]
     },
     "metadata": {},
     "output_type": "display_data"
    },
    {
     "data": {
      "application/vnd.jupyter.widget-view+json": {
       "model_id": "8820780f61584e949565baf04f7f4538",
       "version_major": 2,
       "version_minor": 0
      },
      "text/plain": [
       "dataset_770.parquet:   0%|          | 0.00/3.30M [00:00<?, ?B/s]"
      ]
     },
     "metadata": {},
     "output_type": "display_data"
    },
    {
     "data": {
      "application/vnd.jupyter.widget-view+json": {
       "model_id": "5c87a6838a2c438eaf02522d8887cca8",
       "version_major": 2,
       "version_minor": 0
      },
      "text/plain": [
       "dataset_771.parquet:   0%|          | 0.00/3.30M [00:00<?, ?B/s]"
      ]
     },
     "metadata": {},
     "output_type": "display_data"
    },
    {
     "data": {
      "application/vnd.jupyter.widget-view+json": {
       "model_id": "633016d1e81f47cca0c3db523ecac60f",
       "version_major": 2,
       "version_minor": 0
      },
      "text/plain": [
       "dataset_772.parquet:   0%|          | 0.00/3.16M [00:00<?, ?B/s]"
      ]
     },
     "metadata": {},
     "output_type": "display_data"
    },
    {
     "data": {
      "application/vnd.jupyter.widget-view+json": {
       "model_id": "c12f2b93d3294e2abcf85d13737b924d",
       "version_major": 2,
       "version_minor": 0
      },
      "text/plain": [
       "dataset_773.parquet:   0%|          | 0.00/3.14M [00:00<?, ?B/s]"
      ]
     },
     "metadata": {},
     "output_type": "display_data"
    },
    {
     "data": {
      "application/vnd.jupyter.widget-view+json": {
       "model_id": "0e1ffa63169f470ebbc3f5655fb84bf3",
       "version_major": 2,
       "version_minor": 0
      },
      "text/plain": [
       "dataset_774.parquet:   0%|          | 0.00/3.15M [00:00<?, ?B/s]"
      ]
     },
     "metadata": {},
     "output_type": "display_data"
    },
    {
     "data": {
      "application/vnd.jupyter.widget-view+json": {
       "model_id": "b17ad5e7d7da43f889975caf6faeb3c0",
       "version_major": 2,
       "version_minor": 0
      },
      "text/plain": [
       "dataset_775.parquet:   0%|          | 0.00/3.20M [00:00<?, ?B/s]"
      ]
     },
     "metadata": {},
     "output_type": "display_data"
    },
    {
     "data": {
      "application/vnd.jupyter.widget-view+json": {
       "model_id": "daa1a93e4ae74092b6c7f69ecd866ca6",
       "version_major": 2,
       "version_minor": 0
      },
      "text/plain": [
       "dataset_776.parquet:   0%|          | 0.00/3.10M [00:00<?, ?B/s]"
      ]
     },
     "metadata": {},
     "output_type": "display_data"
    },
    {
     "data": {
      "application/vnd.jupyter.widget-view+json": {
       "model_id": "6e836fa29857419997c61421aa7b9044",
       "version_major": 2,
       "version_minor": 0
      },
      "text/plain": [
       "dataset_777.parquet:   0%|          | 0.00/3.24M [00:00<?, ?B/s]"
      ]
     },
     "metadata": {},
     "output_type": "display_data"
    },
    {
     "data": {
      "application/vnd.jupyter.widget-view+json": {
       "model_id": "0e520df598854caebec6172c89feb1bb",
       "version_major": 2,
       "version_minor": 0
      },
      "text/plain": [
       "dataset_778.parquet:   0%|          | 0.00/3.29M [00:00<?, ?B/s]"
      ]
     },
     "metadata": {},
     "output_type": "display_data"
    },
    {
     "data": {
      "application/vnd.jupyter.widget-view+json": {
       "model_id": "56c440d11ca94d3f9a3a6792cfa5a755",
       "version_major": 2,
       "version_minor": 0
      },
      "text/plain": [
       "dataset_779.parquet:   0%|          | 0.00/3.14M [00:00<?, ?B/s]"
      ]
     },
     "metadata": {},
     "output_type": "display_data"
    },
    {
     "data": {
      "application/vnd.jupyter.widget-view+json": {
       "model_id": "8696e6e67a274970b63c8d92c862f68d",
       "version_major": 2,
       "version_minor": 0
      },
      "text/plain": [
       "dataset_780.parquet:   0%|          | 0.00/3.41M [00:00<?, ?B/s]"
      ]
     },
     "metadata": {},
     "output_type": "display_data"
    },
    {
     "data": {
      "application/vnd.jupyter.widget-view+json": {
       "model_id": "be0ccf110d934be1a802b9c8e7850511",
       "version_major": 2,
       "version_minor": 0
      },
      "text/plain": [
       "dataset_781.parquet:   0%|          | 0.00/3.37M [00:00<?, ?B/s]"
      ]
     },
     "metadata": {},
     "output_type": "display_data"
    },
    {
     "data": {
      "application/vnd.jupyter.widget-view+json": {
       "model_id": "3bd1bebff8db480da874baad9fdb7583",
       "version_major": 2,
       "version_minor": 0
      },
      "text/plain": [
       "dataset_782.parquet:   0%|          | 0.00/3.59M [00:00<?, ?B/s]"
      ]
     },
     "metadata": {},
     "output_type": "display_data"
    },
    {
     "data": {
      "application/vnd.jupyter.widget-view+json": {
       "model_id": "d9b1b8f5e79b4a6e9b7d3aacae8a2b48",
       "version_major": 2,
       "version_minor": 0
      },
      "text/plain": [
       "dataset_783.parquet:   0%|          | 0.00/3.55M [00:00<?, ?B/s]"
      ]
     },
     "metadata": {},
     "output_type": "display_data"
    },
    {
     "data": {
      "application/vnd.jupyter.widget-view+json": {
       "model_id": "204af08c3f614d679951cf0a07f7af4d",
       "version_major": 2,
       "version_minor": 0
      },
      "text/plain": [
       "dataset_784.parquet:   0%|          | 0.00/3.39M [00:00<?, ?B/s]"
      ]
     },
     "metadata": {},
     "output_type": "display_data"
    },
    {
     "data": {
      "application/vnd.jupyter.widget-view+json": {
       "model_id": "168edb098c624d38b2a4a5d1fdea35bb",
       "version_major": 2,
       "version_minor": 0
      },
      "text/plain": [
       "dataset_785.parquet:   0%|          | 0.00/3.51M [00:00<?, ?B/s]"
      ]
     },
     "metadata": {},
     "output_type": "display_data"
    },
    {
     "data": {
      "application/vnd.jupyter.widget-view+json": {
       "model_id": "87e248d2c65b4f90a447279f3be0a24a",
       "version_major": 2,
       "version_minor": 0
      },
      "text/plain": [
       "dataset_786.parquet:   0%|          | 0.00/3.49M [00:00<?, ?B/s]"
      ]
     },
     "metadata": {},
     "output_type": "display_data"
    },
    {
     "data": {
      "application/vnd.jupyter.widget-view+json": {
       "model_id": "dea7cc4227fe40c2ae153b93147d23f5",
       "version_major": 2,
       "version_minor": 0
      },
      "text/plain": [
       "dataset_787.parquet:   0%|          | 0.00/3.54M [00:00<?, ?B/s]"
      ]
     },
     "metadata": {},
     "output_type": "display_data"
    },
    {
     "data": {
      "application/vnd.jupyter.widget-view+json": {
       "model_id": "c26e9d54f25f4c02916594bba4d5db64",
       "version_major": 2,
       "version_minor": 0
      },
      "text/plain": [
       "dataset_788.parquet:   0%|          | 0.00/3.59M [00:00<?, ?B/s]"
      ]
     },
     "metadata": {},
     "output_type": "display_data"
    },
    {
     "data": {
      "application/vnd.jupyter.widget-view+json": {
       "model_id": "c8bfdf0908444ca883c6316e496b957b",
       "version_major": 2,
       "version_minor": 0
      },
      "text/plain": [
       "dataset_789.parquet:   0%|          | 0.00/3.45M [00:00<?, ?B/s]"
      ]
     },
     "metadata": {},
     "output_type": "display_data"
    },
    {
     "data": {
      "application/vnd.jupyter.widget-view+json": {
       "model_id": "84e70f76ddad439c8b8d202de3b46d75",
       "version_major": 2,
       "version_minor": 0
      },
      "text/plain": [
       "dataset_790.parquet:   0%|          | 0.00/3.45M [00:00<?, ?B/s]"
      ]
     },
     "metadata": {},
     "output_type": "display_data"
    },
    {
     "data": {
      "application/vnd.jupyter.widget-view+json": {
       "model_id": "b5c714c78eb74e3bbf34df58f4374028",
       "version_major": 2,
       "version_minor": 0
      },
      "text/plain": [
       "dataset_791.parquet:   0%|          | 0.00/3.55M [00:00<?, ?B/s]"
      ]
     },
     "metadata": {},
     "output_type": "display_data"
    },
    {
     "data": {
      "application/vnd.jupyter.widget-view+json": {
       "model_id": "6a22248927a54443961702e80fa3e09a",
       "version_major": 2,
       "version_minor": 0
      },
      "text/plain": [
       "dataset_792.parquet:   0%|          | 0.00/3.59M [00:00<?, ?B/s]"
      ]
     },
     "metadata": {},
     "output_type": "display_data"
    },
    {
     "data": {
      "application/vnd.jupyter.widget-view+json": {
       "model_id": "e63574e53f5f48cb9375d64d9176505e",
       "version_major": 2,
       "version_minor": 0
      },
      "text/plain": [
       "dataset_794.parquet:   0%|          | 0.00/3.41M [00:00<?, ?B/s]"
      ]
     },
     "metadata": {},
     "output_type": "display_data"
    },
    {
     "data": {
      "application/vnd.jupyter.widget-view+json": {
       "model_id": "b8826d2f743a4d37b6a782128dfa8e79",
       "version_major": 2,
       "version_minor": 0
      },
      "text/plain": [
       "dataset_793.parquet:   0%|          | 0.00/3.44M [00:00<?, ?B/s]"
      ]
     },
     "metadata": {},
     "output_type": "display_data"
    },
    {
     "data": {
      "application/vnd.jupyter.widget-view+json": {
       "model_id": "5790da0dceb84c90bd08a3267017adef",
       "version_major": 2,
       "version_minor": 0
      },
      "text/plain": [
       "dataset_795.parquet:   0%|          | 0.00/3.46M [00:00<?, ?B/s]"
      ]
     },
     "metadata": {},
     "output_type": "display_data"
    },
    {
     "data": {
      "application/vnd.jupyter.widget-view+json": {
       "model_id": "fad45444086d429295881818fe4f455e",
       "version_major": 2,
       "version_minor": 0
      },
      "text/plain": [
       "dataset_796.parquet:   0%|          | 0.00/3.49M [00:00<?, ?B/s]"
      ]
     },
     "metadata": {},
     "output_type": "display_data"
    },
    {
     "data": {
      "application/vnd.jupyter.widget-view+json": {
       "model_id": "d36cb85df09f4f6e9100920be4b82b34",
       "version_major": 2,
       "version_minor": 0
      },
      "text/plain": [
       "dataset_797.parquet:   0%|          | 0.00/3.48M [00:00<?, ?B/s]"
      ]
     },
     "metadata": {},
     "output_type": "display_data"
    },
    {
     "data": {
      "application/vnd.jupyter.widget-view+json": {
       "model_id": "a637a30a2e6346c8a85d7131a78f00ff",
       "version_major": 2,
       "version_minor": 0
      },
      "text/plain": [
       "dataset_798.parquet:   0%|          | 0.00/3.40M [00:00<?, ?B/s]"
      ]
     },
     "metadata": {},
     "output_type": "display_data"
    },
    {
     "data": {
      "application/vnd.jupyter.widget-view+json": {
       "model_id": "671806777d0945dd91192f65e08d0567",
       "version_major": 2,
       "version_minor": 0
      },
      "text/plain": [
       "dataset_799.parquet:   0%|          | 0.00/3.39M [00:00<?, ?B/s]"
      ]
     },
     "metadata": {},
     "output_type": "display_data"
    },
    {
     "data": {
      "application/vnd.jupyter.widget-view+json": {
       "model_id": "22d2c182dc6f43aa80211a09e93dc2f5",
       "version_major": 2,
       "version_minor": 0
      },
      "text/plain": [
       "dataset_800.parquet:   0%|          | 0.00/3.49M [00:00<?, ?B/s]"
      ]
     },
     "metadata": {},
     "output_type": "display_data"
    },
    {
     "data": {
      "application/vnd.jupyter.widget-view+json": {
       "model_id": "68644e4f993c4a14bf43129917159b7a",
       "version_major": 2,
       "version_minor": 0
      },
      "text/plain": [
       "dataset_801.parquet:   0%|          | 0.00/3.55M [00:00<?, ?B/s]"
      ]
     },
     "metadata": {},
     "output_type": "display_data"
    },
    {
     "data": {
      "application/vnd.jupyter.widget-view+json": {
       "model_id": "cd62b98a1cf042c29d5de7fbf4434109",
       "version_major": 2,
       "version_minor": 0
      },
      "text/plain": [
       "dataset_802.parquet:   0%|          | 0.00/3.52M [00:00<?, ?B/s]"
      ]
     },
     "metadata": {},
     "output_type": "display_data"
    },
    {
     "data": {
      "application/vnd.jupyter.widget-view+json": {
       "model_id": "176fdc8ee96349e4a38652a3b865d65a",
       "version_major": 2,
       "version_minor": 0
      },
      "text/plain": [
       "dataset_803.parquet:   0%|          | 0.00/3.42M [00:00<?, ?B/s]"
      ]
     },
     "metadata": {},
     "output_type": "display_data"
    },
    {
     "data": {
      "application/vnd.jupyter.widget-view+json": {
       "model_id": "2cd24138065d46448f63cf7cc97c351a",
       "version_major": 2,
       "version_minor": 0
      },
      "text/plain": [
       "dataset_804.parquet:   0%|          | 0.00/3.55M [00:00<?, ?B/s]"
      ]
     },
     "metadata": {},
     "output_type": "display_data"
    },
    {
     "data": {
      "application/vnd.jupyter.widget-view+json": {
       "model_id": "78cf8b6d2f364cc1b1b881e08107e3e0",
       "version_major": 2,
       "version_minor": 0
      },
      "text/plain": [
       "dataset_805.parquet:   0%|          | 0.00/3.46M [00:00<?, ?B/s]"
      ]
     },
     "metadata": {},
     "output_type": "display_data"
    },
    {
     "data": {
      "application/vnd.jupyter.widget-view+json": {
       "model_id": "11e22362bcc94cab89a820e4ffc31fef",
       "version_major": 2,
       "version_minor": 0
      },
      "text/plain": [
       "dataset_806.parquet:   0%|          | 0.00/3.49M [00:00<?, ?B/s]"
      ]
     },
     "metadata": {},
     "output_type": "display_data"
    },
    {
     "data": {
      "application/vnd.jupyter.widget-view+json": {
       "model_id": "507ef1754d3a4bba9477b002ceb374ae",
       "version_major": 2,
       "version_minor": 0
      },
      "text/plain": [
       "dataset_807.parquet:   0%|          | 0.00/3.58M [00:00<?, ?B/s]"
      ]
     },
     "metadata": {},
     "output_type": "display_data"
    },
    {
     "data": {
      "application/vnd.jupyter.widget-view+json": {
       "model_id": "7c084b20e17c4a9a90cd2683d3d63439",
       "version_major": 2,
       "version_minor": 0
      },
      "text/plain": [
       "dataset_808.parquet:   0%|          | 0.00/3.44M [00:00<?, ?B/s]"
      ]
     },
     "metadata": {},
     "output_type": "display_data"
    },
    {
     "data": {
      "application/vnd.jupyter.widget-view+json": {
       "model_id": "041d2268d8494425adab489d66215ddc",
       "version_major": 2,
       "version_minor": 0
      },
      "text/plain": [
       "dataset_809.parquet:   0%|          | 0.00/3.52M [00:00<?, ?B/s]"
      ]
     },
     "metadata": {},
     "output_type": "display_data"
    },
    {
     "data": {
      "application/vnd.jupyter.widget-view+json": {
       "model_id": "9ce17806fa354c8ba13a9277d095f5d3",
       "version_major": 2,
       "version_minor": 0
      },
      "text/plain": [
       "dataset_810.parquet:   0%|          | 0.00/3.59M [00:00<?, ?B/s]"
      ]
     },
     "metadata": {},
     "output_type": "display_data"
    },
    {
     "data": {
      "application/vnd.jupyter.widget-view+json": {
       "model_id": "7f05d97774104b18a9e3c1b609e8e865",
       "version_major": 2,
       "version_minor": 0
      },
      "text/plain": [
       "dataset_811.parquet:   0%|          | 0.00/3.67M [00:00<?, ?B/s]"
      ]
     },
     "metadata": {},
     "output_type": "display_data"
    },
    {
     "data": {
      "application/vnd.jupyter.widget-view+json": {
       "model_id": "c311b25e11474c0aa327dee5bdcc61ad",
       "version_major": 2,
       "version_minor": 0
      },
      "text/plain": [
       "dataset_812.parquet:   0%|          | 0.00/3.54M [00:00<?, ?B/s]"
      ]
     },
     "metadata": {},
     "output_type": "display_data"
    },
    {
     "data": {
      "application/vnd.jupyter.widget-view+json": {
       "model_id": "d74d0803460f407e8c0219c16876e068",
       "version_major": 2,
       "version_minor": 0
      },
      "text/plain": [
       "dataset_813.parquet:   0%|          | 0.00/3.39M [00:00<?, ?B/s]"
      ]
     },
     "metadata": {},
     "output_type": "display_data"
    },
    {
     "data": {
      "application/vnd.jupyter.widget-view+json": {
       "model_id": "3f77465b89f34129ba299c354919f36d",
       "version_major": 2,
       "version_minor": 0
      },
      "text/plain": [
       "dataset_814.parquet:   0%|          | 0.00/3.52M [00:00<?, ?B/s]"
      ]
     },
     "metadata": {},
     "output_type": "display_data"
    },
    {
     "data": {
      "application/vnd.jupyter.widget-view+json": {
       "model_id": "65198808d40d440f8a05e4c489aac2e3",
       "version_major": 2,
       "version_minor": 0
      },
      "text/plain": [
       "dataset_815.parquet:   0%|          | 0.00/3.45M [00:00<?, ?B/s]"
      ]
     },
     "metadata": {},
     "output_type": "display_data"
    },
    {
     "data": {
      "application/vnd.jupyter.widget-view+json": {
       "model_id": "11357485bb064b6896ec440f25974acb",
       "version_major": 2,
       "version_minor": 0
      },
      "text/plain": [
       "dataset_816.parquet:   0%|          | 0.00/3.53M [00:00<?, ?B/s]"
      ]
     },
     "metadata": {},
     "output_type": "display_data"
    },
    {
     "data": {
      "application/vnd.jupyter.widget-view+json": {
       "model_id": "de1aabb14cea4d95a6fb5c1e23659d57",
       "version_major": 2,
       "version_minor": 0
      },
      "text/plain": [
       "dataset_817.parquet:   0%|          | 0.00/3.53M [00:00<?, ?B/s]"
      ]
     },
     "metadata": {},
     "output_type": "display_data"
    },
    {
     "data": {
      "application/vnd.jupyter.widget-view+json": {
       "model_id": "d44f2ca9d29c426f98dc17c19c53d184",
       "version_major": 2,
       "version_minor": 0
      },
      "text/plain": [
       "dataset_818.parquet:   0%|          | 0.00/3.34M [00:00<?, ?B/s]"
      ]
     },
     "metadata": {},
     "output_type": "display_data"
    },
    {
     "data": {
      "application/vnd.jupyter.widget-view+json": {
       "model_id": "f3fdad67b78845c99bb85b9322285ec6",
       "version_major": 2,
       "version_minor": 0
      },
      "text/plain": [
       "dataset_819.parquet:   0%|          | 0.00/3.43M [00:00<?, ?B/s]"
      ]
     },
     "metadata": {},
     "output_type": "display_data"
    },
    {
     "data": {
      "application/vnd.jupyter.widget-view+json": {
       "model_id": "aee10a52264e46d49e79b2ee48fabd55",
       "version_major": 2,
       "version_minor": 0
      },
      "text/plain": [
       "dataset_820.parquet:   0%|          | 0.00/3.46M [00:00<?, ?B/s]"
      ]
     },
     "metadata": {},
     "output_type": "display_data"
    },
    {
     "data": {
      "application/vnd.jupyter.widget-view+json": {
       "model_id": "aab388981ad74fadaa6a9f43d306d5a4",
       "version_major": 2,
       "version_minor": 0
      },
      "text/plain": [
       "dataset_821.parquet:   0%|          | 0.00/3.53M [00:00<?, ?B/s]"
      ]
     },
     "metadata": {},
     "output_type": "display_data"
    },
    {
     "data": {
      "application/vnd.jupyter.widget-view+json": {
       "model_id": "e703b6fd46e542a2b2fdb48d9f5f1f9a",
       "version_major": 2,
       "version_minor": 0
      },
      "text/plain": [
       "dataset_822.parquet:   0%|          | 0.00/3.48M [00:00<?, ?B/s]"
      ]
     },
     "metadata": {},
     "output_type": "display_data"
    },
    {
     "data": {
      "application/vnd.jupyter.widget-view+json": {
       "model_id": "bb6e6425210c47a2b3639fdd88b42f6a",
       "version_major": 2,
       "version_minor": 0
      },
      "text/plain": [
       "dataset_823.parquet:   0%|          | 0.00/3.41M [00:00<?, ?B/s]"
      ]
     },
     "metadata": {},
     "output_type": "display_data"
    },
    {
     "data": {
      "application/vnd.jupyter.widget-view+json": {
       "model_id": "551a126923f04627ac9825f399774ba1",
       "version_major": 2,
       "version_minor": 0
      },
      "text/plain": [
       "dataset_824.parquet:   0%|          | 0.00/3.43M [00:00<?, ?B/s]"
      ]
     },
     "metadata": {},
     "output_type": "display_data"
    },
    {
     "data": {
      "application/vnd.jupyter.widget-view+json": {
       "model_id": "02d9eea42ace466e8cbde4aed26c7739",
       "version_major": 2,
       "version_minor": 0
      },
      "text/plain": [
       "dataset_825.parquet:   0%|          | 0.00/3.54M [00:00<?, ?B/s]"
      ]
     },
     "metadata": {},
     "output_type": "display_data"
    },
    {
     "data": {
      "application/vnd.jupyter.widget-view+json": {
       "model_id": "f84f7794adac4669a6f73adf20c7fc89",
       "version_major": 2,
       "version_minor": 0
      },
      "text/plain": [
       "dataset_826.parquet:   0%|          | 0.00/3.54M [00:00<?, ?B/s]"
      ]
     },
     "metadata": {},
     "output_type": "display_data"
    },
    {
     "data": {
      "application/vnd.jupyter.widget-view+json": {
       "model_id": "a3e61775cc38474a97e457b5dddb5539",
       "version_major": 2,
       "version_minor": 0
      },
      "text/plain": [
       "dataset_827.parquet:   0%|          | 0.00/3.48M [00:00<?, ?B/s]"
      ]
     },
     "metadata": {},
     "output_type": "display_data"
    },
    {
     "data": {
      "application/vnd.jupyter.widget-view+json": {
       "model_id": "96eb1f13dab443bdb7cc012fcee478e7",
       "version_major": 2,
       "version_minor": 0
      },
      "text/plain": [
       "dataset_828.parquet:   0%|          | 0.00/3.36M [00:00<?, ?B/s]"
      ]
     },
     "metadata": {},
     "output_type": "display_data"
    },
    {
     "data": {
      "application/vnd.jupyter.widget-view+json": {
       "model_id": "00bee7fb12e64590aa954d45f49295b2",
       "version_major": 2,
       "version_minor": 0
      },
      "text/plain": [
       "dataset_829.parquet:   0%|          | 0.00/3.41M [00:00<?, ?B/s]"
      ]
     },
     "metadata": {},
     "output_type": "display_data"
    },
    {
     "data": {
      "application/vnd.jupyter.widget-view+json": {
       "model_id": "3b881b7618434aa0bac885da5e2496d2",
       "version_major": 2,
       "version_minor": 0
      },
      "text/plain": [
       "dataset_830.parquet:   0%|          | 0.00/3.34M [00:00<?, ?B/s]"
      ]
     },
     "metadata": {},
     "output_type": "display_data"
    },
    {
     "data": {
      "application/vnd.jupyter.widget-view+json": {
       "model_id": "864f48d4083149d1b6b113513454d5bb",
       "version_major": 2,
       "version_minor": 0
      },
      "text/plain": [
       "dataset_831.parquet:   0%|          | 0.00/3.45M [00:00<?, ?B/s]"
      ]
     },
     "metadata": {},
     "output_type": "display_data"
    },
    {
     "data": {
      "application/vnd.jupyter.widget-view+json": {
       "model_id": "750940dc32e54eb0b653a0cc2b93fbc1",
       "version_major": 2,
       "version_minor": 0
      },
      "text/plain": [
       "dataset_832.parquet:   0%|          | 0.00/3.50M [00:00<?, ?B/s]"
      ]
     },
     "metadata": {},
     "output_type": "display_data"
    },
    {
     "data": {
      "application/vnd.jupyter.widget-view+json": {
       "model_id": "b3d2da9e741240d98a38bdf0965ce1d9",
       "version_major": 2,
       "version_minor": 0
      },
      "text/plain": [
       "dataset_833.parquet:   0%|          | 0.00/3.28M [00:00<?, ?B/s]"
      ]
     },
     "metadata": {},
     "output_type": "display_data"
    },
    {
     "data": {
      "application/vnd.jupyter.widget-view+json": {
       "model_id": "5f0bcaf039824c8c9b89151e585897e0",
       "version_major": 2,
       "version_minor": 0
      },
      "text/plain": [
       "dataset_834.parquet:   0%|          | 0.00/3.35M [00:00<?, ?B/s]"
      ]
     },
     "metadata": {},
     "output_type": "display_data"
    },
    {
     "data": {
      "application/vnd.jupyter.widget-view+json": {
       "model_id": "81f28d367f4f498a9c7a87fef7dc6cee",
       "version_major": 2,
       "version_minor": 0
      },
      "text/plain": [
       "dataset_836.parquet:   0%|          | 0.00/3.32M [00:00<?, ?B/s]"
      ]
     },
     "metadata": {},
     "output_type": "display_data"
    },
    {
     "data": {
      "application/vnd.jupyter.widget-view+json": {
       "model_id": "8870cd72da7742c49f6ee52811555c81",
       "version_major": 2,
       "version_minor": 0
      },
      "text/plain": [
       "dataset_835.parquet:   0%|          | 0.00/3.28M [00:00<?, ?B/s]"
      ]
     },
     "metadata": {},
     "output_type": "display_data"
    },
    {
     "data": {
      "application/vnd.jupyter.widget-view+json": {
       "model_id": "0c221ba4ed624a27b8ff14338b5297f1",
       "version_major": 2,
       "version_minor": 0
      },
      "text/plain": [
       "dataset_837.parquet:   0%|          | 0.00/3.33M [00:00<?, ?B/s]"
      ]
     },
     "metadata": {},
     "output_type": "display_data"
    },
    {
     "data": {
      "application/vnd.jupyter.widget-view+json": {
       "model_id": "299d104809f746449c9553bbf79d07dc",
       "version_major": 2,
       "version_minor": 0
      },
      "text/plain": [
       "dataset_838.parquet:   0%|          | 0.00/3.33M [00:00<?, ?B/s]"
      ]
     },
     "metadata": {},
     "output_type": "display_data"
    },
    {
     "data": {
      "application/vnd.jupyter.widget-view+json": {
       "model_id": "74ce1d4cf59d47299d7fa3399daaf0b1",
       "version_major": 2,
       "version_minor": 0
      },
      "text/plain": [
       "dataset_839.parquet:   0%|          | 0.00/3.28M [00:00<?, ?B/s]"
      ]
     },
     "metadata": {},
     "output_type": "display_data"
    },
    {
     "data": {
      "application/vnd.jupyter.widget-view+json": {
       "model_id": "b3480e936b4b4c2dbb9367f099cebe10",
       "version_major": 2,
       "version_minor": 0
      },
      "text/plain": [
       "dataset_840.parquet:   0%|          | 0.00/3.35M [00:00<?, ?B/s]"
      ]
     },
     "metadata": {},
     "output_type": "display_data"
    },
    {
     "data": {
      "application/vnd.jupyter.widget-view+json": {
       "model_id": "6807e76ee32446ba899781acdd511e66",
       "version_major": 2,
       "version_minor": 0
      },
      "text/plain": [
       "dataset_841.parquet:   0%|          | 0.00/3.35M [00:00<?, ?B/s]"
      ]
     },
     "metadata": {},
     "output_type": "display_data"
    },
    {
     "data": {
      "application/vnd.jupyter.widget-view+json": {
       "model_id": "c226ff6bab29457f8f11ad72d4b8c298",
       "version_major": 2,
       "version_minor": 0
      },
      "text/plain": [
       "dataset_842.parquet:   0%|          | 0.00/3.36M [00:00<?, ?B/s]"
      ]
     },
     "metadata": {},
     "output_type": "display_data"
    },
    {
     "data": {
      "application/vnd.jupyter.widget-view+json": {
       "model_id": "0c97cac1415d40dd8896f91b6f3d9435",
       "version_major": 2,
       "version_minor": 0
      },
      "text/plain": [
       "dataset_843.parquet:   0%|          | 0.00/3.37M [00:00<?, ?B/s]"
      ]
     },
     "metadata": {},
     "output_type": "display_data"
    },
    {
     "data": {
      "application/vnd.jupyter.widget-view+json": {
       "model_id": "7f8412e5ec014b178cd9b9ecded76ae5",
       "version_major": 2,
       "version_minor": 0
      },
      "text/plain": [
       "dataset_844.parquet:   0%|          | 0.00/3.30M [00:00<?, ?B/s]"
      ]
     },
     "metadata": {},
     "output_type": "display_data"
    },
    {
     "data": {
      "application/vnd.jupyter.widget-view+json": {
       "model_id": "3aa2fc5cf9004d5f8a4b80ca59a94cb8",
       "version_major": 2,
       "version_minor": 0
      },
      "text/plain": [
       "dataset_845.parquet:   0%|          | 0.00/3.40M [00:00<?, ?B/s]"
      ]
     },
     "metadata": {},
     "output_type": "display_data"
    },
    {
     "data": {
      "application/vnd.jupyter.widget-view+json": {
       "model_id": "a79a1c0c79e744099d6f544580d28e38",
       "version_major": 2,
       "version_minor": 0
      },
      "text/plain": [
       "dataset_846.parquet:   0%|          | 0.00/3.39M [00:00<?, ?B/s]"
      ]
     },
     "metadata": {},
     "output_type": "display_data"
    },
    {
     "data": {
      "application/vnd.jupyter.widget-view+json": {
       "model_id": "f9f8feb8ef874bbb9b1c87472a4d290a",
       "version_major": 2,
       "version_minor": 0
      },
      "text/plain": [
       "dataset_847.parquet:   0%|          | 0.00/3.41M [00:00<?, ?B/s]"
      ]
     },
     "metadata": {},
     "output_type": "display_data"
    },
    {
     "data": {
      "application/vnd.jupyter.widget-view+json": {
       "model_id": "eb067f5bf9c445b4be7cc3830a7c8875",
       "version_major": 2,
       "version_minor": 0
      },
      "text/plain": [
       "dataset_848.parquet:   0%|          | 0.00/3.48M [00:00<?, ?B/s]"
      ]
     },
     "metadata": {},
     "output_type": "display_data"
    },
    {
     "data": {
      "application/vnd.jupyter.widget-view+json": {
       "model_id": "36bf3df7e7f642e59853f3cf6510e8eb",
       "version_major": 2,
       "version_minor": 0
      },
      "text/plain": [
       "dataset_849.parquet:   0%|          | 0.00/3.30M [00:00<?, ?B/s]"
      ]
     },
     "metadata": {},
     "output_type": "display_data"
    },
    {
     "data": {
      "application/vnd.jupyter.widget-view+json": {
       "model_id": "e4fbfec71fb84ffc973bff3cdf3f3178",
       "version_major": 2,
       "version_minor": 0
      },
      "text/plain": [
       "dataset_850.parquet:   0%|          | 0.00/3.42M [00:00<?, ?B/s]"
      ]
     },
     "metadata": {},
     "output_type": "display_data"
    },
    {
     "data": {
      "application/vnd.jupyter.widget-view+json": {
       "model_id": "81791faa6d634c018542ffaf65f65bd5",
       "version_major": 2,
       "version_minor": 0
      },
      "text/plain": [
       "dataset_851.parquet:   0%|          | 0.00/3.31M [00:00<?, ?B/s]"
      ]
     },
     "metadata": {},
     "output_type": "display_data"
    },
    {
     "data": {
      "application/vnd.jupyter.widget-view+json": {
       "model_id": "4146d4fd780749b8bee2f136da4cd75a",
       "version_major": 2,
       "version_minor": 0
      },
      "text/plain": [
       "dataset_852.parquet:   0%|          | 0.00/3.45M [00:00<?, ?B/s]"
      ]
     },
     "metadata": {},
     "output_type": "display_data"
    },
    {
     "data": {
      "application/vnd.jupyter.widget-view+json": {
       "model_id": "a97454a43f1148e19c9433c87494a60e",
       "version_major": 2,
       "version_minor": 0
      },
      "text/plain": [
       "dataset_853.parquet:   0%|          | 0.00/3.39M [00:00<?, ?B/s]"
      ]
     },
     "metadata": {},
     "output_type": "display_data"
    },
    {
     "data": {
      "application/vnd.jupyter.widget-view+json": {
       "model_id": "480f57b9d2e84b3f831295cd0904bc73",
       "version_major": 2,
       "version_minor": 0
      },
      "text/plain": [
       "dataset_854.parquet:   0%|          | 0.00/3.16M [00:00<?, ?B/s]"
      ]
     },
     "metadata": {},
     "output_type": "display_data"
    },
    {
     "data": {
      "application/vnd.jupyter.widget-view+json": {
       "model_id": "c64a87b5bce7421e84b35025d0a26c3f",
       "version_major": 2,
       "version_minor": 0
      },
      "text/plain": [
       "dataset_855.parquet:   0%|          | 0.00/3.25M [00:00<?, ?B/s]"
      ]
     },
     "metadata": {},
     "output_type": "display_data"
    },
    {
     "data": {
      "application/vnd.jupyter.widget-view+json": {
       "model_id": "a1685467f5214504937ebb3f97ec95e9",
       "version_major": 2,
       "version_minor": 0
      },
      "text/plain": [
       "dataset_856.parquet:   0%|          | 0.00/3.35M [00:00<?, ?B/s]"
      ]
     },
     "metadata": {},
     "output_type": "display_data"
    },
    {
     "data": {
      "application/vnd.jupyter.widget-view+json": {
       "model_id": "a492dd10fd924740915bc3d10f5682dd",
       "version_major": 2,
       "version_minor": 0
      },
      "text/plain": [
       "dataset_857.parquet:   0%|          | 0.00/3.38M [00:00<?, ?B/s]"
      ]
     },
     "metadata": {},
     "output_type": "display_data"
    },
    {
     "data": {
      "application/vnd.jupyter.widget-view+json": {
       "model_id": "bba21236a85148bea291fede934b10ad",
       "version_major": 2,
       "version_minor": 0
      },
      "text/plain": [
       "dataset_858.parquet:   0%|          | 0.00/3.46M [00:00<?, ?B/s]"
      ]
     },
     "metadata": {},
     "output_type": "display_data"
    },
    {
     "data": {
      "application/vnd.jupyter.widget-view+json": {
       "model_id": "52c3f971006f402f9944ee7359f60723",
       "version_major": 2,
       "version_minor": 0
      },
      "text/plain": [
       "dataset_859.parquet:   0%|          | 0.00/3.26M [00:00<?, ?B/s]"
      ]
     },
     "metadata": {},
     "output_type": "display_data"
    },
    {
     "data": {
      "application/vnd.jupyter.widget-view+json": {
       "model_id": "e01ec7dcd40444f6ac8c2ff0c1661103",
       "version_major": 2,
       "version_minor": 0
      },
      "text/plain": [
       "dataset_860.parquet:   0%|          | 0.00/3.30M [00:00<?, ?B/s]"
      ]
     },
     "metadata": {},
     "output_type": "display_data"
    },
    {
     "data": {
      "application/vnd.jupyter.widget-view+json": {
       "model_id": "67c74f83b7774e1d928f7a42505da174",
       "version_major": 2,
       "version_minor": 0
      },
      "text/plain": [
       "dataset_861.parquet:   0%|          | 0.00/3.29M [00:00<?, ?B/s]"
      ]
     },
     "metadata": {},
     "output_type": "display_data"
    },
    {
     "data": {
      "application/vnd.jupyter.widget-view+json": {
       "model_id": "bec64daff8814f75b5ef7771432692d8",
       "version_major": 2,
       "version_minor": 0
      },
      "text/plain": [
       "dataset_862.parquet:   0%|          | 0.00/3.29M [00:00<?, ?B/s]"
      ]
     },
     "metadata": {},
     "output_type": "display_data"
    },
    {
     "data": {
      "application/vnd.jupyter.widget-view+json": {
       "model_id": "8e2b9ea335e94c3b927045b48cb111d5",
       "version_major": 2,
       "version_minor": 0
      },
      "text/plain": [
       "dataset_863.parquet:   0%|          | 0.00/3.31M [00:00<?, ?B/s]"
      ]
     },
     "metadata": {},
     "output_type": "display_data"
    },
    {
     "data": {
      "application/vnd.jupyter.widget-view+json": {
       "model_id": "535dbe7762734f01a0467c4eacaca844",
       "version_major": 2,
       "version_minor": 0
      },
      "text/plain": [
       "dataset_864.parquet:   0%|          | 0.00/3.22M [00:00<?, ?B/s]"
      ]
     },
     "metadata": {},
     "output_type": "display_data"
    },
    {
     "data": {
      "application/vnd.jupyter.widget-view+json": {
       "model_id": "2f19b905dabd4664b2e72644032c5532",
       "version_major": 2,
       "version_minor": 0
      },
      "text/plain": [
       "dataset_865.parquet:   0%|          | 0.00/3.26M [00:00<?, ?B/s]"
      ]
     },
     "metadata": {},
     "output_type": "display_data"
    },
    {
     "data": {
      "application/vnd.jupyter.widget-view+json": {
       "model_id": "0cae6c6728aa46b68988e674bd06c41d",
       "version_major": 2,
       "version_minor": 0
      },
      "text/plain": [
       "dataset_866.parquet:   0%|          | 0.00/3.28M [00:00<?, ?B/s]"
      ]
     },
     "metadata": {},
     "output_type": "display_data"
    },
    {
     "data": {
      "application/vnd.jupyter.widget-view+json": {
       "model_id": "37efd50370994f9ea826aa99de897bef",
       "version_major": 2,
       "version_minor": 0
      },
      "text/plain": [
       "dataset_868.parquet:   0%|          | 0.00/3.46M [00:00<?, ?B/s]"
      ]
     },
     "metadata": {},
     "output_type": "display_data"
    },
    {
     "data": {
      "application/vnd.jupyter.widget-view+json": {
       "model_id": "3d71e59f43964ef5901ebd9ea67bcccc",
       "version_major": 2,
       "version_minor": 0
      },
      "text/plain": [
       "dataset_869.parquet:   0%|          | 0.00/3.24M [00:00<?, ?B/s]"
      ]
     },
     "metadata": {},
     "output_type": "display_data"
    },
    {
     "data": {
      "application/vnd.jupyter.widget-view+json": {
       "model_id": "1ce2bba59dbd40c9a516c1612644324f",
       "version_major": 2,
       "version_minor": 0
      },
      "text/plain": [
       "dataset_867.parquet:   0%|          | 0.00/3.33M [00:00<?, ?B/s]"
      ]
     },
     "metadata": {},
     "output_type": "display_data"
    },
    {
     "data": {
      "application/vnd.jupyter.widget-view+json": {
       "model_id": "dda5099285594b319c7f402e7f2d54be",
       "version_major": 2,
       "version_minor": 0
      },
      "text/plain": [
       "dataset_870.parquet:   0%|          | 0.00/3.19M [00:00<?, ?B/s]"
      ]
     },
     "metadata": {},
     "output_type": "display_data"
    },
    {
     "data": {
      "application/vnd.jupyter.widget-view+json": {
       "model_id": "78fccce7617940249fba53cb7e0a248b",
       "version_major": 2,
       "version_minor": 0
      },
      "text/plain": [
       "dataset_871.parquet:   0%|          | 0.00/3.16M [00:00<?, ?B/s]"
      ]
     },
     "metadata": {},
     "output_type": "display_data"
    },
    {
     "data": {
      "application/vnd.jupyter.widget-view+json": {
       "model_id": "a907f38d3d354b00a987a5dad2e82422",
       "version_major": 2,
       "version_minor": 0
      },
      "text/plain": [
       "dataset_872.parquet:   0%|          | 0.00/3.12M [00:00<?, ?B/s]"
      ]
     },
     "metadata": {},
     "output_type": "display_data"
    },
    {
     "data": {
      "application/vnd.jupyter.widget-view+json": {
       "model_id": "77dba985f57b42c7a4ff985d46a0ce10",
       "version_major": 2,
       "version_minor": 0
      },
      "text/plain": [
       "dataset_874.parquet:   0%|          | 0.00/3.04M [00:00<?, ?B/s]"
      ]
     },
     "metadata": {},
     "output_type": "display_data"
    },
    {
     "data": {
      "application/vnd.jupyter.widget-view+json": {
       "model_id": "b2810e0a35164b619c5a570f987640fd",
       "version_major": 2,
       "version_minor": 0
      },
      "text/plain": [
       "dataset_873.parquet:   0%|          | 0.00/3.13M [00:00<?, ?B/s]"
      ]
     },
     "metadata": {},
     "output_type": "display_data"
    },
    {
     "data": {
      "application/vnd.jupyter.widget-view+json": {
       "model_id": "e365639c00da45158122c038fbccfa8f",
       "version_major": 2,
       "version_minor": 0
      },
      "text/plain": [
       "dataset_876.parquet:   0%|          | 0.00/3.19M [00:00<?, ?B/s]"
      ]
     },
     "metadata": {},
     "output_type": "display_data"
    },
    {
     "data": {
      "application/vnd.jupyter.widget-view+json": {
       "model_id": "af710f2a73784f00b2b9538601699b11",
       "version_major": 2,
       "version_minor": 0
      },
      "text/plain": [
       "dataset_875.parquet:   0%|          | 0.00/3.08M [00:00<?, ?B/s]"
      ]
     },
     "metadata": {},
     "output_type": "display_data"
    },
    {
     "data": {
      "application/vnd.jupyter.widget-view+json": {
       "model_id": "3bed8f8cdb2640cc8eba6a3de9d1857f",
       "version_major": 2,
       "version_minor": 0
      },
      "text/plain": [
       "dataset_877.parquet:   0%|          | 0.00/3.04M [00:00<?, ?B/s]"
      ]
     },
     "metadata": {},
     "output_type": "display_data"
    },
    {
     "data": {
      "application/vnd.jupyter.widget-view+json": {
       "model_id": "d9945b738fff4920a207ef7b6a4e411a",
       "version_major": 2,
       "version_minor": 0
      },
      "text/plain": [
       "dataset_878.parquet:   0%|          | 0.00/3.09M [00:00<?, ?B/s]"
      ]
     },
     "metadata": {},
     "output_type": "display_data"
    },
    {
     "data": {
      "application/vnd.jupyter.widget-view+json": {
       "model_id": "4111086465dd47bb91628196a6b2f339",
       "version_major": 2,
       "version_minor": 0
      },
      "text/plain": [
       "dataset_879.parquet:   0%|          | 0.00/3.08M [00:00<?, ?B/s]"
      ]
     },
     "metadata": {},
     "output_type": "display_data"
    },
    {
     "data": {
      "application/vnd.jupyter.widget-view+json": {
       "model_id": "2359bb4b7dfd4717ac66c13395d011fe",
       "version_major": 2,
       "version_minor": 0
      },
      "text/plain": [
       "dataset_880.parquet:   0%|          | 0.00/3.18M [00:00<?, ?B/s]"
      ]
     },
     "metadata": {},
     "output_type": "display_data"
    },
    {
     "data": {
      "application/vnd.jupyter.widget-view+json": {
       "model_id": "cb4db4a2620a4a4eb2826346dff18618",
       "version_major": 2,
       "version_minor": 0
      },
      "text/plain": [
       "dataset_881.parquet:   0%|          | 0.00/3.19M [00:00<?, ?B/s]"
      ]
     },
     "metadata": {},
     "output_type": "display_data"
    },
    {
     "data": {
      "application/vnd.jupyter.widget-view+json": {
       "model_id": "37a00010ae4e440bab1efc2012e96cac",
       "version_major": 2,
       "version_minor": 0
      },
      "text/plain": [
       "dataset_882.parquet:   0%|          | 0.00/3.09M [00:00<?, ?B/s]"
      ]
     },
     "metadata": {},
     "output_type": "display_data"
    },
    {
     "data": {
      "application/vnd.jupyter.widget-view+json": {
       "model_id": "b67773157cc244e89cd97ec28653a467",
       "version_major": 2,
       "version_minor": 0
      },
      "text/plain": [
       "dataset_883.parquet:   0%|          | 0.00/3.04M [00:00<?, ?B/s]"
      ]
     },
     "metadata": {},
     "output_type": "display_data"
    },
    {
     "data": {
      "application/vnd.jupyter.widget-view+json": {
       "model_id": "32f84dbba8214d2faf4e7042cf4e16da",
       "version_major": 2,
       "version_minor": 0
      },
      "text/plain": [
       "dataset_884.parquet:   0%|          | 0.00/3.05M [00:00<?, ?B/s]"
      ]
     },
     "metadata": {},
     "output_type": "display_data"
    },
    {
     "data": {
      "application/vnd.jupyter.widget-view+json": {
       "model_id": "7cdb64f6490d431faba7239150e09e60",
       "version_major": 2,
       "version_minor": 0
      },
      "text/plain": [
       "dataset_885.parquet:   0%|          | 0.00/3.11M [00:00<?, ?B/s]"
      ]
     },
     "metadata": {},
     "output_type": "display_data"
    },
    {
     "data": {
      "application/vnd.jupyter.widget-view+json": {
       "model_id": "334fd7ac0eb546f48bbd633a7b6a753d",
       "version_major": 2,
       "version_minor": 0
      },
      "text/plain": [
       "dataset_886.parquet:   0%|          | 0.00/2.99M [00:00<?, ?B/s]"
      ]
     },
     "metadata": {},
     "output_type": "display_data"
    },
    {
     "data": {
      "application/vnd.jupyter.widget-view+json": {
       "model_id": "53a8c6b933374889858158a8faaf35c3",
       "version_major": 2,
       "version_minor": 0
      },
      "text/plain": [
       "dataset_887.parquet:   0%|          | 0.00/3.15M [00:00<?, ?B/s]"
      ]
     },
     "metadata": {},
     "output_type": "display_data"
    },
    {
     "data": {
      "application/vnd.jupyter.widget-view+json": {
       "model_id": "60f1cd01ccf242bf95c6fb1abd021aec",
       "version_major": 2,
       "version_minor": 0
      },
      "text/plain": [
       "dataset_888.parquet:   0%|          | 0.00/3.14M [00:00<?, ?B/s]"
      ]
     },
     "metadata": {},
     "output_type": "display_data"
    },
    {
     "data": {
      "application/vnd.jupyter.widget-view+json": {
       "model_id": "4d5151198a3b4aa0a94d5f9ac1f3e245",
       "version_major": 2,
       "version_minor": 0
      },
      "text/plain": [
       "dataset_889.parquet:   0%|          | 0.00/3.06M [00:00<?, ?B/s]"
      ]
     },
     "metadata": {},
     "output_type": "display_data"
    },
    {
     "data": {
      "application/vnd.jupyter.widget-view+json": {
       "model_id": "e62cd0b4362a47d6a3eb292e5f515fd0",
       "version_major": 2,
       "version_minor": 0
      },
      "text/plain": [
       "dataset_890.parquet:   0%|          | 0.00/3.07M [00:00<?, ?B/s]"
      ]
     },
     "metadata": {},
     "output_type": "display_data"
    },
    {
     "data": {
      "application/vnd.jupyter.widget-view+json": {
       "model_id": "939dad9c50f64008a0ad0681e71d3e6b",
       "version_major": 2,
       "version_minor": 0
      },
      "text/plain": [
       "dataset_891.parquet:   0%|          | 0.00/3.33M [00:00<?, ?B/s]"
      ]
     },
     "metadata": {},
     "output_type": "display_data"
    },
    {
     "data": {
      "application/vnd.jupyter.widget-view+json": {
       "model_id": "424c2e6ae7614a47be45844275eeaadb",
       "version_major": 2,
       "version_minor": 0
      },
      "text/plain": [
       "dataset_892.parquet:   0%|          | 0.00/3.37M [00:00<?, ?B/s]"
      ]
     },
     "metadata": {},
     "output_type": "display_data"
    },
    {
     "data": {
      "application/vnd.jupyter.widget-view+json": {
       "model_id": "15dcf9257742496290ca68a05baff3b3",
       "version_major": 2,
       "version_minor": 0
      },
      "text/plain": [
       "dataset_893.parquet:   0%|          | 0.00/3.34M [00:00<?, ?B/s]"
      ]
     },
     "metadata": {},
     "output_type": "display_data"
    },
    {
     "data": {
      "application/vnd.jupyter.widget-view+json": {
       "model_id": "a3ba10c42e06416fbe9477246d6131cb",
       "version_major": 2,
       "version_minor": 0
      },
      "text/plain": [
       "dataset_894.parquet:   0%|          | 0.00/3.35M [00:00<?, ?B/s]"
      ]
     },
     "metadata": {},
     "output_type": "display_data"
    },
    {
     "data": {
      "application/vnd.jupyter.widget-view+json": {
       "model_id": "ad6712df3e3740feab2558bbe8378d48",
       "version_major": 2,
       "version_minor": 0
      },
      "text/plain": [
       "dataset_895.parquet:   0%|          | 0.00/3.25M [00:00<?, ?B/s]"
      ]
     },
     "metadata": {},
     "output_type": "display_data"
    },
    {
     "data": {
      "application/vnd.jupyter.widget-view+json": {
       "model_id": "6708f606b7af4c3d9460d3c521deb5a4",
       "version_major": 2,
       "version_minor": 0
      },
      "text/plain": [
       "dataset_896.parquet:   0%|          | 0.00/3.39M [00:00<?, ?B/s]"
      ]
     },
     "metadata": {},
     "output_type": "display_data"
    },
    {
     "data": {
      "application/vnd.jupyter.widget-view+json": {
       "model_id": "97194756befe4c23a07ce40eea0ca6e4",
       "version_major": 2,
       "version_minor": 0
      },
      "text/plain": [
       "dataset_897.parquet:   0%|          | 0.00/3.34M [00:00<?, ?B/s]"
      ]
     },
     "metadata": {},
     "output_type": "display_data"
    },
    {
     "data": {
      "application/vnd.jupyter.widget-view+json": {
       "model_id": "a253a62aac27408db45ec99473eb3b9f",
       "version_major": 2,
       "version_minor": 0
      },
      "text/plain": [
       "dataset_898.parquet:   0%|          | 0.00/3.40M [00:00<?, ?B/s]"
      ]
     },
     "metadata": {},
     "output_type": "display_data"
    },
    {
     "data": {
      "application/vnd.jupyter.widget-view+json": {
       "model_id": "bd7d7c54841d4c01acdd9985d465a669",
       "version_major": 2,
       "version_minor": 0
      },
      "text/plain": [
       "dataset_899.parquet:   0%|          | 0.00/3.41M [00:00<?, ?B/s]"
      ]
     },
     "metadata": {},
     "output_type": "display_data"
    },
    {
     "data": {
      "application/vnd.jupyter.widget-view+json": {
       "model_id": "d42c55935d9048bbb4c6b6d8240309ca",
       "version_major": 2,
       "version_minor": 0
      },
      "text/plain": [
       "dataset_900.parquet:   0%|          | 0.00/3.26M [00:00<?, ?B/s]"
      ]
     },
     "metadata": {},
     "output_type": "display_data"
    },
    {
     "data": {
      "application/vnd.jupyter.widget-view+json": {
       "model_id": "d15dcecf00114b2e9c8b1b13e9f0a5f7",
       "version_major": 2,
       "version_minor": 0
      },
      "text/plain": [
       "dataset_901.parquet:   0%|          | 0.00/3.29M [00:00<?, ?B/s]"
      ]
     },
     "metadata": {},
     "output_type": "display_data"
    },
    {
     "data": {
      "application/vnd.jupyter.widget-view+json": {
       "model_id": "044fe29647b04278bde67a79c3d72dcd",
       "version_major": 2,
       "version_minor": 0
      },
      "text/plain": [
       "dataset_902.parquet:   0%|          | 0.00/3.31M [00:00<?, ?B/s]"
      ]
     },
     "metadata": {},
     "output_type": "display_data"
    },
    {
     "data": {
      "application/vnd.jupyter.widget-view+json": {
       "model_id": "ae938c3b7e3a4887af312cd6f0a34279",
       "version_major": 2,
       "version_minor": 0
      },
      "text/plain": [
       "dataset_903.parquet:   0%|          | 0.00/3.43M [00:00<?, ?B/s]"
      ]
     },
     "metadata": {},
     "output_type": "display_data"
    },
    {
     "data": {
      "application/vnd.jupyter.widget-view+json": {
       "model_id": "31e4c6e77616411f82e4cee6c75863ef",
       "version_major": 2,
       "version_minor": 0
      },
      "text/plain": [
       "dataset_904.parquet:   0%|          | 0.00/3.35M [00:00<?, ?B/s]"
      ]
     },
     "metadata": {},
     "output_type": "display_data"
    },
    {
     "data": {
      "application/vnd.jupyter.widget-view+json": {
       "model_id": "5cd5ffe8b71749fe8560d7880cf10aa2",
       "version_major": 2,
       "version_minor": 0
      },
      "text/plain": [
       "dataset_905.parquet:   0%|          | 0.00/3.21M [00:00<?, ?B/s]"
      ]
     },
     "metadata": {},
     "output_type": "display_data"
    },
    {
     "data": {
      "application/vnd.jupyter.widget-view+json": {
       "model_id": "99b37ce75acc49caa6b2f769aea0ef7b",
       "version_major": 2,
       "version_minor": 0
      },
      "text/plain": [
       "dataset_906.parquet:   0%|          | 0.00/3.33M [00:00<?, ?B/s]"
      ]
     },
     "metadata": {},
     "output_type": "display_data"
    },
    {
     "data": {
      "application/vnd.jupyter.widget-view+json": {
       "model_id": "de70362332744f0796e827213abd9584",
       "version_major": 2,
       "version_minor": 0
      },
      "text/plain": [
       "dataset_907.parquet:   0%|          | 0.00/3.28M [00:00<?, ?B/s]"
      ]
     },
     "metadata": {},
     "output_type": "display_data"
    },
    {
     "data": {
      "application/vnd.jupyter.widget-view+json": {
       "model_id": "1b573573ee29444bb4a6a507cf10cfc9",
       "version_major": 2,
       "version_minor": 0
      },
      "text/plain": [
       "dataset_908.parquet:   0%|          | 0.00/3.28M [00:00<?, ?B/s]"
      ]
     },
     "metadata": {},
     "output_type": "display_data"
    },
    {
     "data": {
      "application/vnd.jupyter.widget-view+json": {
       "model_id": "61e13aba9e17417baee8e7d53b42e142",
       "version_major": 2,
       "version_minor": 0
      },
      "text/plain": [
       "dataset_909.parquet:   0%|          | 0.00/3.34M [00:00<?, ?B/s]"
      ]
     },
     "metadata": {},
     "output_type": "display_data"
    },
    {
     "data": {
      "application/vnd.jupyter.widget-view+json": {
       "model_id": "87626b726f4b4e41aac9d9c6cb7a949d",
       "version_major": 2,
       "version_minor": 0
      },
      "text/plain": [
       "dataset_910.parquet:   0%|          | 0.00/3.15M [00:00<?, ?B/s]"
      ]
     },
     "metadata": {},
     "output_type": "display_data"
    },
    {
     "data": {
      "application/vnd.jupyter.widget-view+json": {
       "model_id": "dba62b7579fc4b158a2188c55482631a",
       "version_major": 2,
       "version_minor": 0
      },
      "text/plain": [
       "dataset_912.parquet:   0%|          | 0.00/3.27M [00:00<?, ?B/s]"
      ]
     },
     "metadata": {},
     "output_type": "display_data"
    },
    {
     "data": {
      "application/vnd.jupyter.widget-view+json": {
       "model_id": "d10d6af5e5014fba96ad583be312e4c4",
       "version_major": 2,
       "version_minor": 0
      },
      "text/plain": [
       "dataset_913.parquet:   0%|          | 0.00/3.38M [00:00<?, ?B/s]"
      ]
     },
     "metadata": {},
     "output_type": "display_data"
    },
    {
     "data": {
      "application/vnd.jupyter.widget-view+json": {
       "model_id": "4a398c8c40104c76afecdd03f2578833",
       "version_major": 2,
       "version_minor": 0
      },
      "text/plain": [
       "dataset_914.parquet:   0%|          | 0.00/3.34M [00:00<?, ?B/s]"
      ]
     },
     "metadata": {},
     "output_type": "display_data"
    },
    {
     "data": {
      "application/vnd.jupyter.widget-view+json": {
       "model_id": "707fa934ab87400db079b185b52280d8",
       "version_major": 2,
       "version_minor": 0
      },
      "text/plain": [
       "dataset_915.parquet:   0%|          | 0.00/3.20M [00:00<?, ?B/s]"
      ]
     },
     "metadata": {},
     "output_type": "display_data"
    },
    {
     "data": {
      "application/vnd.jupyter.widget-view+json": {
       "model_id": "a8baba3eafd2477c8fb145b290e9b5e7",
       "version_major": 2,
       "version_minor": 0
      },
      "text/plain": [
       "dataset_916.parquet:   0%|          | 0.00/3.31M [00:00<?, ?B/s]"
      ]
     },
     "metadata": {},
     "output_type": "display_data"
    },
    {
     "data": {
      "application/vnd.jupyter.widget-view+json": {
       "model_id": "4baa5126ed9b4977b78156d38ae363ed",
       "version_major": 2,
       "version_minor": 0
      },
      "text/plain": [
       "dataset_917.parquet:   0%|          | 0.00/3.38M [00:00<?, ?B/s]"
      ]
     },
     "metadata": {},
     "output_type": "display_data"
    },
    {
     "data": {
      "application/vnd.jupyter.widget-view+json": {
       "model_id": "2185758035ea4157b901cb4311fa40a8",
       "version_major": 2,
       "version_minor": 0
      },
      "text/plain": [
       "dataset_918.parquet:   0%|          | 0.00/3.27M [00:00<?, ?B/s]"
      ]
     },
     "metadata": {},
     "output_type": "display_data"
    },
    {
     "data": {
      "application/vnd.jupyter.widget-view+json": {
       "model_id": "cfeb36d8255246e080d444b3cdeac318",
       "version_major": 2,
       "version_minor": 0
      },
      "text/plain": [
       "dataset_919.parquet:   0%|          | 0.00/3.36M [00:00<?, ?B/s]"
      ]
     },
     "metadata": {},
     "output_type": "display_data"
    },
    {
     "data": {
      "application/vnd.jupyter.widget-view+json": {
       "model_id": "57a1410e4b6c4c0ba9934a0603887b99",
       "version_major": 2,
       "version_minor": 0
      },
      "text/plain": [
       "dataset_921.parquet:   0%|          | 0.00/3.39M [00:00<?, ?B/s]"
      ]
     },
     "metadata": {},
     "output_type": "display_data"
    },
    {
     "data": {
      "application/vnd.jupyter.widget-view+json": {
       "model_id": "b8835d659b0e4c618c2427af89a7c675",
       "version_major": 2,
       "version_minor": 0
      },
      "text/plain": [
       "dataset_920.parquet:   0%|          | 0.00/3.23M [00:00<?, ?B/s]"
      ]
     },
     "metadata": {},
     "output_type": "display_data"
    },
    {
     "data": {
      "application/vnd.jupyter.widget-view+json": {
       "model_id": "d44e463b40634d5cb6feb107836ea2d3",
       "version_major": 2,
       "version_minor": 0
      },
      "text/plain": [
       "dataset_922.parquet:   0%|          | 0.00/3.40M [00:00<?, ?B/s]"
      ]
     },
     "metadata": {},
     "output_type": "display_data"
    },
    {
     "data": {
      "application/vnd.jupyter.widget-view+json": {
       "model_id": "7fca5b0ef90d438aa93d28255ecd845d",
       "version_major": 2,
       "version_minor": 0
      },
      "text/plain": [
       "dataset_911.parquet:   0%|          | 0.00/3.38M [00:00<?, ?B/s]"
      ]
     },
     "metadata": {},
     "output_type": "display_data"
    },
    {
     "data": {
      "application/vnd.jupyter.widget-view+json": {
       "model_id": "fc3736928289429d8b4fb7562fe92026",
       "version_major": 2,
       "version_minor": 0
      },
      "text/plain": [
       "dataset_923.parquet:   0%|          | 0.00/3.48M [00:00<?, ?B/s]"
      ]
     },
     "metadata": {},
     "output_type": "display_data"
    },
    {
     "data": {
      "application/vnd.jupyter.widget-view+json": {
       "model_id": "e4ab0c53e5f5486aa3c67e693c47e658",
       "version_major": 2,
       "version_minor": 0
      },
      "text/plain": [
       "dataset_924.parquet:   0%|          | 0.00/3.40M [00:00<?, ?B/s]"
      ]
     },
     "metadata": {},
     "output_type": "display_data"
    },
    {
     "data": {
      "application/vnd.jupyter.widget-view+json": {
       "model_id": "fa31b43b440247c2abe9f10319471d52",
       "version_major": 2,
       "version_minor": 0
      },
      "text/plain": [
       "dataset_925.parquet:   0%|          | 0.00/3.20M [00:00<?, ?B/s]"
      ]
     },
     "metadata": {},
     "output_type": "display_data"
    },
    {
     "data": {
      "application/vnd.jupyter.widget-view+json": {
       "model_id": "f210af590b85400aa3de72b9f0ff0180",
       "version_major": 2,
       "version_minor": 0
      },
      "text/plain": [
       "dataset_926.parquet:   0%|          | 0.00/3.34M [00:00<?, ?B/s]"
      ]
     },
     "metadata": {},
     "output_type": "display_data"
    },
    {
     "data": {
      "application/vnd.jupyter.widget-view+json": {
       "model_id": "e2b1ac81f5ee44edad02f919c28e3b8d",
       "version_major": 2,
       "version_minor": 0
      },
      "text/plain": [
       "dataset_927.parquet:   0%|          | 0.00/3.34M [00:00<?, ?B/s]"
      ]
     },
     "metadata": {},
     "output_type": "display_data"
    },
    {
     "data": {
      "application/vnd.jupyter.widget-view+json": {
       "model_id": "27f2ea548a414ab8ae3915a4ebf91001",
       "version_major": 2,
       "version_minor": 0
      },
      "text/plain": [
       "dataset_929.parquet:   0%|          | 0.00/3.31M [00:00<?, ?B/s]"
      ]
     },
     "metadata": {},
     "output_type": "display_data"
    },
    {
     "data": {
      "application/vnd.jupyter.widget-view+json": {
       "model_id": "14cf8a38cc4a49c4a031049beea4b836",
       "version_major": 2,
       "version_minor": 0
      },
      "text/plain": [
       "dataset_930.parquet:   0%|          | 0.00/3.29M [00:00<?, ?B/s]"
      ]
     },
     "metadata": {},
     "output_type": "display_data"
    },
    {
     "data": {
      "application/vnd.jupyter.widget-view+json": {
       "model_id": "4315ce4ad27641c3aa48390e9045d207",
       "version_major": 2,
       "version_minor": 0
      },
      "text/plain": [
       "dataset_928.parquet:   0%|          | 0.00/3.39M [00:00<?, ?B/s]"
      ]
     },
     "metadata": {},
     "output_type": "display_data"
    },
    {
     "data": {
      "application/vnd.jupyter.widget-view+json": {
       "model_id": "e559f98f1b254287bda857cc9959ff6f",
       "version_major": 2,
       "version_minor": 0
      },
      "text/plain": [
       "dataset_931.parquet:   0%|          | 0.00/3.29M [00:00<?, ?B/s]"
      ]
     },
     "metadata": {},
     "output_type": "display_data"
    },
    {
     "data": {
      "application/vnd.jupyter.widget-view+json": {
       "model_id": "22aa4c9ccad6478a9544b22f7424fa3b",
       "version_major": 2,
       "version_minor": 0
      },
      "text/plain": [
       "dataset_932.parquet:   0%|          | 0.00/3.20M [00:00<?, ?B/s]"
      ]
     },
     "metadata": {},
     "output_type": "display_data"
    },
    {
     "data": {
      "application/vnd.jupyter.widget-view+json": {
       "model_id": "0390da041f2b406ea7213191885b2f32",
       "version_major": 2,
       "version_minor": 0
      },
      "text/plain": [
       "dataset_933.parquet:   0%|          | 0.00/3.40M [00:00<?, ?B/s]"
      ]
     },
     "metadata": {},
     "output_type": "display_data"
    },
    {
     "data": {
      "application/vnd.jupyter.widget-view+json": {
       "model_id": "a5954030d2ce4109952134491f0b2123",
       "version_major": 2,
       "version_minor": 0
      },
      "text/plain": [
       "dataset_934.parquet:   0%|          | 0.00/3.32M [00:00<?, ?B/s]"
      ]
     },
     "metadata": {},
     "output_type": "display_data"
    },
    {
     "data": {
      "application/vnd.jupyter.widget-view+json": {
       "model_id": "d1a338c9c840468eaa445e422a34fe9c",
       "version_major": 2,
       "version_minor": 0
      },
      "text/plain": [
       "dataset_935.parquet:   0%|          | 0.00/3.29M [00:00<?, ?B/s]"
      ]
     },
     "metadata": {},
     "output_type": "display_data"
    },
    {
     "data": {
      "application/vnd.jupyter.widget-view+json": {
       "model_id": "4195c3215ae4477486138171e1de11b0",
       "version_major": 2,
       "version_minor": 0
      },
      "text/plain": [
       "dataset_936.parquet:   0%|          | 0.00/3.30M [00:00<?, ?B/s]"
      ]
     },
     "metadata": {},
     "output_type": "display_data"
    },
    {
     "data": {
      "application/vnd.jupyter.widget-view+json": {
       "model_id": "fbcdde0919b64a20b71e28e24014b4d9",
       "version_major": 2,
       "version_minor": 0
      },
      "text/plain": [
       "dataset_937.parquet:   0%|          | 0.00/3.27M [00:00<?, ?B/s]"
      ]
     },
     "metadata": {},
     "output_type": "display_data"
    },
    {
     "data": {
      "application/vnd.jupyter.widget-view+json": {
       "model_id": "c329eeb2fdcb44f6b2bc4c1bc445471f",
       "version_major": 2,
       "version_minor": 0
      },
      "text/plain": [
       "dataset_938.parquet:   0%|          | 0.00/3.40M [00:00<?, ?B/s]"
      ]
     },
     "metadata": {},
     "output_type": "display_data"
    },
    {
     "data": {
      "application/vnd.jupyter.widget-view+json": {
       "model_id": "5d38600c09c74c078654725382a8f33a",
       "version_major": 2,
       "version_minor": 0
      },
      "text/plain": [
       "dataset_939.parquet:   0%|          | 0.00/3.34M [00:00<?, ?B/s]"
      ]
     },
     "metadata": {},
     "output_type": "display_data"
    },
    {
     "data": {
      "application/vnd.jupyter.widget-view+json": {
       "model_id": "9242b6dccf91414c957b0ef948a32c74",
       "version_major": 2,
       "version_minor": 0
      },
      "text/plain": [
       "dataset_940.parquet:   0%|          | 0.00/3.34M [00:00<?, ?B/s]"
      ]
     },
     "metadata": {},
     "output_type": "display_data"
    },
    {
     "data": {
      "application/vnd.jupyter.widget-view+json": {
       "model_id": "0c6203d6ff7b4dd3902171f8063a8db3",
       "version_major": 2,
       "version_minor": 0
      },
      "text/plain": [
       "dataset_941.parquet:   0%|          | 0.00/3.28M [00:00<?, ?B/s]"
      ]
     },
     "metadata": {},
     "output_type": "display_data"
    },
    {
     "data": {
      "application/vnd.jupyter.widget-view+json": {
       "model_id": "483d6fb1021e4a04a1118fce512eb170",
       "version_major": 2,
       "version_minor": 0
      },
      "text/plain": [
       "dataset_942.parquet:   0%|          | 0.00/3.32M [00:00<?, ?B/s]"
      ]
     },
     "metadata": {},
     "output_type": "display_data"
    },
    {
     "data": {
      "application/vnd.jupyter.widget-view+json": {
       "model_id": "1d45ffc2c9bf4584a0c41eb773c55972",
       "version_major": 2,
       "version_minor": 0
      },
      "text/plain": [
       "dataset_943.parquet:   0%|          | 0.00/3.32M [00:00<?, ?B/s]"
      ]
     },
     "metadata": {},
     "output_type": "display_data"
    },
    {
     "data": {
      "application/vnd.jupyter.widget-view+json": {
       "model_id": "706323af7c4247b08d0d53d7c20bd37f",
       "version_major": 2,
       "version_minor": 0
      },
      "text/plain": [
       "dataset_944.parquet:   0%|          | 0.00/3.37M [00:00<?, ?B/s]"
      ]
     },
     "metadata": {},
     "output_type": "display_data"
    },
    {
     "data": {
      "application/vnd.jupyter.widget-view+json": {
       "model_id": "131556a620984080b4473887df4feeef",
       "version_major": 2,
       "version_minor": 0
      },
      "text/plain": [
       "dataset_945.parquet:   0%|          | 0.00/3.31M [00:00<?, ?B/s]"
      ]
     },
     "metadata": {},
     "output_type": "display_data"
    },
    {
     "data": {
      "application/vnd.jupyter.widget-view+json": {
       "model_id": "982db25817614eed97fcc7748a1e0dc6",
       "version_major": 2,
       "version_minor": 0
      },
      "text/plain": [
       "dataset_946.parquet:   0%|          | 0.00/3.12M [00:00<?, ?B/s]"
      ]
     },
     "metadata": {},
     "output_type": "display_data"
    },
    {
     "data": {
      "application/vnd.jupyter.widget-view+json": {
       "model_id": "1dbff6c75a064a849a187aa731fed1ea",
       "version_major": 2,
       "version_minor": 0
      },
      "text/plain": [
       "dataset_947.parquet:   0%|          | 0.00/3.29M [00:00<?, ?B/s]"
      ]
     },
     "metadata": {},
     "output_type": "display_data"
    },
    {
     "data": {
      "application/vnd.jupyter.widget-view+json": {
       "model_id": "ce65f13c428d4354bd6b8fc4efef9cae",
       "version_major": 2,
       "version_minor": 0
      },
      "text/plain": [
       "dataset_948.parquet:   0%|          | 0.00/3.31M [00:00<?, ?B/s]"
      ]
     },
     "metadata": {},
     "output_type": "display_data"
    },
    {
     "data": {
      "application/vnd.jupyter.widget-view+json": {
       "model_id": "852f4cbcf25c4571a4fa7775dd17b7d7",
       "version_major": 2,
       "version_minor": 0
      },
      "text/plain": [
       "dataset_949.parquet:   0%|          | 0.00/3.33M [00:00<?, ?B/s]"
      ]
     },
     "metadata": {},
     "output_type": "display_data"
    },
    {
     "data": {
      "application/vnd.jupyter.widget-view+json": {
       "model_id": "68d138fd81b24d5d98fc7010638dcffb",
       "version_major": 2,
       "version_minor": 0
      },
      "text/plain": [
       "dataset_950.parquet:   0%|          | 0.00/3.32M [00:00<?, ?B/s]"
      ]
     },
     "metadata": {},
     "output_type": "display_data"
    },
    {
     "data": {
      "application/vnd.jupyter.widget-view+json": {
       "model_id": "12b4b772b84847f38a04b4ab74440b25",
       "version_major": 2,
       "version_minor": 0
      },
      "text/plain": [
       "dataset_951.parquet:   0%|          | 0.00/3.19M [00:00<?, ?B/s]"
      ]
     },
     "metadata": {},
     "output_type": "display_data"
    },
    {
     "data": {
      "application/vnd.jupyter.widget-view+json": {
       "model_id": "fef9e7e46d0d4e0b896526e5cef8e49e",
       "version_major": 2,
       "version_minor": 0
      },
      "text/plain": [
       "dataset_952.parquet:   0%|          | 0.00/3.36M [00:00<?, ?B/s]"
      ]
     },
     "metadata": {},
     "output_type": "display_data"
    },
    {
     "data": {
      "application/vnd.jupyter.widget-view+json": {
       "model_id": "4ba99e214a004deaa01b3e5bdfbe986d",
       "version_major": 2,
       "version_minor": 0
      },
      "text/plain": [
       "dataset_953.parquet:   0%|          | 0.00/3.30M [00:00<?, ?B/s]"
      ]
     },
     "metadata": {},
     "output_type": "display_data"
    },
    {
     "data": {
      "application/vnd.jupyter.widget-view+json": {
       "model_id": "0d48bb4b0783471bb7c094d802f98256",
       "version_major": 2,
       "version_minor": 0
      },
      "text/plain": [
       "dataset_954.parquet:   0%|          | 0.00/3.36M [00:00<?, ?B/s]"
      ]
     },
     "metadata": {},
     "output_type": "display_data"
    },
    {
     "data": {
      "application/vnd.jupyter.widget-view+json": {
       "model_id": "c1ef55e17691455e9f42479df04d2e15",
       "version_major": 2,
       "version_minor": 0
      },
      "text/plain": [
       "dataset_955.parquet:   0%|          | 0.00/3.31M [00:00<?, ?B/s]"
      ]
     },
     "metadata": {},
     "output_type": "display_data"
    },
    {
     "data": {
      "application/vnd.jupyter.widget-view+json": {
       "model_id": "0eb688913c874e22ae9e938610477a7b",
       "version_major": 2,
       "version_minor": 0
      },
      "text/plain": [
       "dataset_956.parquet:   0%|          | 0.00/3.21M [00:00<?, ?B/s]"
      ]
     },
     "metadata": {},
     "output_type": "display_data"
    },
    {
     "data": {
      "application/vnd.jupyter.widget-view+json": {
       "model_id": "69db09fbbcb44e78bb1ccf82766c3c57",
       "version_major": 2,
       "version_minor": 0
      },
      "text/plain": [
       "dataset_957.parquet:   0%|          | 0.00/3.41M [00:00<?, ?B/s]"
      ]
     },
     "metadata": {},
     "output_type": "display_data"
    },
    {
     "data": {
      "application/vnd.jupyter.widget-view+json": {
       "model_id": "00ef8216422a4357a00b341eeb3298b8",
       "version_major": 2,
       "version_minor": 0
      },
      "text/plain": [
       "dataset_958.parquet:   0%|          | 0.00/3.28M [00:00<?, ?B/s]"
      ]
     },
     "metadata": {},
     "output_type": "display_data"
    },
    {
     "data": {
      "application/vnd.jupyter.widget-view+json": {
       "model_id": "d14dcf3409d549d4917c4e4bb5b12291",
       "version_major": 2,
       "version_minor": 0
      },
      "text/plain": [
       "dataset_959.parquet:   0%|          | 0.00/3.25M [00:00<?, ?B/s]"
      ]
     },
     "metadata": {},
     "output_type": "display_data"
    },
    {
     "data": {
      "application/vnd.jupyter.widget-view+json": {
       "model_id": "eb34829b2f3445aeab6a9e05af39c7e0",
       "version_major": 2,
       "version_minor": 0
      },
      "text/plain": [
       "dataset_961.parquet:   0%|          | 0.00/3.09M [00:00<?, ?B/s]"
      ]
     },
     "metadata": {},
     "output_type": "display_data"
    },
    {
     "data": {
      "application/vnd.jupyter.widget-view+json": {
       "model_id": "1d183d8451314417971433d284bcda2c",
       "version_major": 2,
       "version_minor": 0
      },
      "text/plain": [
       "dataset_962.parquet:   0%|          | 0.00/3.23M [00:00<?, ?B/s]"
      ]
     },
     "metadata": {},
     "output_type": "display_data"
    },
    {
     "data": {
      "application/vnd.jupyter.widget-view+json": {
       "model_id": "edcd181f72414631bbbeb8f84ae66bc6",
       "version_major": 2,
       "version_minor": 0
      },
      "text/plain": [
       "dataset_963.parquet:   0%|          | 0.00/3.24M [00:00<?, ?B/s]"
      ]
     },
     "metadata": {},
     "output_type": "display_data"
    },
    {
     "data": {
      "application/vnd.jupyter.widget-view+json": {
       "model_id": "d6fa0b5de7ec447abceb53e0270e0770",
       "version_major": 2,
       "version_minor": 0
      },
      "text/plain": [
       "dataset_964.parquet:   0%|          | 0.00/3.25M [00:00<?, ?B/s]"
      ]
     },
     "metadata": {},
     "output_type": "display_data"
    },
    {
     "data": {
      "application/vnd.jupyter.widget-view+json": {
       "model_id": "3af94c91471345e6a99a9a2588b90196",
       "version_major": 2,
       "version_minor": 0
      },
      "text/plain": [
       "dataset_965.parquet:   0%|          | 0.00/3.29M [00:00<?, ?B/s]"
      ]
     },
     "metadata": {},
     "output_type": "display_data"
    },
    {
     "data": {
      "application/vnd.jupyter.widget-view+json": {
       "model_id": "44267d97a1a941159582245c0d137ab2",
       "version_major": 2,
       "version_minor": 0
      },
      "text/plain": [
       "dataset_966.parquet:   0%|          | 0.00/3.24M [00:00<?, ?B/s]"
      ]
     },
     "metadata": {},
     "output_type": "display_data"
    },
    {
     "data": {
      "application/vnd.jupyter.widget-view+json": {
       "model_id": "d8669986ca0e439390195fafe50ce310",
       "version_major": 2,
       "version_minor": 0
      },
      "text/plain": [
       "dataset_967.parquet:   0%|          | 0.00/3.21M [00:00<?, ?B/s]"
      ]
     },
     "metadata": {},
     "output_type": "display_data"
    },
    {
     "data": {
      "application/vnd.jupyter.widget-view+json": {
       "model_id": "f663e023c792488091a40268f774c4d4",
       "version_major": 2,
       "version_minor": 0
      },
      "text/plain": [
       "dataset_968.parquet:   0%|          | 0.00/3.24M [00:00<?, ?B/s]"
      ]
     },
     "metadata": {},
     "output_type": "display_data"
    },
    {
     "data": {
      "application/vnd.jupyter.widget-view+json": {
       "model_id": "50ddfed1c529470994acc41a98b398da",
       "version_major": 2,
       "version_minor": 0
      },
      "text/plain": [
       "dataset_969.parquet:   0%|          | 0.00/3.32M [00:00<?, ?B/s]"
      ]
     },
     "metadata": {},
     "output_type": "display_data"
    },
    {
     "data": {
      "application/vnd.jupyter.widget-view+json": {
       "model_id": "ae10b24fc0e34c30b5de79c2a00c4ca2",
       "version_major": 2,
       "version_minor": 0
      },
      "text/plain": [
       "dataset_970.parquet:   0%|          | 0.00/3.35M [00:00<?, ?B/s]"
      ]
     },
     "metadata": {},
     "output_type": "display_data"
    },
    {
     "data": {
      "application/vnd.jupyter.widget-view+json": {
       "model_id": "6496d60ae9414f4c817b90e67833aa7a",
       "version_major": 2,
       "version_minor": 0
      },
      "text/plain": [
       "dataset_971.parquet:   0%|          | 0.00/3.26M [00:00<?, ?B/s]"
      ]
     },
     "metadata": {},
     "output_type": "display_data"
    },
    {
     "data": {
      "application/vnd.jupyter.widget-view+json": {
       "model_id": "5d5eb6ff302c4f6fb6c243fca69d8587",
       "version_major": 2,
       "version_minor": 0
      },
      "text/plain": [
       "dataset_972.parquet:   0%|          | 0.00/3.33M [00:00<?, ?B/s]"
      ]
     },
     "metadata": {},
     "output_type": "display_data"
    },
    {
     "data": {
      "application/vnd.jupyter.widget-view+json": {
       "model_id": "0fd0a274e75f44ed8c689c4b3731d83d",
       "version_major": 2,
       "version_minor": 0
      },
      "text/plain": [
       "dataset_974.parquet:   0%|          | 0.00/3.43M [00:00<?, ?B/s]"
      ]
     },
     "metadata": {},
     "output_type": "display_data"
    },
    {
     "data": {
      "application/vnd.jupyter.widget-view+json": {
       "model_id": "098b5ac10c3644b38f0b02795cb0faa1",
       "version_major": 2,
       "version_minor": 0
      },
      "text/plain": [
       "dataset_973.parquet:   0%|          | 0.00/3.46M [00:00<?, ?B/s]"
      ]
     },
     "metadata": {},
     "output_type": "display_data"
    },
    {
     "data": {
      "application/vnd.jupyter.widget-view+json": {
       "model_id": "2742f1ec0a004816a9a0717e1e2f24fc",
       "version_major": 2,
       "version_minor": 0
      },
      "text/plain": [
       "dataset_975.parquet:   0%|          | 0.00/3.48M [00:00<?, ?B/s]"
      ]
     },
     "metadata": {},
     "output_type": "display_data"
    },
    {
     "data": {
      "application/vnd.jupyter.widget-view+json": {
       "model_id": "46242524e18847f8a354e401f928c0ed",
       "version_major": 2,
       "version_minor": 0
      },
      "text/plain": [
       "dataset_960.parquet:   0%|          | 0.00/3.39M [00:00<?, ?B/s]"
      ]
     },
     "metadata": {},
     "output_type": "display_data"
    },
    {
     "data": {
      "application/vnd.jupyter.widget-view+json": {
       "model_id": "706f035a59a0479aaad6d08b557a5dce",
       "version_major": 2,
       "version_minor": 0
      },
      "text/plain": [
       "dataset_976.parquet:   0%|          | 0.00/3.43M [00:00<?, ?B/s]"
      ]
     },
     "metadata": {},
     "output_type": "display_data"
    },
    {
     "data": {
      "application/vnd.jupyter.widget-view+json": {
       "model_id": "b45525148bd0454f96f8ab3bde04f9c6",
       "version_major": 2,
       "version_minor": 0
      },
      "text/plain": [
       "dataset_977.parquet:   0%|          | 0.00/3.29M [00:00<?, ?B/s]"
      ]
     },
     "metadata": {},
     "output_type": "display_data"
    },
    {
     "data": {
      "application/vnd.jupyter.widget-view+json": {
       "model_id": "52f947cdde91442788c11c5403269448",
       "version_major": 2,
       "version_minor": 0
      },
      "text/plain": [
       "dataset_978.parquet:   0%|          | 0.00/3.47M [00:00<?, ?B/s]"
      ]
     },
     "metadata": {},
     "output_type": "display_data"
    },
    {
     "data": {
      "application/vnd.jupyter.widget-view+json": {
       "model_id": "b5ac256c689742d18b4c1edde8dd3045",
       "version_major": 2,
       "version_minor": 0
      },
      "text/plain": [
       "dataset_979.parquet:   0%|          | 0.00/3.36M [00:00<?, ?B/s]"
      ]
     },
     "metadata": {},
     "output_type": "display_data"
    },
    {
     "data": {
      "application/vnd.jupyter.widget-view+json": {
       "model_id": "d73bf42e6e584124828fa40f8cc5c8bf",
       "version_major": 2,
       "version_minor": 0
      },
      "text/plain": [
       "dataset_980.parquet:   0%|          | 0.00/3.46M [00:00<?, ?B/s]"
      ]
     },
     "metadata": {},
     "output_type": "display_data"
    },
    {
     "data": {
      "application/vnd.jupyter.widget-view+json": {
       "model_id": "0da1082be5724444998f9bf8f29f13c6",
       "version_major": 2,
       "version_minor": 0
      },
      "text/plain": [
       "dataset_981.parquet:   0%|          | 0.00/3.47M [00:00<?, ?B/s]"
      ]
     },
     "metadata": {},
     "output_type": "display_data"
    },
    {
     "data": {
      "application/vnd.jupyter.widget-view+json": {
       "model_id": "67986d787fb543a4bbd821638ef16e94",
       "version_major": 2,
       "version_minor": 0
      },
      "text/plain": [
       "dataset_982.parquet:   0%|          | 0.00/3.25M [00:00<?, ?B/s]"
      ]
     },
     "metadata": {},
     "output_type": "display_data"
    },
    {
     "data": {
      "application/vnd.jupyter.widget-view+json": {
       "model_id": "eec95a8409584badb710d4940b642253",
       "version_major": 2,
       "version_minor": 0
      },
      "text/plain": [
       "dataset_983.parquet:   0%|          | 0.00/3.38M [00:00<?, ?B/s]"
      ]
     },
     "metadata": {},
     "output_type": "display_data"
    },
    {
     "data": {
      "application/vnd.jupyter.widget-view+json": {
       "model_id": "c6ddbf1187414e148032600e1c0c1b19",
       "version_major": 2,
       "version_minor": 0
      },
      "text/plain": [
       "dataset_985.parquet:   0%|          | 0.00/3.42M [00:00<?, ?B/s]"
      ]
     },
     "metadata": {},
     "output_type": "display_data"
    },
    {
     "data": {
      "application/vnd.jupyter.widget-view+json": {
       "model_id": "5b93d2d1d6ee49deaaf715691ab6125e",
       "version_major": 2,
       "version_minor": 0
      },
      "text/plain": [
       "dataset_984.parquet:   0%|          | 0.00/3.43M [00:00<?, ?B/s]"
      ]
     },
     "metadata": {},
     "output_type": "display_data"
    },
    {
     "data": {
      "application/vnd.jupyter.widget-view+json": {
       "model_id": "de1888f4c67c4ee48538aaf3fa28d80a",
       "version_major": 2,
       "version_minor": 0
      },
      "text/plain": [
       "dataset_987.parquet:   0%|          | 0.00/3.32M [00:00<?, ?B/s]"
      ]
     },
     "metadata": {},
     "output_type": "display_data"
    },
    {
     "data": {
      "application/vnd.jupyter.widget-view+json": {
       "model_id": "84e10f22517d4d479512f6be026e11bc",
       "version_major": 2,
       "version_minor": 0
      },
      "text/plain": [
       "dataset_986.parquet:   0%|          | 0.00/3.44M [00:00<?, ?B/s]"
      ]
     },
     "metadata": {},
     "output_type": "display_data"
    },
    {
     "data": {
      "application/vnd.jupyter.widget-view+json": {
       "model_id": "8c2305270dd4414ba0b2f52290b2c094",
       "version_major": 2,
       "version_minor": 0
      },
      "text/plain": [
       "dataset_988.parquet:   0%|          | 0.00/3.39M [00:00<?, ?B/s]"
      ]
     },
     "metadata": {},
     "output_type": "display_data"
    },
    {
     "data": {
      "application/vnd.jupyter.widget-view+json": {
       "model_id": "48755c6f2415426a81d22732fb52dddf",
       "version_major": 2,
       "version_minor": 0
      },
      "text/plain": [
       "dataset_989.parquet:   0%|          | 0.00/3.30M [00:00<?, ?B/s]"
      ]
     },
     "metadata": {},
     "output_type": "display_data"
    },
    {
     "data": {
      "application/vnd.jupyter.widget-view+json": {
       "model_id": "874fd84619f3496d89a40140754f3266",
       "version_major": 2,
       "version_minor": 0
      },
      "text/plain": [
       "dataset_990.parquet:   0%|          | 0.00/3.38M [00:00<?, ?B/s]"
      ]
     },
     "metadata": {},
     "output_type": "display_data"
    },
    {
     "data": {
      "application/vnd.jupyter.widget-view+json": {
       "model_id": "b14bdc9249c4460a9020fe52ca757b28",
       "version_major": 2,
       "version_minor": 0
      },
      "text/plain": [
       "dataset_991.parquet:   0%|          | 0.00/3.31M [00:00<?, ?B/s]"
      ]
     },
     "metadata": {},
     "output_type": "display_data"
    },
    {
     "data": {
      "application/vnd.jupyter.widget-view+json": {
       "model_id": "2c61579867dd41d9b535ab4cd776cc66",
       "version_major": 2,
       "version_minor": 0
      },
      "text/plain": [
       "dataset_992.parquet:   0%|          | 0.00/3.37M [00:00<?, ?B/s]"
      ]
     },
     "metadata": {},
     "output_type": "display_data"
    },
    {
     "data": {
      "application/vnd.jupyter.widget-view+json": {
       "model_id": "ea489f8fc2d74f3bb55b1d52173d5aaa",
       "version_major": 2,
       "version_minor": 0
      },
      "text/plain": [
       "dataset_993.parquet:   0%|          | 0.00/3.28M [00:00<?, ?B/s]"
      ]
     },
     "metadata": {},
     "output_type": "display_data"
    },
    {
     "data": {
      "application/vnd.jupyter.widget-view+json": {
       "model_id": "610125e7c129487995143e8f3e12256c",
       "version_major": 2,
       "version_minor": 0
      },
      "text/plain": [
       "dataset_994.parquet:   0%|          | 0.00/3.34M [00:00<?, ?B/s]"
      ]
     },
     "metadata": {},
     "output_type": "display_data"
    },
    {
     "data": {
      "application/vnd.jupyter.widget-view+json": {
       "model_id": "d32f984b6ecc415da187b59437a728e3",
       "version_major": 2,
       "version_minor": 0
      },
      "text/plain": [
       "dataset_995.parquet:   0%|          | 0.00/3.35M [00:00<?, ?B/s]"
      ]
     },
     "metadata": {},
     "output_type": "display_data"
    },
    {
     "data": {
      "application/vnd.jupyter.widget-view+json": {
       "model_id": "f1abc8de29e049119e8761e5499ba34a",
       "version_major": 2,
       "version_minor": 0
      },
      "text/plain": [
       "dataset_996.parquet:   0%|          | 0.00/3.47M [00:00<?, ?B/s]"
      ]
     },
     "metadata": {},
     "output_type": "display_data"
    },
    {
     "data": {
      "application/vnd.jupyter.widget-view+json": {
       "model_id": "75fb791c57194644b089dcafb59ec0ae",
       "version_major": 2,
       "version_minor": 0
      },
      "text/plain": [
       "dataset_997.parquet:   0%|          | 0.00/3.54M [00:00<?, ?B/s]"
      ]
     },
     "metadata": {},
     "output_type": "display_data"
    },
    {
     "data": {
      "application/vnd.jupyter.widget-view+json": {
       "model_id": "88d0cadfce914525bac96dc398d1fe16",
       "version_major": 2,
       "version_minor": 0
      },
      "text/plain": [
       "dataset_998.parquet:   0%|          | 0.00/3.19M [00:00<?, ?B/s]"
      ]
     },
     "metadata": {},
     "output_type": "display_data"
    },
    {
     "data": {
      "application/vnd.jupyter.widget-view+json": {
       "model_id": "0d1168a6fa514b689ec33ed743aab287",
       "version_major": 2,
       "version_minor": 0
      },
      "text/plain": [
       "dataset_999.parquet:   0%|          | 0.00/3.34M [00:00<?, ?B/s]"
      ]
     },
     "metadata": {},
     "output_type": "display_data"
    },
    {
     "data": {
      "application/vnd.jupyter.widget-view+json": {
       "model_id": "5cb1e16c9ab44f189a7a1c05bd00f85e",
       "version_major": 2,
       "version_minor": 0
      },
      "text/plain": [
       "Generating train split:   0%|          | 0/126560 [00:00<?, ? examples/s]"
      ]
     },
     "metadata": {},
     "output_type": "display_data"
    }
   ],
   "source": [
    "from datasets import load_dataset\n",
    "\n",
    "ds = load_dataset(\"MichalMlodawski/closed-open-eyes\")"
   ]
  },
  {
   "cell_type": "code",
   "execution_count": 52,
   "metadata": {},
   "outputs": [
    {
     "data": {
      "text/plain": [
       "Dataset({\n",
       "    features: ['Image_id', 'Left_eye_react', 'Right_eye_react', 'Label', 'Image_data'],\n",
       "    num_rows: 126560\n",
       "})"
      ]
     },
     "execution_count": 52,
     "metadata": {},
     "output_type": "execute_result"
    }
   ],
   "source": [
    "ds[\"train\"]"
   ]
  },
  {
   "cell_type": "code",
   "execution_count": 32,
   "metadata": {},
   "outputs": [
    {
     "data": {
      "text/plain": [
       "{'Image_id': 3,\n",
       " 'Left_eye_react': [219.0, 235.0, 23.0, 15.0],\n",
       " 'Right_eye_react': [141.0, 233.0, 41.0, 16.0],\n",
       " 'Label': 'closed_eyes',\n",
       " 'Image_data': {'file': <PIL.JpegImagePlugin.JpegImageFile image mode=RGB size=512x512>,\n",
       "  'filename': '7f68a9f466ae287445e09e37516109eb2bd792bb082e70edec82f4477b06fdb2.jpeg'}}"
      ]
     },
     "execution_count": 32,
     "metadata": {},
     "output_type": "execute_result"
    }
   ],
   "source": [
    "ds[\"train\"][3]"
   ]
  },
  {
   "cell_type": "code",
   "execution_count": 36,
   "metadata": {},
   "outputs": [
    {
     "data": {
      "text/plain": [
       "0"
      ]
     },
     "execution_count": 36,
     "metadata": {},
     "output_type": "execute_result"
    }
   ],
   "source": [
    "image_id = ds[\"train\"][0]['Image_id']\n",
    "image_id"
   ]
  },
  {
   "cell_type": "code",
   "execution_count": 39,
   "metadata": {},
   "outputs": [
    {
     "data": {
      "text/plain": [
       "[329.0, 219.0, 29.0, 9.0]"
      ]
     },
     "execution_count": 39,
     "metadata": {},
     "output_type": "execute_result"
    }
   ],
   "source": [
    "box_l=ds[\"train\"][0]['Left_eye_react']\n",
    "box_l"
   ]
  },
  {
   "cell_type": "code",
   "execution_count": 40,
   "metadata": {},
   "outputs": [
    {
     "data": {
      "text/plain": [
       "[230.0, 222.0, 49.0, 10.0]"
      ]
     },
     "execution_count": 40,
     "metadata": {},
     "output_type": "execute_result"
    }
   ],
   "source": [
    "box_r=ds[\"train\"][0]['Right_eye_react']\n",
    "box_r"
   ]
  },
  {
   "cell_type": "code",
   "execution_count": 44,
   "metadata": {},
   "outputs": [
    {
     "data": {
      "text/plain": [
       "[[329.0, 219.0, 29.0, 9.0], [230.0, 222.0, 49.0, 10.0]]"
      ]
     },
     "execution_count": 44,
     "metadata": {},
     "output_type": "execute_result"
    }
   ],
   "source": [
    "boxes = [box_l, box_r]\n",
    "boxes"
   ]
  },
  {
   "cell_type": "code",
   "execution_count": 41,
   "metadata": {},
   "outputs": [],
   "source": [
    "label = ds[\"train\"][0]['Label']"
   ]
  },
  {
   "cell_type": "code",
   "execution_count": 42,
   "metadata": {},
   "outputs": [
    {
     "data": {
      "image/jpeg": "[encoded data removed]",
      "image/png": "[encoded data removed]",
      "text/plain": [
       "<PIL.JpegImagePlugin.JpegImageFile image mode=RGB size=512x512>"
      ]
     },
     "execution_count": 42,
     "metadata": {},
     "output_type": "execute_result"
    }
   ],
   "source": [
    "image = ds[\"train\"][0]['Image_data']['file']\n",
    "image"
   ]
  },
  {
   "cell_type": "code",
   "execution_count": null,
   "metadata": {},
   "outputs": [
    {
     "data": {
      "text/plain": [
       "(512, 512)"
      ]
     },
     "execution_count": 43,
     "metadata": {},
     "output_type": "execute_result"
    }
   ],
   "source": [
    "image_size = image.size\n",
    "width, height = image_size"
   ]
  },
  {
   "cell_type": "code",
   "execution_count": 50,
   "metadata": {},
   "outputs": [],
   "source": [
    "import os \n",
    "def coco_to_yolo(x,y,w,h,width,height):\n",
    "    x = (x + w/2) / width\n",
    "    y = (y + h/2) / height\n",
    "    w = w / width\n",
    "    h = h / height\n",
    "    return x,y,w,h\n",
    "def preprocessing(partition:str,data:object):\n",
    "    os.makedirs(f\"datasets/images/val\", exist_ok=True)\n",
    "    os.makedirs(f\"datasets/labels/val\", exist_ok=True)\n",
    "\n",
    "    for i,sample in enumerate(data[partition]):\n",
    "        image_id = sample['Image_id']\n",
    "        box_l=sample['Left_eye_react']\n",
    "        box_r=sample['Right_eye_react']\n",
    "        boxes = [box_l, box_r]\n",
    "        label = 0 if sample['Label'] == 'closed_eyes' else 1\n",
    "        image = sample['Image_data']['file']\n",
    "        image_size = image.size\n",
    "        width, height = image_size\n",
    "        items = []\n",
    "        for box in boxes:\n",
    "            xc,yc,w,h = coco_to_yolo(box[0],box[1],box[2],box[3],width,height)\n",
    "            items.append(f\"{label} {xc} {yc} {w} {h}\")\n",
    "\n",
    "        with open(f\"datasets/labels/val/{image_id}.txt\", \"w\") as f:\n",
    "            for item in items:\n",
    "                f.write(f\"{item}\\n\")\n",
    "\n",
    "        image.save(f\"datasets/images/val/{image_id}.jpg\")"
   ]
  },
  {
   "cell_type": "code",
   "execution_count": 51,
   "metadata": {},
   "outputs": [],
   "source": [
    "preprocessing(\"train\",ds)"
   ]
  },
  {
   "cell_type": "code",
   "execution_count": 1,
   "metadata": {},
   "outputs": [
    {
     "ename": "TypeError",
     "evalue": "'module' object is not callable",
     "output_type": "error",
     "traceback": [
      "\u001b[1;31m---------------------------------------------------------------------------\u001b[0m",
      "\u001b[1;31mTypeError\u001b[0m                                 Traceback (most recent call last)",
      "Cell \u001b[1;32mIn[1], line 4\u001b[0m\n\u001b[0;32m      2\u001b[0m \u001b[38;5;28;01mimport\u001b[39;00m \u001b[38;5;21;01multralytics\u001b[39;00m \u001b[38;5;28;01mas\u001b[39;00m \u001b[38;5;21;01mYOLO\u001b[39;00m\n\u001b[0;32m      3\u001b[0m img \u001b[38;5;241m=\u001b[39m cv2\u001b[38;5;241m.\u001b[39mimread(\u001b[38;5;124m\"\u001b[39m\u001b[38;5;124m./database2/images/train/2.jpg\u001b[39m\u001b[38;5;124m\"\u001b[39m)\n\u001b[1;32m----> 4\u001b[0m model \u001b[38;5;241m=\u001b[39m \u001b[43mYOLO\u001b[49m\u001b[43m(\u001b[49m\u001b[38;5;124;43m\"\u001b[39;49m\u001b[38;5;124;43m../runs/detect/train4/weights/best.pt\u001b[39;49m\u001b[38;5;124;43m\"\u001b[39;49m\u001b[43m)\u001b[49m\n\u001b[0;32m      5\u001b[0m pred \u001b[38;5;241m=\u001b[39m model\u001b[38;5;241m.\u001b[39mpredict(img)[\u001b[38;5;241m0\u001b[39m]\n\u001b[0;32m      6\u001b[0m pred\u001b[38;5;241m.\u001b[39mplot()\n",
      "\u001b[1;31mTypeError\u001b[0m: 'module' object is not callable"
     ]
    }
   ],
   "source": [
    "import cv2\n",
    "import ultralytics as YOLO\n",
    "img = cv2.imread(\"./database2/images/train/2.jpg\")\n",
    "model = YOLO(\"../runs/detect/train4/weights/best.pt\")\n",
    "pred = model.predict(img)[0]\n",
    "pred.plot()\n",
    "\n",
    "cv2.inwrite(f\"{img}\",pred)"
   ]
  },
  {
   "cell_type": "code",
   "execution_count": 4,
   "metadata": {},
   "outputs": [
    {
     "name": "stdout",
     "output_type": "stream",
     "text": [
      "\n",
      "0: 512x512 2 open_eyess, 379.0ms\n",
      "Speed: 2.0ms preprocess, 379.0ms inference, 0.5ms postprocess per image at shape (1, 3, 512, 512)\n"
     ]
    }
   ],
   "source": [
    "import cv2\n",
    "\n",
    "from ultralytics import YOLO\n",
    "\n",
    "# Load a pretrained YOLO11n model\n",
    "model = YOLO(\"../runs/detect/train4/weights/best.pt\")\n",
    "\n",
    "# Read an image using OpenCV\n",
    "source = cv2.imread(\"./database2/images/train/72000.jpg\")\n",
    "\n",
    "# Run inference on the source\n",
    "results = model(source)  # list of Results objects"
   ]
  }
 ],
 "metadata": {
  "kernelspec": {
   "display_name": "env",
   "language": "python",
   "name": "python3"
  },
  "language_info": {
   "codemirror_mode": {
    "name": "ipython",
    "version": 3
   },
   "file_extension": ".py",
   "mimetype": "text/x-python",
   "name": "python",
   "nbconvert_exporter": "python",
   "pygments_lexer": "ipython3",
   "version": "3.10.11"
  }
 },
 "nbformat": 4,
 "nbformat_minor": 2
}
